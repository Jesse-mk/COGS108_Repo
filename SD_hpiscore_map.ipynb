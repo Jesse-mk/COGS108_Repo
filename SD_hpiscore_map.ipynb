{
 "cells": [
  {
   "cell_type": "markdown",
   "metadata": {},
   "source": [
    "Visualizing the Healthscores across California Counties"
   ]
  },
  {
   "cell_type": "code",
   "execution_count": 1,
   "metadata": {},
   "outputs": [],
   "source": [
    "import geopandas as gpd\n",
    "import pandas as pd\n",
    "import matplotlib.pyplot as plt\n",
    "import numpy as np\n",
    "import shapely\n",
    "import shapefile\n",
    "import plotly \n",
    "import plotly.plotly as py\n"
   ]
  },
  {
   "cell_type": "code",
   "execution_count": 2,
   "metadata": {},
   "outputs": [
    {
     "name": "stdout",
     "output_type": "stream",
     "text": [
      "0.3.0 1.6.3 2.7.0\n"
     ]
    }
   ],
   "source": [
    "#checking for the right versions of the packages\n",
    "print(gpd.__version__ , shapely.__version__, plotly.__version__)"
   ]
  },
  {
   "cell_type": "code",
   "execution_count": 3,
   "metadata": {},
   "outputs": [],
   "source": [
    "plotly.tools.set_credentials_file(username = 'jmk054', api_key = '7df6SuCIVByxcSAe3TYv')"
   ]
  },
  {
   "cell_type": "code",
   "execution_count": 4,
   "metadata": {},
   "outputs": [],
   "source": [
    "#importing the data\n",
    "d = pd.read_csv('hpi.csv')"
   ]
  },
  {
   "cell_type": "code",
   "execution_count": 5,
   "metadata": {},
   "outputs": [
    {
     "data": {
      "text/html": [
       "<div>\n",
       "<style scoped>\n",
       "    .dataframe tbody tr th:only-of-type {\n",
       "        vertical-align: middle;\n",
       "    }\n",
       "\n",
       "    .dataframe tbody tr th {\n",
       "        vertical-align: top;\n",
       "    }\n",
       "\n",
       "    .dataframe thead th {\n",
       "        text-align: right;\n",
       "    }\n",
       "</style>\n",
       "<table border=\"1\" class=\"dataframe\">\n",
       "  <thead>\n",
       "    <tr style=\"text-align: right;\">\n",
       "      <th></th>\n",
       "      <th>geoid</th>\n",
       "      <th>pop2010</th>\n",
       "      <th>pct2010gq</th>\n",
       "      <th>city</th>\n",
       "      <th>zip</th>\n",
       "      <th>county_fips</th>\n",
       "      <th>county_name</th>\n",
       "      <th>urbantype</th>\n",
       "      <th>hpi2score</th>\n",
       "      <th>hpi2_pctile_pos</th>\n",
       "      <th>...</th>\n",
       "      <th>leb_pctile</th>\n",
       "      <th>white_pct</th>\n",
       "      <th>black_pct</th>\n",
       "      <th>asian_pct</th>\n",
       "      <th>latino_pct</th>\n",
       "      <th>multiple_pct</th>\n",
       "      <th>nativeam_pct</th>\n",
       "      <th>pacificisl_pct</th>\n",
       "      <th>other_pct</th>\n",
       "      <th>version</th>\n",
       "    </tr>\n",
       "  </thead>\n",
       "  <tbody>\n",
       "    <tr>\n",
       "      <th>0</th>\n",
       "      <td>14000US06001400100</td>\n",
       "      <td>2937</td>\n",
       "      <td>0.1</td>\n",
       "      <td>Oakland</td>\n",
       "      <td>94704.0</td>\n",
       "      <td>6001</td>\n",
       "      <td>Alameda</td>\n",
       "      <td>urban_area</td>\n",
       "      <td>1.182028</td>\n",
       "      <td>99.114590</td>\n",
       "      <td>...</td>\n",
       "      <td>96.663673</td>\n",
       "      <td>71.605789</td>\n",
       "      <td>4.824259</td>\n",
       "      <td>15.713301</td>\n",
       "      <td>4.031702</td>\n",
       "      <td>3.824948</td>\n",
       "      <td>0.0</td>\n",
       "      <td>0.0</td>\n",
       "      <td>0</td>\n",
       "      <td>Wed13Dec17</td>\n",
       "    </tr>\n",
       "    <tr>\n",
       "      <th>1</th>\n",
       "      <td>14000US06001400200</td>\n",
       "      <td>1974</td>\n",
       "      <td>3.5</td>\n",
       "      <td>Oakland</td>\n",
       "      <td>94618.0</td>\n",
       "      <td>6001</td>\n",
       "      <td>Alameda</td>\n",
       "      <td>urban_area</td>\n",
       "      <td>1.325874</td>\n",
       "      <td>99.704863</td>\n",
       "      <td>...</td>\n",
       "      <td>96.612344</td>\n",
       "      <td>83.884970</td>\n",
       "      <td>0.000000</td>\n",
       "      <td>7.921867</td>\n",
       "      <td>8.193163</td>\n",
       "      <td>0.000000</td>\n",
       "      <td>0.0</td>\n",
       "      <td>0.0</td>\n",
       "      <td>0</td>\n",
       "      <td>Wed13Dec17</td>\n",
       "    </tr>\n",
       "    <tr>\n",
       "      <th>2</th>\n",
       "      <td>14000US06001400300</td>\n",
       "      <td>4865</td>\n",
       "      <td>0.8</td>\n",
       "      <td>Oakland</td>\n",
       "      <td>94618.0</td>\n",
       "      <td>6001</td>\n",
       "      <td>Alameda</td>\n",
       "      <td>urban_area</td>\n",
       "      <td>0.925666</td>\n",
       "      <td>95.932247</td>\n",
       "      <td>...</td>\n",
       "      <td>95.136661</td>\n",
       "      <td>67.384106</td>\n",
       "      <td>10.596026</td>\n",
       "      <td>8.671358</td>\n",
       "      <td>8.257450</td>\n",
       "      <td>5.091060</td>\n",
       "      <td>0.0</td>\n",
       "      <td>0.0</td>\n",
       "      <td>0</td>\n",
       "      <td>Wed13Dec17</td>\n",
       "    </tr>\n",
       "    <tr>\n",
       "      <th>3</th>\n",
       "      <td>14000US06001400400</td>\n",
       "      <td>3703</td>\n",
       "      <td>0.9</td>\n",
       "      <td>Oakland</td>\n",
       "      <td>94609.0</td>\n",
       "      <td>6001</td>\n",
       "      <td>Alameda</td>\n",
       "      <td>urban_area</td>\n",
       "      <td>1.117603</td>\n",
       "      <td>98.537149</td>\n",
       "      <td>...</td>\n",
       "      <td>68.959322</td>\n",
       "      <td>66.031054</td>\n",
       "      <td>12.203759</td>\n",
       "      <td>7.354944</td>\n",
       "      <td>9.043857</td>\n",
       "      <td>5.366385</td>\n",
       "      <td>0.0</td>\n",
       "      <td>0.0</td>\n",
       "      <td>0</td>\n",
       "      <td>Wed13Dec17</td>\n",
       "    </tr>\n",
       "    <tr>\n",
       "      <th>4</th>\n",
       "      <td>14000US06001400500</td>\n",
       "      <td>3517</td>\n",
       "      <td>3.6</td>\n",
       "      <td>Oakland</td>\n",
       "      <td>94609.0</td>\n",
       "      <td>6001</td>\n",
       "      <td>Alameda</td>\n",
       "      <td>urban_area</td>\n",
       "      <td>0.562799</td>\n",
       "      <td>83.318363</td>\n",
       "      <td>...</td>\n",
       "      <td>38.855383</td>\n",
       "      <td>51.180196</td>\n",
       "      <td>26.856649</td>\n",
       "      <td>5.987334</td>\n",
       "      <td>9.786989</td>\n",
       "      <td>6.188831</td>\n",
       "      <td>0.0</td>\n",
       "      <td>0.0</td>\n",
       "      <td>0</td>\n",
       "      <td>Wed13Dec17</td>\n",
       "    </tr>\n",
       "  </tbody>\n",
       "</table>\n",
       "<p>5 rows × 91 columns</p>\n",
       "</div>"
      ],
      "text/plain": [
       "                geoid  pop2010  pct2010gq     city      zip  county_fips  \\\n",
       "0  14000US06001400100     2937        0.1  Oakland  94704.0         6001   \n",
       "1  14000US06001400200     1974        3.5  Oakland  94618.0         6001   \n",
       "2  14000US06001400300     4865        0.8  Oakland  94618.0         6001   \n",
       "3  14000US06001400400     3703        0.9  Oakland  94609.0         6001   \n",
       "4  14000US06001400500     3517        3.6  Oakland  94609.0         6001   \n",
       "\n",
       "  county_name   urbantype  hpi2score  hpi2_pctile_pos  ...  leb_pctile  \\\n",
       "0     Alameda  urban_area   1.182028        99.114590  ...   96.663673   \n",
       "1     Alameda  urban_area   1.325874        99.704863  ...   96.612344   \n",
       "2     Alameda  urban_area   0.925666        95.932247  ...   95.136661   \n",
       "3     Alameda  urban_area   1.117603        98.537149  ...   68.959322   \n",
       "4     Alameda  urban_area   0.562799        83.318363  ...   38.855383   \n",
       "\n",
       "   white_pct  black_pct  asian_pct  latino_pct  multiple_pct  nativeam_pct  \\\n",
       "0  71.605789   4.824259  15.713301    4.031702      3.824948           0.0   \n",
       "1  83.884970   0.000000   7.921867    8.193163      0.000000           0.0   \n",
       "2  67.384106  10.596026   8.671358    8.257450      5.091060           0.0   \n",
       "3  66.031054  12.203759   7.354944    9.043857      5.366385           0.0   \n",
       "4  51.180196  26.856649   5.987334    9.786989      6.188831           0.0   \n",
       "\n",
       "   pacificisl_pct  other_pct     version  \n",
       "0             0.0          0  Wed13Dec17  \n",
       "1             0.0          0  Wed13Dec17  \n",
       "2             0.0          0  Wed13Dec17  \n",
       "3             0.0          0  Wed13Dec17  \n",
       "4             0.0          0  Wed13Dec17  \n",
       "\n",
       "[5 rows x 91 columns]"
      ]
     },
     "execution_count": 5,
     "metadata": {},
     "output_type": "execute_result"
    }
   ],
   "source": [
    "#looking at the data\n",
    "d.head()"
   ]
  },
  {
   "cell_type": "code",
   "execution_count": 6,
   "metadata": {},
   "outputs": [],
   "source": [
    "#this d.info was run to look at the data\n",
    "#d.info()"
   ]
  },
  {
   "cell_type": "markdown",
   "metadata": {},
   "source": [
    "To get rid of the version, percentiles, and otehr columns which aren't needed in PCA"
   ]
  },
  {
   "cell_type": "code",
   "execution_count": 7,
   "metadata": {},
   "outputs": [
    {
     "data": {
      "text/plain": [
       "['hpi2_pctile_pos',\n",
       " 'hpi2_pctile_neg',\n",
       " 'economic_pctile',\n",
       " 'education_pctile',\n",
       " 'houseing_pctile']"
      ]
     },
     "execution_count": 7,
     "metadata": {},
     "output_type": "execute_result"
    }
   ],
   "source": [
    "pcnt = [label for label in list(d) if \"pcti\" in label]\n",
    "pcnt[:5]"
   ]
  },
  {
   "cell_type": "code",
   "execution_count": 8,
   "metadata": {},
   "outputs": [],
   "source": [
    "#drop from the dataframe\n",
    "to_drop = [\"geoid\",\"version\", \"quintiles\", \"quartiles\", \"hpi_top25pct\"] + pcnt \n",
    "df = d.drop(to_drop, axis = 1)"
   ]
  },
  {
   "cell_type": "markdown",
   "metadata": {},
   "source": [
    "Looking at the info data below, we can see there are 8057 different entires, but only 7793 non-null entries in most columns. The city column has the LEAST non-null objects at 6972. "
   ]
  },
  {
   "cell_type": "markdown",
   "metadata": {},
   "source": [
    "The number of rows where any of the values are Nan. Since we dropped all the values with Nan.\n",
    "\n",
    "create a dataframe with only notnull values"
   ]
  },
  {
   "cell_type": "code",
   "execution_count": 9,
   "metadata": {},
   "outputs": [
    {
     "name": "stdout",
     "output_type": "stream",
     "text": [
      "The number of rows with NaNs in them are: 1242\n"
     ]
    }
   ],
   "source": [
    "print(\"The number of rows with NaNs in them are: %d\" % len(df[df.isnull().any(axis = 1)]))\n",
    "df = df[df.notnull().all(axis = 1)]"
   ]
  },
  {
   "cell_type": "code",
   "execution_count": 10,
   "metadata": {},
   "outputs": [
    {
     "data": {
      "text/plain": [
       "6815"
      ]
     },
     "execution_count": 10,
     "metadata": {},
     "output_type": "execute_result"
    }
   ],
   "source": [
    "len(df)"
   ]
  },
  {
   "cell_type": "code",
   "execution_count": 11,
   "metadata": {},
   "outputs": [
    {
     "data": {
      "text/plain": [
       "54"
      ]
     },
     "execution_count": 11,
     "metadata": {},
     "output_type": "execute_result"
    }
   ],
   "source": [
    "len(df.groupby(\"county_name\"))"
   ]
  },
  {
   "cell_type": "code",
   "execution_count": 12,
   "metadata": {},
   "outputs": [
    {
     "data": {
      "text/html": [
       "<div>\n",
       "<style scoped>\n",
       "    .dataframe tbody tr th:only-of-type {\n",
       "        vertical-align: middle;\n",
       "    }\n",
       "\n",
       "    .dataframe tbody tr th {\n",
       "        vertical-align: top;\n",
       "    }\n",
       "\n",
       "    .dataframe thead th {\n",
       "        text-align: right;\n",
       "    }\n",
       "</style>\n",
       "<table border=\"1\" class=\"dataframe\">\n",
       "  <thead>\n",
       "    <tr style=\"text-align: right;\">\n",
       "      <th></th>\n",
       "      <th>county_name</th>\n",
       "      <th>city</th>\n",
       "      <th>urbantype</th>\n",
       "    </tr>\n",
       "  </thead>\n",
       "  <tbody>\n",
       "    <tr>\n",
       "      <th>0</th>\n",
       "      <td>Alameda</td>\n",
       "      <td>Oakland</td>\n",
       "      <td>urban_area</td>\n",
       "    </tr>\n",
       "    <tr>\n",
       "      <th>1</th>\n",
       "      <td>Amador</td>\n",
       "      <td>Pine Grove</td>\n",
       "      <td>rural</td>\n",
       "    </tr>\n",
       "    <tr>\n",
       "      <th>2</th>\n",
       "      <td>Butte</td>\n",
       "      <td>Chico</td>\n",
       "      <td>urban_area</td>\n",
       "    </tr>\n",
       "    <tr>\n",
       "      <th>3</th>\n",
       "      <td>Calaveras</td>\n",
       "      <td>Avery</td>\n",
       "      <td>rural</td>\n",
       "    </tr>\n",
       "    <tr>\n",
       "      <th>4</th>\n",
       "      <td>Colusa</td>\n",
       "      <td>College City</td>\n",
       "      <td>urban_cluster</td>\n",
       "    </tr>\n",
       "  </tbody>\n",
       "</table>\n",
       "</div>"
      ],
      "text/plain": [
       "  county_name          city      urbantype\n",
       "0     Alameda       Oakland     urban_area\n",
       "1      Amador    Pine Grove          rural\n",
       "2       Butte         Chico     urban_area\n",
       "3   Calaveras         Avery          rural\n",
       "4      Colusa  College City  urban_cluster"
      ]
     },
     "execution_count": 12,
     "metadata": {},
     "output_type": "execute_result"
    }
   ],
   "source": [
    "#processing the categorical data by the county and take the \"mode\"\n",
    "categorical = df.groupby([\"county_name\"]).agg(lambda x: x.value_counts().index[0])[[\"city\", \"urbantype\"]].reset_index()\n",
    "categorical.head()"
   ]
  },
  {
   "cell_type": "markdown",
   "metadata": {},
   "source": [
    "The number of counties after cleaning"
   ]
  },
  {
   "cell_type": "code",
   "execution_count": 13,
   "metadata": {},
   "outputs": [
    {
     "data": {
      "text/plain": [
       "54"
      ]
     },
     "execution_count": 13,
     "metadata": {},
     "output_type": "execute_result"
    }
   ],
   "source": [
    "len(categorical)"
   ]
  },
  {
   "cell_type": "code",
   "execution_count": 14,
   "metadata": {},
   "outputs": [],
   "source": [
    "group = df.groupby(\"county_name\").mean().reset_index()\n",
    "group[\"urbantype\"] = categorical[\"urbantype\"]\n",
    "group[\"biggest city\"] = categorical[\"city\"]"
   ]
  },
  {
   "cell_type": "code",
   "execution_count": 15,
   "metadata": {},
   "outputs": [
    {
     "data": {
      "text/html": [
       "<div>\n",
       "<style scoped>\n",
       "    .dataframe tbody tr th:only-of-type {\n",
       "        vertical-align: middle;\n",
       "    }\n",
       "\n",
       "    .dataframe tbody tr th {\n",
       "        vertical-align: top;\n",
       "    }\n",
       "\n",
       "    .dataframe thead th {\n",
       "        text-align: right;\n",
       "    }\n",
       "</style>\n",
       "<table border=\"1\" class=\"dataframe\">\n",
       "  <thead>\n",
       "    <tr style=\"text-align: right;\">\n",
       "      <th></th>\n",
       "      <th>county_name</th>\n",
       "      <th>pop2010</th>\n",
       "      <th>pct2010gq</th>\n",
       "      <th>zip</th>\n",
       "      <th>county_fips</th>\n",
       "      <th>hpi2score</th>\n",
       "      <th>economic</th>\n",
       "      <th>education</th>\n",
       "      <th>housing</th>\n",
       "      <th>healthcareaccess</th>\n",
       "      <th>...</th>\n",
       "      <th>white_pct</th>\n",
       "      <th>black_pct</th>\n",
       "      <th>asian_pct</th>\n",
       "      <th>latino_pct</th>\n",
       "      <th>multiple_pct</th>\n",
       "      <th>nativeam_pct</th>\n",
       "      <th>pacificisl_pct</th>\n",
       "      <th>other_pct</th>\n",
       "      <th>urbantype</th>\n",
       "      <th>biggest city</th>\n",
       "    </tr>\n",
       "  </thead>\n",
       "  <tbody>\n",
       "    <tr>\n",
       "      <th>0</th>\n",
       "      <td>Alameda</td>\n",
       "      <td>4196.623529</td>\n",
       "      <td>1.879706</td>\n",
       "      <td>94588.085294</td>\n",
       "      <td>6001.0</td>\n",
       "      <td>0.341045</td>\n",
       "      <td>0.396776</td>\n",
       "      <td>0.293851</td>\n",
       "      <td>0.153843</td>\n",
       "      <td>0.553262</td>\n",
       "      <td>...</td>\n",
       "      <td>35.234458</td>\n",
       "      <td>13.723530</td>\n",
       "      <td>25.001636</td>\n",
       "      <td>22.179543</td>\n",
       "      <td>3.574085</td>\n",
       "      <td>0.000000</td>\n",
       "      <td>0.286748</td>\n",
       "      <td>0.0</td>\n",
       "      <td>urban_area</td>\n",
       "      <td>Oakland</td>\n",
       "    </tr>\n",
       "    <tr>\n",
       "      <th>1</th>\n",
       "      <td>Amador</td>\n",
       "      <td>4906.500000</td>\n",
       "      <td>2.300000</td>\n",
       "      <td>95652.500000</td>\n",
       "      <td>6005.0</td>\n",
       "      <td>0.150982</td>\n",
       "      <td>-0.347074</td>\n",
       "      <td>0.381420</td>\n",
       "      <td>0.151026</td>\n",
       "      <td>0.737064</td>\n",
       "      <td>...</td>\n",
       "      <td>86.096379</td>\n",
       "      <td>0.000000</td>\n",
       "      <td>0.000000</td>\n",
       "      <td>10.879978</td>\n",
       "      <td>3.023642</td>\n",
       "      <td>0.000000</td>\n",
       "      <td>0.000000</td>\n",
       "      <td>0.0</td>\n",
       "      <td>rural</td>\n",
       "      <td>Pine Grove</td>\n",
       "    </tr>\n",
       "    <tr>\n",
       "      <th>2</th>\n",
       "      <td>Butte</td>\n",
       "      <td>4262.212121</td>\n",
       "      <td>2.496970</td>\n",
       "      <td>95951.333333</td>\n",
       "      <td>6007.0</td>\n",
       "      <td>-0.175309</td>\n",
       "      <td>-0.640709</td>\n",
       "      <td>-0.186557</td>\n",
       "      <td>0.212270</td>\n",
       "      <td>0.198127</td>\n",
       "      <td>...</td>\n",
       "      <td>79.071955</td>\n",
       "      <td>0.950791</td>\n",
       "      <td>3.537372</td>\n",
       "      <td>12.415550</td>\n",
       "      <td>3.243284</td>\n",
       "      <td>0.781048</td>\n",
       "      <td>0.000000</td>\n",
       "      <td>0.0</td>\n",
       "      <td>urban_area</td>\n",
       "      <td>Chico</td>\n",
       "    </tr>\n",
       "    <tr>\n",
       "      <th>3</th>\n",
       "      <td>Calaveras</td>\n",
       "      <td>3375.000000</td>\n",
       "      <td>0.366667</td>\n",
       "      <td>95222.666667</td>\n",
       "      <td>6009.0</td>\n",
       "      <td>-0.053647</td>\n",
       "      <td>-0.229292</td>\n",
       "      <td>-0.885324</td>\n",
       "      <td>0.387684</td>\n",
       "      <td>0.392219</td>\n",
       "      <td>...</td>\n",
       "      <td>91.629281</td>\n",
       "      <td>0.000000</td>\n",
       "      <td>0.000000</td>\n",
       "      <td>8.370719</td>\n",
       "      <td>0.000000</td>\n",
       "      <td>0.000000</td>\n",
       "      <td>0.000000</td>\n",
       "      <td>0.0</td>\n",
       "      <td>rural</td>\n",
       "      <td>Avery</td>\n",
       "    </tr>\n",
       "    <tr>\n",
       "      <th>4</th>\n",
       "      <td>Colusa</td>\n",
       "      <td>5183.000000</td>\n",
       "      <td>0.000000</td>\n",
       "      <td>95912.000000</td>\n",
       "      <td>6011.0</td>\n",
       "      <td>-0.091837</td>\n",
       "      <td>-0.232988</td>\n",
       "      <td>-0.434281</td>\n",
       "      <td>0.368422</td>\n",
       "      <td>-0.635444</td>\n",
       "      <td>...</td>\n",
       "      <td>37.311634</td>\n",
       "      <td>0.000000</td>\n",
       "      <td>0.000000</td>\n",
       "      <td>62.688366</td>\n",
       "      <td>0.000000</td>\n",
       "      <td>0.000000</td>\n",
       "      <td>0.000000</td>\n",
       "      <td>0.0</td>\n",
       "      <td>urban_cluster</td>\n",
       "      <td>College City</td>\n",
       "    </tr>\n",
       "  </tbody>\n",
       "</table>\n",
       "<p>5 rows × 50 columns</p>\n",
       "</div>"
      ],
      "text/plain": [
       "  county_name      pop2010  pct2010gq           zip  county_fips  hpi2score  \\\n",
       "0     Alameda  4196.623529   1.879706  94588.085294       6001.0   0.341045   \n",
       "1      Amador  4906.500000   2.300000  95652.500000       6005.0   0.150982   \n",
       "2       Butte  4262.212121   2.496970  95951.333333       6007.0  -0.175309   \n",
       "3   Calaveras  3375.000000   0.366667  95222.666667       6009.0  -0.053647   \n",
       "4      Colusa  5183.000000   0.000000  95912.000000       6011.0  -0.091837   \n",
       "\n",
       "   economic  education   housing  healthcareaccess  ...  white_pct  black_pct  \\\n",
       "0  0.396776   0.293851  0.153843          0.553262  ...  35.234458  13.723530   \n",
       "1 -0.347074   0.381420  0.151026          0.737064  ...  86.096379   0.000000   \n",
       "2 -0.640709  -0.186557  0.212270          0.198127  ...  79.071955   0.950791   \n",
       "3 -0.229292  -0.885324  0.387684          0.392219  ...  91.629281   0.000000   \n",
       "4 -0.232988  -0.434281  0.368422         -0.635444  ...  37.311634   0.000000   \n",
       "\n",
       "   asian_pct  latino_pct  multiple_pct  nativeam_pct  pacificisl_pct  \\\n",
       "0  25.001636   22.179543      3.574085      0.000000        0.286748   \n",
       "1   0.000000   10.879978      3.023642      0.000000        0.000000   \n",
       "2   3.537372   12.415550      3.243284      0.781048        0.000000   \n",
       "3   0.000000    8.370719      0.000000      0.000000        0.000000   \n",
       "4   0.000000   62.688366      0.000000      0.000000        0.000000   \n",
       "\n",
       "   other_pct      urbantype  biggest city  \n",
       "0        0.0     urban_area       Oakland  \n",
       "1        0.0          rural    Pine Grove  \n",
       "2        0.0     urban_area         Chico  \n",
       "3        0.0          rural         Avery  \n",
       "4        0.0  urban_cluster  College City  \n",
       "\n",
       "[5 rows x 50 columns]"
      ]
     },
     "execution_count": 15,
     "metadata": {},
     "output_type": "execute_result"
    }
   ],
   "source": [
    "group.head()"
   ]
  },
  {
   "cell_type": "markdown",
   "metadata": {},
   "source": [
    "The code below is used to calculate the correlation between variables"
   ]
  },
  {
   "cell_type": "code",
   "execution_count": 16,
   "metadata": {},
   "outputs": [
    {
     "data": {
      "text/html": [
       "<div>\n",
       "<style scoped>\n",
       "    .dataframe tbody tr th:only-of-type {\n",
       "        vertical-align: middle;\n",
       "    }\n",
       "\n",
       "    .dataframe tbody tr th {\n",
       "        vertical-align: top;\n",
       "    }\n",
       "\n",
       "    .dataframe thead th {\n",
       "        text-align: right;\n",
       "    }\n",
       "</style>\n",
       "<table border=\"1\" class=\"dataframe\">\n",
       "  <thead>\n",
       "    <tr style=\"text-align: right;\">\n",
       "      <th></th>\n",
       "      <th>pop2010</th>\n",
       "      <th>pct2010gq</th>\n",
       "      <th>zip</th>\n",
       "      <th>county_fips</th>\n",
       "      <th>hpi2score</th>\n",
       "      <th>economic</th>\n",
       "      <th>education</th>\n",
       "      <th>housing</th>\n",
       "      <th>healthcareaccess</th>\n",
       "      <th>neighborhood</th>\n",
       "      <th>...</th>\n",
       "      <th>h20contam</th>\n",
       "      <th>leb</th>\n",
       "      <th>white_pct</th>\n",
       "      <th>black_pct</th>\n",
       "      <th>asian_pct</th>\n",
       "      <th>latino_pct</th>\n",
       "      <th>multiple_pct</th>\n",
       "      <th>nativeam_pct</th>\n",
       "      <th>pacificisl_pct</th>\n",
       "      <th>other_pct</th>\n",
       "    </tr>\n",
       "  </thead>\n",
       "  <tbody>\n",
       "    <tr>\n",
       "      <th>pop2010</th>\n",
       "      <td>1.000000</td>\n",
       "      <td>-0.024989</td>\n",
       "      <td>0.076358</td>\n",
       "      <td>0.106648</td>\n",
       "      <td>-0.022811</td>\n",
       "      <td>-0.003717</td>\n",
       "      <td>-0.083637</td>\n",
       "      <td>0.049737</td>\n",
       "      <td>-0.004300</td>\n",
       "      <td>-0.058104</td>\n",
       "      <td>...</td>\n",
       "      <td>0.061688</td>\n",
       "      <td>-0.011571</td>\n",
       "      <td>-0.106977</td>\n",
       "      <td>-0.010764</td>\n",
       "      <td>0.034885</td>\n",
       "      <td>0.074218</td>\n",
       "      <td>0.221328</td>\n",
       "      <td>0.013089</td>\n",
       "      <td>0.054865</td>\n",
       "      <td>0.071273</td>\n",
       "    </tr>\n",
       "    <tr>\n",
       "      <th>pct2010gq</th>\n",
       "      <td>-0.024989</td>\n",
       "      <td>1.000000</td>\n",
       "      <td>0.034928</td>\n",
       "      <td>0.014807</td>\n",
       "      <td>-0.075776</td>\n",
       "      <td>-0.143775</td>\n",
       "      <td>0.004363</td>\n",
       "      <td>-0.108365</td>\n",
       "      <td>0.017437</td>\n",
       "      <td>0.058237</td>\n",
       "      <td>...</td>\n",
       "      <td>-0.053759</td>\n",
       "      <td>-0.108021</td>\n",
       "      <td>0.027731</td>\n",
       "      <td>0.051001</td>\n",
       "      <td>-0.005454</td>\n",
       "      <td>-0.046910</td>\n",
       "      <td>0.043279</td>\n",
       "      <td>0.011767</td>\n",
       "      <td>-0.013597</td>\n",
       "      <td>0.056818</td>\n",
       "    </tr>\n",
       "    <tr>\n",
       "      <th>zip</th>\n",
       "      <td>0.076358</td>\n",
       "      <td>0.034928</td>\n",
       "      <td>1.000000</td>\n",
       "      <td>0.276312</td>\n",
       "      <td>0.202374</td>\n",
       "      <td>0.107918</td>\n",
       "      <td>0.025094</td>\n",
       "      <td>0.291597</td>\n",
       "      <td>0.326976</td>\n",
       "      <td>0.270995</td>\n",
       "      <td>...</td>\n",
       "      <td>-0.276441</td>\n",
       "      <td>-0.092273</td>\n",
       "      <td>0.280706</td>\n",
       "      <td>-0.095534</td>\n",
       "      <td>0.098261</td>\n",
       "      <td>-0.331268</td>\n",
       "      <td>0.379323</td>\n",
       "      <td>0.090653</td>\n",
       "      <td>0.067788</td>\n",
       "      <td>0.003145</td>\n",
       "    </tr>\n",
       "    <tr>\n",
       "      <th>county_fips</th>\n",
       "      <td>0.106648</td>\n",
       "      <td>0.014807</td>\n",
       "      <td>0.276312</td>\n",
       "      <td>1.000000</td>\n",
       "      <td>0.063009</td>\n",
       "      <td>0.050620</td>\n",
       "      <td>-0.034159</td>\n",
       "      <td>0.121079</td>\n",
       "      <td>0.099378</td>\n",
       "      <td>0.080661</td>\n",
       "      <td>...</td>\n",
       "      <td>0.046785</td>\n",
       "      <td>-0.028519</td>\n",
       "      <td>0.167483</td>\n",
       "      <td>-0.201274</td>\n",
       "      <td>-0.043774</td>\n",
       "      <td>-0.071025</td>\n",
       "      <td>0.065210</td>\n",
       "      <td>-0.012503</td>\n",
       "      <td>-0.013348</td>\n",
       "      <td>0.015386</td>\n",
       "    </tr>\n",
       "    <tr>\n",
       "      <th>hpi2score</th>\n",
       "      <td>-0.022811</td>\n",
       "      <td>-0.075776</td>\n",
       "      <td>0.202374</td>\n",
       "      <td>0.063009</td>\n",
       "      <td>1.000000</td>\n",
       "      <td>0.951434</td>\n",
       "      <td>0.767557</td>\n",
       "      <td>0.710175</td>\n",
       "      <td>0.804472</td>\n",
       "      <td>0.356768</td>\n",
       "      <td>...</td>\n",
       "      <td>-0.299141</td>\n",
       "      <td>0.561417</td>\n",
       "      <td>0.639976</td>\n",
       "      <td>-0.281724</td>\n",
       "      <td>0.275268</td>\n",
       "      <td>-0.719144</td>\n",
       "      <td>0.392291</td>\n",
       "      <td>-0.044604</td>\n",
       "      <td>-0.038971</td>\n",
       "      <td>0.001132</td>\n",
       "    </tr>\n",
       "  </tbody>\n",
       "</table>\n",
       "<p>5 rows × 47 columns</p>\n",
       "</div>"
      ],
      "text/plain": [
       "              pop2010  pct2010gq       zip  county_fips  hpi2score  economic  \\\n",
       "pop2010      1.000000  -0.024989  0.076358     0.106648  -0.022811 -0.003717   \n",
       "pct2010gq   -0.024989   1.000000  0.034928     0.014807  -0.075776 -0.143775   \n",
       "zip          0.076358   0.034928  1.000000     0.276312   0.202374  0.107918   \n",
       "county_fips  0.106648   0.014807  0.276312     1.000000   0.063009  0.050620   \n",
       "hpi2score   -0.022811  -0.075776  0.202374     0.063009   1.000000  0.951434   \n",
       "\n",
       "             education   housing  healthcareaccess  neighborhood  ...  \\\n",
       "pop2010      -0.083637  0.049737         -0.004300     -0.058104  ...   \n",
       "pct2010gq     0.004363 -0.108365          0.017437      0.058237  ...   \n",
       "zip           0.025094  0.291597          0.326976      0.270995  ...   \n",
       "county_fips  -0.034159  0.121079          0.099378      0.080661  ...   \n",
       "hpi2score     0.767557  0.710175          0.804472      0.356768  ...   \n",
       "\n",
       "             h20contam       leb  white_pct  black_pct  asian_pct  latino_pct  \\\n",
       "pop2010       0.061688 -0.011571  -0.106977  -0.010764   0.034885    0.074218   \n",
       "pct2010gq    -0.053759 -0.108021   0.027731   0.051001  -0.005454   -0.046910   \n",
       "zip          -0.276441 -0.092273   0.280706  -0.095534   0.098261   -0.331268   \n",
       "county_fips   0.046785 -0.028519   0.167483  -0.201274  -0.043774   -0.071025   \n",
       "hpi2score    -0.299141  0.561417   0.639976  -0.281724   0.275268   -0.719144   \n",
       "\n",
       "             multiple_pct  nativeam_pct  pacificisl_pct  other_pct  \n",
       "pop2010          0.221328      0.013089        0.054865   0.071273  \n",
       "pct2010gq        0.043279      0.011767       -0.013597   0.056818  \n",
       "zip              0.379323      0.090653        0.067788   0.003145  \n",
       "county_fips      0.065210     -0.012503       -0.013348   0.015386  \n",
       "hpi2score        0.392291     -0.044604       -0.038971   0.001132  \n",
       "\n",
       "[5 rows x 47 columns]"
      ]
     },
     "execution_count": 16,
     "metadata": {},
     "output_type": "execute_result"
    }
   ],
   "source": [
    "corr = df.corr()\n",
    "corr.head()"
   ]
  },
  {
   "cell_type": "code",
   "execution_count": 17,
   "metadata": {},
   "outputs": [
    {
     "data": {
      "text/plain": [
       "pop2010            -0.022811\n",
       "pct2010gq          -0.075776\n",
       "zip                 0.202374\n",
       "county_fips         0.063009\n",
       "hpi2score           1.000000\n",
       "economic            0.951434\n",
       "education           0.767557\n",
       "housing             0.710175\n",
       "healthcareaccess    0.804472\n",
       "neighborhood        0.356768\n",
       "Name: hpi2score, dtype: float64"
      ]
     },
     "execution_count": 17,
     "metadata": {},
     "output_type": "execute_result"
    }
   ],
   "source": [
    "corr[\"hpi2score\"][:10]"
   ]
  },
  {
   "cell_type": "code",
   "execution_count": 18,
   "metadata": {},
   "outputs": [],
   "source": [
    "cities = list(df[\"city\"].unique())\n",
    "counties = list(df[\"county_name\"].unique())"
   ]
  },
  {
   "cell_type": "code",
   "execution_count": 19,
   "metadata": {},
   "outputs": [
    {
     "data": {
      "text/plain": [
       "(717, 54)"
      ]
     },
     "execution_count": 19,
     "metadata": {},
     "output_type": "execute_result"
    }
   ],
   "source": [
    "len(cities), len(counties)"
   ]
  },
  {
   "cell_type": "code",
   "execution_count": 20,
   "metadata": {},
   "outputs": [],
   "source": [
    "scores2 = []\n",
    "cities2 = []\n",
    "for city in cities:\n",
    "    small_df = df[df[\"city\"] == city]\n",
    "    #if len(small_df) >1:\n",
    "    scores2.append(np.average(small_df[\"hpi2score\"]))\n",
    "    cities2.append(city)\n",
    "    "
   ]
  },
  {
   "cell_type": "markdown",
   "metadata": {},
   "source": [
    "PCA"
   ]
  },
  {
   "cell_type": "code",
   "execution_count": 21,
   "metadata": {},
   "outputs": [
    {
     "data": {
      "text/html": [
       "<div>\n",
       "<style scoped>\n",
       "    .dataframe tbody tr th:only-of-type {\n",
       "        vertical-align: middle;\n",
       "    }\n",
       "\n",
       "    .dataframe tbody tr th {\n",
       "        vertical-align: top;\n",
       "    }\n",
       "\n",
       "    .dataframe thead th {\n",
       "        text-align: right;\n",
       "    }\n",
       "</style>\n",
       "<table border=\"1\" class=\"dataframe\">\n",
       "  <thead>\n",
       "    <tr style=\"text-align: right;\">\n",
       "      <th></th>\n",
       "      <th>pop2010</th>\n",
       "      <th>pct2010gq</th>\n",
       "      <th>economic</th>\n",
       "      <th>education</th>\n",
       "      <th>housing</th>\n",
       "      <th>healthcareaccess</th>\n",
       "      <th>neighborhood</th>\n",
       "      <th>pollution</th>\n",
       "      <th>transportation</th>\n",
       "      <th>social</th>\n",
       "      <th>...</th>\n",
       "      <th>h20contam</th>\n",
       "      <th>leb</th>\n",
       "      <th>white_pct</th>\n",
       "      <th>black_pct</th>\n",
       "      <th>asian_pct</th>\n",
       "      <th>latino_pct</th>\n",
       "      <th>multiple_pct</th>\n",
       "      <th>nativeam_pct</th>\n",
       "      <th>pacificisl_pct</th>\n",
       "      <th>other_pct</th>\n",
       "    </tr>\n",
       "  </thead>\n",
       "  <tbody>\n",
       "    <tr>\n",
       "      <th>0</th>\n",
       "      <td>2937</td>\n",
       "      <td>0.1</td>\n",
       "      <td>1.735963</td>\n",
       "      <td>0.948968</td>\n",
       "      <td>0.730552</td>\n",
       "      <td>1.285242</td>\n",
       "      <td>0.832170</td>\n",
       "      <td>0.878125</td>\n",
       "      <td>0.616855</td>\n",
       "      <td>1.336602</td>\n",
       "      <td>...</td>\n",
       "      <td>70.599583</td>\n",
       "      <td>86.985506</td>\n",
       "      <td>71.605789</td>\n",
       "      <td>4.824259</td>\n",
       "      <td>15.713301</td>\n",
       "      <td>4.031702</td>\n",
       "      <td>3.824948</td>\n",
       "      <td>0.0</td>\n",
       "      <td>0.0</td>\n",
       "      <td>0</td>\n",
       "    </tr>\n",
       "    <tr>\n",
       "      <th>1</th>\n",
       "      <td>1974</td>\n",
       "      <td>3.5</td>\n",
       "      <td>1.808761</td>\n",
       "      <td>1.137725</td>\n",
       "      <td>0.959728</td>\n",
       "      <td>1.004971</td>\n",
       "      <td>0.503232</td>\n",
       "      <td>0.657261</td>\n",
       "      <td>1.494366</td>\n",
       "      <td>1.227116</td>\n",
       "      <td>...</td>\n",
       "      <td>70.599583</td>\n",
       "      <td>86.957616</td>\n",
       "      <td>83.884970</td>\n",
       "      <td>0.000000</td>\n",
       "      <td>7.921867</td>\n",
       "      <td>8.193163</td>\n",
       "      <td>0.000000</td>\n",
       "      <td>0.0</td>\n",
       "      <td>0.0</td>\n",
       "      <td>0</td>\n",
       "    </tr>\n",
       "    <tr>\n",
       "      <th>2</th>\n",
       "      <td>4865</td>\n",
       "      <td>0.8</td>\n",
       "      <td>1.014492</td>\n",
       "      <td>1.348314</td>\n",
       "      <td>0.603628</td>\n",
       "      <td>1.268756</td>\n",
       "      <td>-0.291977</td>\n",
       "      <td>0.657261</td>\n",
       "      <td>0.822268</td>\n",
       "      <td>1.078500</td>\n",
       "      <td>...</td>\n",
       "      <td>70.599583</td>\n",
       "      <td>86.462942</td>\n",
       "      <td>67.384106</td>\n",
       "      <td>10.596026</td>\n",
       "      <td>8.671358</td>\n",
       "      <td>8.257450</td>\n",
       "      <td>5.091060</td>\n",
       "      <td>0.0</td>\n",
       "      <td>0.0</td>\n",
       "      <td>0</td>\n",
       "    </tr>\n",
       "    <tr>\n",
       "      <th>3</th>\n",
       "      <td>3703</td>\n",
       "      <td>0.9</td>\n",
       "      <td>1.277657</td>\n",
       "      <td>0.939501</td>\n",
       "      <td>0.356477</td>\n",
       "      <td>1.301729</td>\n",
       "      <td>0.070027</td>\n",
       "      <td>0.657261</td>\n",
       "      <td>1.756657</td>\n",
       "      <td>1.295417</td>\n",
       "      <td>...</td>\n",
       "      <td>70.599583</td>\n",
       "      <td>82.710897</td>\n",
       "      <td>66.031054</td>\n",
       "      <td>12.203759</td>\n",
       "      <td>7.354944</td>\n",
       "      <td>9.043857</td>\n",
       "      <td>5.366385</td>\n",
       "      <td>0.0</td>\n",
       "      <td>0.0</td>\n",
       "      <td>0</td>\n",
       "    </tr>\n",
       "    <tr>\n",
       "      <th>4</th>\n",
       "      <td>3517</td>\n",
       "      <td>3.6</td>\n",
       "      <td>0.577803</td>\n",
       "      <td>0.486145</td>\n",
       "      <td>0.029926</td>\n",
       "      <td>0.485643</td>\n",
       "      <td>-0.106063</td>\n",
       "      <td>0.657261</td>\n",
       "      <td>0.873072</td>\n",
       "      <td>0.949500</td>\n",
       "      <td>...</td>\n",
       "      <td>70.599583</td>\n",
       "      <td>80.123238</td>\n",
       "      <td>51.180196</td>\n",
       "      <td>26.856649</td>\n",
       "      <td>5.987334</td>\n",
       "      <td>9.786989</td>\n",
       "      <td>6.188831</td>\n",
       "      <td>0.0</td>\n",
       "      <td>0.0</td>\n",
       "      <td>0</td>\n",
       "    </tr>\n",
       "  </tbody>\n",
       "</table>\n",
       "<p>5 rows × 44 columns</p>\n",
       "</div>"
      ],
      "text/plain": [
       "   pop2010  pct2010gq  economic  education   housing  healthcareaccess  \\\n",
       "0     2937        0.1  1.735963   0.948968  0.730552          1.285242   \n",
       "1     1974        3.5  1.808761   1.137725  0.959728          1.004971   \n",
       "2     4865        0.8  1.014492   1.348314  0.603628          1.268756   \n",
       "3     3703        0.9  1.277657   0.939501  0.356477          1.301729   \n",
       "4     3517        3.6  0.577803   0.486145  0.029926          0.485643   \n",
       "\n",
       "   neighborhood  pollution  transportation    social  ...  h20contam  \\\n",
       "0      0.832170   0.878125        0.616855  1.336602  ...  70.599583   \n",
       "1      0.503232   0.657261        1.494366  1.227116  ...  70.599583   \n",
       "2     -0.291977   0.657261        0.822268  1.078500  ...  70.599583   \n",
       "3      0.070027   0.657261        1.756657  1.295417  ...  70.599583   \n",
       "4     -0.106063   0.657261        0.873072  0.949500  ...  70.599583   \n",
       "\n",
       "         leb  white_pct  black_pct  asian_pct  latino_pct  multiple_pct  \\\n",
       "0  86.985506  71.605789   4.824259  15.713301    4.031702      3.824948   \n",
       "1  86.957616  83.884970   0.000000   7.921867    8.193163      0.000000   \n",
       "2  86.462942  67.384106  10.596026   8.671358    8.257450      5.091060   \n",
       "3  82.710897  66.031054  12.203759   7.354944    9.043857      5.366385   \n",
       "4  80.123238  51.180196  26.856649   5.987334    9.786989      6.188831   \n",
       "\n",
       "   nativeam_pct  pacificisl_pct  other_pct  \n",
       "0           0.0             0.0          0  \n",
       "1           0.0             0.0          0  \n",
       "2           0.0             0.0          0  \n",
       "3           0.0             0.0          0  \n",
       "4           0.0             0.0          0  \n",
       "\n",
       "[5 rows x 44 columns]"
      ]
     },
     "execution_count": 21,
     "metadata": {},
     "output_type": "execute_result"
    }
   ],
   "source": [
    "pc_df = df.drop([\"city\", \"zip\", \"county_fips\", \"urbantype\", \"county_name\", \"hpi2score\"], axis = 1)\n",
    "pc_df.head()"
   ]
  },
  {
   "cell_type": "code",
   "execution_count": 22,
   "metadata": {},
   "outputs": [
    {
     "data": {
      "text/plain": [
       "array([ 8.05713540e-04, -1.04183868e-05,  2.35237513e-05,  1.26217914e-05,\n",
       "        1.36428076e-05,  2.18745199e-05,  2.95671506e-06,  5.59447884e-06,\n",
       "        4.65870223e-06,  1.75948560e-05,  2.65361526e-04,  1.65054173e-04,\n",
       "        4.57362882e-04,  1.25206264e-04, -6.07536148e-05,  2.94012512e-04,\n",
       "        1.86208078e-05,  4.81921138e-04,  1.24060663e-04,  5.18137238e-04,\n",
       "        9.99997883e-01, -1.27232702e-05,  9.75860982e-05,  6.65843991e-05,\n",
       "        4.48498222e-04,  2.00682758e-04, -9.60329524e-05, -1.67589945e-04,\n",
       "        1.46863456e-05,  2.16483888e-04, -2.75230414e-04, -7.45938145e-08,\n",
       "       -1.26259285e-05, -8.14068991e-05, -1.33438106e-03,  5.55103326e-05,\n",
       "        4.33819173e-04, -8.15177386e-05,  1.19741011e-04, -4.87844779e-04,\n",
       "        1.71640848e-05, -7.26258770e-07, -6.33826950e-07,  2.28888866e-10])"
      ]
     },
     "execution_count": 22,
     "metadata": {},
     "output_type": "execute_result"
    }
   ],
   "source": [
    "from sklearn.decomposition import PCA\n",
    "pca = PCA(n_components =2)\n",
    "pca.fit(pc_df)\n",
    "pca.components_[0]"
   ]
  },
  {
   "cell_type": "code",
   "execution_count": 23,
   "metadata": {},
   "outputs": [
    {
     "data": {
      "text/plain": [
       "<matplotlib.collections.PathCollection at 0x1fe1d39bdd8>"
      ]
     },
     "execution_count": 23,
     "metadata": {},
     "output_type": "execute_result"
    },
    {
     "data": {
      "image/png": "[encoded data removed]",
      "text/plain": [
       "<Figure size 432x288 with 1 Axes>"
      ]
     },
     "metadata": {
      "needs_background": "light"
     },
     "output_type": "display_data"
    }
   ],
   "source": [
    "plt.scatter(pca.components_[0], pca.components_[1])"
   ]
  },
  {
   "cell_type": "markdown",
   "metadata": {},
   "source": [
    "# Choropleth map"
   ]
  },
  {
   "cell_type": "code",
   "execution_count": 24,
   "metadata": {},
   "outputs": [
    {
     "data": {
      "text/plain": [
       "54"
      ]
     },
     "execution_count": 24,
     "metadata": {},
     "output_type": "execute_result"
    }
   ],
   "source": [
    "len(df.groupby(\"county_name\"))"
   ]
  },
  {
   "cell_type": "code",
   "execution_count": 25,
   "metadata": {},
   "outputs": [],
   "source": [
    "county = group[\"county_fips\"]\n",
    "score = group[\"hpi2score\"]"
   ]
  },
  {
   "cell_type": "code",
   "execution_count": 26,
   "metadata": {},
   "outputs": [],
   "source": [
    "#using figure factory for a single state\n",
    "import plotly.figure_factory as ff"
   ]
  },
  {
   "cell_type": "markdown",
   "metadata": {},
   "source": [
    "https://towardsdatascience.com/an-introduction-to-geographical-data-visualization-3486959cd4b8"
   ]
  },
  {
   "cell_type": "markdown",
   "metadata": {},
   "source": [
    "Looking at the range of values for the HpiScore, some are actually negative, so have to take that into account"
   ]
  },
  {
   "cell_type": "code",
   "execution_count": 27,
   "metadata": {},
   "outputs": [
    {
     "data": {
      "text/plain": [
       "(-0.6454781168461541, 0.7790843871276596)"
      ]
     },
     "execution_count": 27,
     "metadata": {},
     "output_type": "execute_result"
    }
   ],
   "source": [
    "min(group[\"hpi2score\"]),max(group[\"hpi2score\"])"
   ]
  },
  {
   "cell_type": "code",
   "execution_count": 28,
   "metadata": {},
   "outputs": [
    {
     "data": {
      "text/plain": [
       "17.79"
      ]
     },
     "execution_count": 28,
     "metadata": {},
     "output_type": "execute_result"
    }
   ],
   "source": [
    "val = .779\n",
    "(val+1)*10"
   ]
  },
  {
   "cell_type": "code",
   "execution_count": 29,
   "metadata": {},
   "outputs": [],
   "source": [
    "colors_to_plot = []\n",
    "for county in group[\"county_name\"]:\n",
    "    score = group[group[\"county_name\"] == county][\"hpi2score\"]\n",
    "    normalized_score = int((score)*10)\n",
    "    colors_to_plot.append(normalized_score)\n",
    "    #group[\"nom_scores\"].loc[county] = score\n",
    "    "
   ]
  },
  {
   "cell_type": "code",
   "execution_count": 30,
   "metadata": {},
   "outputs": [],
   "source": [
    "group[\"norm_score\"] = colors_to_plot"
   ]
  },
  {
   "cell_type": "markdown",
   "metadata": {},
   "source": [
    "# BOKEH plotting"
   ]
  },
  {
   "cell_type": "code",
   "execution_count": 31,
   "metadata": {},
   "outputs": [],
   "source": [
    "import bokeh"
   ]
  },
  {
   "cell_type": "code",
   "execution_count": 32,
   "metadata": {},
   "outputs": [],
   "source": [
    "from bokeh.sampledata.us_counties import data as counties\n",
    "from bokeh.sampledata.us_states import data as states\n",
    "from bokeh.sampledata.unemployment import data as unemployment"
   ]
  },
  {
   "cell_type": "code",
   "execution_count": 33,
   "metadata": {},
   "outputs": [],
   "source": [
    "#get the lat and long of the state of CA (since just a heatmap of Cali)\n",
    "state_lon = states[\"CA\"][\"lons\"]\n",
    "state_lat = states[\"CA\"][\"lats\"]\n",
    "#state_x"
   ]
  },
  {
   "cell_type": "code",
   "execution_count": 34,
   "metadata": {},
   "outputs": [],
   "source": [
    "#make 3 lists, each with the name, lat and lon of all counties in California\n",
    "name = []\n",
    "lat = []\n",
    "lons = []\n",
    "names = [(name.append(counties[code][\"detailed name\"]), lat.append(counties[code][\"lats\"]), lons.append(counties[code][\"lons\"])) for code in counties if counties[code][\"state\"] in [\"ca\"]]\n",
    "#latlon = [counties[code][\"detailed name\"] for code in counties if counties[code][\"state\"] in [\"ca\"]]"
   ]
  },
  {
   "cell_type": "code",
   "execution_count": 35,
   "metadata": {},
   "outputs": [],
   "source": [
    "#put these lists into a dataframe for easier access\n",
    "locations = pd.DataFrame()\n",
    "locations[\"names\"] = name\n",
    "locations[\"lats\"] = lat\n",
    "locations[\"lons\"] = lons"
   ]
  },
  {
   "cell_type": "code",
   "execution_count": 36,
   "metadata": {},
   "outputs": [
    {
     "data": {
      "text/html": [
       "<div>\n",
       "<style scoped>\n",
       "    .dataframe tbody tr th:only-of-type {\n",
       "        vertical-align: middle;\n",
       "    }\n",
       "\n",
       "    .dataframe tbody tr th {\n",
       "        vertical-align: top;\n",
       "    }\n",
       "\n",
       "    .dataframe thead th {\n",
       "        text-align: right;\n",
       "    }\n",
       "</style>\n",
       "<table border=\"1\" class=\"dataframe\">\n",
       "  <thead>\n",
       "    <tr style=\"text-align: right;\">\n",
       "      <th></th>\n",
       "      <th>names</th>\n",
       "      <th>lats</th>\n",
       "      <th>lons</th>\n",
       "    </tr>\n",
       "  </thead>\n",
       "  <tbody>\n",
       "    <tr>\n",
       "      <th>0</th>\n",
       "      <td>Alameda County, California</td>\n",
       "      <td>[37.90194, 37.89909, 37.8965, 37.8941, 37.8870...</td>\n",
       "      <td>[-122.26254, -122.25876, -122.25586, -122.2530...</td>\n",
       "    </tr>\n",
       "    <tr>\n",
       "      <th>1</th>\n",
       "      <td>Alpine County, California</td>\n",
       "      <td>[38.88801, 38.88374, 38.87596, 38.86882, 38.85...</td>\n",
       "      <td>[-119.83828, -119.832, -119.82106, -119.81054,...</td>\n",
       "    </tr>\n",
       "    <tr>\n",
       "      <th>2</th>\n",
       "      <td>Amador County, California</td>\n",
       "      <td>[38.53596, 38.50946, 38.50418, 38.51042, 38.51...</td>\n",
       "      <td>[-120.70401, -120.64529, -120.59707, -120.5583...</td>\n",
       "    </tr>\n",
       "    <tr>\n",
       "      <th>3</th>\n",
       "      <td>Butte County, California</td>\n",
       "      <td>[39.52657, 39.52658, 39.51325, 39.46875, 39.45...</td>\n",
       "      <td>[-121.23727, -121.23866, -121.3052, -121.33296...</td>\n",
       "    </tr>\n",
       "    <tr>\n",
       "      <th>4</th>\n",
       "      <td>Calaveras County, California</td>\n",
       "      <td>[38.40885, 38.40873, 38.39886, 38.37713, 38.35...</td>\n",
       "      <td>[-120.0819, -120.08198, -120.12248, -120.16929...</td>\n",
       "    </tr>\n",
       "  </tbody>\n",
       "</table>\n",
       "</div>"
      ],
      "text/plain": [
       "                          names  \\\n",
       "0    Alameda County, California   \n",
       "1     Alpine County, California   \n",
       "2     Amador County, California   \n",
       "3      Butte County, California   \n",
       "4  Calaveras County, California   \n",
       "\n",
       "                                                lats  \\\n",
       "0  [37.90194, 37.89909, 37.8965, 37.8941, 37.8870...   \n",
       "1  [38.88801, 38.88374, 38.87596, 38.86882, 38.85...   \n",
       "2  [38.53596, 38.50946, 38.50418, 38.51042, 38.51...   \n",
       "3  [39.52657, 39.52658, 39.51325, 39.46875, 39.45...   \n",
       "4  [38.40885, 38.40873, 38.39886, 38.37713, 38.35...   \n",
       "\n",
       "                                                lons  \n",
       "0  [-122.26254, -122.25876, -122.25586, -122.2530...  \n",
       "1  [-119.83828, -119.832, -119.82106, -119.81054,...  \n",
       "2  [-120.70401, -120.64529, -120.59707, -120.5583...  \n",
       "3  [-121.23727, -121.23866, -121.3052, -121.33296...  \n",
       "4  [-120.0819, -120.08198, -120.12248, -120.16929...  "
      ]
     },
     "execution_count": 36,
     "metadata": {},
     "output_type": "execute_result"
    }
   ],
   "source": [
    "#example output of new df\n",
    "locations.head()"
   ]
  },
  {
   "cell_type": "code",
   "execution_count": 37,
   "metadata": {},
   "outputs": [],
   "source": [
    "#get rid of \"County, California\" in each of the \"names\" so can join wtih hpi score column/df \n",
    "locations[\"county_names\"] = locations[\"names\"].apply(lambda x: x[:-19])"
   ]
  },
  {
   "cell_type": "code",
   "execution_count": 38,
   "metadata": {},
   "outputs": [
    {
     "data": {
      "text/html": [
       "<div>\n",
       "<style scoped>\n",
       "    .dataframe tbody tr th:only-of-type {\n",
       "        vertical-align: middle;\n",
       "    }\n",
       "\n",
       "    .dataframe tbody tr th {\n",
       "        vertical-align: top;\n",
       "    }\n",
       "\n",
       "    .dataframe thead th {\n",
       "        text-align: right;\n",
       "    }\n",
       "</style>\n",
       "<table border=\"1\" class=\"dataframe\">\n",
       "  <thead>\n",
       "    <tr style=\"text-align: right;\">\n",
       "      <th></th>\n",
       "      <th>names</th>\n",
       "      <th>lats</th>\n",
       "      <th>lons</th>\n",
       "      <th>county_names</th>\n",
       "    </tr>\n",
       "  </thead>\n",
       "  <tbody>\n",
       "    <tr>\n",
       "      <th>0</th>\n",
       "      <td>Alameda County, California</td>\n",
       "      <td>[37.90194, 37.89909, 37.8965, 37.8941, 37.8870...</td>\n",
       "      <td>[-122.26254, -122.25876, -122.25586, -122.2530...</td>\n",
       "      <td>Alameda</td>\n",
       "    </tr>\n",
       "    <tr>\n",
       "      <th>1</th>\n",
       "      <td>Alpine County, California</td>\n",
       "      <td>[38.88801, 38.88374, 38.87596, 38.86882, 38.85...</td>\n",
       "      <td>[-119.83828, -119.832, -119.82106, -119.81054,...</td>\n",
       "      <td>Alpine</td>\n",
       "    </tr>\n",
       "  </tbody>\n",
       "</table>\n",
       "</div>"
      ],
      "text/plain": [
       "                        names  \\\n",
       "0  Alameda County, California   \n",
       "1   Alpine County, California   \n",
       "\n",
       "                                                lats  \\\n",
       "0  [37.90194, 37.89909, 37.8965, 37.8941, 37.8870...   \n",
       "1  [38.88801, 38.88374, 38.87596, 38.86882, 38.85...   \n",
       "\n",
       "                                                lons county_names  \n",
       "0  [-122.26254, -122.25876, -122.25586, -122.2530...      Alameda  \n",
       "1  [-119.83828, -119.832, -119.82106, -119.81054,...       Alpine  "
      ]
     },
     "execution_count": 38,
     "metadata": {},
     "output_type": "execute_result"
    }
   ],
   "source": [
    "#new df check\n",
    "locations.head(2)"
   ]
  },
  {
   "cell_type": "code",
   "execution_count": 39,
   "metadata": {},
   "outputs": [],
   "source": [
    "scores_df = pd.DataFrame()\n",
    "scores_df[\"county_names\"] = group[\"county_name\"]\n",
    "scores_df[\"hpiscore\"] = group[\"hpi2score\"]\n",
    "scores_df[\"norm_score\"]= group[\"norm_score\"]\n"
   ]
  },
  {
   "cell_type": "code",
   "execution_count": 40,
   "metadata": {},
   "outputs": [
    {
     "data": {
      "text/html": [
       "<div>\n",
       "<style scoped>\n",
       "    .dataframe tbody tr th:only-of-type {\n",
       "        vertical-align: middle;\n",
       "    }\n",
       "\n",
       "    .dataframe tbody tr th {\n",
       "        vertical-align: top;\n",
       "    }\n",
       "\n",
       "    .dataframe thead th {\n",
       "        text-align: right;\n",
       "    }\n",
       "</style>\n",
       "<table border=\"1\" class=\"dataframe\">\n",
       "  <thead>\n",
       "    <tr style=\"text-align: right;\">\n",
       "      <th></th>\n",
       "      <th>county_names</th>\n",
       "      <th>hpiscore</th>\n",
       "      <th>norm_score</th>\n",
       "    </tr>\n",
       "  </thead>\n",
       "  <tbody>\n",
       "    <tr>\n",
       "      <th>0</th>\n",
       "      <td>Alameda</td>\n",
       "      <td>0.341045</td>\n",
       "      <td>3</td>\n",
       "    </tr>\n",
       "  </tbody>\n",
       "</table>\n",
       "</div>"
      ],
      "text/plain": [
       "  county_names  hpiscore  norm_score\n",
       "0      Alameda  0.341045           3"
      ]
     },
     "execution_count": 40,
     "metadata": {},
     "output_type": "execute_result"
    }
   ],
   "source": [
    "scores_df.head(1)"
   ]
  },
  {
   "cell_type": "code",
   "execution_count": 41,
   "metadata": {},
   "outputs": [
    {
     "data": {
      "text/html": [
       "<div>\n",
       "<style scoped>\n",
       "    .dataframe tbody tr th:only-of-type {\n",
       "        vertical-align: middle;\n",
       "    }\n",
       "\n",
       "    .dataframe tbody tr th {\n",
       "        vertical-align: top;\n",
       "    }\n",
       "\n",
       "    .dataframe thead th {\n",
       "        text-align: right;\n",
       "    }\n",
       "</style>\n",
       "<table border=\"1\" class=\"dataframe\">\n",
       "  <thead>\n",
       "    <tr style=\"text-align: right;\">\n",
       "      <th></th>\n",
       "      <th>county_names</th>\n",
       "      <th>hpiscore</th>\n",
       "      <th>norm_score</th>\n",
       "      <th>names</th>\n",
       "      <th>lats</th>\n",
       "      <th>lons</th>\n",
       "    </tr>\n",
       "  </thead>\n",
       "  <tbody>\n",
       "    <tr>\n",
       "      <th>0</th>\n",
       "      <td>Alameda</td>\n",
       "      <td>0.341045</td>\n",
       "      <td>3.0</td>\n",
       "      <td>Alameda County, California</td>\n",
       "      <td>[37.90194, 37.89909, 37.8965, 37.8941, 37.8870...</td>\n",
       "      <td>[-122.26254, -122.25876, -122.25586, -122.2530...</td>\n",
       "    </tr>\n",
       "  </tbody>\n",
       "</table>\n",
       "</div>"
      ],
      "text/plain": [
       "  county_names  hpiscore  norm_score                       names  \\\n",
       "0      Alameda  0.341045         3.0  Alameda County, California   \n",
       "\n",
       "                                                lats  \\\n",
       "0  [37.90194, 37.89909, 37.8965, 37.8941, 37.8870...   \n",
       "\n",
       "                                                lons  \n",
       "0  [-122.26254, -122.25876, -122.25586, -122.2530...  "
      ]
     },
     "execution_count": 41,
     "metadata": {},
     "output_type": "execute_result"
    }
   ],
   "source": [
    "full_df = pd.merge(scores_df, locations, how = \"outer\", on=[\"county_names\"])\n",
    "full_df.head(1)\n"
   ]
  },
  {
   "cell_type": "code",
   "execution_count": 42,
   "metadata": {},
   "outputs": [],
   "source": [
    "full_df = full_df.fillna(\"0\")"
   ]
  },
  {
   "cell_type": "code",
   "execution_count": 43,
   "metadata": {},
   "outputs": [],
   "source": [
    "#http://bokeh.pydata.org/en/latest/docs/gallery/texas.html\n",
    "#used the documentation above as a template to make my figure\n",
    "from bokeh.io import output_notebook\n",
    "from bokeh.models import LogColorMapper\n",
    "#palette is a list of hexs\n",
    "from bokeh.palettes import RdBu8 as palette\n",
    "from bokeh.plotting import figure, show"
   ]
  },
  {
   "cell_type": "code",
   "execution_count": 44,
   "metadata": {},
   "outputs": [],
   "source": [
    "#issue with lat and long JSON encoding (need to turn into arrays)\n",
    "#https://github.com/bokeh/bokeh/issues/6222\n",
    "    "
   ]
  },
  {
   "cell_type": "code",
   "execution_count": 45,
   "metadata": {},
   "outputs": [
    {
     "data": {
      "text/html": [
       "\n",
       "    <div class=\"bk-root\">\n",
       "        <a href=\"https://bokeh.pydata.org\" target=\"_blank\" class=\"bk-logo bk-logo-small bk-logo-notebook\"></a>\n",
       "        <span id=\"1041\">Loading BokehJS ...</span>\n",
       "    </div>"
      ]
     },
     "metadata": {},
     "output_type": "display_data"
    },
    {
     "data": {
      "application/javascript": [
       "\n",
       "(function(root) {\n",
       "  function now() {\n",
       "    return new Date();\n",
       "  }\n",
       "\n",
       "  var force = true;\n",
       "\n",
       "  if (typeof (root._bokeh_onload_callbacks) === \"undefined\" || force === true) {\n",
       "    root._bokeh_onload_callbacks = [];\n",
       "    root._bokeh_is_loading = undefined;\n",
       "  }\n",
       "\n",
       "  var JS_MIME_TYPE = 'application/javascript';\n",
       "  var HTML_MIME_TYPE = 'text/html';\n",
       "  var EXEC_MIME_TYPE = 'application/vnd.bokehjs_exec.v0+json';\n",
       "  var CLASS_NAME = 'output_bokeh rendered_html';\n",
       "\n",
       "  /**\n",
       "   * Render data to the DOM node\n",
       "   */\n",
       "  function render(props, node) {\n",
       "    var script = document.createElement(\"script\");\n",
       "    node.appendChild(script);\n",
       "  }\n",
       "\n",
       "  /**\n",
       "   * Handle when an output is cleared or removed\n",
       "   */\n",
       "  function handleClearOutput(event, handle) {\n",
       "    var cell = handle.cell;\n",
       "\n",
       "    var id = cell.output_area._bokeh_element_id;\n",
       "    var server_id = cell.output_area._bokeh_server_id;\n",
       "    // Clean up Bokeh references\n",
       "    if (id != null && id in Bokeh.index) {\n",
       "      Bokeh.index[id].model.document.clear();\n",
       "      delete Bokeh.index[id];\n",
       "    }\n",
       "\n",
       "    if (server_id !== undefined) {\n",
       "      // Clean up Bokeh references\n",
       "      var cmd = \"from bokeh.io.state import curstate; print(curstate().uuid_to_server['\" + server_id + \"'].get_sessions()[0].document.roots[0]._id)\";\n",
       "      cell.notebook.kernel.execute(cmd, {\n",
       "        iopub: {\n",
       "          output: function(msg) {\n",
       "            var id = msg.content.text.trim();\n",
       "            if (id in Bokeh.index) {\n",
       "              Bokeh.index[id].model.document.clear();\n",
       "              delete Bokeh.index[id];\n",
       "            }\n",
       "          }\n",
       "        }\n",
       "      });\n",
       "      // Destroy server and session\n",
       "      var cmd = \"import bokeh.io.notebook as ion; ion.destroy_server('\" + server_id + \"')\";\n",
       "      cell.notebook.kernel.execute(cmd);\n",
       "    }\n",
       "  }\n",
       "\n",
       "  /**\n",
       "   * Handle when a new output is added\n",
       "   */\n",
       "  function handleAddOutput(event, handle) {\n",
       "    var output_area = handle.output_area;\n",
       "    var output = handle.output;\n",
       "\n",
       "    // limit handleAddOutput to display_data with EXEC_MIME_TYPE content only\n",
       "    if ((output.output_type != \"display_data\") || (!output.data.hasOwnProperty(EXEC_MIME_TYPE))) {\n",
       "      return\n",
       "    }\n",
       "\n",
       "    var toinsert = output_area.element.find(\".\" + CLASS_NAME.split(' ')[0]);\n",
       "\n",
       "    if (output.metadata[EXEC_MIME_TYPE][\"id\"] !== undefined) {\n",
       "      toinsert[toinsert.length - 1].firstChild.textContent = output.data[JS_MIME_TYPE];\n",
       "      // store reference to embed id on output_area\n",
       "      output_area._bokeh_element_id = output.metadata[EXEC_MIME_TYPE][\"id\"];\n",
       "    }\n",
       "    if (output.metadata[EXEC_MIME_TYPE][\"server_id\"] !== undefined) {\n",
       "      var bk_div = document.createElement(\"div\");\n",
       "      bk_div.innerHTML = output.data[HTML_MIME_TYPE];\n",
       "      var script_attrs = bk_div.children[0].attributes;\n",
       "      for (var i = 0; i < script_attrs.length; i++) {\n",
       "        toinsert[toinsert.length - 1].firstChild.setAttribute(script_attrs[i].name, script_attrs[i].value);\n",
       "      }\n",
       "      // store reference to server id on output_area\n",
       "      output_area._bokeh_server_id = output.metadata[EXEC_MIME_TYPE][\"server_id\"];\n",
       "    }\n",
       "  }\n",
       "\n",
       "  function register_renderer(events, OutputArea) {\n",
       "\n",
       "    function append_mime(data, metadata, element) {\n",
       "      // create a DOM node to render to\n",
       "      var toinsert = this.create_output_subarea(\n",
       "        metadata,\n",
       "        CLASS_NAME,\n",
       "        EXEC_MIME_TYPE\n",
       "      );\n",
       "      this.keyboard_manager.register_events(toinsert);\n",
       "      // Render to node\n",
       "      var props = {data: data, metadata: metadata[EXEC_MIME_TYPE]};\n",
       "      render(props, toinsert[toinsert.length - 1]);\n",
       "      element.append(toinsert);\n",
       "      return toinsert\n",
       "    }\n",
       "\n",
       "    /* Handle when an output is cleared or removed */\n",
       "    events.on('clear_output.CodeCell', handleClearOutput);\n",
       "    events.on('delete.Cell', handleClearOutput);\n",
       "\n",
       "    /* Handle when a new output is added */\n",
       "    events.on('output_added.OutputArea', handleAddOutput);\n",
       "\n",
       "    /**\n",
       "     * Register the mime type and append_mime function with output_area\n",
       "     */\n",
       "    OutputArea.prototype.register_mime_type(EXEC_MIME_TYPE, append_mime, {\n",
       "      /* Is output safe? */\n",
       "      safe: true,\n",
       "      /* Index of renderer in `output_area.display_order` */\n",
       "      index: 0\n",
       "    });\n",
       "  }\n",
       "\n",
       "  // register the mime type if in Jupyter Notebook environment and previously unregistered\n",
       "  if (root.Jupyter !== undefined) {\n",
       "    var events = require('base/js/events');\n",
       "    var OutputArea = require('notebook/js/outputarea').OutputArea;\n",
       "\n",
       "    if (OutputArea.prototype.mime_types().indexOf(EXEC_MIME_TYPE) == -1) {\n",
       "      register_renderer(events, OutputArea);\n",
       "    }\n",
       "  }\n",
       "\n",
       "  \n",
       "  if (typeof (root._bokeh_timeout) === \"undefined\" || force === true) {\n",
       "    root._bokeh_timeout = Date.now() + 5000;\n",
       "    root._bokeh_failed_load = false;\n",
       "  }\n",
       "\n",
       "  var NB_LOAD_WARNING = {'data': {'text/html':\n",
       "     \"<div style='background-color: #fdd'>\\n\"+\n",
       "     \"<p>\\n\"+\n",
       "     \"BokehJS does not appear to have successfully loaded. If loading BokehJS from CDN, this \\n\"+\n",
       "     \"may be due to a slow or bad network connection. Possible fixes:\\n\"+\n",
       "     \"</p>\\n\"+\n",
       "     \"<ul>\\n\"+\n",
       "     \"<li>re-rerun `output_notebook()` to attempt to load from CDN again, or</li>\\n\"+\n",
       "     \"<li>use INLINE resources instead, as so:</li>\\n\"+\n",
       "     \"</ul>\\n\"+\n",
       "     \"<code>\\n\"+\n",
       "     \"from bokeh.resources import INLINE\\n\"+\n",
       "     \"output_notebook(resources=INLINE)\\n\"+\n",
       "     \"</code>\\n\"+\n",
       "     \"</div>\"}};\n",
       "\n",
       "  function display_loaded() {\n",
       "    var el = document.getElementById(\"1041\");\n",
       "    if (el != null) {\n",
       "      el.textContent = \"BokehJS is loading...\";\n",
       "    }\n",
       "    if (root.Bokeh !== undefined) {\n",
       "      if (el != null) {\n",
       "        el.textContent = \"BokehJS \" + root.Bokeh.version + \" successfully loaded.\";\n",
       "      }\n",
       "    } else if (Date.now() < root._bokeh_timeout) {\n",
       "      setTimeout(display_loaded, 100)\n",
       "    }\n",
       "  }\n",
       "\n",
       "\n",
       "  function run_callbacks() {\n",
       "    try {\n",
       "      root._bokeh_onload_callbacks.forEach(function(callback) { callback() });\n",
       "    }\n",
       "    finally {\n",
       "      delete root._bokeh_onload_callbacks\n",
       "    }\n",
       "    console.info(\"Bokeh: all callbacks have finished\");\n",
       "  }\n",
       "\n",
       "  function load_libs(js_urls, callback) {\n",
       "    root._bokeh_onload_callbacks.push(callback);\n",
       "    if (root._bokeh_is_loading > 0) {\n",
       "      console.log(\"Bokeh: BokehJS is being loaded, scheduling callback at\", now());\n",
       "      return null;\n",
       "    }\n",
       "    if (js_urls == null || js_urls.length === 0) {\n",
       "      run_callbacks();\n",
       "      return null;\n",
       "    }\n",
       "    console.log(\"Bokeh: BokehJS not loaded, scheduling load and callback at\", now());\n",
       "    root._bokeh_is_loading = js_urls.length;\n",
       "    for (var i = 0; i < js_urls.length; i++) {\n",
       "      var url = js_urls[i];\n",
       "      var s = document.createElement('script');\n",
       "      s.src = url;\n",
       "      s.async = false;\n",
       "      s.onreadystatechange = s.onload = function() {\n",
       "        root._bokeh_is_loading--;\n",
       "        if (root._bokeh_is_loading === 0) {\n",
       "          console.log(\"Bokeh: all BokehJS libraries loaded\");\n",
       "          run_callbacks()\n",
       "        }\n",
       "      };\n",
       "      s.onerror = function() {\n",
       "        console.warn(\"failed to load library \" + url);\n",
       "      };\n",
       "      console.log(\"Bokeh: injecting script tag for BokehJS library: \", url);\n",
       "      document.getElementsByTagName(\"head\")[0].appendChild(s);\n",
       "    }\n",
       "  };var element = document.getElementById(\"1041\");\n",
       "  if (element == null) {\n",
       "    console.log(\"Bokeh: ERROR: autoload.js configured with elementid '1041' but no matching script tag was found. \")\n",
       "    return false;\n",
       "  }\n",
       "\n",
       "  var js_urls = [\"https://cdn.pydata.org/bokeh/release/bokeh-1.0.4.min.js\", \"https://cdn.pydata.org/bokeh/release/bokeh-widgets-1.0.4.min.js\", \"https://cdn.pydata.org/bokeh/release/bokeh-tables-1.0.4.min.js\", \"https://cdn.pydata.org/bokeh/release/bokeh-gl-1.0.4.min.js\"];\n",
       "\n",
       "  var inline_js = [\n",
       "    function(Bokeh) {\n",
       "      Bokeh.set_log_level(\"info\");\n",
       "    },\n",
       "    \n",
       "    function(Bokeh) {\n",
       "      \n",
       "    },\n",
       "    function(Bokeh) {\n",
       "      console.log(\"Bokeh: injecting CSS: https://cdn.pydata.org/bokeh/release/bokeh-1.0.4.min.css\");\n",
       "      Bokeh.embed.inject_css(\"https://cdn.pydata.org/bokeh/release/bokeh-1.0.4.min.css\");\n",
       "      console.log(\"Bokeh: injecting CSS: https://cdn.pydata.org/bokeh/release/bokeh-widgets-1.0.4.min.css\");\n",
       "      Bokeh.embed.inject_css(\"https://cdn.pydata.org/bokeh/release/bokeh-widgets-1.0.4.min.css\");\n",
       "      console.log(\"Bokeh: injecting CSS: https://cdn.pydata.org/bokeh/release/bokeh-tables-1.0.4.min.css\");\n",
       "      Bokeh.embed.inject_css(\"https://cdn.pydata.org/bokeh/release/bokeh-tables-1.0.4.min.css\");\n",
       "    }\n",
       "  ];\n",
       "\n",
       "  function run_inline_js() {\n",
       "    \n",
       "    if ((root.Bokeh !== undefined) || (force === true)) {\n",
       "      for (var i = 0; i < inline_js.length; i++) {\n",
       "        inline_js[i].call(root, root.Bokeh);\n",
       "      }if (force === true) {\n",
       "        display_loaded();\n",
       "      }} else if (Date.now() < root._bokeh_timeout) {\n",
       "      setTimeout(run_inline_js, 100);\n",
       "    } else if (!root._bokeh_failed_load) {\n",
       "      console.log(\"Bokeh: BokehJS failed to load within specified timeout.\");\n",
       "      root._bokeh_failed_load = true;\n",
       "    } else if (force !== true) {\n",
       "      var cell = $(document.getElementById(\"1041\")).parents('.cell').data().cell;\n",
       "      cell.output_area.append_execute_result(NB_LOAD_WARNING)\n",
       "    }\n",
       "\n",
       "  }\n",
       "\n",
       "  if (root._bokeh_is_loading === 0) {\n",
       "    console.log(\"Bokeh: BokehJS loaded, going straight to plotting\");\n",
       "    run_inline_js();\n",
       "  } else {\n",
       "    load_libs(js_urls, function() {\n",
       "      console.log(\"Bokeh: BokehJS plotting callback run at\", now());\n",
       "      run_inline_js();\n",
       "    });\n",
       "  }\n",
       "}(window));"
      ],
      "application/vnd.bokehjs_load.v0+json": "\n(function(root) {\n  function now() {\n    return new Date();\n  }\n\n  var force = true;\n\n  if (typeof (root._bokeh_onload_callbacks) === \"undefined\" || force === true) {\n    root._bokeh_onload_callbacks = [];\n    root._bokeh_is_loading = undefined;\n  }\n\n  \n\n  \n  if (typeof (root._bokeh_timeout) === \"undefined\" || force === true) {\n    root._bokeh_timeout = Date.now() + 5000;\n    root._bokeh_failed_load = false;\n  }\n\n  var NB_LOAD_WARNING = {'data': {'text/html':\n     \"<div style='background-color: #fdd'>\\n\"+\n     \"<p>\\n\"+\n     \"BokehJS does not appear to have successfully loaded. If loading BokehJS from CDN, this \\n\"+\n     \"may be due to a slow or bad network connection. Possible fixes:\\n\"+\n     \"</p>\\n\"+\n     \"<ul>\\n\"+\n     \"<li>re-rerun `output_notebook()` to attempt to load from CDN again, or</li>\\n\"+\n     \"<li>use INLINE resources instead, as so:</li>\\n\"+\n     \"</ul>\\n\"+\n     \"<code>\\n\"+\n     \"from bokeh.resources import INLINE\\n\"+\n     \"output_notebook(resources=INLINE)\\n\"+\n     \"</code>\\n\"+\n     \"</div>\"}};\n\n  function display_loaded() {\n    var el = document.getElementById(\"1041\");\n    if (el != null) {\n      el.textContent = \"BokehJS is loading...\";\n    }\n    if (root.Bokeh !== undefined) {\n      if (el != null) {\n        el.textContent = \"BokehJS \" + root.Bokeh.version + \" successfully loaded.\";\n      }\n    } else if (Date.now() < root._bokeh_timeout) {\n      setTimeout(display_loaded, 100)\n    }\n  }\n\n\n  function run_callbacks() {\n    try {\n      root._bokeh_onload_callbacks.forEach(function(callback) { callback() });\n    }\n    finally {\n      delete root._bokeh_onload_callbacks\n    }\n    console.info(\"Bokeh: all callbacks have finished\");\n  }\n\n  function load_libs(js_urls, callback) {\n    root._bokeh_onload_callbacks.push(callback);\n    if (root._bokeh_is_loading > 0) {\n      console.log(\"Bokeh: BokehJS is being loaded, scheduling callback at\", now());\n      return null;\n    }\n    if (js_urls == null || js_urls.length === 0) {\n      run_callbacks();\n      return null;\n    }\n    console.log(\"Bokeh: BokehJS not loaded, scheduling load and callback at\", now());\n    root._bokeh_is_loading = js_urls.length;\n    for (var i = 0; i < js_urls.length; i++) {\n      var url = js_urls[i];\n      var s = document.createElement('script');\n      s.src = url;\n      s.async = false;\n      s.onreadystatechange = s.onload = function() {\n        root._bokeh_is_loading--;\n        if (root._bokeh_is_loading === 0) {\n          console.log(\"Bokeh: all BokehJS libraries loaded\");\n          run_callbacks()\n        }\n      };\n      s.onerror = function() {\n        console.warn(\"failed to load library \" + url);\n      };\n      console.log(\"Bokeh: injecting script tag for BokehJS library: \", url);\n      document.getElementsByTagName(\"head\")[0].appendChild(s);\n    }\n  };var element = document.getElementById(\"1041\");\n  if (element == null) {\n    console.log(\"Bokeh: ERROR: autoload.js configured with elementid '1041' but no matching script tag was found. \")\n    return false;\n  }\n\n  var js_urls = [\"https://cdn.pydata.org/bokeh/release/bokeh-1.0.4.min.js\", \"https://cdn.pydata.org/bokeh/release/bokeh-widgets-1.0.4.min.js\", \"https://cdn.pydata.org/bokeh/release/bokeh-tables-1.0.4.min.js\", \"https://cdn.pydata.org/bokeh/release/bokeh-gl-1.0.4.min.js\"];\n\n  var inline_js = [\n    function(Bokeh) {\n      Bokeh.set_log_level(\"info\");\n    },\n    \n    function(Bokeh) {\n      \n    },\n    function(Bokeh) {\n      console.log(\"Bokeh: injecting CSS: https://cdn.pydata.org/bokeh/release/bokeh-1.0.4.min.css\");\n      Bokeh.embed.inject_css(\"https://cdn.pydata.org/bokeh/release/bokeh-1.0.4.min.css\");\n      console.log(\"Bokeh: injecting CSS: https://cdn.pydata.org/bokeh/release/bokeh-widgets-1.0.4.min.css\");\n      Bokeh.embed.inject_css(\"https://cdn.pydata.org/bokeh/release/bokeh-widgets-1.0.4.min.css\");\n      console.log(\"Bokeh: injecting CSS: https://cdn.pydata.org/bokeh/release/bokeh-tables-1.0.4.min.css\");\n      Bokeh.embed.inject_css(\"https://cdn.pydata.org/bokeh/release/bokeh-tables-1.0.4.min.css\");\n    }\n  ];\n\n  function run_inline_js() {\n    \n    if ((root.Bokeh !== undefined) || (force === true)) {\n      for (var i = 0; i < inline_js.length; i++) {\n        inline_js[i].call(root, root.Bokeh);\n      }if (force === true) {\n        display_loaded();\n      }} else if (Date.now() < root._bokeh_timeout) {\n      setTimeout(run_inline_js, 100);\n    } else if (!root._bokeh_failed_load) {\n      console.log(\"Bokeh: BokehJS failed to load within specified timeout.\");\n      root._bokeh_failed_load = true;\n    } else if (force !== true) {\n      var cell = $(document.getElementById(\"1041\")).parents('.cell').data().cell;\n      cell.output_area.append_execute_result(NB_LOAD_WARNING)\n    }\n\n  }\n\n  if (root._bokeh_is_loading === 0) {\n    console.log(\"Bokeh: BokehJS loaded, going straight to plotting\");\n    run_inline_js();\n  } else {\n    load_libs(js_urls, function() {\n      console.log(\"Bokeh: BokehJS plotting callback run at\", now());\n      run_inline_js();\n    });\n  }\n}(window));"
     },
     "metadata": {},
     "output_type": "display_data"
    },
    {
     "data": {
      "text/html": [
       "\n",
       "\n",
       "\n",
       "\n",
       "\n",
       "\n",
       "  <div class=\"bk-root\" id=\"1648c578-f884-413e-bb45-abe118654d6a\" data-root-id=\"1003\"></div>\n"
      ]
     },
     "metadata": {},
     "output_type": "display_data"
    },
    {
     "data": {
      "application/javascript": [
       "(function(root) {\n",
       "  function embed_document(root) {\n",
       "    \n",
       "  var docs_json = {\"0007bc08-3a17-4db0-bdf2-7a94c7dc6684\":{\"roots\":{\"references\":[{\"attributes\":{\"renderers\":[{\"id\":\"1017\",\"type\":\"Grid\"},{\"id\":\"1022\",\"type\":\"Grid\"},{\"id\":\"1030\",\"type\":\"BoxAnnotation\"},{\"id\":\"1039\",\"type\":\"GlyphRenderer\"}],\"title\":{\"id\":\"1002\",\"type\":\"Title\"},\"toolbar\":{\"id\":\"1027\",\"type\":\"Toolbar\"},\"x_range\":{\"id\":\"1005\",\"type\":\"DataRange1d\"},\"x_scale\":{\"id\":\"1009\",\"type\":\"LinearScale\"},\"y_range\":{\"id\":\"1007\",\"type\":\"DataRange1d\"},\"y_scale\":{\"id\":\"1011\",\"type\":\"LinearScale\"}},\"id\":\"1003\",\"subtype\":\"Figure\",\"type\":\"Plot\"},{\"attributes\":{\"fill_color\":{\"field\":\"scores\",\"transform\":{\"id\":\"1001\",\"type\":\"LogColorMapper\"}},\"line_color\":{\"value\":\"white\"},\"xs\":{\"field\":\"x\"},\"ys\":{\"field\":\"y\"}},\"id\":\"1037\",\"type\":\"Patches\"},{\"attributes\":{},\"id\":\"1025\",\"type\":\"PanTool\"},{\"attributes\":{\"palette\":[\"#b2182b\",\"#d6604d\",\"#f4a582\",\"#fddbc7\",\"#d1e5f0\",\"#92c5de\",\"#4393c3\",\"#2166ac\"]},\"id\":\"1001\",\"type\":\"LogColorMapper\"},{\"attributes\":{\"overlay\":{\"id\":\"1030\",\"type\":\"BoxAnnotation\"}},\"id\":\"1026\",\"type\":\"BoxZoomTool\"},{\"attributes\":{\"callback\":null,\"data\":{\"name\":[\"Alameda\",\"Amador\",\"Butte\",\"Calaveras\",\"Colusa\",\"Contra Costa\",\"Del Norte\",\"El Dorado\",\"Fresno\",\"Glenn\",\"Humboldt\",\"Imperial\",\"Inyo\",\"Kern\",\"Kings\",\"Lake\",\"Lassen\",\"Los Angeles\",\"Madera\",\"Marin\",\"Mendocino\",\"Merced\",\"Modoc\",\"Mono\",\"Monterey\",\"Napa\",\"Nevada\",\"Orange\",\"Placer\",\"Plumas\",\"Riverside\",\"Sacramento\",\"San Benito\",\"San Bernardino\",\"San Diego\",\"San Francisco\",\"San Joaquin\",\"San Luis Obispo\",\"San Mateo\",\"Santa Barbara\",\"Santa Clara\",\"Santa Cruz\",\"Shasta\",\"Siskiyou\",\"Solano\",\"Sonoma\",\"Stanislaus\",\"Sutter\",\"Tehama\",\"Tulare\",\"Tuolumne\",\"Ventura\",\"Yolo\",\"Yuba\",\"Alpine\",\"Mariposa\",\"Sierra\",\"Trinity\"],\"scores\":[0.34104463495294135,0.15098197300000002,-0.17530874645454547,-0.05364671566666668,-0.09183745300000001,0.403725446494186,-0.4997571665,0.29705679468421053,-0.49684688574999986,-0.3503339126666667,-0.19862717615384615,-0.4718355687000001,0.2069369175,-0.37834797563157907,-0.44441571718749995,-0.5395649825000001,0.198341082,-0.14676497245282166,-0.593117183,0.7790843871276596,-0.1754458736,-0.6454781168461541,-0.295030186,0.462574976,-0.08530633095238094,0.23033799295652174,0.30669740440000004,0.18842453035675677,0.31911690048214286,-0.06886904099999999,-0.2862686725943154,-0.03831826059581889,0.13110047166666663,-0.3121604729090912,0.08377775249303132,0.47364940487301593,-0.39389239737499976,0.12191656830000001,0.6332616173379312,0.05653633970689659,0.461470630105572,0.19252156656410255,-0.1586568687307692,-0.23073412366666668,-0.007359364910256427,0.1911567864814815,-0.4254143719130434,-0.3643333438888889,-0.36129223349999995,-0.46024040357999996,0.18250738800000002,0.18018608579508194,0.14704244865625002,-0.6025656682222222,\"0\",\"0\",\"0\",\"0\"],\"x\":[{\"__ndarray__\":\"FHmSdM2QXsDUYBqGj5BewLEWnwJgkF7AdTxmoDKQXsDZ690f749ewEP/BBcrjl7AATCeQUONXsB1zeSbbYxewLbbLjTXi17AvyuC/62KXsAIA8+9h4dewBEZVvFGgF7AiLoPQGp9XsBxGw3gLXxewMFu2LYoe17AcXK/Q1F4XsDiAWVTrnJewEnXTL7Zal7AWipvRzhlXsDP91PjpWNewGR1q+ekY17AduCcEaVjXsAoDwu1pmNewIhLjjulY17Az/dT46VjXsDWHCCYo2NewNk9eVioY17AiEuOO6VjXsA6evzepmNewDp6/N6mY17AmrZ/ZaVjXsCIS447pWNewIhLjjulY17A6IcRwqNjXsCd19glqmNewAte9BWkY17Acr9DUaBjXsCwcmiR7WJewJ5eKcsQYV7AS+oENBFgXsCSy39Iv19ewFcE/1vJXl7Anx9GCI9eXsAYPiKmRF5ewJy/CYUIXl7AOZz51RxeXsDcnbXbLl5ewAOV8e8zXl7AFR3J5T9eXsCAn3HhQF5ewM78ag4QYl7AqFfKMsRnXsAfnbryWWpewCwOZ341cV7Acclxp3R0XsBhbCHIQXdewIRkARO4d17AwLLSpBR4XsB4tHHEWnhewHv3x3vVeF7AZapgVFJ5XsDowd1Zu3lewESoUrMHel7AZyyazk56XsBRa5p3nHpewA+XHHdKe17Ak+NO6WB7XsC9qUiFsXtewMgMVMa/e17A5+PaUDF8XsBxICQLmHxewIwtBDkofV7A2c73U+N/XsBNvtnmxoJewOwvuycPhV7AumbyzTaFXsDT3uALk4VewFu21hcJh17ASDMWTWeHXsAMB0KygIdewOELk6mCh17AMqzijcyHXsCRRC+jWIhewMhBCTNtiV7AumsJ+aCJXsBOKETAIYpewEgWMIFbi17AAKlNnNyLXsA1JO6x9ItewJFEL6NYjF7A/z7jwoGMXsBblNkgk4xewMYWghyUjF7AbTmX4qqMXsDek4eFWo1ewLVPx2MGjl7AXHLcKR2OXsCt3XahuY5ewPIk6ZrJj17AwM+4cCCQXsCsi9toAJFewG6GG/D5kV7Arir7rgiSXsBnmxvTE5JewEpenWNAkl7A2EenrnySXsAmUwWjkpJewNGWcymukl7AQni0ccSSXsDfN772zJJewN5UpMLYkl7AJemayTeTXsDBrbt5qpNewHLEWnwKlF7AFO0qpPyUXsAwuycPC5VewEJD/wQXlV7AOjsZHCWVXsA3VIzzN5VewL01sFWClV7Ac4V3uYiVXsDo3sMlx5VewFmLTwEwll7AVcGopE6WXsAq499nXJZewKabxCCwll7AVn2utmKXXsDvrN12oZdewDLJyFnYl17Ah/nyAuyXXsDyXrUy4ZdewDp6/N6mk17Ae4hGdxCTXsA8pYP1f5JewC8X8Z2YkV7AhQg4hCqRXsA=\",\"dtype\":\"float64\",\"shape\":[136]},{\"__ndarray__\":\"pYP1fw4tXsDlm21uTClewA7bFmU2Jl7A1lbsL7sjXsApyxDHuiBewJolAWpqHV7A+PwwQngaXsD5Tsx6MRhewNuizAaZEl7AWVGDaRgOXsAwTKYKRglewGACt+7mB17AraOqCaIEXsCto6oJogRewDv8NVmjBF7AlDDT9q8EXsAiiV5GsQRewP+ye/KwBF7Ais3HtaEEXsCKzce1oQRewNF5jV2iBF7A9E9wsaIEXsAYJlMFowRewE1nJ4OjBF7AX9IYraMEXsBxPQrXowRewHE9CtejBF7AlBPtKqQEXsCUE+0qpARewJQT7SqkBF7AlBPtKqQEXsCUE+0qpARewJQT7SqkBF7A9E9wsaIEXsD0T3CxogRewPRPcLGiBF7AGCZTBaMEXsAqkUQvowRewF/SGK2jBF7ATWcng6MEXsCUMNP2rwRewD86deWzBl7A19081SEJXsBFEr2MYgtewIrIsIo3Dl7Anx9GCI8QXsDFOH8TChNewGx4eqUsF17A9dvXgXMaXsB+NQcI5hxewGh5HtydH17A4zYawFsgXsDfpj/7kSJewFGIgEOoJF7ANgLxun4nXsAYeO49XChewLCsNCkFK17AlWBxOPMtXsAR34lZLzBewCKrWz0nM17A3Esao3U0XsAukKD4MTZewMfXnlkSOF7A6/8c5ss5XsBFZFjFGz1ewI+NQLyuP17AwcqhRbY/XsDkoISZtj9ewIRkARO4P17A7+apDrk/XsBI/mDguT9ewNZW7C+7P17AyAxUxr8/XsDuWkI+6D9ewAM+P4wQQF7AB7ZKsDhAXsAxzt+EQkBewIPAyqFFQF7A5x2n6EhAXsBmZmZmZkBewH8TChFwQF7AEarU7IFAXsDjqrLvikBewBgJbTmXQF7AppvEILBAXsCwG7YtykBewFA25QrvQF7A5dAi2/lAXsBJhbGFIEFewAywj05dQV7A85Nqn45BXsBhcTjzq0FewKgd/pqsQV7Ay/Pg7qxBXsABNbVsrUFewC9uowG8QV7AZK93f7xBXsDgnBGlvUFewL3GLlG9QV7A8gcDz71BXsAEc/T4vUFewM8xIHu9QV7ASx+6oL5BXsAW3uUivkFewChJ10y+QV7Ab/Wc9L5BXsAoSddMvkFewBbe5SK+QV7ABHP0+L1BXsDyBwPPvUFewOCcEaW9QV7AObTIdr5BXsCAYI4ev0FewG/1nPS+QV7AgGCOHr9BXsBv9Zz0vkFewBn/PuPCQV7A7wOQ2sRBXsBE+u3rwEFewMDnhxHCQV7AwOeHEcJBXsA3GsBbIEFewGDq501FQF7AODKP/ME+XsB6/N6mPz1ewPWc9L7xO17Ao8wGmWQ6XsDzcW2oGDlewO58PzVeOF7ArBxaZDs3XsCuu3mqQzZewBN+qZ83NV7A9+l4zEAzXsC5/If02y9ewOwvuycPLV7A\",\"dtype\":\"float64\",\"shape\":[135]},{\"__ndarray__\":\"mpSCbi9PXsBBt5c0Rk9ewE+vlGWIU17AE7h1N09VXsCk5NU5BlZewEdy+Q/pVV7Aste7P95VXsDQRNjw9FZewHCZ02UxV17A2bERiNdXXsAYldQJaFhewH2utmJ/WV7AfJv+7EdaXsAEIVnABFxewFM/bypSXV7AeO49XHJeXsDMQGX8+15ewEvqBDQRYF7AdjdPdchhXsAiVKnZA2NewKpla32RZF7Ab57qkJtlXsC3lzRG62ZewDY8vVKWZ17AZCMQr+tnXsDye5v+7GdewIdtizIbaF7Af7xXrUxoXsCNeohGd2hewOI7MevFaF7AopxoVyFpXsCmm8QgsGpewNfAVgkWa17A529CIQJsXsBYrUz4pWxewP7UeOkmbV7AL2mM1lFtXsDWrZ6T3m1ewEfmkT8Ybl7AbTmX4qpuXsAOvjCZKnBewFslWBzOcF7A6spneR5yXsAbu0T11nJewAVu3c1Tc17AuOnPfqR0XsDV7IFWYHZewHXlszwPeF7ARgiPNo54XsBSCrq9pHlewIdtizIbel7AB3x+GCF6XsBOKETAIXpewAN4CyQoel7AdQKaCBt6XsBO7ncoCnpewMO2RZkNel7AvFetTPh5XsD5vU1/9nlewIT1fw7zeV7A/aTap+N5XsDPMSB7vXlewEht4uR+eV7A3lm77UJ5XsAaNPRPcHlewEyOO6WDeV7AYRqGj4h5XsDzdoTTgnlewIhjXdxGeV7A7IZtizJ5XsAeigJ9InlewDD186YieV7A05/9SBF5XsDw+WGE8HhewPfHe9XKeF7AmPp5U5F4XsCfk943vnhewNBE2PD0eF7AO8eA7PV4XsCeJF0z+XhewEYldQKaeF7A0VeQZix4XsCAK9mxEXhewEtZhjjWd17AEvdY+tB3XsD5g4Hn3ndewGAfnbryd17AlufB3Vl3XsDEJced0ndewI7pCUs8el7Anzws1Jp+XsAukKD4MYBewNIdxM4UgF7A9GxWfa5+XsBJ9DKK5X5ewDuNtFTefl7AER5tHLF+XsAbKsb5m3xewOZciqvKfF7APUm6ZvJ9XsCS6GUUy31ewKJ/gosVf17AizIbZJKBXsBzol2FlIFewJTBUfLqgl7AsI9OXfmCXsDwMy4cCINewCtqMA3Dg17AtRoS91iEXsA9J71vfINewF1Q3zKngV7ArkfhehR+XsBcGyrG+XVewEloy7kUcV7Arir7rghwXsDk2lAxzm9ewP2C3bBtb17AdAexM4VuXsAFUfcBSG1ewOPHmLuWal7A/7J78rBoXsBrYKsEi2dewM+goX+CZ17A1VsDWyVmXsBOKETAIWZewOOlm8QgZl7AAfbRqStlXsB8CoDxDGRewOj2ksZoYV7AS3ZsBOJfXsB+AFKbOF1ewB+duvJZXF7AxHx5AfZbXsBV2XdF8FtewF8ktOVcWF7AlX1XBP9XXsBAE2HD01dewAEwnkFDWV7Au37BbthaXsC3ek5631pewOxRuB6FW17AZkmAmlpaXsCm8naE01hewD4/jBAeV17AXD0nvW9WXsCQiCmRRFVewIHPDyOEU17AgJ9x4UBSXsByxFp8ClBewO6UDtb/TV7AWoEhq1tNXsB8YTJVMExewHctIR/0Sl7A4BCq1OxJXsBpUgq6vUhewN3NUx1yR17AX16AfXRGXsCuZMdGIEZewB4Wak3zRF7AiXssfehEXsBBDkqYaUdewPyp8dJNSl7A\",\"dtype\":\"float64\",\"shape\":[162]},{\"__ndarray__\":\"t2J/2T0FXsBFuwopPwVewICaWrbWB17AjWK5pdUKXsAZ529CIQxewIf58gLsDV7A2o8UkWEPXsBBn8iTpBFewKN1VDVBFF7A7+apDrkVXsAnFCLgEBhewOscA7LXGV7Aj1N0JJcbXsDIBz2bVR1ewBYwgVt3H17AhgMhWcAgXsCKq8q+KyJewNIA3gIJIl7ASgfr/xwiXsCfq63YXyJewB1yM9yAI17AkbjH0ockXsDZfFwbKiZewFa8kXnkJ17AJcy0/SspXsAkRWRYxSlewB0gmKPHKV7Aea9amfApXsAtz4O7sypewFRSJ6CJLF7A8RExJZIsXsC7fsFu2CxewNDVVuwvLV7ABDkoYaYvXsCxM4XOazBewNfdPNUhMV7AFqQZi6YxXsByio7k8jFewK6BrRIsMl7A6fF7m/4yXsBma32R0DRewG3F/rJ7Nl7AgnNGlPY2XsCpwTQMHzdewAH76NSVN17AixpMw/A3XsBL6gQ0EThewJ7qkJvhOF7As7W+SGg5XsDsF+yGbTlewCMVxhaCOl7Ab9Of/Ug7XsBF2PD0SjtewEEOSphpO17AjNtoAG87XsB2cRsN4DtewGB2Tx4WPF7ASu8bX3s8XsB00vvG1zxewNdMvtnmPF7Ac2N6whI9XsDlRLsKKT1ewMx/SL99PV7AoE/kSdI9XsDyDBr6Jz5ewCeloNtLPl7AI9v5fmo+XsDDnnb4az5ewGJKJNHLPl7AbZBJRs4+XsCUh4Va0z5ewDRLAtTUPl7A1A5/TdY+XsCwVYLF4T5ewOlILv8hP17AfuNrzyw/XsDlYaHWND9ewPCnxks3P17A4e6s3XY/XsDByqFFtj9ewI+NQLyuP17ARWRYxRs9XsDr/xzmyzlewMfXnlkSOF7ALpCg+DE2XsDcSxqjdTRewCKrWz0nM17AEd+JWS8wXsCVYHE48y1ewLCsNCkFK17AGHjuPVwoXsA2AvG6fidewFGIgEOoJF7A36Y/+5EiXsDjNhrAWyBewGh5HtydH17AfjUHCOYcXsD129eBcxpewGx4eqUsF17AxTh/EwoTXsCfH0YIjxBewIrIsIo3Dl7ARRK9jGILXsDX3TzVIQlewD86deWzBl7AlDDT9q8EXsBNZyeDowRewE1nJ4OjBF7ATWcng6MEXsBf0hitowRewIKo+wCkBF7AlBPtKqQEXsCUE+0qpARewMpUwaikBF7A27+y0qQEXsDbv7LSpARewP+VlSalBF7AEQGHUKUEXsARAYdQpQRewO0qpPykBF7AqmVrfZEEXsADJnDrbgRewBxClZo9BF7AfGEyVTAEXsDgoSjQJwRewM7fhEIEBF7AK8HicOYDXsC6TiMtlQNewIGyKVd4A17A1EhL5e0CXsCx+bg2VAJewFZI+Um1AV7AiGNd3EYBXsBF2PD0SgFewGUZ4lgXA17A\",\"dtype\":\"float64\",\"shape\":[135]},{\"__ndarray__\":\"z0nvG197XsAGZK93f3xewGqHvyZrfF7A9S1zuix8XsDBkNWtnntewNaQuMfSe17AoMN8eQF8XsA/V1uxv3pewEPFOH8TfF7ASfQyiuV6XsAnoImw4XlewKHzGrtEeV7AnRGlvcF3XsDgZ1w4EHZewMmTpGsmdV7AGw3gLZB0XsCzDHGsi3NewP4ORYE+c17ABoGVQ4t0XsB6GcVyS3VewJM6AU2EdV7AU9DtJY11XsBTliGOdXVewKSIDKt4dV7A73IR34l1XsDayeAoeXdewB3J5T+keV7AmPp5U5F6XsCbyTfb3HpewARWDi2ye17A4nX9gt18XsCHbYsyG35ewPYoXI/Cf17A2SWqtwaAXsBtxf6ye4BewLmq7Lsigl7ARQ2mYfiCXsBSflLt04NewPW+8bVnhF7AAaQ2cXKFXsCBJsKGp4VewM78ag4QiF7AFLNeDOWKXsAX8Z2Y9YxewFA25Qrvjl7AGH0FacaQXsAmqrcGtpRewPT91HjplF7A0A8jhEeVXsBIxJRIopVewCRFZFjFlV7AC7WmeceVXsDLLa2GxJdewNZW7C+7mV7Ae9rhr8maXsAR34lZL5pewCScFrzonV7AjQsHQrKeXsCBW3fzVJ9ewIy+gjRjn17ANzemJyyfXsDX+iKhLZ9ewMjqVs9Jn17AknTN5JufXsAr+64I/p9ewHSYLy/Anl7Aho+IKZGeXsDY9Qt2w55ewA/W/znMoV7Ai08BMJ6lXsAJ/reSHadewDxrt11oqF7AbVZ9rraqXsARcAhVaq5ewG2QSUbOsF7A2xZlNsiwXsCjAbwFErBewAhyUMJMr17AFytqMA2vXsAnMQisHKxewP2C3bBtqV7AjnVxGw2mXsCinGhXIaNewDP5ZpsboV7AbqMBvAWeXsASwqONI5hewIz4Tsx6k17AR4/f2/SPXsDSGK2jqo9ewJ92+Guyjl7ACks8oGyMXsCCyvj3GYtewBtkkpGziF7Adv2C3bCHXsBMpgpGJYVewIiAQ6hSg17AMXxETImAXsCYLy/APoBewDiEKjV7gF7APtAKDFl/XsCZEkn0Mn5ewJet9UVCfV7Aqwmi7gN8XsC2EOSghHlewDvHgOz1eF7A0ETY8PR4XsCfk943vnhewJj6eVOReF7A98d71cp4XsDw+WGE8HhewNOf/UgReV7AMPXzpiJ5XsAeigJ9InlewOyGbYsyeV7AiGNd3EZ5XsDzdoTTgnlewGEaho+IeV7ATI47pYN5XsAaNPRPcHlewN5Zu+1CeV7ASG3i5H55XsDPMSB7vXlewP2k2qfjeV7AhPV/DvN5XsD5vU1/9nlewLxXrUz4eV7Aw7ZFmQ16XsBO7ncoCnpewHUCmggbel7AA3gLJCh6XsBOKETAIXpewAd8fhghel7AEVMiiV56XsC30QDeAntewEHxY8xde17A\",\"dtype\":\"float64\",\"shape\":[135]},{\"__ndarray__\":\"OC140Vd6XsAXDoRkAXlewFkXt9EAeF7A4bTgRV93XsDshm2LMndewMmwijcyd17A3bWEfNB1XsCvlGWIY3VewFd4l4v4dF7A2J5ZEqB0XsCg4GJFDXRewDarPldbc17AGEM50a5yXsAgDDz3HnJewC9pjNZRcV7ASgwCK4dwXsD2evfHe29ewLt+wW7Ybl7ArS8S2nJuXsBM/bypSG1ewDDw3Hu4bF7AJH8w8NxrXsAEOShhpmtewGQe+YOBa17AqMZLN4lrXsBPzHoxlGtewCjVPh2PaV7A5nlwd9ZoXsC14EVfQWhewEuwOJz5ZV7A96+sNCllXsCpwTQMH2VewFCNl24SZV7AzO7Jw0JlXsBl3xXB/2RewMrDQq1pZF7Ai4nNx7VjXsAK9Ik8SWRewMKGp1fKZF7AJh5QNuVkXsDeyDzyB2VewFVq9kArZF7APL1SliFkXsDv5qkOuWNewHb9gt2wY17AdTxmoDJkXsBOucK7XGRewMKGp1fKZF7A6WD9n8NkXsCKPEm6ZmRewP3BwHPvY17As5jYfFxjXsDqCUs8oGJewF8HzhlRYl7AFVeVfVdiXsD/eK9amWJewKg1zTtOY17AaD9SRIZjXsBkdavnpGNewM/3U+OlY17AWipvRzhlXsBJ10y+2WpewOIBZVOucl7AcXK/Q1F4XsDBbti2KHtewHEbDeAtfF7AiLoPQGp9XsARGVbxRoBewAgDz72Hh17AvyuC/62KXsC22y4014tewHXN5JttjF7AATCeQUONXsBD/wQXK45ewNnr3R/vj17AdTxmoDKQXsCxFp8CYJBewNRgGoaPkF7AFHmSdM2QXsCFCDiEKpFewC8X8Z2YkV7APKWD9X+SXsB7iEZ3EJNewDp6/N6mk17A8l61MuGXXsCH+fIC7JdewOtWz0nvl17AFW9kHvmXXsB5zEBl/JdewM3km21umF7AS6shcY+ZXsCW7NgIxJlewKNYbmk1ml7A5ldzgGCaXsDUK2UZ4ppewBcrajANm17AbHh6pSybXsAzbf/KSptewE+vlGWIm17Aa2CrBIubXsBWKxN+qZtewMGtu3mqm17AC3va4a+bXsArajANw5tewGvxKQDGm17A4Ln3cMmbXsCAmlq21ptewNVbA1slnF7A3LqbpzqcXsCjdVQ1QZxewKN1VDVBnF7Ao3VUNUGcXsCjdVQ1QZxewDHO34RCnF7AVaTC2EKcXsCKjuTyH5xewCeDo+TVm17As82N6QmbXsAt7GmHv5pewJjArbt5ml7AWUxsPq6ZXsBFuwopP5lewJT7HYoCmV7A0SLb+X6YXsAuc7osJphewFLVBFH3l17AhA1Pr5SXXsDcaABvgZZewLG/7J48ll7AaJYEqKmRXsCb5h2n6I5ewC0+BcB4jl7AfH4YITyOXsCil1Est4xewKdc4V0ujF7ASddMvtmKXsDqz36kiIpewCDvVSsTil7Aq+ek942JXsA0uoPYmYhewDUHCOboh17A6MHdWbuHXsDfMqfLYoZewEjhehSuhV7AVcGopE6EXsACZVOu8IJewBCv6xfsfl7A/3ivWpl8XsCrsu+K4HtewDrpfeNre17Ag/qWOV16XsA=\",\"dtype\":\"float64\",\"shape\":[151]},{\"__ndarray__\":\"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\",\"dtype\":\"float64\",\"shape\":[208]},{\"__ndarray__\":\"pYP1fw4tXsDsL7snDy1ewLn8h/TbL17A9+l4zEAzXsATfqmfNzVewK67eapDNl7ArBxaZDs3XsDufD81XjhewPNxbagYOV7Ao8wGmWQ6XsD1nPS+8TtewHr83qY/PV7AODKP/ME+XsBg6udNRUBewDcawFsgQV7AwOeHEcJBXsAIlE25wkFewBXGFoIcQl7AcayL22hCXsBCIQIOoUJewBvYKsHiQl7AKdAn8iRDXsAaFw6EZENewEFl/PuMQ17A8SkAxjNEXsDbheY6jURewBsS91j6RF7AeuQPBp5FXsDSb18HzkVewOQUHcnlRV7AVWr2QCtGXsDnHafoSEZewP+VlSalRl7AuECC4sdGXsCiRbbz/UZewJAUkWEVR17ASKeufJZHXsBSYWwhyEdewKsmiLoPSF7ADWyVYHFIXsC7RPXWwEhewJ5BQ/8ESV7ALJrOTgZJXsA75Ga4AUlewKg1zTtORV7APGu3XWhEXsAsn+V5cENewOwX7IZtQ17AgzRj0XRAXsAAb4EExT1ewDbNO07RO17AGcqJdhU4XsDVyoRf6jVewNl3RfC/M17ARGlv8IUxXsDidf2C3TBewPNZngd3L17Aaoe/JmssXsD7ljldFitewM07TtGRKF7AYFlpUgomXsDcRgN4CyRewAX6RJ4kIV7AsOYAwRwfXsA3iUFg5RxewCeloNtLHF7A7uvAOSMQXsBeLuI7MQlewP+VlSalAF7AFeP8TSgAXsADeAskKABewMPwETElAF7AQ+IeSx8AXsC8rl+wGwBewE4LXvQVAF7A44i1+BQAXsDrrYGtEgBewAM+P4wQAF7Az9ptF5r/XcAjFcYWgv5dwMdjBirj/V3Az04GR8n9XcB2w7ZFmf1dwL7Z5sb0/F3ATb7Z5sb8XcCKk/sdivxdwH/ZPXlY/F3AGCE82jj8XcDZfFwbKvxdwNyAzw8j/F3AeQYN/RP8XcCOO6WD9ftdwEj+YOC5+13AxLEubqP7XcBYHM78avpdwERRoE/k+V3Ah9wMN+D5XcA5C3va4fldwGCrBIvD+V3AM8SxLm75XcB7Tnrf+PhdwOIeSx+6+F3AvLN224X4XcBRMc7fhPhdwH/ZPXlY+F3AxjNo6J/4XcA4oRABh/hdwJwWvOgr+F3AJsed0sH4XcCvQspPqvldwHUfgNQm+l3AsHJoke36XcBl3xXB//pdwCTusfSh+13AWTSdnQz8XcA1KQXdXvxdwKdc4V0u/F3A+PwwQnj8XcD4cMlxp/xdwMXJ/Q5F/V3Ayhr1EI3+XcDNHmgFhgBewGrecYqOBF7AraOqCaIEXsBgArfu5gdewDBMpgpGCV7AWVGDaRgOXsDboswGmRJewPlOzHoxGF7A+PwwQngaXsCaJQFqah1ewCnLEMe6IF7A1lbsL7sjXsAO2xZlNiZewOWbbW5MKV7A\",\"dtype\":\"float64\",\"shape\":[135]},{\"__ndarray__\":\"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\",\"dtype\":\"float64\",\"shape\":[216]},{\"__ndarray__\":\"izIbZJKBXsCif4KLFX9ewJLoZRTLfV7APUm6ZvJ9XsDmXIqrynxewBsqxvmbfF7AER5tHLF+XsA7jbRU3n5ewEn0Morlfl7A9GxWfa5+XsDSHcTOFIBewC6QoPgxgF7Anzws1Jp+XsCO6QlLPHpewMQlx53Sd17AlufB3Vl3XsBgH5268ndewPmDgefed17AEvdY+tB3XsBLWYY41ndewIAr2bEReF7A0VeQZix4XsBGJXUCmnhewJ4kXTP5eF7AO8eA7PV4XsC2EOSghHlewKsJou4DfF7Al631RUJ9XsCZEkn0Mn5ewD7QCgxZf17AOIQqNXuAXsCYLy/APoBewDF8REyJgF7AiIBDqFKDXsBMpgpGJYVewHb9gt2wh17AG2SSkbOIXsCCyvj3GYtewApLPKBsjF7An3b4a7KOXsDSGK2jqo9ewEeP39v0j17AjPhOzHqTXsASwqONI5hewG6jAbwFnl7AM/lmmxuhXsCinGhXIaNewI51cRsNpl7A/YLdsG2pXsAnMQisHKxewBcrajANr17ACHJQwkyvXsAa3UHsTK9ewHP0+L1Nr17AqG+Z02WvXsAzxLEubq9ewE34pX7erl7AJgFqatmuXsBQ/Bhz165ewP8JLlbUrl7ACVBTy9auXsBmiGNd3K5ewNun4zEDr17AU8vW+iKvXsD6sx8pIq9ewGIVb2Qer17AHv6arFGvXsAJUFPL1rBewP2H9NvXsV7ACJRNucKzXsB1PGagMrRewEM50a5CtF7AWP/nMF+0XsDmkT8YeLRewJ5BQ/8EtV7AuB6F61G2XsDePNUhN7dewLVsrS8SuF7A3+ALk6m4XsCYNEbrqLhewPt0PGaguF7AmBdgH524XsDfN772zLhewP59xoUDuV7AG0zD8BG5XsBTrvAuF7lewInvxKwXuV7AxXJLqyG5XsB9BWnGorlewCPb+X5qul7AKgDGM2i6XsCuEiwOZ7pewDgVqTC2ul7Am8k329y6XsDMRXwnZrtewOFFX0Gau17AYFlpUgq8XsDZJaq3BrxewIQSZtr+u17AZF3cRgO8XsAcsRafArxewPnaM0sCvF7AvHSTGAS8XsAVjErqBLxewHXIzXADvF7AC0YldQK8XsByM9yAz7tewDEIrBxaul7AA8+9h0u4XsC7RPXWwLZewPdY+tAFs17A+KqVCb+wXsCdEaW9wa1ewBv1EI3uql7AVYfcDDeoXsBHWipvR6JewPbRqSufoV7AK01KQbefXsAqkUQvo55ewCqpE9BEnF7AznADPj+cXsAlehnFcptewMHKoUW2mV7AJa/OMSCZXsAGgZVDi5hewNJvXwfOl17ATE9Y4gGXXsB2w7ZFmZFewJvJN9vcjF7AF7fRAN6KXsD20akrn4lewPBQFOgTg17AsI9OXfmCXsCUwVHy6oJewHOiXYWUgV7A\",\"dtype\":\"float64\",\"shape\":[135]},{\"__ndarray__\":\"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\",\"dtype\":\"float64\",\"shape\":[208]},{\"__ndarray__\":\"EtpyLsXdXMC45LhTOt5cwCfChqdX3lzAcQM+P4zeXMAN/RNcrN5cwJT7HYoC31zAEEBqEyffXMBFEr2MYt9cwBaHM7+a31zActwpHazfXMDv5qkOud9cwAuYwK2731zAiIVa07zfXMBv9Zz0vt9cwOjewyXH31zAud+hKNDfXMA9Sbpm8t9cwCfaVUj531zA+fcZFw7gXMCDTDJyFuBcwEDeq1Ym4FzAw0fElEjgXMBmSYCaWuBcwMOedvhr4FzAVRhbCHLgXMDVJk7ud+BcwJHVrZ6T4FzAyXGndLDgXMDpmsk32+BcwMbhzK/m4FzAgpAsYALhXMBv05/9SOFcwEs8oGzK41zApriq7LvoXMBuizIbZOpcwADGM2jo61zAcTjzqznuXMAFbt3NU/NcwByZR/5g9FzAFFysqMH2XMDCUfLqHPlcwHmvWpnw+VzAvK5fsBv6XMBZ3eo56f1cwF8HzhlR/lzAiV5Gsdz+XMDnjCjtDQBdwEErMGR1AV3Aud+hKNABXcBxGw3gLQJdwI4G8BZIAl3Au9Vz0vsCXcBnRGlv8ANdwOMZNPRPBF3Al6jeGtgEXcAzMzMzMwVdwE5iEFg5Bl3A38Mlx50GXcCYNEbrqAZdwFDfMqfLBl3AGH0FacYGXcAfotEdxAZdwGZOl8XEBl3Am49rQ8UGXcDpYP2fwwZdwH/eVKTCBl3Aol2FlJ8GXcCKzce1oQZdwCqRRC+jBl3Amzi536EGXcA/48KBkAZdwEYldQKaBl3ApmH4iJgGXcAqdF5jlwZdwObo8XubBl3ApgpGJXUGXcDhQEgWMAVdwFPovMYuBV3A/vFetTIFXcBeaK7TSAVdwN6Th4VaBV3As7W+SGgFXcCojH+fcQVdwCV6GcVyBV3AWrvtQnMFXcBau+1CcwVdwEHxY8xdBV3ALNSa5h0DXcCiYpy/CQFdwDVj0XR2/FzAGGAfnbr0XMAeG4F4Xe1cwPyp8dJN7FzAjKGcaFfrXMAoLPGAsuVcwGQjEK/r3VzAFAX6RJ7aXMCetdsuNNdcwNpyLsVV0VzAHEKVmj3OXMAZBFYOLchcwA9iZwqdw1zAUkSGVby9XMBr8SkAxrdcwKA3FakwtFzABVH3AUixXMDdmJ6wxK9cwOnUlc/yrlzA/cHAc++tXMCAn3HhQKxcwPhwyXGnqlzAWW5pNSSoXMC5quy7IqhcwBLCo40jqFzA1T4djxmqXMBXBP9byapcwMOBkCxgrFzAFJZ4QNmsXMAydy0hH65cwICCixU1rlzAPZtVn6utXMAziuWWVq1cwGiR7Xw/rVzAVB1yM9ysXMAHJcy0/a1cwEcgXtcvrlzAwjQMHxGrXMDS+8bXnqtcwOyjU1c+q1zAFsH/VrKrXMDePNUhN61cwCv2l92Tq1zA5e0IpwWrXMCoxks3ialcwLvQXKeRqFzAOL72zJKmXMB24JwRpaVcwIqw4emVpFzAjPM3oRChXMA7AU2EDaFcwIDxDBr6n1zAdjI4Sl6fXMA5nPnVHJ5cwJgvL8A+nlzAgIKLFTWeXMAEc/T4vZ1cwFaCxeHMnVzAYY4ev7efXMBhiQeUTaFcwESLbOf7oVzAseHplbKkXMAIjzaOWKdcwAzNdRppp1zAXb9gN2ynXMC8V61M+KdcwPRsVn2uqFzAfQVpxqKpXMDBrbt5qqlcwFFOtKuQqlzAaAWGrG6rXMAVqTC2EKxcwKMjufyHrFzAyTzyBwOtXMDsF+yGba1cwHlYqDXNrVzAlX1XBP+tXMC8kXnkD65cwE4LXvQVrlzAxxFr8SmuXMCGVbyRea5cwDiEKjV7rlzABmSvd3+uXMBjnL8Jha5cwEoMAiuHrlzAnzws1JquXMDbv7LSpK5cwA0a+ie4rlzA5QrvchGvXMDIBz2bVa9cwHwKgPEMsFzAjnVxGw24XMCxogbTMLpcwAE1tWytu1zAxY8xdy29XMB87ZklAb5cwLhAguLHvlzAjnVxGw3AXMAvaYzWUcNcwKDgYkUNyFzAoOBiRQ3QXMCpTZzc79BcwP2fw3x51VzAhNOCF33VXMDkLOxph9VcwFr1udqK1VzABMqmXOHVXMAmHlA25dZcwNDyPLg711zAwVYJFofXXMCyS1RvDdhcwKbtX1lp2FzAmFEst7TYXMC4I5wWvNhcwPTDCOHR2FzAAiuHFtnYXMDPa+wS1dlcwFwbKsb521zARpkNMsncXMA=\",\"dtype\":\"float64\",\"shape\":[208]},{\"__ndarray__\":\"Zd8Vwf8CXcD60AX1LQVdwOrKZ3keCF3A8IrgfysNXcBi26LMBhVdwI16iEZ3GF3A6lvmdFkcXcC7D0BqEyNdwDUMHxFTKl3AmnyzzY0zXcBQGf8+4zpdwJPGaB1VQV3ARrbz/dRGXcC9jGK5pUtdwE3WqIdoUF3Az72HS45TXcAknBa86FVdwGwE4nX9WF3AaQBvgQRdXcDQs1n1uWRdwOqVsgxxaF3AjZduEoNoXcBf7/54r2hdwF8M5US7al3ABYasbvVsXcDqlbIMcW5dwFN5O8Jpb13AB84ZUdpvXcAcX3tmSXBdwOrsZHCUcF3AvcYuUb1xXcC4rwPnjHJdwOoENBE2dF3AyAc9m1V1XcAO+PwwQnZdwFH3AUhtdl3A4nX9gt12XcDuPVxy3HddwFnd6jnpd13A7fDXZI14XcAldQKaCHldwLa+SGjLeV3A/Knx0k16XcAeigJ9IntdwCJUqdkDfV3AaTo7GRx9XcCzzY3pCX9dwGqHvyZrgF3A1EM0uoOAXcC4kh0bgYBdwKrx0k1igF3Aqd4a2Cp/XcC+MJkqGIFdwHtrYKsEgV3AmxvTE5aCXcA3cXK/Q4NdwHVZTGw+hF3Arg0V4/yDXcCz0qQUdIVdwLR224Xmhl3AY3rCEg+IXcDNr+YAwYZdwGN6whIPiF3AYeC593CJXcD0GrtE9YpdwNrJ4Ch5jV3AeuQPBp6PXcBz9Pi9TY9dwFVNEHUfkF3A9Ik8SbqSXcCEKjV7oJFdwCY2H9eGlF3ACf63kh2VXcDAz7hwIJZdwL4Ts14Ml13A8FAU6BOXXcA3/dmPFJddwOF/K9mxl13A4KEo0CeYXcBgzQGCOZhdwH5S7dPxmF3APQrXo3CXXcBvZB75g5ddwGsOEMzRmV3A5dU5BmSbXcB1jgHZ65tdwAgDz72Hn13Arg0V4/yhXcD1oQvqW6RdwHIW9rTDpV3Apb3BFyanXcCalIJuL6ldwLCsNCkFq13AwVYJFoerXcCEns2qz6tdwBB6Nqs+q13AQlvOpbisXcBdiqvKvq9dwDgteNFXsl3A+vIC7KOxXcAW3uUivrFdwOtunuqQsV3AqwSLw5mxXcA6deWzPLFdwJv+7EeKrl3AJvxSP2+uXcD2RUJbzq1dwI4G8BZIql3A7rH0oQuoXcCYF2AfnaZdwHdn7bYLpV3Au2HbosyiXcDjUwCMZ55dwCJxj6UPnV3Av4I0Y9GYXcBqatlaX5ZdwLaEfNCzk13A9zsUBfqSXcB5WKg1zY9dwNi2KLNBjl3ANxrAWyCJXcBETIkkeoFdwG40gLdAgF3A98d71cp8XcCtwJDVrXpdwM9OBkfJeV3As82N6Ql5XcCfWRKgpnhdwGgFhqxudV3AehnFckt1XcDePNUhN3VdwMoV3uUidF3Ac7osJjZzXcA/jBAebXJdwBrdQexMcV3Avk1/9iNxXcAgRgiPNnBdwBO4dTdPb13ABthHp65uXcCPcFrwom1dwJC93v3xbF3AKNU+HY9rXcBl/PuMC2tdwEc4LXjRaV3AotEdxM5mXcAxCKwcWmJdwL06x4DsX13AQ61p3nFeXcBmMbH5uFpdwJmesMQDVl3AdEaU9gZRXcACvAUSFE1dwPtXVpqUTF3AdVlMbD5MXcD9MEJ4tEtdwIlBYOXQSl3AtMh2vp9KXcDvycNCrUldwMDPuHAgRF3AZJKRs7A/XcA7cM6I0jxdwEATYcPTN13A5DEDlfE1XcDJyFnY0zBdwDp15bM8LV3ADXGsi9siXcD6CtKMRSFdwNRgGoaPGl3AwOeHEcIXXcAmx53SwRBdwCEf9GxWDV3A7uvAOSMMXcBTXFX2XQldwLIRiNf1BV3AOpLLf0gFXcDx9EpZhgRdwNsWZTbIAF3A5QrvchH/XMC5quy7IvxcwMkfDDz3+lzAADrMlxf6XMDzjlN0JPlcwIbJVMGo9lzAjq89syT2XMCqQ26GG/ZcwF6AfXTq9FzAg1FJnYDyXMBJgJpatvBcwMx/SL9971zACacFL/rsXMAKaCJseOxcwFw9J71v7FzAWP/nMF/sXMCxogbTMOxcwEPiHksf7FzA7lpCPujrXMB5O8JpwetcwMFWCRaH61zA7fXuj/fqXMBClZo90OpcwBzTE5Z46lzAXANbJVjqXMBcj8L1KOpcwMPTK2UZ6lzAgCvZsRHqXMAdlDDT9ulcwL3jFB3J6VzA5Ga4AZ/pXMDW4lMAjOlcwMh71cqE6VzANgLxun7pXMBa2NMOf+lcwNyAzw8j7FzA+5Y5XRbvXMDO34RCBPZcwEBNLVvr/VzA\",\"dtype\":\"float64\",\"shape\":[216]},{\"__ndarray__\":\"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\",\"dtype\":\"float64\",\"shape\":[199]},{\"__ndarray__\":\"SOF6FK7vXcA+P4wQHu9dwJ+T3je+7l3ANXugFRjuXcD2evfHe+1dwJc5XRYT7V3Ao68gzVjsXcAzG2SSketdwL68APvo6l3AsBu2LcrqXcD2fw7z5eldwB3mywuw513AcVrwoq/kXcA7GRwlr+RdwDHT9q+s5F3Aaw4QzNHhXcC536Eo0OFdwNaQuMfS4V3Aby9pjNbhXcAz4Zf6ed9dwMrDQq1p3l3AptB5jV3eXcCxFp8CYN5dwEQ0uoPY313AoS3nUlzhXcCrsu+K4OFdwKuy74rg4V3A1q2ek97hXcBrK/aX3eFdwCR/MPDc4V3AP1JEhlXiXcDVz5uKVOJdwAoRcAhV4l3Ayol2FVLiXcCKAn0iT+JdwAfwFkhQ4l3AX0GasWjiXcBGsdzSauJdwGqHvyZr4l3Ao+nsZHDiXcC1VN6OcOJdwH41Bwjm4l3AqdkDrcDkXcB5r1qZ8OVdwGtgqwSL513AqyaIug/oXcAQWDm0yOpdwFpHVRNE7V3Asb/snjzwXcDRyyiWW/BdwKXap+Mx8V3A9Wc/UkTyXcBvgQTFj/NdwEloy7kU913AMjhKXp33XcADste7P/hdwL+CNGPR+F3AAtTUsrX6XcDnb0IhAv5dwDoGZK93/13AiEZ3EDsBXsAGnnsPlwJewN8yp8tiBF7AFXR7SWMGXsCBJsKGpwdewLeXNEbrCF7A2A3bFmUMXsAtIR/0bAxewE2+2ebGDF7AIqtbPScNXsBXCRaHMw1ewOF/K9mxDV7ApFNXPssNXsDrHAOy1w1ewG5pNSTuDV7Aa2XCL/UNXsCYNEbrqA5ewBPyQc9mD17AzvxqDhAQXsAmNh/XhhBewKPp7GRwEF7AfLjkuFMQXsBZ3eo56Q9ewKiMf59xD17AqwSLw5kPXsCutmJ/2Q9ewKMeotEdEF7AYLAbti0QXsC8P96rVhBewP94r1qZEF7AcF8HzhkRXsCFfNCzWRFewAjJAiZwEV7ARIZVvJERXsAczvxqDhJewJBJRs7CEl7ApRR0e0kTXsA1e6AVGBRewNl8XBsqFF7AgCvZsREUXsBqGD4ipgxewJ92+GuyCF7Aj/zBwHMHXsC78lmeBwVewDMzMzMz/13Az0nvG1/9XcAdOGdEaf1dwOzdH+9V/V3AT5KumXz5XcAFacai6fZdwN0kBoGV813AsoUgByXwXcA=\",\"dtype\":\"float64\",\"shape\":[112]},{\"__ndarray__\":\"RFGgT+TBXsCBJsKGp79ewIVCBBxCwV7A3lm77ULBXsCVn1T7dMJewBqojH+fw17AR8mrcwzEXsA/48KBkMJewMKjjSPWuF7A3+ALk6m4XsC1bK0vErhewN481SE3t17AuB6F61G2XsCeQUP/BLVewOaRPxh4tF7AWP/nMF+0XsBDOdGuQrRewHU8ZqAytF7ACJRNucKzXsD9h/Tb17FewAlQU8vWsF7AHv6arFGvXsBiFW9kHq9ewPqzHykir17AU8vW+iKvXsDbp+MxA69ewGaIY13crl7ACVBTy9auXsD/CS5W1K5ewFD8GHPXrl7AJgFqatmuXsBN+KV+3q5ewDPEsS5ur17AqG+Z02WvXsBz9Pi9Ta9ewBrdQexMr17ACHJQwkyvXsCjAbwFErBewNsWZTbIsF7AbZBJRs6wXsARcAhVaq5ewG1Wfa62ql7APGu3XWioXsAJ/reSHadewItPATCepV7AD9b/OcyhXsDY9Qt2w55ewIaPiCmRnl7AdJgvL8CeXsAr+64I/p9ewJJ0zeSbn17AyOpWz0mfXsDX+iKhLZ9ewDc3picsn17AjL6CNGOfXsCBW3fzVJ9ewI0LB0Kynl7AJJwWvOidXsAR34lZL5pewHva4a/Jml7A1lbsL7uZXsDLLa2GxJdewAu1pnnHlV7AJEVkWMWVXsDAIVSp2ZVewH2zzY3plV7AC0YldQKWXsDoE3mSdJdewK+ZfLPNl17A2UKQgxKYXsBBZfz7jJlewK5kx0Ygml7ALudSXFWaXsBKKej2kppewAa7Yduiml7ABvUtc7qaXsC3lzRG65pewOnxe5v+ml7AdO/hkuOaXsCU9gZfmJpewAMmcOtuml7AJ4i6D0CaXsCZgcr495lewO6UDtb/mV7APQ/uztqZXsDLuRRXlZlewF6FlJ9UmV7Aet/42jOZXsDbp+MxA5lewIE+kSdJmV7ATP28qUiZXsA+0AoMWZlewPIk6ZrJmV7ALJrOTgaZXsBgWWlSCphewNXnaiv2l17AFeP8TSiYXsBnLJrOTphewJ/Ik6RrmF7AlzldFhOZXsCLVBhbCJpewLHc0mpIml7APwCpTZyaXsAUlnhA2ZpewIeKcf4mnF7AWMUbmUecXsCGG/D5YZxewBSuR+F6nF7AcQM+P4yeXsCns5PBUaBewKVOQBNhoV7AjC0EOSijXsABpDZxcqNewMv49xkXpF7AlLw6x4CkXsCSBUzg1qVewEs8oGzKp17AqmBUUieoXsAxlBPtKqhewAbYR6euqF7AgSGrWz2pXsBnYU87/KlewOLMr+YAq17ATRB1H4CsXsAi4BCq1KxewGt9kdCWrV7AaOif4GKtXsA8oGzKFa5ewLX9KytNrl7AuwopP6muXsAz3IDPD69ewG/Ytiizr17AhLuzdtuvXsCoV8oyxK9ewH9qvHSTsF7ApYP1fw6xXsBMVG8NbLFewIdtizIbsl7Ae6AVGLKyXsBbfAqA8bJewNC4cCAks17AVisTfqmzXsAcfGEyVbRewE0tW+uLtF7AHy457pS0XsBPQBNhw7VewElL5e0It17A3GPpQxe4XsDw+WGE8LhewCTW4lMAul7AdF5jl6i8XsCrCaLuA75ewAqi7gOQvl7Aat5xio6+XsD9ag4QzMFewOY/pN++wl7AsylXeJfDXsAxlBPtKsRewE563/jaxV7AqwSLw5nFXsDBVgkWh8NewOQUHcnlwV7A\",\"dtype\":\"float64\",\"shape\":[162]},{\"__ndarray__\":\"DhDM0eP/XcAge7374/9dwB13Sgfr/13AQGoTJ/f/XcBVE0TdBwBewONrzywJAF7AAz4/jBAAXsBcVfZdEQBewM07TtGRAF7Ae6AVGLIAXsCGWtO84wBewLR224XmAF7AEK/rF+wAXsAlOzYC8QBewCx96IL6AF7At9EA3gIBXsC30QDeAgFewLfRAN4CAV7AcCU7NgIBXsA75Ga4AQFewNP2r6w0AV7A5A8GnnsBXsCnXOFdLgJewMdLN4lBAl7ARrHc0moCXsDFrBdDOQNewLaEfNCzA17AgCvZsREEXsBUqdkDrQRewHpwd9ZuBV7AjLlrCfkGXsDTE5Z4QAdewDl/EwoRCF7AyXGndLAIXsDPZtXnaglewCVdM/lmCV7ATIkkehkHXsAtYAK37gZewJnYfFwbCF7AMNgN2xYLXsBihPBo4wxewM4ZUdobEF7ATn/2I0UWXsCcUIiAQxhewBhDOdGuGl7AT5KumXwfXsDnOo20VCJewFCqfToeKV7ApKXydoQtXsClLEMc6zBewNBE2PD0Ml7Arg0V4/w1XsCAfXTqyjdewIWZtn9lO17At5c0RutCXsArweJw5kNewCvB4nDmQ17AkfKTap9EXsB0DMhe70hewBJr8SkAUF7AJhk5C3tUXsB0Ka4q+1RewNuK/WX3VF7AhXe5iO9UXsCwcmiR7VRewH+kiAyrVF7AWJBmLJpUXsBq3nGKjlRewF+YTBWMVF7AX5hMFYxUXsA0nZ0MjlRewGrecYqOVF7AxvmbUIhUXsDaOGItPlVewNDVVuwvVV7A/vFetTJVXsDQ1VbsL1VewLpm8s02VV7AqfsApDZVXsAFNBE2PFVewPPIHww8VV7A88gfDDxVXsAFNBE2PFVewAU0ETY8VV7A88gfDDxVXsDzyB8MPFVewPPIHww8VV7ALA5nfjVVXsCMSuoENFVewEmil1EsVV7AiNf1C3ZRXsBtkElGzlBewLD+z2G+TF7AznADPj9KXsDrc7UV+0lewJS8OseASF7AO420VN5EXsBUbw1slUJewJTBUfLqPl7APtAKDFk9XsDrbp7qkDtewNjw9EpZNl7AR8mrcwwyXsBszywJUC9ewDJyFva0KV7AGFsIclAkXsAjvhOzXh5ewFZ9rrZiGV7AS1mGONYTXsAIrBxaZA9ewEq1T8djCl7A18BWCRYHXsD4cMlxpwJewPOOU3QkAV7APGagMv7/XcAZkL3e/f9dwBmQvd79/13ATtGRXP7/XcCuDRXj/P9dwPm9TX/2/13AEk4LXvT/XcBSuB6F6/9dwL0d4bTg/13A/WoOEMz/XcAW3uUivv9dwABSmzi5/13A3Xu45Lj/XcCW7NgIxP9dwLKd76fG/13ACJRNucL/XcDSb18Hzv9dwKBP5EnS/13AdlQ1QdT/XcAdPX5v0/9dwDbqIRrd/13A\",\"dtype\":\"float64\",\"shape\":[135]},{\"__ndarray__\":\"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\",\"dtype\":\"float64\",\"shape\":[412]},{\"__ndarray__\":\"EwoRcAgdXsBV9l0R/B9ewNxLGqN1Il7AkQ96NqsiXsACt+7mqSJewIguqG+ZH17AaLPqc7UdXsBZ3eo56RtewJ9x4UBIGl7AVfZdEfwXXsBRa5p3nBZewLPNjekJFV7AKH6MuWsTXsChEAGHUBNewN4f71UrE17AibX4FAATXsCUMNP2rxJewCpXeJeLEl7AEqCmlq0RXsDBHD1+bxFewAWjkjoBEV7AOKEQAYcQXsCZ2HxcGxBewOif4GJFD17AMxtkkpELXsClTkATYQlewLfRAN4CB17A+N9KdmwGXsAjSnuDLwZewCEf9GxWA17Ab/CFyVQDXsBMGqN1VANewA+5GW7AAV7Aw7ZFmQ0AXsAGDf0TXP5dwN/42jNL/F3A6KT3ja/5XcDrkJvhBvhdwHrHKTqS9V3Arrt5qkP0XcBjf9k9efBdwCTRyyiW7V3AvOgrSDPsXcBgPIOG/uldwN1e0hit6V3A78nDQq3pXcCC/61kx+hdwEUSvYxi513A4bTgRV/nXcDTakjcY+VdwHMR34lZ5V3AsdzSakjiXcBqvHSTGOBdwLd/ZaVJ3V3APq4NFePWXcAng6Pk1dVdwBIUP8bc013AoDL+fcbTXcDIDFTGv9NdwEjElEii013Ac0urIXHTXcB7iEZ3ENNdwG2QSUbO0l3AO1PovMbSXcDtgVZgyNJdwEm6ZvLN0l3An3b4a7LSXcBNSkG3l9JdwOOqsu+K0l3A2GSNeojSXcAYCW05l9JdwIqT+x2K0l3AceZXc4DSXcCDNGPRdNJdwCeloNtL0l3AyhXe5SLSXcDgEKrU7NFdwOjewyXH0V3AfSJPkq7RXcD92Y8UkdFdwKipZWt90V3APu3w12TRXcBhpu1fWdFdwJOMnIU90V3AzNHj9zbRXcAFFytqMNFdwCqRRC+j0F3A0jWTb7bPXcBJS+XtCM9dwK71RUJbzl3As++K4H/NXcAGTODW3cxdwN3Sakjcy13AyAc9m1XLXcD8xteeWcpdwFa3ek56yV3AfjUHCObIXcDcRgN4C8hdwLCsNCkFx13AceZXc4DGXcDBc+/hksVdwAK37uapxF3AowG8BRLEXcBg5dAi28NdwBbe5SK+w13AofMau0TDXcBYyjLEscJdwOutga0Swl3AJNbiUwDCXcCZEkn0MsJdwPZdEfxvwV3ARS+jWG7BXcDjGTT0T9JdwNqPFJFh1V3AXynLEMfUXcCBCdy6m9VdwG6LMhtk1l3AtcNfkzXYXcCPjUC8rt1dwN52oblO313AOjsZHCXjXcCxM4XOa+JdwEfmkT8Y5F3AvTWwVYLrXcArhxbZzu9dwNfdPNUh813AS6shcY/1XcDhl/p5U/ldwFqeB3dn/13ACvSJPEkGXsA8oGzKFQxewPn3GRcOEl7AIXam0HkVXsDh0cYRaxlewIKtEiwOHV7A\",\"dtype\":\"float64\",\"shape\":[135]},{\"__ndarray__\":\"CCC1iZOlXsCwrDQpBaVewEDBxYoapF7AW0I+6NmiXsD2C3bDtp9ewLG/7J48ll7A3GgAb4GWXsCEDU+vlJdewFLVBFH3l17ALnO6LCaYXsDRItv5fphewJT7HYoCmV7ARbsKKT+ZXsBZTGw+rplewJjArbt5ml7ALexph7+aXsCzzY3pCZtewCeDo+TVm17Aio7k8h+cXsBVpMLYQpxewDHO34RCnF7Ao3VUNUGcXsCjdVQ1QZxewKN1VDVBnF7Ao3VUNUGcXsDcupunOpxewNVbA1slnF7AgJpattabXsDgufdwyZtewGvxKQDGm17AK2owDcObXsALe9rhr5tewMGtu3mqm17AK9mxEYibXsCzzY3pCZtewNtQMc7fml7AP3RBfcuaXsBqwYu+gpxewNGuQspPnl7A6glLPKCeXsB/h6JAn55ewLgGtkqwnl7A27+y0qSeXsAiwyreyJ5ewBTQRNjwnl7AAcEcPX6fXsCatn9lpZ9ewPJ7m/7sn17AVfZdEfyfXsBn8s02N6BewPilft5UoF7Ahc5r7BKhXsCsyr4rgqFewAg9m1WfoV7AxOv6BbuhXsCSy39Iv6FewMRCrWneoV7AIjfDDfiiXsCs/3OYL6dewJKWytsRqF7Azo3pCUuoXsDfbHNjeqhewBqGj4gpqV7AkSxgAreqXsBIv30dOKtewCyC/61kq17A+FPjpZusXsDLSpNS0K1ewMaKGkzDrl7Aj/zBwHOvXsAnTu53KLBewMIv9fOmsF7ApKXydoSxXsBZwARu3bFewDl/EwoRsl7ATn/2I0WyXsA1KQXdXrJewAZkr3d/sl7AkGtDxTizXsA2donqrbNewK4SLA5ntF7AIo51cRu1XsBSJ6CJsLVewK4q+64Itl7AiuWWVkO2XsCYo8fvbbZewJCDEmbatl7A7BLVWwO3XsBXQ+IeS7dewPrVHCCYt17AUvLqHAO4XsAxzt+EQrhewDuqmiDquF7Ar7FLVG+5XsC5NlSM87lewMMN+Pwwul7AnKc65Ga6XsCmCkYldbpewLddaK7Tul7Ams5OBke7XsBSCrq9pLtewESoUrMHvF7AeCgK9Im8XsApeXWOAb1ewGXkLOxpvV7AR4/f2/S9XsBUNUHUfb5ewPdY+tAFv17AS6shcY+/XsC1bK0vEsBewArcupunwF7AT3XIzXDBXsA9Sbpm8sFewIrNx7Whwl7AwYu+gjTDXsCMoZxoV8NewOjewyXHw17A6lvmdFnEXsAt7GmHv8RewEloy7kUxV7Ak4ychT3FXsB2MjhKXsVewPMf0m9fxV7AWp4Hd2fFXsCIug9AasVewO84RUdyxV7ADOpb5nTFXsDTpBR0e8VewCV6GcVyxV7AAU2EDU/FXsDaG3xhMsVewLhAguLHxF7A/Knx0k3EXsAHX5hMFcRewJM6AU2EwV7A6dSVz/LAXsABMJ5BQ8FewCF2ptB5wV7A8gcDz73BXsCny2Ji88FewPK1Z5YEwl7AoMN8eQHCXsCZ2HxcG8JewKd5xyk6wl7ALSEf9GzCXsBmoDL+fcJewHhF8L+Vwl7ALWACt+7CXsCzB1qBIcNewJBOXfksw17AzywJUFPDXsBy3CkdrMVewBGN7iB2xl7ASkbOwp7GXsCTNeohGsdewG+70Fynx17AYAK37ubHXsB1jgHZ68dewLVsrS8SyF7Ax9eeWRLIXsBrfZHQlr9ewJJc/kP6vV7AVOOlm8S8XsDEmV/NAbxewGdEaW/wu17Ar7FLVG+7XsAK3Lqbp7pewGB2Tx4Wul7Ai4nNx7W5XsCfq63YX7JewK98lufBrV7AGAltOZesXsDZ690f76tewAVR9wFIq17AJjYf14aqXsCWJqWg26lewCmzQSYZqV7AfLjkuFOoXsBZaVIKuqdewMrgKHl1pl7AqOMxA5WlXsA=\",\"dtype\":\"float64\",\"shape\":[181]},{\"__ndarray__\":\"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\",\"dtype\":\"float64\",\"shape\":[262]},{\"__ndarray__\":\"pBmLprMpXsBLWYY41ilewJMYBFYOK17ARG6GG/ArXsAYfQVpxixewLb4FADjLV7Asacd/pouXsCEns2qzy9ewGQ730+NMV7AIzKs4o0yXsByv0NRoDNewCjVPh2PNV7AlDDT9q82XsD20akrnzdewA+5GW7AOV7AqfbpeMw6XsB0Ka4q+zpewEPFOH8TPl7AgzRj0XRAXsCsVib8UkNewLFtUWaDSF7Agsr49xlJXsBB1H0AUklewHaJ6q2BSV7Ar1+wG7ZJXsDdmJ6wxElewC6QoPgxSl7A/1vJjo1KXsBCIQIOoUpewAXAeAYNS17AdsO2RZlLXsBPIy2Vt0tewIAr2bERTF7A4nX9gt1MXsAzxLEubk1ewHLEWnwKTl7A/Knx0k1OXsApyxDHuk5ewBTQRNjwTl7AlPYGX5hOXsCrlQm/1E1ewMTr+gW7TV7Az04GR8lNXsB9eQH20U1ewDhKXp1jTl7ATFRvDWxPXsDEd2LWi09ewH6MuWsJT17A2ht8YTJPXsBXsmMjEE9ewDoGZK93T17AufyH9NtPXsAzxLEubk9ewK00KQXdTl7ABkfJq3NOXsBWZd8VwU1ewJrrNNJSTV7AbCbfbHNNXsAuc7osJk5ewL8rgv+tTl7AopxoVyFPXsCPcFrwok9ewKJ/gosVT17AGGAfnbpOXsD/BBcrak5ewFLy6hwDTl7A8SkAxjNOXsBuNIC3QE5ewNxoAG+BTl7A5q4l5INOXsDR6A5iZ05ewKSl8naES17AI6Et51JGXsCd19glqkVewGd+NQcIRF7AV5V9VwRDXsDJPPIHA0FewJKWytsRQF7AOPOrOUA+XsAf9GxWfT5ewNEF9S1zPl7A7dgIxOs+XsCQiCmRRD1ewLUy4Zf6O17AwhcmUwU7XsAZ/z7jwjlewEuwOJz5N17AkdCWcyk2XsAUIuAQqjRewHOAYI4eM17AhslUwagwXsBDxTh/EzBewIts5/upK17AONvcmJ4mXsBq+1dWmiBewBCv6xfsGF7A++jUlc8YXsD0bFZ9rhhewLH5uDZUFl7AhlrTvOMUXsBfmEwVjBRewJiG4SNiFF7AgJ9x4UAUXsC1pnnHKRRewIB9dOrKE17AHuG04EUTXsAiiV5GsRJewBXj/E0oEl7Ayy2thsQRXsDKMsSxLhJewKCmlq31EV7A3eo56X0RXsCuu3mqQxBewAjm6PF7D17AGOyGbYsOXsCD+pY5XQ5ewIBIv30dDl7AUHCxogYNXsCZKhiV1AtewA8LtaZ5C17AWOcYkL0IXsBangd3ZwVewCGTjJyFA17Ab/CFyVQDXsAhH/RsVgNewCNKe4MvBl7A+N9KdmwGXsC30QDeAgdewKVOQBNhCV7AMxtkkpELXsDon+BiRQ9ewJnYfFwbEF7AOKEQAYcQXsAFo5I6ARFewMEcPX5vEV7AEqCmlq0RXsAqV3iXixJewJQw0/avEl7AibX4FAATXsDeH+9VKxNewKEQAYdQE17AKH6MuWsTXsCzzY3pCRVewFFrmnecFl7AVfZdEfwXXsCfceFASBpewFnd6jnpG17AaLPqc7UdXsCILqhvmR9ewAK37uapIl7AkQ96NqsiXsATChFwCCNewHLhQEgWJF7AwCZr1EMmXsCuDRXj/CVewP1NKETAJV7AOgZkr3clXsAdcjPcgCVewF2nkZbKJV7Aby9pjNYlXsCqYFRSJyhewOY/pN++KF7A\",\"dtype\":\"float64\",\"shape\":[162]},{\"__ndarray__\":\"jPhOzHoDXsA7NgLxugJewDl/EwoRAF7APUm6ZvL/XcBgH5268v9dwCS5/If0/13AEk4LXvT/XcDdDDfg8/9dwMeA7PXu/13AxF+TNer/XcBnJ4Oj5P9dwFK4HoXr/13AzqW4quz/XcAge7374/9dwBVSflLt/13A/cHAc+//XcBkQPZ69/9dwIcW2c73/13AFW9kHvn/XcBcGyrG+f9dwJJc/kP6/13Ax53Swfr/XcDAeAYN/f9dwGA8g4b+/13AJNbiUwAAXsCEEmba/v9dwGdhTzv8/13Arg0V4/z/XcDAeAYN/f9dwAclzLT9/13AGZC93v3/XcA8ZqAy/v9dwPOOU3QkAV7A+HDJcacCXsDXwFYJFgdewEq1T8djCl7ACKwcWmQPXsBLWYY41hNewFZ9rrZiGV7AI74Ts14eXsAYWwhyUCRewDJyFva0KV7AbM8sCVAvXsBHyatzDDJewNjw9EpZNl7A626e6pA7XsA+0AoMWT1ewJTBUfLqPl7AVG8NbJVCXsA7jbRU3kRewJS8OseASF7A63O1FftJXsDOcAM+P0pewLD+z2G+TF7AbZBJRs5QXsCI1/ULdlFewEmil1EsVV7AjErqBDRVXsBslWBxOFVewKp9Oh4zVl7AXmOXqN5WXsBslWBxOFdewGjon+BiV17AsrrVc9JXXsC5jQbwFlhewF5jl6jeWF7A3nGKjuRYXsAwZHWr51hewF6AfXTqWF7A1EhL5e1YXsAwgVt381hewFd4l4v4WF7A8BZIUPxYXsCQ2sTJ/VhewCyazk4GWV7AUHCxogZZXsDJWdjTDllewHeE04IXWV7Am6xRD9FaXsBt/8pKk1xewLGKNzKPXF7ATS1b64tcXsDUYBqGj1xewM07TtGRXF7AJlMFo5JcXsD0bFZ9rlxewGYxsfm4XF7Apriq7LtcXsD0iTxJulxewHu9++O9XF7AJqq3BrZcXsDaOGItPl1ewBB6Nqs+XV7AM1AZ/z5dXsAIVWr2QF1ewGFsIchBXV7AYWwhyEFdXsBhbCHIQV1ewHPXEvJBXV7AqBjnb0JdXsCFQgQcQl1ewGFsIchBXV7APpY+dEFdXsAX8Z2Y9VxewO0qpPykXF7AuOnPfqRcXsC46c9+pFxewCqRRC+jXF7AUps4ud9bXsABh1ClZltewEVHcvkPW17AtAJDVrdaXsDqlbIMcVpewLJGPUSjWV7AnFCIgENYXsDCNAwfEVdewFRSJ6CJVl7AZwqd19hVXsDE6/oFu1VewAWoqWVrVV7AteBFX0FUXsD3OxQF+lJewNFXkGYsUl7A4Ep2bARQXsAT1VsDW01ewLgjnBa8TF7Ac4Bgjh5HXsDZQpCDEkZewCBj7lpCQl7AdjI4Sl4/XsCyYyMQrz1ewKeRlsrbO17AzF1LyAc5XsAcX3tmSThewAM+P4wQOF7AuiwmNh81XsCAt0CC4jNewO8gdqbQMV7A2c73U+MvXsCm7V9ZaSxewOTaUDHOKV7ARgiPNo4oXsCIEcKjjSdewBsqxvmbJl7AUyKJXkYlXsClaybfbCFewGebG9MTIF7ACCC1iZMVXsCmRBK9jBRewJaVJqWgE17AW0I+6NkSXsA0uoPYmRJewFkXt9EAEF7A4/xNKEQOXsCGIAclzAxewLml1ZC4CV7AvQD76NQFXsA=\",\"dtype\":\"float64\",\"shape\":[157]},{\"__ndarray__\":\"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\",\"dtype\":\"float64\",\"shape\":[243]},{\"__ndarray__\":\"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\",\"dtype\":\"float64\",\"shape\":[235]},{\"__ndarray__\":\"O420VN6MXsCxM4XOa4xewBfUt8zpjF7AYhVvZB6NXsDt2AjE64xewGba/pWVjF7AYLAbti2QXsCmD11Q35JewDawVYLFlV7AFqQZi6aXXsCsVib8UplewMCV7NgIml7AwLLSpBSaXsDPZtXnapdewDv8NVmjll7A6ZrJN9uWXsBRg2kYPphewEXwv5XsmF7AbHh6pSyZXsD2Yign2plewIe/JmvUmV7AqG+Z02WZXsB5Xb9gN5pewIkHlE25ml7AL2mM1lGbXsDmBdhHp5xewH4YITzanF7AfuNrzyyfXsBjuaXVkKBewKfLYmLzoV7AKnReY5eiXsA3ww34/KJewLlwICQLpF7AdXYyOEqmXsBtqBjnb6hewBsv3SQGqV7A+z+H+fKoXsCH+fIC7KdewKpgVFInqF7ASzygbMqnXsCSBUzg1qVewJS8OseApF7Ay/j3GRekXsABpDZxcqNewIwtBDkoo17ApU5AE2GhXsCns5PBUaBewHEDPj+Mnl7AFK5H4XqcXsCGG/D5YZxewFjFG5lHnF7Ah4px/iacXsAUlnhA2ZpewD8AqU2cml7AsdzSakiaXsCLVBhbCJpewJc5XRYTmV7An8iTpGuYXsBnLJrOTphewBXj/E0omF7A1edqK/aXXsBgWWlSCphewCyazk4GmV7A8iTpmsmZXsA+0AoMWZlewEz9vKlImV7AYWwhyEGZXsAWMIFbd5dewDRo6J/glF7AcY+lD12SXsCmuKrsu5BewINMMnIWkF7AF9nO91OPXsBpUgq6vY5ewNRDNLqDjl7AAd4CCYqNXsBt5/up8YxewNBhvrwAjV7Aw0fElEiMXsD6CtKMRYtewNHoDmJnil7AzqrP1VaKXsAJM23/yopewDEIrBxail7ARMAhVKmJXsBXQ+IeS4lewEZfQZqxiF7Asb/snjyIXsBSflLt04dewB04Z0Rph17AUwWjkjqHXsA/AKlNnIZewC2VtyOchl7ASYCaWraGXsDVPh2PGYhewESoUrMHiF7ARFGgT+SHXsDSUnk7wodewEFl/PuMh17ARSqMLQSHXsA8MevFUIZewGcKndfYhV7Agez17o+FXsBqMA3DR4RewMpUwaikhl7AYtaLoZyMXsB/3lSkwoxewJvJN9vcjF7A\",\"dtype\":\"float64\",\"shape\":[108]},{\"__ndarray__\":\"E0n0MoojXsDUK2UZ4ipewDnWxW00LF7A3ZiesMQtXsASvYxiuS9ewP5g4Ln3MF7ACmgibHgyXsCrz9VW7DNewBcOhGQBNV7Aw/UoXI82XsDeAgmKHzdewLKACdy6N17Ar0LKT6o5XsBf0hitozxewKLRHcTOPl7AbLJGPUQ/XsCRuMfSh0BewNDtJY3RQl7AFt7lIr5FXsBcctwpHUhewLhAguLHSl7AM8SxLm5NXsD/PuPCgVBewA4QzNHjUV7ADhDM0eNRXsDOpbiq7FFewCvB4nDmUV7AwD46deVRXsBnJ4Oj5FFewA4QzNHjUV7Ab/CFyVRRXsA+XHLcKVFewOPCgZAsUF7A0oxF09lNXsC0dtuF5kxewCqRRC+jTF7AYMjqVs9LXsB47j1cckpewIsaTMPwSV7ADDz3Hi5JXsAO+PwwQkhewJW3I5wWSF7A2uGvyRpHXsDDKt7IPEZewDojSnuDRV7ADaZh+IhEXsAhWcAEbkNewDuqmiDqQl7AXI/C9ShCXsAP7s7abUFewFN5O8JpQV7AJV0z+WZBXsA0SwLU1D5ewNdppKXyPF7Auw9AahM7XsDC+j+H+ThewCHNWDSdN17AMgOV8e81XsAcfGEyVTRewHu9++O9Ml7AKXl1jgExXsDye5v+7C9ewLCPTl35Ll7AT0ATYcMtXsBiFW9kHi1ewGACt+7mK17A7YFWYMgqXsAB3gIJiilewANbJVgcKF7AJNbiUwAmXsCC/61kxyRewAH76NSVI17AgIKLFTUiXsAW3uUiviFewGoYPiKmIF7AhBJm2v4TXsB4l4v4TgBewC6thsQ9AF7AQBh47j0AXsBj7lpCPgBewFWkwthCAF7ANe84RUcAXsAuymyQSQBewJEnSddMAF7AnG1uTE8AXsD4pX7eVABewBVXlX1XAF7A/MbXnlkAXsAYeO49XABewIP6ljldAF7AsRafAmAAXsD4wmSqYABewAouVtRgAF7AP28qUmEAXsADCYofYwBewDhKXp1jAF7ASrVPx2MAXsCjzAaZZABewB+6oL5lAF7AMSWS6GUAXsB40VeQZgBewIo8SbpmAF7AnKc65GYAXsDjUwCMZwBewONTAIxnAF7AJLTlXIoHXsDbUDHO3xRewCGTjJyFI17A\",\"dtype\":\"float64\",\"shape\":[108]},{\"__ndarray__\":\"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\",\"dtype\":\"float64\",\"shape\":[208]},{\"__ndarray__\":\"E0n0MoojXsAhk4ychSNewNtQMc7fFF7AJLTlXIoHXsDjUwCMZwBewONTAIxnAF7A9b7xtWcAXsD1vvG1ZwBewPW+8bVnAF7A9b7xtWcAXsD1vvG1ZwBewPW+8bVnAF7A9b7xtWcAXsD1vvG1ZwBewBiV1AloAF7Agxd9BWkAXsCDF30FaQBewIMXfQVpAF7AlYJuL2kAXsDKw0KtaQBewNwuNNdpAF7Agxd9BWkAXsAuBDkoYQBewP/nMF9eAF7AcY+lD10AXsBfJLTlXABewOM2GsBbAF7AuDtrt10AXsAYeO49XABewHi0ccRaAF7Aw0fElEgAXsDc14FzRgBewOohGt1BAF7A6iEa3UEAXsBcyY6NQABewJgvL8A+AF7A+GuyRj0AXsAR/G8lOwBewNF0djI4AF7Axy5RvTUAXsBj0XR2MgBewLnH0ocuAF7A48KBkCwAXsDRV5BmLABewMDsnjwsAF7AZ9XnaisAXsBu+rMfKQBewBXj/E0oAF7A/5WVJqUAXsBeLuI7MQlewO7rwDkjEF7AJ6Wg20scXsA3iUFg5RxewLDmAMEcH17ABfpEniQhXsDcRgN4CyRewGBZaVIKJl7AzTtO0ZEoXsD7ljldFitewGqHvyZrLF7A81meB3cvXsDidf2C3TBewERpb/CFMV7A2XdF8L8zXsDVyoRf6jVewBnKiXYVOF7ANs07TtE7XsAAb4EExT1ewIM0Y9F0QF7A7Bfshm1DXsAsn+V5cENewDxrt11oRF7AqDXNO05FXsA75Ga4AUlewCyazk4GSV7AzHoxlBNJXsA+rg0V40pewEVkWMUbS17ALzTXaaRLXsB40VeQZkxewG/1nPS+TV7ACW05l+JOXsDFA8qmXE9ewH8w8Nx7UF7AniRdM/lQXsD9vKlIhVFewMQI4dHGUV7AKlJhbCFSXsCC/61kx1JewAKfH0YIU17Ar3d/vFdTXsCvCP63klNewAdCsoAJVF7ASrVPx2NUXsDQs1n1uVZewF4R/G8lV17AHqfoSC5ZXsAsvMtFfFtewIKLFTWYXF7Ay2d5HtxdXsDXhopx/l5ewKyL22gAX17ArIvbaABfXsD0N6EQAV9ewC2yne+nXl7AFakwthBeXsCHUKVmD15ewBzO/GoOXl7Ah1ClZg9eXsCZu5aQD15ewPLSTWIQXl7AJxQi4BBeXsDy0k1iEF5ewOBnXDgQXl7AqyaIug9eXsCc3O9QFF5ewKMBvAUSXl7AAB3mywteXsA8g4b+CV5ewCk/qfbpXF7AmN2Th4VaXsAmNh/XhlpewM0eaAWGWl7AMXxETIlaXsDRP8HFilpewL/Uz5uKWl7ApkQSvYxaXsC4rwPnjFpewO3w12SNWl7A/1vJjo1aXsDt8NdkjVpewCMQr+sXWl7AGJXUCWhaXsDcgM8PI1pewPnaM0sCWl7AoRABh1BZXsCGWtO841hewHGPpQ9dWF7Az2vsEtVXXsCze/KwUFdewPhwyXGnVl7AuRluwOdVXsBvEoPAylVewBbB/1ayVV7Ai08BMJ5VXsBW1GAahlVewFABMJ5BVV7A7WRwlLxUXsBqwYu+glRewPwApDZxVF7AEd+JWS9UXsC6MT1hiVNewFoNiXssU17A9GxWfa5SXsB5knTN5FFewA4QzNHjUV7A/z7jwoFQXsAzxLEubk1ewLhAguLHSl7AXHLcKR1IXsAW3uUivkVewNDtJY3RQl7AkbjH0odAXsBsskY9RD9ewKLRHcTOPl7AX9IYraM8XsCvQspPqjlewLKACdy6N17A3gIJih83XsDD9ShcjzZewBcOhGQBNV7Aq8/VVuwzXsAKaCJseDJewP5g4Ln3MF7AEr2MYrkvXsDdmJ6wxC1ewDnWxW00LF7A1CtlGeIqXsA=\",\"dtype\":\"float64\",\"shape\":[178]},{\"__ndarray__\":\"ur2kMVpXXsAtJjYf11ZewG3i5H6HVl7AlzldFhNXXsDn+6nx0ldewElL5e0IV17ACwxZ3epVXsBbJVgczlZewB2PGaiMV17AbagY529YXsCrCaLuA1pewJ30vvG1W17AptB5jV1eXsBDVrd6Tl5ewNeGinH+Xl7ASWO0jqpeXsBHVRNE3V9ewIvgfyvZX17A8rBQa5pfXsDB4nDmV19ewPtXVpqUXl7AOh4zUBldXsDy7zMuHFxewL2pSIWxWV7AuCOcFrxYXsCuR+F6FFhewEUvo1huV17A8wLso1NXXsAsK01KQVdewDAS2nIuV17A+rMfKSJXXsDfT42XblZewE5FKowtVl7Ay74rgv9VXsAn2lVI+VVewBaHM7+aVV7AdCmuKvtUXsAmGTkLe1RewBJr8SkAUF7AdAzIXu9IXsCR8pNqn0RewCvB4nDmQ17AK8HicOZDXsC3lzRG60JewIWZtn9lO17AgH106so3XsCuDRXj/DVewNBE2PD0Ml7ApSxDHOswXsCkpfJ2hC1ewFCqfToeKV7A5zqNtFQiXsBPkq6ZfB9ewBhDOdGuGl7AnFCIgEMYXsBOf/YjRRZewM4ZUdobEF7AYoTwaOMMXsAw2A3bFgtewJnYfFwbCF7ALWACt+4GXsBMiSR6GQdewCVdM/lmCV7Az2bV52oJXsD/eK9amQpewFLy6hwDFl7AIoleRrEgXsBUHXIz3CZewFLVBFH3KV7Aj8L1KFwrXsBbzqW4qixewBlW8UbmLV7AIQclzLQvXsAB3gIJijFewM0GmWTkMl7AMj1hiQc0XsBTkQpjCzVewONrzywJNl7AzlMdcjM4XsDVsrW+SDpewISezarPO17AEmvxKQA8XsAuc7osJjxewLU3+MJkPF7AxsTm49o8XsAId2fttj1ewLx5qkNuPl7AV3iXi/g+XsBn7bYLzT9ewPQyiuWWQF7A1H0AUptAXsDxS/28qUBewNQrZRniQF7AkKD4MeZAXsDNI38w8EBewNRlMbH5QF7Amz3QCgxBXsCMhLacS0FewIB9dOrKQV7AHEKVmj1CXsDecYqO5EJewPT91HjpQl7Afm/Tn/1CXsCXrfVFQkNewAiPNo5YQ17AITzaOGJDXsDMYmLzcUNewIz4Tsx6Q17Afa62Yn9DXsCzKVd4l0NewKfLYmLzQ17AJ07udyhEXsCcM6K0N0RewBy2LcpsRF7AVDVB1H1EXsAXmus00kRewKkwthDkRF7AiXssfehEXsAeFmpN80RewK5kx0YgRl7AX16AfXRGXsDdzVMdckdewGlSCrq9SF7A4BCq1OxJXsB3LSEf9EpewHxhMlUwTF7AWoEhq1tNXsDulA7W/01ewHLEWnwKUF7AgJ9x4UBSXsCBzw8jhFNewJCIKZFEVV7AXD0nvW9WXsA+P4wQHldewKbydoTTWF7AZkmAmlpaXsDsUbgehVtewLd6TnrfWl7Au37BbthaXsABMJ5BQ1lewEATYcPTV17AlX1XBP9XXsBfJLTlXFhewFXZd0XwW17AxHx5AfZbXsDA7J48LFxewJVliGNdXF7AuXAgJAtcXsDgvg6cM1xewAK8BRIUW17AnfS+8bVZXsCmft5UpFhewFdgyOpWV17AvfvjvWpXXsA=\",\"dtype\":\"float64\",\"shape\":[154]},{\"__ndarray__\":\"9rTDX5M9XcBubkxPWDhdwJPjTulgLV3AMsnIWdglXcCd9L7xtRNdwI1/n3HhBl3Aw7ZFmQ34XMCSPxh47utcwLJLVG8N2FzALnO6LCbIXMD1Zz9SRLJcwBdIUPwYr1zA/N6mP/uhXMAL73IR35tcwKBsyhXem1zA9n8O8+WbXMBvu9Bcp51cwBMPKJtynVzA+MJkqmCeXMDs3R/vVZ9cwLWmeccpoFzAzNHj9zahXMD52jNLAqJcwBL3WPrQoVzAONvcmJ6gXMAJ4dHGEaFcwApLPKBsoFzAjjulg/WhXMCscwzIXqFcwEJg5dAioVzAajANw0egXMD5D+m3r59cwJnTZTGxoVzAp+hILv+hXMBcGyrG+aFcwBHkoISZolzAsRafAmCiXMDItaFinKFcwMSZX80BpFzARiV1ApqmXMC1iZP7HahcwLmq7LsiqFzAWW5pNSSoXMD4cMlxp6pcwICfceFArFzA/cHAc++tXMDp1JXP8q5cwN2YnrDEr1zABVH3AUixXMCgNxWpMLRcwGvxKQDGt1zAUkSGVby9XMAPYmcKncNcwBkEVg4tyFzAHEKVmj3OXMDaci7FVdFcwJ612y4011zAFAX6RJ7aXMBkIxCv691cwCgs8YCy5VzAjKGcaFfrXMD8qfHSTexcwB4bgXhd7VzAGGAfnbr0XMA1Y9F0dvxcwKJinL8JAV3ALNSa5h0DXcBB8WPMXQVdwFq77UJzBV3AyHvVyoQFXcBnD7QCQwpdwJJ0zeSbEV3Ah8Q9lj4aXcChoX+Cix9dwHiXi/hOIl3A54wo7Q0oXcCM+E7Mei1dwMcpOpLLM13AS+XtCKc1XcASvYxiuTddwOPfZ1w4PF3Aj1N0JJdBXcAoLPGAskVdwL1vfO2ZR13A7BLVWwNJXcBXJvxSP0ldwOHRxhFrS13Ak2+2uTFNXcCqDrkZbk5dwMU9lj50T13AvFetTPhPXcDhKHl1jlFdwH7ja88sU13A+n5qvHRXXcAY7IZti2BdwH+HokCfYF3Af4eiQJ9gXcB5Xb9gN2BdwPQyiuWWYF3AcT0K16NgXcCZ2HxcG2BdwE+vlGWIX13Aq3gj88hdXcDy7zMuHFxdwNBE2PD0Wl3AinYVUn5aXcCJDKt4I1tdwAw89x4uXV3AsktUbw1eXcCzQSYZOWFdwMoyxLEuYl3AKowtBDliXcDDR8SUSGJdwIoCfSJPYl3AmnecoiNjXcBtkElGzmRdwO9VKxN+ZV3AyXa+nxpnXcC62or9ZWldwMai6exkal3AEF1Q3zJrXcATJ/c7FGtdwIXrUbgea13A/pqsUQ9rXcCW58HdWWldwCy3tBoSZ13AoBUYsrpjXcBfe2ZJgGBdwE8jLZW3W13AowG8BRJYXcDde7jkuFVdwCBB8WPMUV3AXrpJDAJLXcC5x9KHLkRdwHo2qz5XQV3A\",\"dtype\":\"float64\",\"shape\":[135]},{\"__ndarray__\":\"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\",\"dtype\":\"float64\",\"shape\":[216]},{\"__ndarray__\":\"A3gLJCgwXsCGVbyReS5ewJ1GWipvK17AHvmDgecoXsBg6udNRSZewJUO1v85Jl7Ake18PzUmXsBUNUHUfSZewAIrhxbZJl7AnrXbLjQnXsDFILByaCdewE9AE2HDJ17AIGPuWkIoXsBY5xiQvShewB7+mqxRKV7AIEYIjzYqXsDU8ZiByipewOjZrPpcK17ABDkoYaYrXsBhw9MrZStewPoK0oxFK17ASDMWTWcrXsAP7s7abStewCyf5XlwK17A6KT3ja8tXsAzbf/KSi9ewF6AfXTqLl7APZtVn6stXsD9vKlIhS1ewKorn+V5MF7A7N0f71UzXsBlpUkp6DRewIC3QILiNV7AmGn7V1Y4XsA+y/Pg7jpewFd4l4v4PF7A+u3rwDk/XsA+y/Pg7kBewHL+JhQiQl7AuAGfH0ZOXsDD9Shcj1JewKUUdHtJU17Au2HbosxUXsAAqU2c3FVewBKDwMqhWV7Aofgx5q5dXsC2+BQA411ewFUYWwhyXl7A8KfGSzdpXsDwp8ZLN2lewPCnxks3aV7AmnecoiNpXsAlkuhlFGlewEkRGVbxaF7AXmOXqN5oXsD35GGh1mhewCkF3V7SaF7AXwzlRLtoXsCGcqJdhWhewLg7a7ddaF7ALspskEloXsD4iJgSSWhewMAJhQg4aF7AKm9HOC1oXsDSOqqaIGhewAdfmEwVaF7AS+oENBFoXsASa/EpAGhewNXKhF/qZ17AucK7XMRnXsBsCfmgZ2dewBe30QDeZl7A1ZXP8jxmXsDgZ1w4EGZewPkP6bevZV7A1sVtNIBlXsDlYaHWNGVewMWPMXctZV7AEK/rF+xkXsANGvonuGRewAOy17s/ZF7AVp+rrdhjXsCLic3HtWNewNNqSNxjY17AMLsnDwtjXsBftTLhl2JewE1KQbeXYl7ATmIQWDliXsC2oWKcv2FewPMf0m9fYV7AN+DzwwhhXsCm1ZC4x2BewL9lTpfFYF7ATaHzGrtgXsBGJXUCmmBewCfChqdXYF7AtcNfkzVgXsCFJR5QNl9ewNI1k2+2XV7Azt+EQgRcXsAtsp3vp1pewFSM8zehVl7AlialoNtNXsDPTgZHyU1ewMTr+gW7TV7Aq5UJv9RNXsCU9gZfmE5ewBTQRNjwTl7AKcsQx7pOXsD8qfHSTU5ewHLEWnwKTl7AM8SxLm5NXsDidf2C3UxewIAr2bERTF7ATyMtlbdLXsB2w7ZFmUtewAXAeAYNS17AQiECDqFKXsD/W8mOjUpewC6QoPgxSl7A3ZiesMRJXsCvX7AbtklewHaJ6q2BSV7AQdR9AFJJXsCCyvj3GUlewLFtUWaDSF7ArFYm/FJDXsCDNGPRdEBewEPFOH8TPl7AdCmuKvs6XsCp9ul4zDpewHQkl/+QOl7AzVg0nZ04XsA0LhwIyTZewPFo44i1Ml7A\",\"dtype\":\"float64\",\"shape\":[135]},{\"__ndarray__\":\"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\",\"dtype\":\"float64\",\"shape\":[216]},{\"__ndarray__\":\"jV2iemtiXcD0/dR46WBdwINuL2mMYF3AIk+SrplgXcB/h6JAn2BdwBjshm2LYF3A+n5qvHRXXcB+42vPLFNdwOEoeXWOUV3AvFetTPhPXcDFPZY+dE9dwKoOuRluTl3Ak2+2uTFNXcDh0cYRa0tdwFcm/FI/SV3A7BLVWwNJXcC9b3ztmUddwCgs8YCyRV3Aj1N0JJdBXcDj32dcODxdwBK9jGK5N13AS+XtCKc1XcDHKTqSyzNdwIz4Tsx6LV3A54wo7Q0oXcB4l4v4TiJdwKGhf4KLH13Ah8Q9lj4aXcCSdM3kmxFdwGcPtAJDCl3AyHvVyoQFXcBau+1CcwVdwFq77UJzBV3AJXoZxXIFXcCojH+fcQVdwLO1vkhoBV3A3pOHhVoFXcBeaK7TSAVdwP7xXrUyBV3AU+i8xi4FXcDhQEgWMAVdwKYKRiV1Bl3A5ujxe5sGXcAqdF5jlwZdwKZh+IiYBl3ARiV1ApoGXcA/48KBkAZdwJs4ud+hBl3AKpFEL6MGXcCKzce1oQZdwKJdhZSfBl3Af95UpMIGXcDpYP2fwwZdwJuPa0PFBl3AZk6XxcQGXcAfotEdxAZdwBh9BWnGBl3AUN8yp8sGXcCMvoI0YwddwCNKe4MvCl3AdNL7xtcKXcCnrnyW5wtdwKmfNxWpDF3AyXa+nxoNXcBsQ8U4fw1dwLQCQ1a3EF3A4Ln3cMkRXcDFyf0ORRNdwMoyxLEuFF3ADf0TXKwWXcCuu3mqQxhdwBMKEXAIGV3A1XjpJjEaXcDf/fFetRpdwKBsyhXeG13A4iNiSiQdXcDnjCjtDSBdwKwcWmQ7IV3Ag8DKoUUiXcA0uoPYmSJdwHldv2A3JF3A1nPS+8YlXcCz0qQUdCddwECk374OKF3Axr/PuHAoXcB/h6JAnypdwJwWvOgrLF3AlkOLbOctXcA91SE3wy9dwApoImx4MF3A1T4djxkyXcCOBvAWSDJdwM0jfzDwMl3A0ZFc/kM0XcARAYdQpTRdwNeGinH+NF3AmEwVjEo2XcByFva0wzddwDSFzmvsOF3Ah9wMN+A5XcBhw9MrZTtdwPkUAOMZPF3A6Gor9pc9XcDshm2LMj9dwNuF5jqNQF3AC3va4a9BXcCgT+RJ0kFdwODzwwjhQV3AXeFdLuJBXcDHYwYq40FdwGACt+7mQV3AQGoTJ/dBXcBOnNzvUEJdwJj6eVORQl3A+SzPg7tDXcCyLm6jAURdwJm7lpAPRF3AjBU1mIZFXcDiHksfukZdwADGM2joR13AuVM6WP9HXcBjl6jeGkxdwMGopE5ATV3Ati3KbJBNXcDAlezYCE5dwJhMFYxKTl3AFAX6RJ5OXcBkr3d/vE9dwFjiAWVTUF3ACVBTy9ZQXcCPwvUoXFFdwETAIVSpUV3A3/jaM0tSXcA9m1Wfq1NdwIbmOo20VF3Agjl6/N5UXcDt2AjE61RdwBfxnZj1VF3ASWjLuRRVXcDFckurIVVdwAywj05dVV3A9tGpK59VXcCkNnFyv1VdwIm1+BQAVV3A46WbxCBWXcBqTfOOU1ZdwDdPdcjNVl3A+grSjEVXXcCTADW1bFddwHztmSUBWF3ANV66SQxYXcB2ptB5jVldwBHfiVkvWl3A/dmPFJFbXcCbj2tDxVxdwA5nfjUHYF3Av7fpz35gXcDTTWIQWGFdwGu3XWiuZV3AOC140VdmXcDKFd7lImZdwANbJVgcZl3ALjnulA5mXcBuowG8BWZdwFLy6hwDZl3APGagMv5lXcAA4xk09GVdwPlJtU/HZV3AD7kZbsBlXcDEzhQ6r2VdwIWZtn9lZV3AbHh6pSxlXcAldQKaCGVdwLHEA8qmZF3Aih9j7lpkXcBnuAGfH2RdwARWDi2yY13ARKM7iJ1jXcDysFBrmmNdwE2h8xq7Yl3A3Esao3ViXcA=\",\"dtype\":\"float64\",\"shape\":[181]},{\"__ndarray__\":\"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\",\"dtype\":\"float64\",\"shape\":[197]},{\"__ndarray__\":\"nl4pyxBhXsCwcmiR7WJewHK/Q1GgY17AC170FaRjXsCd19glqmNewOiHEcKjY17AiEuOO6VjXsCIS447pWNewJq2f2WlY17AOnr83qZjXsA6evzepmNewIhLjjulY17A2T15WKhjXsDWHCCYo2NewM/3U+OlY17AiEuOO6VjXsAoDwu1pmNewHbgnBGlY17AZHWr56RjXsBoP1JEhmNewKg1zTtOY17A/3ivWpliXsAVV5V9V2JewF8HzhlRYl7A6glLPKBiXsCzmNh8XGNewP3BwHPvY17AijxJumZkXsDpYP2fw2RewMKGp1fKZF7ATrnCu1xkXsB1PGagMmRewHb9gt2wY17A7+apDrljXsA8vVKWIWRewFVq9kArZF7A3sg88gdlXsAmHlA25WRewMKGp1fKZF7ACvSJPElkXsCLic3HtWNewMrDQq1pZF7AZd8Vwf9kXsDM7snDQmVewFCNl24SZV7AqcE0DB9lXsBFR3L5D2VewHY3T3XIY17ACvSJPEliXsCWsgxxrGFewKMjufyHYF7Aj9/b9GdfXsDGUE60q15ewPaX3ZOHXV7Ax/SEJR5cXsDwbfqzH1tewD1JumbyWV7AXp1jQPZYXsCbAwRz9FZewP4mFCLgVF7AAoI5evxSXsCBJsKGp1FewGXHRiBeT17AWoEhq1tNXsCNf59x4UpewJV9VwT/SV7AZaVJKehIXsB+HThnREdewHwnZr0YRl7A16NwPQpFXsDvrN12oUNewOik942vQV7Ay/Pg7qxBXsCoHf6arEFewGFxOPOrQV7A85Nqn45BXsAMsI9OXUFewEmFsYUgQV7A5dAi2/lAXsBQNuUK70BewLAbti3KQF7AppvEILBAXsAYCW05l0BewOOqsu+KQF7AEarU7IFAXsB/EwoRcEBewGZmZmZmQF7A5x2n6EhAXsCDwMqhRUBewDHO34RCQF7AB7ZKsDhAXsADPj+MEEBewO5aQj7oP17AyAxUxr8/XsDWVuwvuz9ewEj+YOC5P17A7+apDrk/XsCEZAETuD9ewOSghJm2P17AwcqhRbY/XsDh7qzddj9ewPCnxks3P17A5WGh1jQ/XsB+42vPLD9ewOlILv8hP17AsFWCxeE+XsDUDn9N1j5ewDRLAtTUPl7AlIeFWtM+XsBtkElGzj5ewGJKJNHLPl7Aw552+Gs+XsAj2/l+aj5ewCeloNtLPl7A8gwa+ic+XsCgT+RJ0j1ewMx/SL99PV7A5US7Cik9XsBzY3rCEj1ewNdMvtnmPF7AdNL7xtc8XsBK7xtfezxewGB2Tx4WPF7AdnEbDeA7XsCM22gAbztewEEOSphpO17ARdjw9Eo7XsDlm21uTDtewJ7vp8ZLO17At39lpUk7XsCemPViKDtewFvTvOMUO17Abt3NUx08XsCwIM1YND9ewBHHuriNQF7AAd4CCYpBXsB+AFKbOENewC5zuiwmRF7AgH106spFXsDtgVZgyEZewGg/UkSGR17AVft0PGZIXsDv4ZLjTklewPilft5USl7As5jYfFxLXsBkr3d/vEtewECH+fICTF7AptWQuMdMXsDBrbt5qk1ewOohGt1BTl7A7kJznUZSXsC8rl+wG1hewJZDi2znXV7AA5Xx7zNeXsDcnbXbLl5ewDmc+dUcXl7AnL8JhQheXsAYPiKmRF5ewJ8fRgiPXl7AVwT/W8leXsCSy39Iv19ewEvqBDQRYF7A\",\"dtype\":\"float64\",\"shape\":[162]},{\"__ndarray__\":\"H/RsVn0cXsD8byU7NiRewCx96IL6LF7AsDic+dUsXsCGcqJdhSxewIY41sVtLF7ABg39E1wsXsC5x9KHLixewBWMSuoELF7A6spneR4sXsCnP/uRIixewINRSZ2ALF7AZaVJKegsXsC6oL5lTi1ewOQxA5XxLV7Ap3nHKTouXsBbCHJQwi5ewGCrBIvDL17A4KEo0CcwXsBf7/54rzBewGwm32xzMV7Amdh8XBsyXsAMWd3qOTNewJXUCWgiNF7Af/YjRWQ0XsD0wwjh0TRewO/mqQ65NV7Ahj3t8Nc2XsAW+8vuyTdewAM+P4wQOF7AiUFg5dA4XsDAWyBB8TlewCKmRBK9Ol7AelORCmM7XsA5l+KqsjtewBiV1AloPF7AcCU7NgI9XsD6fmq8dD1ewIwVNZiGPV7A81meB3c9XsDesG1RZj1ewHrCEg8oPV7A7BLVWwM9XsCwVYLF4TxewNxLGqN1PF7AiqvKvis8XsDSGK2jqjtewFNcVfZdO17Ak2+2uTE7XsBXJvxSPztewEgzFk1nO17AYf2fw3w7XsB6xyk6kjtewHOiXYWUO17AlltaDYk7XsDvj/eqlTtewMoyxLEuPF7A8zy4O2s9XsAc8PlhhD5ewDC7Jw8LP17A/bypSIU/XsCkcD0K1z9ewIofY+5aQF7AKVyPwvVAXsDBOSNKe0FewFUTRN0HQl7AFCLgEKpCXsA+0AoMWUNewMjShy6oQ17APfIHA89DXsBD/wQXK0RewGOcvwmFRF7AAU2EDU9FXsCE2JlC50VewF9BmrFoRl7Ak1fnGJBHXsAnFCLgEEhewM0Bgjl6SF7ARIZVvJFJXsAxsfm4NkpewF6iemtgS17AZF3cRgNMXsCQoPgx5kxewINMMnIWTl7Auw9AahNPXsAnFCLgEFBewMwLsI9OUV7Abef7qfFSXsB0e0ljtFRewNlfdk8eVl7Ao3VUNUFWXsDfwyXHnVZewJ0Rpb3BV17AgJ9x4UBYXsDu68A5I1hewAfTMHxEWF7AERlW8UZYXsDRlnMprlhewAnh0cYRWV7AIchBCTNZXsAwEtpyLllewN0kBoGVWV7AowbTMHxaXsCBlUOLbFtewLlwICQLXF7ABcWPMXdTXsAgRgiPNk5ewDgVqTC2Sl7Ah1ClZg9IXsBjesISD0ZewNI1k2+2QV7AfVwbKsY/XsBxGw3gLTxewKDDfHkBOl7ATYQNT682XsDQJ/Ik6TRewEzD8BExM17APujZrPowXsArTUpBty9ewPERMSWSLl7AZ9XnaissXsCjO4idKSpewAwHQrKAJ17A2sngKHklXsDxLhfxnSJewPZ/DvPlHV7AUps4ud8ZXsBz1xLyQRVewGmM1lHVEl7AHOviNhoOXsDhfyvZsQ1ewFcJFoczDV7AIqtbPScNXsBNvtnmxgxewC0hH/RsDF7ACks8oGwMXsBfQZqxaAxewAYq499nDF7AFO0qpPwKXsA4Sl6dYwZewLoxPWGJBV7AZmZmZmYEXsBOKETAIQJewODW3TzV/13AMNgN2xb7XcB8uOS4U/hdwAFqatla9V3AeVioNc3zXcCSkbOwp+9dwPuRIjKs6l3AcVrwoq/qXcCz0qQUdOVdwGxDxTh/413A6Gor9pfjXcDdmJ6wxONdwMjShy6o4V3Aj9/b9GffXcBcyY6NQN5dwFzJjo1A3l3A8UbmkT/eXcC14EVfQd5dwMdLN4lB3l3Ag92wbVHeXcA3cXK/Q+VdwOcAwRw96l3A/8pKk1LwXcCdaFch5fVdwKWD9X8O+V3ASFD8GHP7XcBt5/up8f5dwHzVyoRfBF7A9RCN7iAGXsA9CtejcAdewDEIrBxaCF7ApYP1fw4JXsC2Z5YEqAlewNOf/UgRC17AiGh0B7ELXsAWE5uPaw1ewKzKviuCD17ATdu/stIQXsC0AkNWtxRewGFPO/w1E17AzojS3uAVXsD0piIVxhhewA==\",\"dtype\":\"float64\",\"shape\":[185]},{\"__ndarray__\":\"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\",\"dtype\":\"float64\",\"shape\":[208]},{\"__ndarray__\":\"deWzPA/AXcB15bM8D8BdwACpTZzcv13AduCcEaW/XcAB3gIJir9dwOjZrPpcv13ALNSa5h2/XcANcayL275dwN/gC5Opvl3AGM+goX++XcDAJmvUQ75dwLKFIAclvl3A8piByvi9XcAL0oxF071dwET67evAvV3AaHke3J29XcAyOEpenb1dwEjhehSuvV3ALsVVZd+9XcCAK9mxEb5dwEpenWNAvl3AkfKTap++XcCp2QOtwL5dwL6kMVpHv13AFt7lIr6/XcB15bM8D8BdwHXlszwPwF3AGyrG+ZvAXcD+1HjpJsFdwMTr+gW7wV3AMXxETInCXcCFmbZ/ZcNdwEDBxYoaxF3ANLqD2JnEXcAsms5OBsVdwLoxPWGJxV3ApOTVOQbGXcCtLxLacsZdwKZ+3lSkxl3AG55eKcvGXcAQzNHj98ZdwIJzRpT2xl3AaQBvgQTHXcB0Ka4q+8ZdwNun4zEDx13ASS7/If3GXcB0DMhe78ZdwFQ6WP/nxl3ARtPZyeDGXcCJeyx96MZdwHfzVIfcxl3A/fZ14JzHXcChhJm2f8ddwB4bgXhdx13AXhH8byXHXcD0GrtE9cZdwKJ6a2Crxl3AXwfOGVHGXcBdp5GWysVdwH5XBP9bxV3AN4lBYOXEXcANiXssfcRdwGoTJ/c7xF3AfZbnwd3DXcCvJeSDnsNdwI/8wcBzw13AwaikTkDDXcCTNeohGsNdwMk88gcDw13Aahg+IqbCXcC4HoXrUcJdwHWr56T3wV3APUSjO4jBXcB6pSxDHMFdwDtT6LzGwF3ACoUIOITAXcAAAAAAAAD4fwKCOXr8AF7AHSCYo8cBXsDPMSB7vQNewM11GmmpBl7ArW71nPQIXsC0dtuF5gpewOZXc4BgDF7AnRGlvcENXsCsOUAwRw9ewJ4Hd2ftEF7Ah/nyAuwRXsAMHxFTIhNewCUGgZVDFV7AzvxqDhAYXsBV3o5wWhpewDm536EoHF7ABg39E1weXsDgZ1w4ECBewDs2AvG6IF7Aqz5XW7EhXsCMSuoENCNewKVmD7QCJV7A7C+7Jw8lXsAnwoanVyRewIRkARO4IV7Az2vsEtUfXsBxAz4/jB5ewFjnGJC9HF7AFHmSdM0aXsCUpGsm3xhewJdzKa4qF17Ax4Ds9e4VXsCIgEOoUhVewIT1fw7zE17AnDOitDcSXsDajxSRYRFewEaU9gZfEF7AGm7A54cPXsCnkZbK2w1ewP+VlSalDF7A1q2ek94LXsAqb0c4LQpewJsDBHP0CF7AvJF55A8IXsB3vp8aLwdewK2GxD2WBl7AJJf/kH4FXsDDtkWZDQRewE6c3O9QAl7A5gXYR6cAXsCrJoi6DwBewOUK73IR/13Ao68gzVj+XcA50a5Cyv1dwPilft5U/F3Aaam8HeH6XcBkHvmDgfldwOMZNPRP+F3A5A8Gnnv3XcDqz36kiPZdwBtMw/AR9V3A0LNZ9bnyXcCAfXTqyvFdwM78ag4Q8F3A/tR46SbvXcASTgte9O1dwENznUZa7F3AhlrTvOPqXcDvycNCreldwArcupun6F3AzhlR2hvoXcCjzAaZZOZdwDNQGf8+5V3Ay/Pg7qzjXcD2Yign2uFdwBh9BWnG4F3A4XoUrkffXcA1JO6x9N1dwGU2yCQj313AdonqrYHfXcDSb18Hzt9dwP/sR4rI4F3AeAskKH7iXcAYJlMFo+RdwDWYhuEj5l3AiGNd3EbnXcDnOo20VOhdwK+xS1Rv6V3AinYVUn7qXcAE/1vJjutdwHGPpQ9d7F3A++jUlc/uXcCrJoi6D/BdwIjX9Qt28V3AY5y/CYXyXcBf7/54r/RdwKa4quy79l3AqyaIug/4XcD0N6EQAfldwADGM2jo+V3AH4DUJk76XcC8rl+wG/xdwEc9RKM7/l3A24XmOo0AXsAAAAAAAAD4fxjPoKF/3l3A/7J78rDgXcBnRGlv8OFdwJC93v3x4l3Am49rQ8XkXcC0jqomiOZdwOi8xi5R513ADRr6J7joXcCZEkn0MupdwJkNMsnI613AgT6RJ0ntXcAZkL3e/e1dwDeOWItP713AlWWIY13wXcDIDFTGv/FdwD6zJEBN813AsTOFzmv0XcBI/mDgufVdwMbE5uPa9l3AgJpattb3XcAv3SQGgfldwGLzcW2o+l3A+z+H+fL8XcBq+1dWmgBewCjVPh2PAV7AW86luKoCXsBaL4ZyogNewOIGfH4YBV7AG/UQje4GXsCOrz2zJAhewFdbsb/sCF7A/aTap+MJXsDswDkjSgtewAbYR6euDF7AAIxn0NANXsDq7GRwlA5ewO9yEd+JD17AzvxqDhAQXsCIRncQOxFewIqw4emVEl7AHF97ZkkUXsDg88MI4RVewIzzN6EQF17A+THmriUYXsCTHRuBeBlewFpHVRNEG17Avp8aL90cXsDtmSUBah5ewPLSTWIQIF7AgSGrWz0hXsCqQ26GGyJewFUYWwhyIl7AutqK/WUjXsB1jgHZ6yNewCZTBaOSJF7AB0KygAkmXsA75Ga4ASdewHlYqDXNJ17AkZvhBnwoXsD2evfHeylewEPiHksfKl7AVOOlm8QqXsAzUBn/PitewBlz1xLyK17AJvxSP28sXsA3iUFg5SxewEw3iUFgLV7AaHke3J0tXsDhRV9Bmi1ewAhVavZALV7A7N0f71UtXsCs4o3MIy1ewM2v5gDBLF7A61bPSe8rXsAkC5jArStewBh9BWnGKl7A7UeKyLAqXsA+0AoMWStewMHKoUW2K17Ay74rgv8rXsDxLhfxnSxewLubpzrkLF7Axf6ye/IsXsCCVmDI6ixewK2GxD2WLF7A4xk09E8sXsCdLouJzStewEJD/wQXK17AZMxdS8grXsAUBfpEnixewN1B7EyhLV7Ah8Q9lj4uXsC4rwPnjC5ewL68APvoLl7A6fF7m/4uXsDejnBa8C5ewOOqsu+KLl7AxjNo6J8uXsARx7q4jS5ewPVKWYY4Ll7AEr2MYrktXsBszywJUC1ewCx96IL6LF7A/G8lOzYkXsAf9GxWfRxewPSmIhXGGF7AzojS3uAVXsBhTzv8NRNewLQCQ1a3FF7ATdu/stIQXsCsyr4rgg9ewBYTm49rDV7AiGh0B7ELXsDTn/1IEQtewLZnlgSoCV7ApYP1fw4JXsAxCKwcWghewD0K16NwB17A9RCN7iAGXsB81cqEXwRewG3n+6nx/l3ASFD8GHP7XcClg/V/DvldwJ1oVyHl9V3A/8pKk1LwXcDnAMEcPepdwDdxcr9D5V3Ag92wbVHeXcDHSzeJQd5dwFYOLbKd3V3AQZqxaDrdXcAp6PaSxtxdwPSmIhXG3F3A2PULdsPcXcDfGtgqwdxdwLtE9dbA3F3A+5EiMqzcXcADJnDrbtxdwK7YX3ZP3F3Ao5I6AU3cXcBKe4MvTNxdwFzJjo1A3F3AfJv+7EfcXcB/vFetTNxdwFXBqKRO3F3AfJv+7EfcXcB4eqUsQ9xdwDW1bK0v3F3AAwmKH2PcXcAqOpLLf9xdwNun4zED3V3A1IIXfQXdXcB+qZ83Fd1dwFsIclDC3F3A/z7jwoHcXcCfPCzUmtxdwMLAc+/h3F3AzEBl/PvcXcDMf0i/fd1dwP3BwHPv3V3A54wo7Q3eXcBDOdGuQt5dwF+1MuGX3l3Ag1FJnYDeXcA=\",\"dtype\":\"float64\",\"shape\":[346]},{\"__ndarray__\":\"EXAIVWqMXsCm7V9ZaYxewINpGD4ijF7Ah8Q9lj6MXsCWCb/Uz4tewOz6Bbthi17AN8MN+PyKXsDYgXNGlIpewHXlszwPil7AdhppqbyJXsB7a2CrBIlewPGAsilXiF7AlialoNuHXsC6ZvLNNoVewOwvuycPhV7ATb7Z5saCXsDZzvdT439ewIwtBDkofV7AcSAkC5h8XsDn49pQMXxewMgMVMa/e17AvalIhbF7XsCT407pYHtewA+XHHdKe17AUWuad5x6XsBnLJrOTnpewESoUrMHel7A6MHdWbt5XsBlqmBUUnlewHv3x3vVeF7AeLRxxFp4XsDAstKkFHhewIRkARO4d17AYWwhyEF3XsBxyXGndHRewCwOZ341cV7AH5268llqXsCoV8oyxGdewM78ag4QYl7AgJ9x4UBeXsAVHcnlP15ewE5/9iNFXl7A/+cwX15eXsAAUps4uV1ewKRwPQrXXV7AsRafAmBaXsDbv7LSpFpewKUsQxzrWl7ACmgibHhaXsDy6hwDsltewMk88gcDXV7AlzldFhNdXsCzB1qBIV1ewEoMAiuHXF7AoWez6nNbXsDCEg8om1pewGfV52orWl7APIOG/glaXsAMAiuHFllewFFrmnecWF7AXvQVpBlXXsCzmNh8XFVewGXHRiBeU17AZyyazk5SXsBiSiTRy1BewKn7AKQ2T17A7fDXZI1OXsDmriXkg05ewNxoAG+BTl7AbjSAt0BOXsDxKQDGM05ewFLy6hwDTl7A/wQXK2pOXsAYYB+duk5ewKJ/gosVT17Aj3Ba8KJPXsCinGhXIU9ewL8rgv+tTl7ALnO6LCZOXsBsJt9sc01ewJrrNNJSTV7AVmXfFcFNXsAGR8mrc05ewK00KQXdTl7AM8SxLm5PXsC5/If0209ewDoGZK93T17AV7JjIxBPXsDaG3xhMk9ewH6MuWsJT17AxHdi1otPXsBMVG8NbE9ewDhKXp1jTl7AfXkB9tFNXsDPTgZHyU1ewJYmpaDbTV7AVIzzN6FWXsAtsp3vp1pewM7fhEIEXF7A0jWTb7ZdXsCFJR5QNl9ewLXDX5M1YF7AJ8KGp1dgXsBGJXUCmmBewE2h8xq7YF7Av2VOl8VgXsCm1ZC4x2BewDfg88MIYV7A8x/Sb19hXsC2oWKcv2FewE5iEFg5Yl7ATUpBt5diXsBftTLhl2JewDC7Jw8LY17A02pI3GNjXsCLic3HtWNewFafq63YY17AA7LXuz9kXsANGvonuGRewBCv6xfsZF7AxY8xdy1lXsDlYaHWNGVewJeQD3o2ZV7A+rMfKSJrXsAVUn5S7W1ewLAbti3Kbl7AfhghPNpwXsAk7rH0oXFewBjshm2Lcl7AGhcOhGRzXsB4eqUsQ3RewPT91HjpdF7AJAuYwK11XsAg0m9fB3ZewLd6Tnrfdl7AcCU7NgJ5XsDso1NXPnlewLZnlgSoeV7AwhcmUwV7XsDv4ZLjTn1ewMx6MZQTf17A4pLjTumAXsCWJqWg24FewMhe7/54g17ANpNvtrmFXsCHFtnO94dewBv1EI3uiF7ASx+6oL6JXsBv9Zz0volewOviNhrAiV7Aih9j7lqKXsBUbw1slYpewJv+7EeKil7AwD46deWLXsAKur2kMYxewAyTqYJRi17AdcjNcAOMXsCiXYWUn4xewAltOZfijF7Amzi536GMXsAR/G8lO4xewBH8byU7jF7A\",\"dtype\":\"float64\",\"shape\":[162]},{\"__ndarray__\":\"rwj+t5KTXsDkFB3J5ZNewIOG/gkulF7AHF97ZkmUXsDY8PRKWZJewKIo0CfykF7ANpNvtrmPXsB6qkNuho9ewE+vlGWIj17AthDkoISPXsDpmsk3245ewH+8V61Mjl7ANXugFRiOXsA9D+7O2o1ewJEPejarjF7Auk4jLZWLXsCCyvj3GYtewKCJsOHpiV7Ah6JAn8iJXsAPnDOitIlewKtbPSe9iV7A7wOQ2sSJXsDZd0Xwv4lewG/1nPS+iV7ASx+6oL6JXsAb9RCN7ohewIcW2c73h17ANpNvtrmFXsDIXu/+eINewJYmpaDbgV7A4pLjTumAXsDMejGUE39ewO/hkuNOfV7AwhcmUwV7XsC2Z5YEqHlewOyjU1c+eV7AcCU7NgJ5XsC3ek5633ZewCDSb18Hdl7AJAuYwK11XsD0/dR46XRewHh6pSxDdF7AGhcOhGRzXsAY7IZti3JewCTusfShcV7AfhghPNpwXsCwG7Ytym5ewBVSflLtbV7A+rMfKSJrXsCXkA96NmVewOVhodY0ZV7A1sVtNIBlXsD5D+m3r2VewOBnXDgQZl7A1ZXP8jxmXsAXt9EA3mZewGwJ+aBnZ17AucK7XMRnXsDVyoRf6mdewBJr8SkAaF7AS+oENBFoXsAHX5hMFWhewNI6qpogaF7AKm9HOC1oXsDACYUIOGhewPiImBJJaF7ALspskEloXsC4O2u3XWhewIZyol2FaF7AXwzlRLtoXsApBd1e0mhewPfkYaHWaF7AXmOXqN5oXsBJERlW8WhewCWS6GUUaV7AmnecoiNpXsDwp8ZLN2lewPCnxks3aV7AARO4dTdpXsC3nEtxVWlewNogk4ycaV7AD9b/OcxpXsCOAdnr3WlewLEzhc5ral7A5nlwd9ZqXsABMJ5BQ2tewO22C811bF7Ay/Pg7qxtXsAjSnuDL25ewAq/1M+bbl7APj+MEB5vXsAychb2tG9ewK6BrRIscF7Apics8YBwXsA7/DVZo3BewAzIXu/+cF7Acy7FVWVxXsASMSWS6HFewLHc0mpIcl7Ae2ZJgJpyXsApP6n26XJewIGVQ4tsc17AOl0WE5tzXsBB1H0AUoNewFYrE36pg17AVp+rrdiDXsBqatlaX4RewFuxv+yehF7AZvfkYaGEXsB07+GS44RewIZa07zjhF7AiEZ3EDuFXsAMdsO2RYVewNHoDmJnhl7AgosVNZiGXsBNvtnmxoZewExxVdl3h17ArvVFQluIXsBTswdagYlewAeZZOQsil7AgpAsYAKLXsA3VIzzN4tewItUGFsIjF7AhZm2f2WNXsBDHOviNo5ewK0XQznRjl7AXi7iOzGPXsBlx0YgXo9ewHmSdM3kj17AgCvZsRGQXsARGVbxRpBewLsnDwu1kF7AqRPQRNiQXsDFG5lH/pBewKyL22gAkV7Ad/hrskaRXsBMN4lBYJFewNOkFHR7kV7AHebLC7CRXsDq7GRwlJJewEgzFk1nk17A+mGE8GiTXsCt3XahuZJewOxph78mk17AMxtkkpGTXsA=\",\"dtype\":\"float64\",\"shape\":[145]},{\"__ndarray__\":\"C9KMRdOdXsAng6Pk1Z1ewM7Cnnb4p17AzjY3pieuXsDRyyiWW7BewBMn9zsUs17AVRNE3Qe2XsCqtwa2SrhewIguqG+ZuV7ACks8oGy6XsDgufdwybtewHcVUn5SvV7ALNSa5h2/XsDHYwYq48FewFmLTwEwxF7AKm9HOC3EXsCfjscMVMRewGnjiLX4wl7AW+uLhLbAXsDwhclUwbxewFlMbD6uuV7AXHLcKR24XsDBqKROQLVewHLcKR2ssV7Af/YjRWSuXsDtuyL436xewNmZQuc1rl7AJVgczvyuXsD6uDZUjK9ewB1VTRB1r17AXb9gN2ytXsD0wwjh0axewFDCTNu/ql7AHLEWnwKqXsAiT5KumahewH4YITzapl7A5nlwd9amXsB40VeQZqZewO27Ivjfol7AW5nwS/2eXsB5knTN5J9ewMA+OnXln17ARFGgT+SfXsCxFp8CYJ5ewGFUUiegm17Ay4Rf6ueXXsB6Nqs+V5NewE3WqIdokl7AY7SOqiaSXsDpYP2fw45ewFw9J71vjF7AeJyiI7mKXsAlehnFcolewLivA+eMiF7A+zpwzoiGXsBG66hqgoRewCmuKvuugl7AZED2evd7XsBhcTjzq3dewLsnDwu1cl7AtU/HYwZwXsDjjcwjf25ewJVliGNdbF7A9ihcj8JpXsDvG197ZmdewKYPXVDfZF7AZVOu8C5fXsAsZRniWF1ewG3/ykqTXF7Am6xRD9FaXsB3hNOCF1lewMlZ2NMOWV7AUHCxogZZXsAsms5OBllewJDaxMn9WF7A8BZIUPxYXsBXeJeL+FhewDCBW3fzWF7A1EhL5e1YXsBegH106lhewDBkdavnWF7A3nGKjuRYXsBeY5eo3lhewLmNBvAWWF7AsrrVc9JXXsBo6J/gYldewGyVYHE4V17AXmOXqN5WXsCqfToeM1ZewGyVYHE4VV7AjErqBDRVXsAsDmd+NVVewPPIHww8VV7A88gfDDxVXsDzyB8MPFVewAU0ETY8VV7ABTQRNjxVXsDzyB8MPFVewPPIHww8VV7ABTQRNjxVXsCp+wCkNlVewLpm8s02VV7A0NVW7C9VXsD+8V61MlVewNDVVuwvVV7A2jhiLT5VXsDG+ZtQiFRewGrecYqOVF7ANJ2dDI5UXsBfmEwVjFRewF+YTBWMVF7Aat5xio5UXsBYkGYsmlRewH+kiAyrVF7AsHJoke1UXsCFd7mI71RewNuK/WX3VF7AdCmuKvtUXsAWhzO/mlVewCfaVUj5VV7Ay74rgv9VXsBORSqMLVZewN9PjZduVl7A+rMfKSJXXsAwEtpyLldewCwrTUpBV17A8wLso1NXXsBFL6NYbldewK5H4XoUWF7AuCOcFrxYXsC9qUiFsVlewPLvMy4cXF7AOh4zUBldXsD7V1aalF5ewMHicOZXX17A8rBQa5pfXsCL4H8r2V9ewHE486s5aF7A8L+V7NhqXsAhsHJokW1ewEuTUtDtb17As+pztRVzXsDcupunOnZewMXm49pQeV7AOdbFbTR8XsD6m1CIgH9ewJAxdy0hhV7AJ6Wg20uKXsDRrkLKT5BewA==\",\"dtype\":\"float64\",\"shape\":[149]},{\"__ndarray__\":\"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\",\"dtype\":\"float64\",\"shape\":[216]},{\"__ndarray__\":\"OC140Vd6XsCD+pY5XXpewDrpfeNre17Aq7LviuB7XsD/eK9amXxewBCv6xfsfl7AAmVTrvCCXsBVwaikToRewEjhehSuhV7A3zKny2KGXsDowd1Zu4dewDUHCOboh17ANLqD2JmIXsCr56T3jYlewCDvVSsTil7A6s9+pIiKXsBJ10y+2YpewKdc4V0ujF7AopdRLLeMXsB8fhghPI5ewC0+BcB4jl7Am+Ydp+iOXsBolgSoqZFewLG/7J48ll7Au0T11sCWXsDY0w5/TZhewOJYF7fRmF7ABi/6CtKYXsCUh4Va05hewMnIWdjTmF7AxRuZR/6YXsATChFwCJlewO/Jw0KtmV7ANQcI5uiZXsC1FfvL7plewGRA9nr3mV7AJNbiUwCaXsCSeeQPBppewE7udygKml7AI/PIHwyaXsASiNf1C5pewMCV7NgIml7ArFYm/FKZXsAWpBmLppdewDawVYLFlV7Apg9dUN+SXsBgsBu2LZBewGba/pWVjF7A7dgIxOuMXsBiFW9kHo1ewBfUt8zpjF7AsTOFzmuMXsA7jbRU3oxewJvJN9vcjF7Af95UpMKMXsBi1ouhnIxewMpUwaikhl7AajANw0eEXsCB7PXuj4VewGcKndfYhV7APDHrxVCGXsBFKowtBIdewEFl/PuMh17A0lJ5O8KHXsBEUaBP5IdewESoUrMHiF7A1T4djxmIXsBJgJpatoZewC2VtyOchl7A0VynkZaGXsA0SwLU1IRewFBTy9b6gl7Ax0s3iUGCXsChEAGHUIFewHFyv0NRgF7A/U0oRMB/XsBJ10y+2X5ewJLLf0i/fV7AwJXs2Ah8XsBTeTvCaXlewApLPKBsdl7As0EmGTlzXsDnUlxV9nFewLMkQE0tcV7A8rBQa5pvXsCx4emVsm5ewLPSpBR0bV7AokW28/1sXsCDUUmdgGxewA5Pr5RlbF7AeNFXkGZsXsC1VN6OcGxewKhSswdaa17AkuhlFMtpXsAn2lVI+WVewKvsuyL4ZV7AK/uuCP5lXsAYWwhyUGZewHWw/s9hZl7AOzYC8bpmXsA/V1uxv2ZewIpZL4ZyZl7A+HDJcadmXsC0jqomiGZewMr9DkWBZl7AdAexM4VmXsCR1a2ek2ZewGLWi6GcZl7AF0hQ/BhnXsDMtP0rK2dewFwbKsb5Z17AGOyGbYtoXsAVUn5S7WlewILF4cyval7AvR3htOBrXsCVSKKXUWxewPCnxks3bV7AJV0z+WZtXsAoCvSJPG9ewFxV9l0RcF7AgXhdv2B1XsAQXVDfMndewOyGbYsyd17A4bTgRV93XsBZF7fRAHhewBcOhGQBeV7A\",\"dtype\":\"float64\",\"shape\":[126]},{\"__ndarray__\":\"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\",\"dtype\":\"float64\",\"shape\":[226]},{\"__ndarray__\":\"7YFWYMhGXsCAfXTqykVewC5zuiwmRF7AfgBSmzhDXsAB3gIJikFewBHHuriNQF7AsCDNWDQ/XsBu3c1THTxewFvTvOMUO17Anpj1Yig7XsC3f2WlSTtewJ7vp8ZLO17A5Zttbkw7XsBF2PD0SjtewG/Tn/1IO17AIxXGFoI6XsDsF+yGbTlewLO1vkhoOV7AnuqQm+E4XsBL6gQ0EThewIsaTMPwN17AAfvo1JU3XsCpwTQMHzdewIJzRpT2Nl7AbcX+sns2XsBma32R0DRewOnxe5v+Ml7AroGtEiwyXsByio7k8jFewBakGYumMV7A19081SExXsCxM4XOazBewAQ5KGGmL17A0NVW7C8tXsC7fsFu2CxewPERMSWSLF7AVFInoIksXsAtz4O7sypewHmvWpnwKV7AHSCYo8cpXsAkRWRYxSlewN2YnrDEKV7A/TBCeLQpXsBpAG+BBClewMKGp1fKKF7A36Y/+5EoXsD2Yign2idewL7Z5sb0Jl7AFt7lIr4lXsD/W8mOjSRewNaQuMfSI17A2T15WKgjXsC4rwPnjCJewGcKndfYIV7Aet/42jMhXsCqK5/leSBewFX2XRH8H17A7WRwlLweXsBuwOeHER5ewE87/DVZHV7AtLCnHf4cXsBuUWaDTBxewG40gLdAHF7A+dozSwIcXsB/EwoRcBpewPLNNjemGV7A7Eyh8xoZXsCQZiyazhhewJ+wxAPKGF7A++jUlc8YXsAQr+sX7BhewGr7V1aaIF7AONvcmJ4mXsCLbOf7qStewEPFOH8TMF7AhslUwagwXsBzgGCOHjNewBQi4BCqNF7AkdCWcyk2XsBLsDic+TdewBn/PuPCOV7AwhcmUwU7XsC1MuGX+jtewJCIKZFEPV7A7dgIxOs+XsDRBfUtcz5ewB/0bFZ9Pl7AOPOrOUA+XsCSlsrbEUBewMk88gcDQV7AV5V9VwRDXsBnfjUHCERewJ3X2CWqRV7AI6Et51JGXsCkpfJ2hEtewNHoDmJnTl7A5q4l5INOXsDt8NdkjU5ewKn7AKQ2T17AYkok0ctQXsBnLJrOTlJewGXHRiBeU17As5jYfFxVXsBe9BWkGVdewFFrmnecWF7ADAIrhxZZXsA8g4b+CVpewGfV52orWl7AwhIPKJtaXsChZ7Pqc1tewEoMAiuHXF7AswdagSFdXsCXOV0WE11ewMk88gcDXV7A8uocA7JbXsAKaCJseFpewKUsQxzrWl7A27+y0qRaXsCxFp8CYFpewKRwPQrXXV7AAFKbOLldXsD/5zBfXl5ewE5/9iNFXl7AFR3J5T9eXsADlfHvM15ewJZDi2znXV7AvK5fsBtYXsDuQnOdRlJewOohGt1BTl7Awa27eapNXsCm1ZC4x0xewECH+fICTF7AZK93f7xLXsCzmNh8XEtewPilft5USl7A7+GS405JXsBV+3Q8ZkhewGg/UkSGR17A\",\"dtype\":\"float64\",\"shape\":[138]},{\"__ndarray__\":\"tf0rK01uXsBmoDL+fW5ewL8OnDOibl7Aat5xio5wXsDLZ3ke3HFewDeOWItPc17Aw7ZFmQ10XsCwG7YtynJewCBB8WPMc17AdjI4Sl51XsCkiAyreHVewFOWIY51dV7AU9DtJY11XsCTOgFNhHVewHoZxXJLdV7ABoGVQ4t0XsD+DkWBPnNewLMMcayLc17AGw3gLZB0XsDJk6RrJnVewOBnXDgQdl7AnRGlvcF3XsCh8xq7RHlewCegibDheV7ASfQyiuV6XsBDxTh/E3xewD9XW7G/el7AoMN8eQF8XsDWkLjH0ntewMGQ1a2ee17A9S1zuix8XsBqh78ma3xewAZkr3d/fF7Az0nvG197XsBB8WPMXXtewLfRAN4Ce17AEVMiiV56XsAHfH4YIXpewIdtizIbel7AUgq6vaR5XsBGCI82jnhewHXlszwPeF7A1eyBVmB2XsC46c9+pHRewAVu3c1Tc17AG7tE9dZyXsDqymd5HnJewFslWBzOcF7ADr4wmSpwXsBtOZfiqm5ewEfmkT8Ybl7A1q2ek95tXsAvaYzWUW1ewP7UeOkmbV7AWK1M+KVsXsDnb0IhAmxewNfAVgkWa17AppvEILBqXsCinGhXIWlewOI7MevFaF7AjXqIRndoXsB/vFetTGhewIdtizIbaF7A8nub/uxnXsBkIxCv62dewPmgZ7PqZ17A9S1zuixoXsCP5PIf0mdewBV0e0ljaF7A44i1+BRoXsB5r1qZ8GdewFiQZiyaaF7AQj7o2axoXsCPNo5Yi2dewLq9pDFaZ17AYMjqVs9nXsD2Yign2mdewBYwgVt3Z17Au0T11sBmXsCthsQ9lmZewC4cCMkCZl7AHXIz3IBlXsCnXOFdLmZewHgoCvSJZl7AYoTwaONmXsCduvJZnmVewAEwnkFDZV7A/wkuVtRkXsDjcOZXc2BewDKP/MHAW17Ao0CfyJNaXsDt8NdkjVpewLivA+eMWl7ApkQSvYxaXsC/1M+bilpewNE/wcWKWl7AMXxETIlaXsDNHmgFhlpewCY2H9eGWl7AmN2Th4VaXsApP6n26VxewDyDhv4JXl7AAB3mywteXsCjAbwFEl5ewJzc71AUXl7AqyaIug9eXsDgZ1w4EF5ewPLSTWIQXl7AJxQi4BBeXsDy0k1iEF5ewJm7lpAPXl7Ah1ClZg9eXsAczvxqDl5ewIdQpWYPXl7AFakwthBeXsAtsp3vp15ewPQ3oRABX17ArIvbaABfXsCsi9toAF9ewNun4zEDX17Amggbnl5fXsAjSnuDL2BewG3KFd7lYF7ALIL/rWRhXsCfH0YIj2JewDi+9sySYl7ABp57D5diXsCCHJQw02JewO/mqQ65Y17A7yB2ptBjXsAgRgiPNmRewJFhFW9kZF7AHvmDgedkXsApP6n26WRewCIa3UHsZF7AJUBNLVtlXsAaUdobfGVewFOzB1qBZV7AL6hvmdNlXsCA8Qwa+mVewDnWxW00Zl7AVcGopE5mXsD/PuPCgWZewBjshm2LZl7AxhaCHJRmXsB4RfC/lWZewIaPiCmRZl7ARwN4CyRmXsAOT6+UZWhewB/0bFZ9aF7AKej2ksZoXsAebRyxFmlewIT1fw7zaV7A1eyBVmBqXsDUQzS6g2pewFRXPsvzal7AjC0EOShrXsAr9pfdk2tewEM50a5CbF7APPceLjlsXsD7rgj+t2xewHwnZr0Ybl7A\",\"dtype\":\"float64\",\"shape\":[162]},{\"__ndarray__\":\"C9KMRdOdXsDRrkLKT5BewCeloNtLil7AkDF3LSGFXsD6m1CIgH9ewDnWxW00fF7Axebj2lB5XsDcupunOnZewLPqc7UVc17AS5NS0O1vXsAhsHJokW1ewPC/lezYal7AcTjzqzloXsCL4H8r2V9ewEdVE0TdX17ASWO0jqpeXsDXhopx/l5ewENWt3pOXl7AptB5jV1eXsCd9L7xtVtewKsJou4DWl7AbagY529YXsAdjxmojFdewFslWBzOVl7ACwxZ3epVXsBJS+XtCFdewOf7qfHSV17AlzldFhNXXsBt4uR+h1ZewC0mNh/XVl7Aur2kMVpXXsC9++O9aldewFdgyOpWV17Apn7eVKRYXsCd9L7xtVlewAK8BRIUW17A4L4OnDNcXsC5cCAkC1xewJVliGNdXF7AwOyePCxcXsDEfHkB9ltewB+duvJZXF7AfgBSmzhdXsBLdmwE4l9ewOj2ksZoYV7AfAqA8QxkXsAB9tGpK2VewOOlm8QgZl7ATihEwCFmXsDVWwNbJWZewM+goX+CZ17Aa2CrBItnXsD/snvysGhewOPHmLuWal7ABVH3AUhtXsB0B7EzhW5ewP2C3bBtb17A5NpQMc5vXsCuKvuuCHBewEloy7kUcV7AXBsqxvl1XsCuR+F6FH5ewF1Q3zKngV7APSe9b3yDXsC1GhL3WIRewCtqMA3Dg17A8DMuHAiDXsCwj05d+YJewPBQFOgTg17A9tGpK5+JXsAXt9EA3opewJvJN9vcjF7AdsO2RZmRXsBMT1jiAZdewNJvXwfOl17ABoGVQ4uYXsAlr84xIJlewMHKoUW2mV7AJXoZxXKbXsDOcAM+P5xewCqpE9BEnF7AKpFEL6OeXsArTUpBt59ewPbRqSufoV7AR1oqb0eiXsBVh9wMN6hewBv1EI3uql7AnRGlvcGtXsD4qpUJv7BewPdY+tAFs17Au0T11sC2XsADz72HS7hewDEIrBxaul7AcjPcgM+7XsALRiV1ArxewDVeukkMvF7AvHmqQ268XsA0nZ0MjrxewBgJbTmXvF7A+mGE8Gi9XsBv05/9SL1ewAX6RJ4kvV7AO8eA7PW8XsCUwVHy6rxewI2chT3tvF7AQuxMofO8XsCXqN4a2LxewNsWZTbIvF7A5iK+E7O8XsAK3Lqbp7xewAbYR6euvF7AWyVYHM68XsAOT6+UZbxewEeP39v0u17AmkLnNXa7XsC71XPS+7pewCk/qfbpul7An+V5cHe6XsC78lmeB7tewLdFmQ0yu17A6N7DJce7XsDECOHRxrtewABvgQTFu17ArtNIS+W7XsBlpUkp6LxewDBHj9/bvF7Au37Bbti8XsDmP6TfvrxewGjon+BivV7ACvSJPEm+XsCamZmZmb1ewE/pYP2fvV7A44i1+BS+XsAqb0c4Lb5ewJM16iEav17AJZLoZRS/XsBD/wQXK75ewFuxv+yevl7AWFaalIK+XsAbDeAtkL5ewNlCkIMSwF7AnNzvUBTCXsAJUFPL1sJewH4dOGdEw17Az0nvG1/DXsCTV+cYkMNewNXKhF/qw17AXKyowTTEXsBZi08BMMRewMdjBirjwV7ALNSa5h2/XsB3FVJ+Ur1ewOC593DJu17ACks8oGy6XsCILqhvmblewKq3BrZKuF7AVRNE3Qe2XsATJ/c7FLNewNHLKJZbsF7AzjY3pieuXsDOwp52+KdewCeDo+TVnV7A\",\"dtype\":\"float64\",\"shape\":[162]},{\"__ndarray__\":\"JvxSP2/cXcCQTl35LNtdwJijx+9t2l3Ag/qWOV3YXcAzUBn/PtVdwJM6AU2E013Aml/NAYLTXcB9rrZif9NdwHwKgPEM0l3ABvUtc7rMXcCt3XahuchdwPTg7qzdwl3AFw6EZAG/XcCpE9BE2L5dwEc9RKM7ul3AQdR9AFKxXcArNXugFahdwHXlszwPoF3AMEymCkaXXcDwUBToE5ddwL4Ts14Ml13AwM+4cCCWXcAJ/reSHZVdwCY2H9eGlF3AhCo1e6CRXcD0iTxJupJdwFVNEHUfkF3Ac/T4vU2PXcB65A8Gno9dwNrJ4Ch5jV3A9Bq7RPWKXcBh4Ln3cIldwGN6whIPiF3Aza/mAMGGXcBjesISD4hdwLR224Xmhl3As9KkFHSFXcCuDRXj/INdwHVZTGw+hF3AN3Fyv0ODXcCbG9MTloJdwHtrYKsEgV3AvjCZKhiBXcCp3hrYKn9dwKrx0k1igF3AuJIdG4GAXcDUQzS6g4BdwD4/jBAegV3Au2HbosyGXcC5quy7IoxdwGyyRj1Ej13ARZ4kXTOTXcBGCI82jpRdwG/Tn/1ImV3AcVrwoq+cXcAZOQt72p1dwAiPNo5YoV3ATyMtlbenXcCCrRIsDq1dwBUA4xk0sF3AOzYC8bqyXcCbj2tDxbZdwFDCTNu/ul3AfT81XrrBXcB9Ik+SrsVdwMsQx7q4yV3ArYbEPZbMXcCSlsrbEc5dwBYTm49rz13A3J212y7QXcBCQ/8EF9VdwNuizAaZ3F3AhjjWxW3iXcC1VN6OcOJdwKPp7GRw4l3Aaoe/JmviXcBGsdzSauJdwF9BmrFo4l3AB/AWSFDiXcCKAn0iT+JdwMqJdhVS4l3AChFwCFXiXcDVz5uKVOJdwD9SRIZV4l3AJH8w8NzhXcBrK/aX3eFdwNatnpPe4V3Aq7LviuDhXcCrsu+K4OFdwKEt51Jc4V3ARDS6g9jfXcCxFp8CYN5dwKbQeY1d3l3AysNCrWneXcAz4Zf6ed9dwG8vaYzW4V3A1pC4x9LhXcC536Eo0OFdwGsOEMzR4V3AMdP2r6zkXcA7GRwlr+RdwEI+6Nms5F3AwRw9fm/jXcBFZFjFG+NdwIqT+x2K4l3AeGLWi6HgXcAlXTP5Zt9dwKtbPSe93V3A\",\"dtype\":\"float64\",\"shape\":[108]},{\"__ndarray__\":\"t2J/2T0FXsBlGeJYFwNewEXY8PRKAV7Aevzepj8BXsD7V1aalABewF8HzhlR/l3A1T4djxn8XcBKRs7CnvhdwPuuCP639l3AYf2fw3zzXcDlJ9U+HfNdwL0Yyol28V3AsOYAwRzxXcC+2ebG9PBdwBQ/xty18F3AcsRafArwXcCASL99He5dwL0Yyol27V3AQbeXNEbtXcAaho+IKe1dwMlZ2NMO7V3AtJPBUfLsXcCfzarP1exdwEm6ZvLN7F3AAtTUsrXsXcBCW86luOxdwOYivhOz7F3AnwJgPIPsXcDL8+DurOldwJvmHafo6F3A/mDguffoXcBM4NbdPOldwIPAyqFF6F3A73IR34nnXcCSeeQPBuhdwOBKdmwE6F3AvCL430rmXcCeB3dn7eRdwE0VjErq4l3AGAltOZfgXcAL0oxF099dwNI6qpog3l3ANPRPcLHcXcD/CS5W1NpdwH2utmJ/113A0qkrn+XTXcCD+pY5XdRdwJPjTulg013AR1UTRN3PXcB9kdCWc81dwFlpUgq6zV3AkNrEyf3MXcDpK0gzFs1dwBea6zTSzl3A4xk09E/QXcBpdAexM9FdwMzR4/c20V3Ak4ychT3RXcBhpu1fWdFdwD7t8Ndk0V3AqKlla33RXcD92Y8UkdFdwH0iT5Ku0V3A6N7DJcfRXcDgEKrU7NFdwMoV3uUi0l3AJ6Wg20vSXcCDNGPRdNJdwHHmV3OA0l3AipP7HYrSXcAYCW05l9JdwNhkjXqI0l3A46qy74rSXcBNSkG3l9JdwJ92+Guy0l3ASbpm8s3SXcDtgVZgyNJdwDtT6LzG0l3AbZBJRs7SXcB7iEZ3ENNdwHNLqyFx013ASMSUSKLTXcDIDFTGv9NdwKAy/n3G013AQPZ698fTXcArweJw5tldwLTIdr6f4l3Al5APejbrXcCs/3OYL/NdwL06x4Ds913AV0PiHkv7XcCrBIvDmQFewHxETIkkBF7AUkSGVbwFXsDLuRRXlQdewPNxbagYCV7AFVeVfVcKXsAlI2dhTwtewAiUTbnCC17Au+1Cc50MXsBD4h5LHw5ewAzNdRppD17AVFInoIkQXsDQs1n1uRJewAg9m1WfFV7AiEuOO6UVXsC5NlSM8xNewGagMv59Fl7APrMkQE0ZXsBXBP9byRhewJBmLJrOGF7A7Eyh8xoZXsDyzTY3phlewH8TChFwGl7A+dozSwIcXsBuNIC3QBxewG5RZoNMHF7AtLCnHf4cXsBPO/w1WR1ewG7A54cRHl7A7WRwlLweXsBV9l0R/B9ewKorn+V5IF7Aet/42jMhXsBnCp3X2CFewLivA+eMIl7A2T15WKgjXsDWkLjH0iNewP9byY6NJF7AFt7lIr4lXsC+2ebG9CZewPZiKCfaJ17A36Y/+5EoXsDChqdXyihewGkAb4EEKV7A/TBCeLQpXsDdmJ6wxClewCRFZFjFKV7AJcy0/SspXsBWvJF55CdewNl8XBsqJl7AkbjH0ockXsAdcjPcgCNewJ+rrdhfIl7ASgfr/xwiXsDSAN4CCSJewIqryr4rIl7AhgMhWcAgXsAWMIFbdx9ewMgHPZtVHV7Aj1N0JJcbXsDrHAOy1xlewCcUIuAQGF7A7+apDrkVXsCjdVQ1QRRewEGfyJOkEV7A2o8UkWEPXsCH+fIC7A1ewBnnb0IhDF7AjWK5pdUKXsCAmlq21gdewEW7Cik/BV7A\",\"dtype\":\"float64\",\"shape\":[162]},{\"__ndarray__\":\"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\",\"dtype\":\"float64\",\"shape\":[302]},{\"__ndarray__\":\"4KEo0CdiXsB8uOS4U2BewMCy0qQUYF7AYHZPHhZiXsDv4ZLjTmFewIleRrHcYF7AM1AZ/z5hXsDTTWIQWGFewKlqgqj7Yl7AqTC2EORkXsDFPZY+dGVewJZDi2znZV7Aq+y7IvhlXsAn2lVI+WVewJLoZRTLaV7AqFKzB1prXsC1VN6OcGxewHjRV5BmbF7ADk+vlGVsXsCDUUmdgGxewKJFtvP9bF7As9KkFHRtXsCx4emVsm5ewPKwUGuab17AsyRATS1xXsDnUlxV9nFewLNBJhk5c17ACks8oGx2XsBTeTvCaXlewMCV7NgIfF7Akst/SL99XsBJ10y+2X5ewP1NKETAf17AcXK/Q1GAXsChEAGHUIFewMdLN4lBgl7AUFPL1vqCXsA0SwLU1IRewNFcp5GWhl7ALZW3I5yGXsA/AKlNnIZewFMFo5I6h17AHThnRGmHXsBSflLt04dewLG/7J48iF7ARl9BmrGIXsBXQ+IeS4lewETAIVSpiV7AMQisHFqKXsAJM23/yopewM6qz9VWil7A0egOYmeKXsD6CtKMRYtewMNHxJRIjF7A0GG+vACNXsBt5/up8YxewAHeAgmKjV7A1EM0uoOOXsBpUgq6vY5ewBfZzvdTj17Ag0wychaQXsCmuKrsu5BewHGPpQ9dkl7ANGjon+CUXsAWMIFbd5dewGFsIchBmV7ATP28qUiZXsCBPpEnSZlewNun4zEDmV7Aet/42jOZXsBehZSfVJlewMu5FFeVmV7APQ/uztqZXsDulA7W/5lewJmByvj3mV7AJ4i6D0CaXsADJnDrbppewJT2Bl+Yml7AdO/hkuOaXsDp8Xub/ppewLeXNEbrml7ABvUtc7qaXsAGu2HboppewEop6PaSml7ALudSXFWaXsCuZMdGIJpewEFl/PuMmV7A2UKQgxKYXsCvmXyzzZdewOgTeZJ0l17AC0YldQKWXsB9s82N6ZVewMAhVKnZlV7AJEVkWMWVXsBIxJRIopVewNAPI4RHlV7A9P3UeOmUXsAmqrcGtpRewBh9BWnGkF7AUDblCu+OXsAX8Z2Y9YxewBSzXgzlil7AzvxqDhCIXsCBJsKGp4VewAGkNnFyhV7A9b7xtWeEXsBSflLt04NewEUNpmH4gl7AuarsuyKCXsBtxf6ye4BewNklqrcGgF7A9ihcj8J/XsCHbYsyG35ewOJ1/YLdfF7ABFYOLbJ7XsCbyTfb3HpewJj6eVORel7AHcnlP6R5XsDayeAoeXdewO9yEd+JdV7ApIgMq3h1XsB2MjhKXnVewCBB8WPMc17AsBu2LcpyXsDDtkWZDXRewDeOWItPc17Ay2d5HtxxXsBq3nGKjnBewL8OnDOibl7AZqAy/n1uXsC1/SsrTW5ewHwnZr0Ybl7A+64I/rdsXsA89x4uOWxewEM50a5CbF7AK/aX3ZNrXsCMLQQ5KGtewFRXPsvzal7A1EM0uoNqXsDV7IFWYGpewIT1fw7zaV7AHm0csRZpXsAp6PaSxmhewB/0bFZ9aF7ADk+vlGVoXsBHA3gLJGZewIaPiCmRZl7AeEXwv5VmXsAlI2dhT2dewJKWytsRaF7As++K4H9lXsCLGkzD8GNewE0QdR+AYl7AwjQMHxFhXsAfLjnulGBewKMjufyHYF7A6IL6ljlhXsD0iTxJumBewLKACdy6YV7AQuxMofNiXsBPQBNhw2NewPjCZKpgYl7A\",\"dtype\":\"float64\",\"shape\":[162]},{\"__ndarray__\":\"mpSCbi9PXsD8qfHSTUpewEEOSphpR17AiXssfehEXsCpMLYQ5ERewBea6zTSRF7AVDVB1H1EXsActi3KbERewJwzorQ3RF7AJ07udyhEXsCny2Ji80NewLMpV3iXQ17Afa62Yn9DXsCM+E7MekNewMxiYvNxQ17AITzaOGJDXsAIjzaOWENewJet9UVCQ17Afm/Tn/1CXsD0/dR46UJewN5xio7kQl7AHEKVmj1CXsCAfXTqykFewIyEtpxLQV7Amz3QCgxBXsDUZTGx+UBewM0jfzDwQF7AkKD4MeZAXsDUK2UZ4kBewPFL/bypQF7A1H0AUptAXsAN4C2QoEBewJAUkWEVQV7AHsTOFDpBXsD5Zpsb00FewEesxacAQl7APIOG/glCXsC5x9KHLkJewN8yp8tiQl7A8fRKWYZCXsD/7EeKyEJewIwtBDkoQ17AM1AZ/z5DXsBETIkkekNewKQZi6azQ17AumsJ+aBDXsDMf0i/fUNewP5IERlWQ17AIR/0bFZDXsDM0eP3NkNewDS/mgMEQ17AOKEQAYdCXsA51sVtNEJewOtztRX7QV7AL6hvmdNBXsAZxXJLq0FewKyQ8pNqQV7AU3k7wmlBXsAP7s7abUFewFyPwvUoQl7AO6qaIOpCXsAhWcAEbkNewA2mYfiIRF7AOiNKe4NFXsDDKt7IPEZewNrhr8kaR17AlbcjnBZIXsAO+PwwQkhewAw89x4uSV7AixpMw/BJXsB47j1cckpewGDI6lbPS17AKpFEL6NMXsC0dtuF5kxewNKMRdPZTV7A48KBkCxQXsA+XHLcKVFewG/whclUUV7ADhDM0eNRXsBnJ4Oj5FFewMA+OnXlUV7AK8HicOZRXsDOpbiq7FFewA4QzNHjUV7ADhDM0eNRXsB5knTN5FFewPRsVn2uUl7AWg2JeyxTXsC6MT1hiVNewBHfiVkvVF7A/ACkNnFUXsBqwYu+glRewO1kcJS8VF7AUAEwnkFVXsBW1GAahlVewItPATCeVV7AFsH/VrJVXsBvEoPAylVewLkZbsDnVV7A+HDJcadWXsCze/KwUFdewM9r7BLVV17AcY+lD11YXsCGWtO841hewKEQAYdQWV7A+dozSwJaXsDcgM8PI1pewBiV1AloWl7AIxCv6xdaXsDt8NdkjVpewP9byY6NWl7A7fDXZI1aXsCjQJ/Ik1pewDKP/MHAW17A43DmV3NgXsD/CS5W1GRewAEwnkFDZV7AnbryWZ5lXsBihPBo42ZewHgoCvSJZl7Ap1zhXS5mXsAdcjPcgGVewC4cCMkCZl7ArYbEPZZmXsC7RPXWwGZewBYwgVt3Z17A9mIoJ9pnXsBgyOpWz2dewLq9pDFaZ17AjzaOWItnXsBCPujZrGhewFiQZiyaaF7Aea9amfBnXsDjiLX4FGhewBV0e0ljaF7Aj+TyH9JnXsD1LXO6LGhewPmgZ7PqZ17AZCMQr+tnXsA2PL1SlmdewLeXNEbrZl7Ab57qkJtlXsCqZWt9kWRewCJUqdkDY17AdjdPdchhXsBL6gQ0EWBewMxAZfz7Xl7AeO49XHJeXsBTP28qUl1ewAQhWcAEXF7AfJv+7EdaXsB9rrZif1lewBiV1AloWF7A2bERiNdXXsBwmdNlMVdewNBE2PD0Vl7Aste7P95VXsBHcvkP6VVewKTk1TkGVl7AE7h1N09VXsBPr5RliFNewEG3lzRGT17A\",\"dtype\":\"float64\",\"shape\":[162]},{\"__ndarray__\":\"BDkoYab1XcBoke18P/VdwHEDPj+M9F3AZAYq49/zXcA/AKlNnPJdwPs/h/ny8F3AmMCtu3nwXcA1QdR9APBdwNRDNLqD7l3ARuuoaoLsXcBgzQGCOexdwGwm32xz613A29yYnrDqXcAxX16AfepdwMpUwaik6F3AMevFUE7oXcAvbqMBvOddwAQhWcAE5l3AnZ0MjpLlXcBMcVXZd+VdwMEcPX5v5V3A1pC4x9LlXcCOWItPAeZdwDfg88MI513AUz9vKlLnXcCI1/ULduddwESGVbyR513AvW987ZnnXcABTYQNT+ddwF3+Q/rt5V3AL/oK0ozlXcAmAWpq2eRdwOcAwRw95F3AcvkP6bfjXcBY5xiQveJdwAkWhzO/4l3AdsO2RZnjXcDhfyvZseNdwJ0Rpb3B413AJhk5C3vkXcDH9IQlHuRdwAVR9wFI513ApSxDHOvmXcB/pIgMq+hdwLh1N0916F3A10y+2eboXcCb5h2n6OhdwMvz4O6s6V3AnwJgPIPsXcDmIr4Ts+xdwEJbzqW47F3AAtTUsrXsXcBJumbyzexdwJ/Nqs/V7F3AtJPBUfLsXcDJWdjTDu1dwBqGj4gp7V3AQbeXNEbtXcC9GMqJdu1dwIBIv30d7l3AcsRafArwXcAUP8bctfBdwL7Z5sb08F3AsOYAwRzxXcC9GMqJdvFdwOUn1T4d813AYf2fw3zzXcD7rgj+t/ZdwEpGzsKe+F3A1T4djxn8XcBfB84ZUf5dwPtXVpqUAF7Aevzepj8BXsBF2PD0SgFewIhjXdxGAV7AVkj5SbUBXsCx+bg2VAJewNRIS+XtAl7AgbIpV3gDXsC6TiMtlQNewCvB4nDmA17Azt+EQgQEXsDgoSjQJwRewHxhMlUwBF7AHEKVmj0EXsADJnDrbgRewKpla32RBF7A7Sqk/KQEXsARAYdQpQRewBEBh1ClBF7A/5WVJqUEXsDbv7LSpARewNu/stKkBF7AylTBqKQEXsCUE+0qpARewJQT7SqkBF7Agqj7AKQEXsBf0hitowRewE1nJ4OjBF7ATWcng6MEXsBNZyeDowRewF/SGK2jBF7AKpFEL6MEXsAYJlMFowRewPRPcLGiBF7A9E9wsaIEXsD0T3CxogRewJQT7SqkBF7AlBPtKqQEXsCUE+0qpARewJQT7SqkBF7AlBPtKqQEXsCUE+0qpARewHE9CtejBF7AcT0K16MEXsBf0hitowRewE1nJ4OjBF7AGCZTBaMEXsD0T3CxogRewNF5jV2iBF7Ais3HtaEEXsCKzce1oQRewP+ye/KwBF7AIoleRrEEXsCUMNP2rwRewDv8NVmjBF7AraOqCaIEXsCto6oJogRewGrecYqOBF7AzR5oBYYAXsDKGvUQjf5dwMXJ/Q5F/V3A+HDJcaf8XcD4/DBCePxdwKdc4V0u/F3ANSkF3V78XcBZNJ2dDPxdwCTusfSh+13AZd8Vwf/6XcCwcmiR7fpdwHUfgNQm+l3Ar0LKT6r5XcAmx53SwfhdwJwWvOgr+F3AOKEQAYf4XcDGM2jon/hdwH/ZPXlY+F3AUTHO34T4XcC8s3bbhfhdwOIeSx+6+F3Ae0563/j4XcAzxLEubvldwGCrBIvD+V3AOQt72uH5XcCH3Aw34PldwM9r7BLV+V3AxLEubqP5XcAlOzYC8fhdwKs+V1ux913AOKEQAYf2XcCAZaVJKfZdwMuhRbbz9V3A\",\"dtype\":\"float64\",\"shape\":[162]},{\"__ndarray__\":\"UkSGVbwFXsB8REyJJARewKsEi8OZAV7AV0PiHkv7XcC9OseA7PddwKz/c5gv813Al5APejbrXcC0yHa+n+JdwCvB4nDm2V3AQPZ698fTXcCgMv59xtNdwBIUP8bc013AJ4Oj5NXVXcA+rg0V49ZdwLd/ZaVJ3V3Aarx0kxjgXcCx3NJqSOJdwHMR34lZ5V3A02pI3GPlXcDhtOBFX+ddwEUSvYxi513Agv+tZMfoXcDvycNCreldwN1e0hit6V3AYDyDhv7pXcC86CtIM+xdwCTRyyiW7V3AY3/ZPXnwXcCuu3mqQ/RdwHrHKTqS9V3A65Cb4Qb4XcDopPeNr/ldwN/42jNL/F3ABg39E1z+XcDDtkWZDQBewA+5GW7AAV7ATBqjdVQDXsBv8IXJVANewCGTjJyFA17AWp4Hd2cFXsBY5xiQvQhewA8LtaZ5C17AmSoYldQLXsBQcLGiBg1ewIBIv30dDl7Ag/qWOV0OXsAY7IZtiw5ewAjm6PF7D17Arrt5qkMQXsDd6jnpfRFewKCmlq31EV7AyjLEsS4SXsDLLa2GxBFewBXj/E0oEl7AIoleRrESXsAe4bTgRRNewIB9dOrKE17AtaZ5xykUXsCAn3HhQBRewJiG4SNiFF7AX5hMFYwUXsCGWtO84xRewLH5uDZUFl7A9GxWfa4YXsD76NSVzxhewJ+wxAPKGF7AkGYsms4YXsBXBP9byRhewD6zJEBNGV7AZqAy/n0WXsC5NlSM8xNewIhLjjulFV7ACD2bVZ8VXsDQs1n1uRJewFRSJ6CJEF7ADM11GmkPXsBD4h5LHw5ewLvtQnOdDF7ACJRNucILXsAlI2dhTwtewBVXlX1XCl7A83FtqBgJXsDLuRRXlQdewA==\",\"dtype\":\"float64\",\"shape\":[83]},{\"__ndarray__\":\"atlaXyQAXsBcj8L1KABewLnH0ocuAF7AEd+JWS8AXsA1tWytLwBewIrIsIo3AF7ALq2GxD0AXsB4l4v4TgBewIQSZtr+E17Aahg+IqYgXsAW3uUiviFewICCixU1Il7AAfvo1JUjXsCC/61kxyRewCTW4lMAJl7AA1slWBwoXsAB3gIJiilewO2BVmDIKl7AYAK37uYrXsBiFW9kHi1ewE9AE2HDLV7AsI9OXfkuXsDye5v+7C9ewCl5dY4BMV7Ae737470yXsAcfGEyVTRewDIDlfHvNV7AIc1YNJ03XsDC+j+H+ThewLsPQGoTO17A12mkpfI8XsA0SwLU1D5ewCVdM/lmQV7AU3k7wmlBXsCskPKTakFewBnFckurQV7AL6hvmdNBXsDrc7UV+0FewDnWxW00Ql7AOKEQAYdCXsA0v5oDBENewMzR4/c2Q17AIR/0bFZDXsD+SBEZVkNewMx/SL99Q17AumsJ+aBDXsCkGYums0NewERMiSR6Q17AM1AZ/z5DXsCMLQQ5KENewP/sR4rIQl7A8fRKWYZCXsDfMqfLYkJewLnH0ocuQl7APIOG/glCXsBHrMWnAEJewPlmmxvTQV7AHsTOFDpBXsCQFJFhFUFewA3gLZCgQF7A1H0AUptAXsD0MorllkBewGfttgvNP17AV3iXi/g+XsC8eapDbj5ewAh3Z+22PV7AxsTm49o8XsC1N/jCZDxewC5zuiwmPF7AEmvxKQA8XsCEns2qzztewNWytb5IOl7AzlMdcjM4XsDja88sCTZewFORCmMLNV7AMj1hiQc0XsDNBplk5DJewAHeAgmKMV7AIQclzLQvXsAZVvFG5i1ewFvOpbiqLF7Aj8L1KFwrXsBS1QRR9ylewFQdcjPcJl7AIoleRrEgXsBS8uocAxZewP94r1qZCl7Az2bV52oJXsDJcad0sAhewDl/EwoRCF7A0xOWeEAHXsCMuWsJ+QZewHpwd9ZuBV7AVKnZA60EXsCAK9mxEQRewLaEfNCzA17AxawXQzkDXsBGsdzSagJewMdLN4lBAl7Ap1zhXS4CXsDkDwaeewFewNP2r6w0AV7AO+RmuAEBXsBwJTs2AgFewLfRAN4CAV7At9EA3gIBXsC30QDeAgFewCx96IL6AF7AJTs2AvEAXsAQr+sX7ABewLR224XmAF7AhlrTvOMAXsB7oBUYsgBewM07TtGRAF7AXFX2XREAXsBZUYNpGABewECk374OAF7AY3rCEg8AXsADPj+MEABewGB2Tx4WAF7AkpbK2xEAXsD8GHPXEgBewOutga0SAF7AJxQi4BAAXsDDtkWZDQBewOeMKO0NAF7AR+aRPxgAXsD5FADjGQBewDJ3LSEfAF7ASgfr/xwAXsBu3c1THQBewDJ3LSEfAF7ATihEwCEAXsDu68A5IwBewO7rwDkjAF7A\",\"dtype\":\"float64\",\"shape\":[135]},{\"__ndarray__\":\"HT1+b9PnXsD2XRH8b+VewLIubqMB5F7AUn5S7dPhXsA0aOif4N5ewOf7qfHS3V7AvJaQD3rcXsAkfzDw3NtewPgZFw6E2l7AtJPBUfLaXsDzjlN0JNtewCTusfSh3V7AKLhYUYPbXsAniLoPQNpewCpSYWwh2l7Ay/j3GRfaXsBxWvCir9ZewPIMGvon0l7Ae9rhr8nOXsBOucK7XMhewKgAGM+gxV7AbHh6pSzDXsBJgJpatsJewM5wAz4/wF7A2QjE6/q7XsBv2LYos7lewM0Bgjl6vF7AnZ0MjpK9XsB6pSxDHL1ewInS3uALvV7AZTbIJCO7XsCeQUP/BLlewLEWnwJgtF7A0/avrDSvXsCHFtnO96tewOaRPxh4qF7APWGJB5SlXsCOklfnGKJewK7TSEvln17AaW/whcmgXsBd/kP67Z9ewMA+OnXln17AeZJ0zeSfXsBbmfBL/Z5ewO27Ivjfol7AeNFXkGamXsDmeXB31qZewH4YITzapl7AIk+SrpmoXsAcsRafAqpewFDCTNu/ql7A9MMI4dGsXsBdv2A3bK1ewB1VTRB1r17A+rg2VIyvXsAlWBzO/K5ewNmZQuc1rl7A7bsi+N+sXsB/9iNFZK5ewHLcKR2ssV7AwaikTkC1XsBcctwpHbhewFlMbD6uuV7A8IXJVMG8XsBb64uEtsBewGnjiLX4wl7An47HDFTEXsAqb0c4LcRewFmLTwEwxF7AXKyowTTEXsDVyoRf6sNewJNX5xiQw17Az0nvG1/DXsB+HThnRMNewAlQU8vWwl7AnNzvUBTCXsDZQpCDEsBewBsN4C2Qvl7AWFaalIK+XsBbsb/snr5ewEP/BBcrvl7AJZLoZRS/XsCTNeohGr9ewCpvRzgtvl7A44i1+BS+XsBP6WD9n71ewJqZmZmZvV7ACvSJPEm+XsBo6J/gYr1ewOY/pN++vF7Au37Bbti8XsAwR4/f27xewGWlSSnovF7ArtNIS+W7XsAAb4EExbtewMQI4dHGu17AQ3OdRlq8XsA8MevFUL5ewMfXnlkSwF7ALgQ5KGHCXsBLWYY41sNewDV7oBUYxl7A+IiYEknIXsCNnIU97cpewGIQWDm0zl7AJ6CJsOHPXsBRa5p3nNBewEG3lzRG0V7AsI9OXfnUXsAV4/xNKNZewDfDDfj81l7AkElGzsLYXsDudygK9NlewG0csRaf2l7AQiECDqHcXsDrqGqCqN1ewF9egH103l7AS8gHPZvfXsC/gjRj0eBewFOu8C4X4V7A2evdH+/hXsACK4cW2eJewLt+wW7Y4l7A9MMI4dHiXsCXqN4a2OJewGJnCp3X4l7AcJS8OsfiXsCFQgQcQuNewKg65Ga4417AZFjFG5njXsASpb3BF+RewPYjRWRY5V7ARuuoaoLmXsD7y+7Jw+ZewHlYqDXN517A\",\"dtype\":\"float64\",\"shape\":[135]}],\"y\":[{\"__ndarray__\":\"JXoZxXLzQkCQFJFhFfNCQJhuEoPA8kJAQ61p3nHyQkATSfQyivFCQHLEWnwK8EJAxRuZR/7sQkCyYyMQr+tCQK2GxD2W6kJAx/SEJR7oQkDtgVZgyOZCQLSrkPKT4kJA8rVnlgTcQkC4zOmymNxCQOIGfH4Y3UJAdc3km23eQkBhMlUwKuFCQGL4iJgS5UJAR4/f2/TnQkDxLhfxnehCQI3ROqqa6EJAeEXwv5XoQkBGsdzSauhCQEpenWNA5kJA3o5wWvDiQkDZQpCDEuJCQBZqTfOO30JAXhH8byXfQkCZZOQs7N1CQCy8y0V820JAg4b+CS7aQkCPqiaIutdCQBL3WPrQ1UJAoS3nUlzRQkBQNuUK785CQGDI6lbPyUJA9b7xtWfGQkDHEWvxKcRCQJCIKZFEw0JAkZvhBnzCQkB4YtaLocBCQMAhVKnZv0JAT3XIzXC/QkAldQKaCL9CQNGWcymuvkJAICkiwyq+QkBv9Zz0vr1CQPbuj/eqvUJAYY4ev7e9QkDLEMe6uL1CQP1NKETAvUJAxAjh0ca9QkCLw5lfzb1CQMR8eQH2vUJAboYb8Pm9QkBnfjUHCL5CQDblCu9yvUJAsBu2Lcq8QkDOqs/VVrxCQMAma9RDvEJAZOlDF9S7QkABwRw9frtCQEgWMIFbu0JArMWnABi7QkD7y+7Jw7pCQNF0djI4ukJAfCx96IK6QkCYwK27ebpCQDuqmiDqukJA5fIf0m+7QkAH6/8c5rtCQCXpmsk3u0JA8iTpmsm7QkAXK2owDbtCQP5g4Ln3vEJAPlxy3Cm9QkA9m1Wfq71CQA+5GW7Av0JAol2FlJ/AQkAwR4/f28BCQCL99nXgwEJAhA1Pr5TBQkDt2AjE68JCQIsyG2SSxUJAIO9VKxPGQkDek4eFWsdCQIMXfQVpykJA66hqgqjLQkAy5q4l5MtCQBu7RPXWzEJAmrFoOjvNQkCFmbZ/Zc1CQH506spnzUJAGqiMf5/NQkAzbf/KSs9CQGnGouns0EJA4iNiSiTRQkBCIQIOodJCQKn7AKQ21UJAtWytLxLWQkBORSqMLdhCQANgPIOG2kJA5gXYR6faQkDmXIqrytpCQOW4UzpY20JA44i1+BTcQkAOMsnIWdxCQLgGtkqw3EJAflLt0/HcQkBTkQpjC91CQOFASBYw3UJAbosyG2TeQkCHvyZr1N9CQBsv3SQG4UJATtGRXP7jQkDjwoGQLORCQNz0Zz9S5EJAv7fpz37kQkAG9S1zuuRCQCHqPgCp5UJA4JwRpb3lQkAmGTkLe+ZCQJYJv9TP50JAMUJ4tHHoQkDb+X5qvOhCQBjPoKF/6kJACp3X2CXuQkAWMIFbd+9CQOIBZVOu8EJAGmmpvB3xQkBTy9b6IvFCQKVJKej28kJAZfz7jAvzQkCeB3dn7fJCQB0gmKPH80JAVkj5SbXzQkA=\",\"dtype\":\"float64\",\"shape\":[136]},{\"__ndarray__\":\"avtXVppEQ0BhTzv8NUFDQA2mYfiIQENAt5xLcVVBQ0AM6lvmdEFDQF7XL9gNQ0NAzsKedvhDQ0BZTGw+rkVDQDpY/+cwR0NA+rg2VIxPQ0B2cRsN4FFDQHgoCvSJWENAEk4LXvRZQ0Cu8C4X8VlDQGCrBIvDWUNAkst/SL9ZQ0CEZAETuFlDQCgPC7WmWUNAthDkoIRZQ0DN5JttblhDQCNnYU87WENA7BLVWwNXQ0DUghd9BVVDQFfPSe8bU0NAwyreyDxSQ0BTP28qUlFDQJrOTgZHUUNAwHgGDf1PQ0BDBBxClU5DQEj+YOC5S0NA+Q/pt69LQ0BdUN8yp0tDQOZciqvKSkNAS8gHPZtJQ0Dh7qzddklDQMb5m1CISENAQ8U4fxNGQ0AvNNdppEVDQL6kMVpHQUNAE5uPa0NBQ0A+lj50QUFDQA3gLZCgQENAuaXVkLg/Q0BIisiwij9DQHOdRloqP0NAyol2FVI+Q0BbXyS05TxDQB0Dste7O0NAh22LMhs8Q0CSkbOwpzlDQIWZtn9lOUNAG55eKcs4Q0B1H4DUJjZDQM8xIHu9M0NA/wQXK2owQ0CxbVFmgyxDQPUQje4gKkNAHOviNhooQ0AMk6mCUSVDQPg2/dmPJENAQGoTJ/cjQ0AvqG+Z0yFDQPRsVn2uHkNA6rKY2HwcQ0BN+KV+3hxDQAZM4NbdHENAW0I+6NkcQ0AwR4/f2xxDQNQrZRniHENAogvqW+YcQ0ApP6n26RxDQKlNnNzvHENAaQBvgQQdQ0D2C3bDth1DQKbtX1lpHkNA7Eyh8xofQ0BeaK7TSB9DQFdgyOpWH0NAAYdQpWYfQ0DkTulg/R9DQOoENBE2IENA46qy74ogQ0DxaOOItSBDQM0jfzDwIENAqG+Z02UhQ0C2+BQA4yFDQLSrkPKTIkNAyatzDMgiQ0DWxW00gCNDQJs4ud+hJENAU9DtJY0lQ0Cg/UgRGSZDQLyuX7AbJkNAkrOwpx0mQ0BnuAGfHyZDQLJjIxCvJ0NArmTHRiAqQ0CRCmMLQS5DQEinrnyWL0NAvw6cM6IwQ0CasWg6OzFDQBNJ9DKKMUNALH3ogvoyQ0Dd6jnpfTNDQH/2I0VkNENAREyJJHo1Q0ALXvQVpDVDQPwApDZxNkNAkSxgArc2Q0Azbf/KSjdDQHJtqBjnN0NA4jsx68U4Q0DHYwYq4ztDQJM6AU2EPUNA2VpfJLQ9Q0Auc7osJj5DQFaalIJuP0NAh22LMhtAQ0D/lZUmpUBDQLfu5qkOQUNA/pqsUQ9BQ0D+KytNSkFDQLyWkA96QkNAPUm6ZvJBQ0DXTL7Z5kJDQPQVpBmLQkNACr/Uz5tCQ0Brt11orkNDQOKS407pRENAcJnTZTFFQ0B0tRX7y0ZDQJeQD3o2R0NAgVt381RHQ0DfN772zEZDQBQF+kSeRENA\",\"dtype\":\"float64\",\"shape\":[135]},{\"__ndarray__\":\"AYdQpWbDQ0AlXTP5ZsNDQARWDi2ywUNAAAAAAAC8Q0An9zsUBbpDQJ3X2CWqt0NA4C2QoPi1Q0BN1qiHaLRDQPzjvWplskNAQBNhw9OvQ0BYObTIdq5DQI2chT3trENArMq+K4KrQ0DCNAwfEatDQAJlU67wqkNA9BWkGYuqQ0A/OnXls6hDQBTLLa2GqENAIoleRrGoQ0DHKTqSy6dDQEht4uR+p0NAcr9DUaCnQ0Didf2C3ahDQB/0bFZ9pkNAkgVM4NalQ0BENLqD2KVDQOAtkKD4pUNAw2SqYFSmQ0CCxeHMr6ZDQJ57D5ccp0NAXvQVpBmnQ0Be1y/YDadDQEImGTkLp0NAQiYZOQunQ0A0v5oDBKdDQNeGinH+pkNAbATidf2mQ0BQU8vW+qZDQHtOet/4pkNA12mkpfKmQ0CQoPgx5qZDQPsioS3npkNAnuqQm+GmQ0A7jbRU3qZDQNAKDFndpkNAO420VN6mQ0DJ5T+k36ZDQNAKDFndpkNApg9dUN+mQ0DecYqO5KZDQJCg+DHmpkNASfQyiuWmQ0DXTL7Z5qZDQF2/YDdsp0NAq7LviuCnQ0BA3qtWJqhDQP/nMF9eqENAf03WqIeoQ0DNzMzMzKhDQHfbheY6qUNANjy9UpapQ0B1zeSbbapDQInS3uALq0NA1uJTAIyrQ0AVqTC2EKxDQP/sR4rIrENARS+jWG6tQ0CEns2qz61DQIsaTMPwrUNAboYb8PmtQ0BfB84ZUa5DQO3w12SNrkNAZohjXdyuQ0DXFwltOa9DQEjElEiir0NAJH8w8NyvQ0B/MPDce7BDQMyXF2AfsUNADB8RUyKxQ0ATYcPTK7FDQN3Sakjcs0NAroGtEiy2Q0BdiqvKvrdDQFM/bypSuUNAOh4zUBm7Q0DT3uALk71DQIEJ3Lqbv0NAUDblCu/CQ0CG5jqNtMRDQLgGtkqwxENATihEwCHEQ0DIJCNnYcdDQG8vaYzWyUNAHjNQGf/OQ0CCHJQw09JDQH4YITza1ENA56kOuRnWQ0BK0jWTb9pDQOf7qfHS3UNAeEXwv5XcQ0DXTL7Z5t5DQANgPIOG3kNAJ6Wg20viQ0AabsDnh+VDQCfaVUj55UNAw9MrZRnmQ0BKXp1jQOZDQNSCF30F6UNA+b1Nf/brQ0D7y+7Jw+5DQLDmAMEc8UNAfqmfNxXxQ0DwiuB/K/FDQK00KQXd8kNARUdy+Q/1Q0CXcymuKvdDQEymCkYl+UNAgufewyX7Q0A34PPDCP1DQGcKndfY/UNAlxx3SgcDREDMC7CPTgVEQJp8s82NBURAD9HoDmIHREBt5/up8QpEQB2UMNP2C0RA4nX9gt0MREDGxObj2gxEQOmayTfbDERAfXkB9tENREDri4S2nA9EQElL5e0IE0RAliGOdXETREBlARO4dRNEQITYmULnDURA7BLVWwMLRED+8V61MglEQJg0RuuoBkRAVfZdEfz/Q0B1kxgEVvpDQBQ/xty19ENAv0hoy7nwQ0Bmg0wycu5DQMRafAqA7UNAvR3htODpQ0AVV5V9V+hDQFu21hcJ5UNAAMYzaOjjQ0D/PuPCgeBDQNQrZRni3ENAmQ0yycjZQ0AwgVt389hDQMPwETEl1kNAKlJhbCHUQ0DgZ1w4ENJDQEdy+Q/pz0NA7DTSUnnPQ0CDbi9pjM5DQJQT7SqkzENAv5oDBHPMQ0Djx5i7lshDQF97ZkmAwkNA\",\"dtype\":\"float64\",\"shape\":[162]},{\"__ndarray__\":\"HHxhMlU0Q0Bxcr9DUTRDQF7XL9gNM0NAlSu8y0UwQ0CvQspPqi1DQNO84xQdKUNA2ZQrvMslQ0C+TX/2IyFDQII5evzeGkNAX0ax3NIWQ0D8Uj9vKhJDQK9Cyk+qDUNA1c+bilQIQ0C5NlSM8wNDQAzNdRppAUNApPyk2qf/QkDXaaSl8v5CQH5S7dPx/EJA8BZIUPz4QkAfv7fpz/ZCQG8qUmFs9UJAQ+c1donyQkAw2A3bFvFCQPQau0T17kJAea9amfDrQkDDnnb4a+pCQCb8Uj9v6kJA2Ls/3qvqQkAVxhaCHOxCQMgHPZtV70JAcy7FVWXvQkBkBirj3+9CQPj8MEJ48EJAsBu2Lcr0QkCCqPsApPZCQCuk/KTa90JA8WjjiLX4QkATuHU3T/lCQD24O2u3+UJALNSa5h37QkAfnbryWf5CQGkdVU0QAUNAWcAEbt0BQ0DSOqqaIAJDQG3KFd7lAkNAlj50QX0DQ0A5l+KqsgNDQNMwfERMBUNA5zqNtFQGQ0A1KQXdXgZDQFQ1QdR9CENA0qkrn+UJQ0A1Bwjm6AlDQJKzsKcdCkNAmfViKCcKQ0DXaaSl8gpDQJfK2xFOC0NA0xOWeEANQ0DeyDzyBw9DQEHUfQBSD0NADr4wmSoQQ0CU9gZfmBBDQGDNAYI5EkNA5Pc2/dkTQ0DoMF9egBVDQC6QoPgxFkNAEFg5tMgWQ0Afv7fpzxZDQD8djxmoGENAYhBYObQYQ0DGpwAYzxhDQIY97fDXGENAlKRrJt8YQ0A+IqZEEhlDQC6QoPgxGkNArhIsDmcaQ0A0nZ0MjhpDQDS6g9iZGkNASP5g4LkbQ0BbQj7o2RxDQAZM4NbdHENATfilft4cQ0DqspjYfBxDQPRsVn2uHkNAL6hvmdMhQ0BAahMn9yNDQPg2/dmPJENADJOpglElQ0Ac6+I2GihDQPUQje4gKkNAsW1RZoMsQ0D/BBcrajBDQM8xIHu9M0NAdR+A1CY2Q0Abnl4pyzhDQIWZtn9lOUNAkpGzsKc5Q0CHbYsyGzxDQB0Dste7O0NAW18ktOU8Q0DKiXYVUj5DQHOdRloqP0NASIrIsIo/Q0C5pdWQuD9DQA3gLZCgQENAPpY+dEFBQ0ATm49rQ0FDQNo4Yi0+QUNAqbwd4bRAQ0A7wmnBiz5DQLAgzVg0PUNAm1Wfq608Q0COklfnGDxDQG40gLdAOkNARBfUt8w5Q0BZaVIKujlDQDYf14aKOUNAb2Qe+YM5Q0AvwD46dTlDQAxZ3eo5OUNA/isrTUo5Q0A+0AoMWTlDQD7t8NdkOUNAtvP91Hg5Q0CEKjV7oDlDQD24O2u3OUNABK3AkNU5Q0Ag71UrEzpDQKeWrfVFOkNAUgq6vaQ5Q0A/kSdJ1zhDQMCV7NgIOENAuhRXlX03Q0BWmpSCbjdDQLbbLjTXNUNA\",\"dtype\":\"float64\",\"shape\":[135]},{\"__ndarray__\":\"5QrvchGjQ0AOT6+UZaBDQFk0nZ0MnkNA3BFOC16cQ0DDgZAsYJpDQBsN4C2QmENAkq6ZfLOVQ0CKdhVSfpJDQPfpeMxAkUNAMjhKXp2PQ0DKiXYVUo5DQMgkI2dhi0NARiV1ApqIQ0BpNSTusYhDQPGAsilXhENArfpcbcWCQ0D/BBcraoBDQC0JUFPLfkNA6E1FKox9Q0AVHcnlP3xDQJ8CYDyDekNAlKRrJt94Q0AlQE0tW3dDQC7nUlxVdkNA5zqNtFR2Q0A8a7ddaHZDQN9PjZdudkNAQ61p3nF2Q0BDrWnecXZDQK0vEtpydkNAX16AfXR2Q0DttgvNdXZDQFg5tMh2dkNA5pE/GHh2Q0BYObTIdnZDQMPYQpCDdkNANIC3QIJ2Q0BYVpqUgnZDQFhWmpSCdkNASu8bX3t2Q0D8HYoCfXZDQErvG197dkNAX16AfXR2Q0BDrWnecXZDQAPso1NXdkNAw0fElEh2Q0DuQnOdRnZDQO5Cc51GdkNAiuWWVkN2Q0DRkVz+Q3ZDQPyp8dJNdkNAyol2FVJ2Q0A4EJIFTHhDQBiyutVzekNA2ZQrvMt9Q0BT0O0ljYFDQMRafAqAhUNAn3b4a7KGQ0CjkjoBTYhDQPZ698d7iUNAURToE3mKQ0Cl2qfjMYtDQDEIrBxajENAL6NYbmmNQ0BehZSfVI9DQD3yBwPPkUNAUHCxogaTQ0B4tHHEWpRDQPTg7qzdmkNAyM1wAz6bQ0CP5PIf0ptDQPHXZI16nENAOdbFbTScQ0AmNh/XhqJDQGCwG7YtpkNAecxAZfyrQ0BwQiECDrFDQNvEyf0OsUNA28TJ/Q6xQ0ATRN0HILFDQPDErBdDsUNAYabtX1mxQ0CTqYJRSbFDQFoqb0c4sUNAfsaFAyGxQ0A3N6YnLLFDQFMFo5I6sUNAMEymCkaxQ0CvWpnwS7FDQPcGX5hMsUNAN45Yi0+xQ0BaZDvfT7FDQJMYBFYOtUNAInGPpQ+1Q0CM1lHVBLVDQKlqgqj7tENAPx2PGai0Q0Bma32R0LJDQBpuwOeHsUNABfpEniSxQ0AMHxFTIrFDQH7GhQMhsUNANxrAWyCxQ0BTy9b6IrFDQAwfEVMisUNAzJcXYB+xQ0B/MPDce7BDQCR/MPDcr0NASMSUSKKvQ0DXFwltOa9DQGaIY13crkNA7fDXZI2uQ0BfB84ZUa5DQG6GG/D5rUNAixpMw/CtQ0CEns2qz61DQEUvo1hurUNA/+xHisisQ0AVqTC2EKxDQNbiUwCMq0NAidLe4AurQ0B1zeSbbapDQDY8vVKWqUNAd9uF5jqpQ0DNzMzMzKhDQH9N1qiHqENA/+cwX16oQ0BA3qtWJqhDQKuy74rgp0NAXb9gN2ynQ0DXTL7Z5qZDQEn0MorlpkNA/OO9amWmQ0DG4cyv5qRDQGUZ4lgXo0NA\",\"dtype\":\"float64\",\"shape\":[135]},{\"__ndarray__\":\"YKsEi8MFQ0A1JO6x9AVDQApoImx4BkNACFqBIasHQ0AGR8mrcwhDQJWfVPt0CENABCFZwAQGQ0BVGFsIcgRDQMFz7+GSA0NAet/42jMDQ0AfSx+6oAJDQMmOjUC8AkNAWBzO/GoCQ0B81cqEXwJDQC3Pg7uzAkNAHm0csRYDQ0AXvOgrSANDQJbs2AjEA0NATpzc71AEQ0BTBaOSOgVDQEuTUtDtBUNAHThnRGkHQ0ByFva0wwdDQI1donprCENAhJ7Nqs8JQ0DCo40j1gpDQF0WE5uPC0NALJrOTgYLQ0C/mgMEcwxDQP8+48KBDENAsktUbw0MQ0ArNXugFQxDQGtlwi/1C0NAODKP/MEIQ0BHPUSjOwRDQNatnpPeA0NAgy9MpgoCQ0Dowd1ZuwFDQMai6exkAENALLzLRXz/QkBTy9b6Iv1CQGaIY13c+kJAEk4LXvT5QkBwJTs2AvlCQCyC/61k90JA08H6P4f1QkBehZSfVPNCQCgn2lVI8UJA5ssLsI/uQkCg4GJFDe5CQKFKzR5o7UJAPPceLjnuQkCE8GjjiO1CQA2Oklfn7EJAeSPzyB/sQkBXlX1XBOtCQCAkC5jA6UJAmzi536HoQkCN0TqqmuhCQPEuF/Gd6EJAR4/f2/TnQkBi+IiYEuVCQGEyVTAq4UJAdc3km23eQkDiBnx+GN1CQLjM6bKY3EJA8rVnlgTcQkC0q5Dyk+JCQO2BVmDI5kJAx/SEJR7oQkCthsQ9lupCQLJjIxCv60JAxRuZR/7sQkByxFp8CvBCQBNJ9DKK8UJAQ61p3nHyQkCYbhKDwPJCQJAUkWEV80JAJXoZxXLzQkBWSPlJtfNCQB0gmKPH80JAngd3Z+3yQkBl/PuMC/NCQKVJKej28kJAU8vW+iLxQkAaaam8HfFCQFPL1voi8UJA/vFetTLxQkA3VIzzN/FCQKCJsOHp8UJA3V7SGK3zQkBHrMWnAPRCQIbmOo209EJAjLlrCfn0QkDECOHRxvVCQMvbEU4L9kJA5wDBHD32QkAtIR/0bPZCQJBmLJrO9kJAO3DOiNL2QkClZg+0AvdCQFeVfVcE90JAHooCfSL3QkCr56T3jfdCQM/abRea90JAeQH20an3QkCOHr+36fdCQG6jAbwF+kJAis3HtaH6QkAX8Z2Y9fpCQF0WE5uP+0JA6+I2GsD7QkDd71AU6PtCQPlOzHox/EJAjXqIRnf8QkBwCFVq9vxCQHbDtkWZ/UJAcxHfiVn/QkDkTulg/f9CQMYWghyUAENAmEwVjEoCQ0D67evAOQNDQM9OBkfJA0NABd1e0hgFQ0AgtYmT+wVDQDUpBd1eBkNA+3lTkQoHQ0C+vAD76AhDQG8NbJVgCUNAHT1+b9MHQ0Byio7k8gdDQLnfoSjQB0NAluzYCMQHQ0CW58HdWQdDQMl2vp8aB0NAYtuizAYFQ0BVGFsIcgRDQLjkuFM6BENAx9eeWRIEQ0BOnNzvUARDQHEgJAuYBENATfilft4EQ0DgSnZsBAZDQKbtX1lpBkNAZJKRs7AHQ0APnDOitAdDQKqCUUmdCENArfpcbcUGQ0CRCmMLQQZDQG6jAbwFBkNAqFfKMsQFQ0A=\",\"dtype\":\"float64\",\"shape\":[151]},{\"__ndarray__\":\"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\",\"dtype\":\"float64\",\"shape\":[208]},{\"__ndarray__\":\"avtXVppEQ0AUBfpEnkRDQN83vvbMRkNAgVt381RHQ0CXkA96NkdDQHS1FfvLRkNAcJnTZTFFQ0DikuNO6URDQGu3XWiuQ0NACr/Uz5tCQ0D0FaQZi0JDQNdMvtnmQkNAPUm6ZvJBQ0C8lpAPekJDQP4rK01KQUNA/pqsUQ9BQ0AicY+lD0FDQDs2AvG6QkNAavZAKzBEQ0B3oblOI0VDQO5Cc51GRkNASFD8GHNHQ0Bbsb/snkhDQGGm7V9ZSUNAVd6OcFpMQ0ALKT+p9k1DQKSqCaLuT0NAVz7L8+BSQ0DA54cRwlNDQBwlr84xVENAb0c4LXhVQ0AfuqC+ZVZDQEc4LXjRV0NAR3cQO1NYQ0BTP28qUllDQEvl7QinWUNA1nPS+8ZbQ0DBxYoaTFtDQNAKDFndWkNAtRoS91haQ0D0T3CxolpDQNfdPNUhW0NA+rMfKSJbQ0D6sx8pIltDQHeE04IXaUNAwHgGDf1rQ0C7uI0G8G5DQB4Wak3zckNAGlHaG3x1Q0AlXTP5ZndDQB4bgXhde0NA9dvXgXN6Q0CpMLYQ5HxDQOOlm8QggENAN4lBYOWAQ0BUAIxn0IBDQNydtdsugENAvJF55A9+Q0C7uI0G8HpDQL68APvoeENAj+TyH9J3Q0AiN8MN+HRDQCXMtP0rd0NAyhr1EI16Q0CDNGPRdH5DQF6dY0D2gkNAc51GWiqDQ0CrCaLuA4hDQE1nJ4OjiENATWcng6OIQ0C4rwPnjIhDQOQPBp57h0NAr3d/vFeFQ0BjesISD4RDQAQEc/T4gUNABBxClZqBQ0Db+X5qvIBDQMed0sH6f0NAAU2EDU9/Q0D2RUJbzn1DQFRXPsvzfENAMCqpE9B8Q0BGCI82jnxDQHLcKR2se0NAyEEJM217Q0BzgGCOHntDQEKygAncekNAOxkcJa96Q0B7ZkmAmnpDQC140VeQekNASu8bX3t6Q0DuX1lpUnpDQC4cCMkCekNAi/1l9+R5Q0AO2xZlNnhDQHNoke18d0NA81meB3d3Q0BszywJUHdDQCZw626edkNAbsDnhxF2Q0Dvj/eqlXVDQOif4GJFdUNAx/SEJR50Q0C7Cik/qXJDQMvz4O6scUNAPx2PGahwQ0A5nPnVHHBDQMjqVs9Jb0NAQ/8EFytuQ0Dv5qkOuW1DQKpgVFInbENAvD/eq1ZqQ0B+qZ83FWlDQOtWz0nvZ0NAEEBqEydnQ0DKplzhXWZDQG8vaYzWZUNAFLNeDOVkQ0C4HoXrUWRDQKT8pNqnY0NA4Nv0Zz9iQ0D6uDZUjF9DQFIP0egOWkNAEk4LXvRZQ0B4KAr0iVhDQHZxGw3gUUNA+rg2VIxPQ0A6WP/nMEdDQFlMbD6uRUNAzsKedvhDQ0Be1y/YDUNDQAzqW+Z0QUNAt5xLcVVBQ0ANpmH4iEBDQGFPO/w1QUNA\",\"dtype\":\"float64\",\"shape\":[135]},{\"__ndarray__\":\"fdCzWfV5QkBgH5268nlCQH3Qs1n1eUJARG6GG/B5QkAUyy2thnxCQJHtfD81fkJAyatzDMh+QkAeM1AZ/35CQI+qJoi6f0JAeZJ0zeR/QkBIMxZNZ4NCQCKOdXEbhUJABFYOLbKFQkA6HjNQGYNCQCDvVSsTfkJAje4gdqZwQkDq7GRwlHBCQC9pjNZRaUJAjkC8rl9kQkCtLxLacmJCQMgkI2dhY0JA1c+bilRoQkC1GhL3WGpCQIzzN6EQbUJA4XoUrkdtQkDWHCCYo29CQOOlm8QgeEJATP28qUiBQkDOUx1yM4hCQC8X8Z2YjUJAH9eGinGSQkBEhlW8kZFCQGDl0CLbkUJA61bPSe+TQkBrK/aX3ZdCQHL+JhQinEJAy6FFtvOhQkD7ljldFqdCQAAd5ssLsEJAwvo/h/nKQkAlWBzO/MpCQBgJbTmXykJA08H6P4fJQkBFKowtBMlCQPHXZI16yEJAj6UPXVDHQkBWgsXhzMdCQGNi83FtyEJA5Pc2/dnHQkARqtTsgcZCQLx5qkNuxkJAW7bWFwnFQkBrDhDM0cNCQAiPNo5Yw0JAboYb8PnBQkBFKowtBMFCQJRNucK7wEJA+fcZFw7AQkCC4seYu75CQK8I/reSvUJAmnyzzY29QkBvEoPAyr1CQBEZVvFGvkJAZmZmZma+QkAwEtpyLr1CQOXVOQZku0JA1zTvOEW7QkDlCu9yEbtCQDwUBfpEtkJAAAAAAACwQkDrrYGtEqxCQKJFtvP9qEJASNxj6UOnQkCJXkax3KJCQKbtX1lpnkJAYFlpUgqaQkD2tMNfk5VCQNIYraOqkUJAUg/R6A6SQkA3jliLT5FCQIFbd/NUj0JANZiG4SOOQkCl2qfjMYtCQIkHlE25hkJAPUSjO4iBQkBIp658lntCQNU+HY8ZdEJApUkp6PZuQkAfv7fpz2pCQPQ3oRABZ0JARuuoaoJkQkCGIAclzGBCQDOK5ZZWX0JAXoWUn1RfQkAX2c73U19CQPMC7KNTX0JA0VynkZZeQkAtz4O7s15CQJCDEmbaXkJA5bM8D+5eQkAng6Pk1VVCQKNYbmk1VEJA8WPMXUtUQkB40VeQZlRCQLjM6bKYVEJAn3b4a7JSQkAz/n3GhU9CQKSIDKt4S0JAr84xIHtJQkAhsHJokUlCQIQqNXugSUJAi08BMJ5JQkBhVFInoElCQMvW+iKhSUJArP9zmC9HQkBi+IiYEkVCQAtjC0EOQkJAWvCiryBBQkDGv8+4cEBCQGba/pWVPkJA36Y/+5E+QkCY+nlTkT5CQFIP0egOOkJAbXNjesI2QkCDo+TVOTZCQDSFzmvsNkJA7BLVWwM3QkBR9wFIbTZCQHReY5eoNkJAPUm6ZvI1QkBEaW/whTVCQBk5C3vaNUJATP28qUg1QkD+ZffkYTVCQGQ730+NM0JA81meB3czQkDWqIdodDNCQKVrJt9sM0JAzywJUFMzQkC8lpAPeipCQM2SADW1IEJAxr/PuHAUQkABwRw9fgtCQGSvd3+8B0JAxEKtad4FQkAyrOKNzP9BQCOERxtH9EFADqFKzR70QUBjl6jeGvRBQE60q5Dy90FAH7qgvmX6QUB/vFetTPxBQKN1VDVB/EFA0NVW7C//QUBpb/CFyQBCQOfG9IQlAkJA7dgIxOsCQkDQJ/Ik6QJCQPLvMy4cBEJAopdRLLcEQkCRRC+jWAZCQKRTVz7LB0JARZ4kXTMJQkATChFwCA1CQD+MEB5tDEJA5e0IpwUPQkDSxhFr8RFCQGnjiLX4FEJAdqbQeY0VQkCWz/I8uBdCQNL7xteeGUJAfzDw3HscQkDQ8jy4Ox9CQCdr1EM0IkJAisiwijciQkAurYbEPSJCQJ7vp8ZLI0JAjkC8rl8kQkBEaW/whSVCQLw/3qtWJkJAZapgVFInQkCVSKKXUShCQH+kiAyrKEJAjUXT2ckoQkB4f7xXrShCQI1/n3HhKEJA220XmusoQkDon+BiRSlCQFOzB1qBKUJA7lpCPugpQkCEgefewy1CQLr3cMlxN0JAinYVUn4+QkAnMQisHEJCQIOG/gkuRkJA3uUivhNLQkAvbqMBvE1CQG8Sg8DKUUJAXOZ0WUxYQkDJsIo3MltCQN8yp8tiXkJAZk6XxcReQkDG3LWEfGBCQGQjEK/rY0JA6BN5knRlQkAe4bTgRWdCQC4EOShhakJA6spneR5sQkCSy39Iv21CQAaeew+XcEJArWnecYpyQkBkkpGzsHNCQERMiSR6dUJAX0ax3NJ2QkAcQpWaPXhCQMR8eQH2eUJA\",\"dtype\":\"float64\",\"shape\":[216]},{\"__ndarray__\":\"J6Wg20viQ0ADYDyDht5DQNdMvtnm3kNAeEXwv5XcQ0Dn+6nx0t1DQErSNZNv2kNA56kOuRnWQ0B+GCE82tRDQIIclDDT0kNAHjNQGf/OQ0BvL2mM1slDQMgkI2dhx0NATihEwCHEQ0C4BrZKsMRDQIbmOo20xENAUDblCu/CQ0CBCdy6m79DQNPe4AuTvUNAOh4zUBm7Q0BTP28qUrlDQF2Kq8q+t0NAroGtEiy2Q0Dd0mpI3LNDQBNhw9MrsUNADB8RUyKxQ0BTy9b6IrFDQDcawFsgsUNAfsaFAyGxQ0AMHxFTIrFDQAX6RJ4ksUNAGm7A54exQ0Bma32R0LJDQD8djxmotENAqWqCqPu0Q0CM1lHVBLVDQCJxj6UPtUNAkxgEVg61Q0BaZDvfT7FDQDeOWItPsUNA9wZfmEyxQ0CvWpnwS7FDQDBMpgpGsUNAUwWjkjqxQ0A3N6YnLLFDQH7GhQMhsUNAWipvRzixQ0CTqYJRSbFDQGGm7V9ZsUNA8MSsF0OxQ0ATRN0HILFDQNvEyf0OsUNA28TJ/Q6xQ0CwPbMkQLFDQCAMPPceskNAWVGDaRi2Q0AHzhlR2rdDQFHaG3xhukNAecxAZfy7Q0AGnnsPl7xDQJLoZRTLvUNA4KEo0Ce+Q0D7P4f58r5DQFX2XRH8v0NAPu3w12TBQ0DgnBGlvcFDQOuLhLacw0NAdZMYBFbKQ0DDR8SUSMpDQMoyxLEuykNAEVMiiV7KQ0BmZmZmZspDQNGRXP5DykNAdVlMbD7KQ0CDo+TVOcpDQFFmg0wyykNALq2GxD3KQ0BKe4MvTMpDQOcdp+hIykNAkQpjC0HKQ0AKaCJseMpDQDgyj/zBzENAtr5IaMvNQ0Bt5/up8c5DQG7dzVMd0kNApyIVxhbWQ0D68gLso9dDQEc4LXjR10NANBE2PL3aQ0Ct3XahudpDQFxaDYl73ENAyuAoeXXeQ0A66X3ja99DQE9AE2HD30NAT0ATYcPfQ0AIlE25wt9DQAiUTbnC30NAnWhXIeXfQ0DrkJvhBuBDQKJdhZSf4ENAPGu3XWjiQ0Azbf/KSuNDQBY1mIbh40NAIv32deDkQ0DFPZY+dOVDQERRoE/k5UNA2XxcGyrmQ0CR0JZzKeZDQLXDX5M15kNAdZMYBFbmQ0BYHM78auZDQMO7XMR35kNA0QX1LXPmQ0DtmSUBauZDQN8yp8ti5kNAH5268lnmQ0ARUyKJXuZDQENznUZa5kNAChFwCFXmQ0C8P96rVuZDQBFTIole5kNAEVMiiV7mQ0BubkxPWOZDQJhMFYxK5kNAp5at9UXmQ0CK5ZZWQ+ZDQGcsms5O5kNAH4DUJk7mQ0CKAn0iT+ZDQCdO7nco5kNACoDxDBrmQ0BSLLe0GuZDQKD9SBEZ5kNAw9MrZRnmQ0An2lVI+eVDQBpuwOeH5UNA\",\"dtype\":\"float64\",\"shape\":[135]},{\"__ndarray__\":\"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\",\"dtype\":\"float64\",\"shape\":[208]},{\"__ndarray__\":\"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\",\"dtype\":\"float64\",\"shape\":[208]},{\"__ndarray__\":\"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\",\"dtype\":\"float64\",\"shape\":[216]},{\"__ndarray__\":\"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\",\"dtype\":\"float64\",\"shape\":[199]},{\"__ndarray__\":\"/mX35GE1QkBM/bypSDVCQBk5C3vaNUJARGlv8IU1QkA9Sbpm8jVCQHReY5eoNkJAUfcBSG02QkDsEtVbAzdCQDSFzmvsNkJAg6Pk1Tk2QkBtc2N6wjZCQFIP0egOOkJAmPp5U5E+QkDfpj/7kT5CQN+mP/uRPkJAHy457pQ+QkDNBplk5DxCQAte9BWkOUJAW0I+6Nk0QkAX2c73UzNCQMcRa/EpLEJAdbD+z2EmQkBfXoB9dCJCQJF++zpwIkJAX3tmSYAiQkB2MjhKXiFCQFGgT+RJHkJAJXUCmggbQkDWkLjH0hdCQOLMr+YAFUJApFNXPssPQkB7ZkmAmg5CQKd5xyk6CkJAB5lk5CwIQkA5l+KqsgNCQFiQZiya/kFAluzYCMT3QUDeyDzyB/NBQB9oBYas7kFA/reSHRvlQUCM8zehEOVBQGL4iJgS5UFAKbNBJhnlQUBTrvAuF+VBQKJ/gosV5UFAcEIhAg7lQUDwiuB/K+VBQPevrDQp5UFAE0TdByDlQUAF+kSeJOVBQEymCkYl5UFAkzXqIRrlQUDTn/1IEeVBQMxdS8gH5UFA1IIXfQXlQUD3WPrQBeVBQJT7HYoC5UFATGw+rg3lQUCTGARWDuVBQIzWUdUE5UFAhZSfVPvkQUA+6Nms+uRBQDCBW3fz5EFAjLlrCfnkQUC3tBoS9+RBQDfDDfj85EFAaQBvgQTlQUBpAG+BBOVBQLCsNCkF5UFA91j60AXlQUD3WPrQBeVBQIWxhSAH5UFA/reSHRvlQUDnb0IhAuZBQKVmD7QC50FAAJF++zroQUAw2A3bFulBQAskKH6M6UFA3xrYKsHqQUBkXdxGA+xBQNuK/WX37EFANh/XhortQUCns5PBUe5BQNfAVgkW70FAx4Ds9e7vQUCi7gOQ2vBBQAzNdRpp8UFAb4EExY/xQUDv5qkOufFBQDXSUnk78kFA9Bq7RPXyQUBIFjCBW/NBQEhQ/Bhz80FAOZfiqrLzQUDcRgN4C/RBQJyiI7n880FAVWr2QCv0QUCqYFRSJ/RBQA6hSs0e9EFAI4RHG0f0QUAyrOKNzP9BQMRCrWneBUJAZK93f7wHQkABwRw9fgtCQMa/z7hwFEJAzZIANbUgQkC8lpAPeipCQM8sCVBTM0JApWsm32wzQkDWqIdodDNCQPNZngd3M0JAZDvfT40zQkA=\",\"dtype\":\"float64\",\"shape\":[112]},{\"__ndarray__\":\"BFYOLbKZQ0ABMJ5BQ59DQGZJgJpapkNAmpSCbi+pQ0C0q5Dyk65DQEm6ZvLNskNAndfYJaq/Q0CM22gAb8FDQEPiHksfxkNAkQpjC0HKQ0DnHafoSMpDQEp7gy9MykNALq2GxD3KQ0BRZoNMMspDQIOj5NU5ykNAdVlMbD7KQ0DRkVz+Q8pDQGZmZmZmykNAEVMiiV7KQ0DKMsSxLspDQMNHxJRIykNAdZMYBFbKQ0Dri4S2nMNDQOCcEaW9wUNAPu3w12TBQ0BV9l0R/L9DQPs/h/nyvkNA4KEo0Ce+Q0CS6GUUy71DQAaeew+XvENAecxAZfy7Q0BR2ht8YbpDQAfOGVHat0NAWVGDaRi2Q0AgDDz3HrJDQLA9syRAsUNA28TJ/Q6xQ0BwQiECDrFDQHnMQGX8q0NAYLAbti2mQ0AmNh/XhqJDQDnWxW00nENA8ddkjXqcQ0CP5PIf0ptDQMjNcAM+m0NA9ODurN2aQ0B4tHHEWpRDQFBwsaIGk0NAPfIHA8+RQ0BehZSfVI9DQC+jWG5pjUNAMQisHFqMQ0Cl2qfjMYtDQFEU6BN5ikNA9nr3x3uJQ0CjkjoBTYhDQJ92+GuyhkNAxFp8CoCFQ0BT0O0ljYFDQNmUK7zLfUNAGLK61XN6Q0A4EJIFTHhDQMqJdhVSdkNA/Knx0k12Q0DY8PRKWXZDQJFEL6NYdkNAyqZc4V12Q0CRYRVvZHZDQENznUZadkNAUfcBSG12Q0Am/FI/b3ZDQODW3TzVdUNAzEBl/Pt0Q0BGCI82jnRDQPFG5pE/dENAAAAAAAB0Q0BHOC140XNDQI9TdCSXc0NAie/ErBdzQ0Dtnjws1HJDQNGRXP5DckNARPrt68BxQ0D3r6w0KXFDQNTxmIHKcENADWyVYHFwQ0DOGVHaG3BDQGuad5yib0NArFYm/FJvQ0Clg/V/Dm9DQPt0PGagbkNAkfKTap9uQ0DRItv5fm5DQD7t8NdkbUNAh9wMN+BrQ0BiFW9kHmlDQGowDcNHaENAM23/ykpnQ0AfaAWGrGZDQJ92+GuyZkNANEsC1NRmQ0D2evfHe2VDQCMyrOKNZENA/Knx0k1iQ0B9Ik+SrmFDQDXvOEVHXkNA9Zz0vvFdQ0DvycNCrV1DQExUbw1sXUNAmUf+YOBZQ0CFzmvsEllDQDGZKhiVWENAchb2tMNXQ0ABGM+goVdDQOzdH+9VV0NAOjsZHCVXQ0CRuMfSh1ZDQNogk4ycVUNAYeC593BVQ0D9vKlIhVVDQOv/HObLV0NAvYxiuaVZQ0DmdFlMbFpDQB/XhopxWkNAVpqUgm5bQ0CwrDQpBV1DQBcOhGQBX0NAh9wMN+BfQ0AqHaz/c2BDQK9Cyk+qYUNAX5hMFYxiQ0BW8UbmkWNDQIasbvWcZENA2o8UkWFlQ0DRkVz+Q2ZDQI/f2/RnZ0NAv0NRoE9oQ0DbxMn9DmlDQKeufJbnaUNAQ5CDEmZqQ0BWfa62YmtDQJ7Swfo/a0NAc4Bgjh5rQ0Aj88gfDGxDQGlSCrq9bENAv4I0Y9FsQ0BZUYNpGG5DQGTMXUvIb0NADvPlBdhvQ0D4qpUJv3BDQIKLFTWYckNAXkvIBz1zQ0CBeF2/YHdDQK0XQznRekNAN3Fyv0N9Q0A57pQO1n9DQPYoXI/CgUNAGVbxRuaFQ0CVtyOcFohDQGPRdHYyjENA9gt2w7aRQ0CunpPeN5ZDQNogk4ycmUNA\",\"dtype\":\"float64\",\"shape\":[162]},{\"__ndarray__\":\"iGNd3Eb7Q0CBIatbPftDQAETuHU390NAe9rhr8nuQ0C8y0V8J+ZDQFGDaRg+4kNAg2kYPiLeQ0D4/DBCeNxDQI16iEZ33ENAjXqIRnfcQ0BGzsKedtxDQEbOwp523ENARs7CnnbcQ0BGzsKedtxDQEbOwp523ENAI/jfSnbcQ0BcPSe9b9xDQNVbA1sl3ENAwcWKGkzbQ0C0AkNWt9pDQLQCQ1a32kNAkSxgArfaQ0BtVn2uttpDQG1Wfa622kNAbVZ9rrbaQ0Df/fFetdpDQLsnDwu12kNAJqq3BrbaQ0Df/fFetdpDQLsnDwu12kNAguLHmLvaQ0DJjo1AvNpDQHu9++O92kNAJo3ROqraQ0D7V1aalNpDQA5KmGn720NAs7W+SGjjQ0CuKvuuCOpDQMUbmUf++ENARG6GG/D9Q0CTHRuBeAVEQP1qDhDMDURASOF6FK4PREAZkL3e/RFEQC9RvTWwFURAmzi536EcREAbnl4pyyBEQFlpUgq6JURAwTkjSnsnREBy3CkdrCdEQL4wmSoYJURAMgOV8e8fREDzjlN0JBtEQC0hH/RsGkRAt11ortMgRECOBvAWSChEQHmvWpnwL0RAWg2Jeyw5REBwXwfOGTlEQJtattYXOURADMhe7/44REBMT1jiATlEQKBP5EnSOURA662BrRI8REAiGt1B7DxEQMU4fxMKQURAFhiyutVTREDfFcH/Vl5EQLml1ZC4Y0RAa2XCL/VjREDzPLg7a2tEQKPMBplkcERAmMCtu3lyREC+vAD76HREQHdn7bYLeURAnKc65GZ8REDhfyvZsYFEQO7O2m0XhkRAzLT9KyuJREARje4gdo5EQAclzLT9j0RANPRPcLGSREBpVyHlJ5VEQL5qZcIvlURA6N7DJceVREAvqG+Z05VEQJIiMqzilURAZB75g4GXREDdByC1iZdEQLoxPWGJl0RAFmpN846XRECWeEDZlJdEQBaHM7+al0RAOl0WE5uXREDP2m0XmpdEQKsEi8OZl0RAz9ptF5qXRECILqhvmZdEQGt9kdCWl0RAc6JdhZSXREBW8UbmkZdEQGQ730+Nl0RAz72HS46XREAzG2SSkZdEQIgRwqONl0RACCC1iZOXRECIEcKjjZdEQDMbZJKRl0RA626e6pCXREAzG2SSkZdEQMiYu5aQl0RAlnhA2ZSXREAIILWJk5dEQKvnpPeNl0RA+rg2VIyXRED6uDZUjJdEQGba/pWVlkRAfSJPkq6RREBYc4BgjoJEQPYjRWRYdURAVisTfqlvREDeWbvtQmdEQCqMLQQ5XERAgEi/fR1QREDMXUvIB0lEQJXx7zMuPERA1qiHaHQzRECskPKTaitEQNxj6UMXKERABRcrajAhREBO0ZFc/hdEQC2yne+nDkRAAfvo1JULREDwiuB/KwlEQGdhTzv8/UNA\",\"dtype\":\"float64\",\"shape\":[135]},{\"__ndarray__\":\"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\",\"dtype\":\"float64\",\"shape\":[412]},{\"__ndarray__\":\"je4gdqZwQkAg71UrE35CQDoeM1AZg0JABFYOLbKFQkDZWl8ktIVCQMISDyibikJAho+IKZGMQkDo9pLGaI1CQODb9Gc/jkJA+vIC7KOPQkBkzF1LyI9CQM0GmWTkkEJAfERMiSSSQkBR9wFIbZJCQJhRLLe0kkJA7BLVWwOTQkC62or9ZZNCQLoxPWGJk0JAz4O7s3aTQkAyOEpenZNCQOuoaoKok0JAJLn8h/STQkBq2VpfJJRCQKq3BrZKlEJADf0TXKyUQkCMuWsJ+ZRCQJoIG55elUJAC7WmeceVQkAuHAjJApZCQJ1GWipvl0JACMkCJnCXQkAsn+V5cJdCQFkXt9EAmkJAG55eKcucQkCdgCbChp9CQG2tLxLaokJA7C+7Jw+nQkCoOuRmuKlCQFInoImwrUJApFNXPsuvQkAT8kHPZrVCQP2fw3x5tUJAREyJJHq1QkCvzjEge7VCQIDxDBr6t0JAUkSGVby5QkDJWdjTDrtCQIAO8+UFvEJAgv+tZMe+QkBlqmBUUr9CQMjvbfqzx0JAjdE6qprMQkAHX5hMFdBCQCMyrOKN1EJAWOcYkL3eQkCcpzrkZuBCQCV6GcVy40JAuk4jLZXjQkCPGaiMf+NCQJ612y4040JAZd8Vwf/iQkCCqPsApOJCQB+duvJZ4kJAn3HhQEjiQkAZ529CIeJCQNk9eVio4UJAPujZrPrgQkCUap+Ox+BCQHCUvDrH4EJAIxCv6xfgQkAVUn5S7d9CQEDZlCu830JAwXPv4ZLfQkD6RJ4kXd9CQAhyUMJM30JAevzepj/fQkAz+WabG99CQLSwpx3+3kJAl8XE5uPeQkAYfQVpxt5CQMJM27+y3kJAbRyxFp/eQkCYNEbrqN5CQPuRIjKs3kJAbRyxFp/eQkC0jqomiN5CQMUbmUf+3EJAxebj2lDdQkC/1M+bitxCQE8GR8mr20JA4xk09E/cQkCSPxh47t1CQN8Vwf9W3kJAoOBiRQ3eQkC86CtIM95CQCBB8WPM3UJAio7k8h/eQkDEX5M16t1CQA034PPD3EJALGUZ4ljbQkAvbqMBvNlCQDgteNFX2EJAyQImcOvWQkCpaoKo+9RCQFaCxeHM00JAkSdJ10zSQkAwTKYKRtFCQI3uIHam0EJAgXhdv2DPQkD36XjMQM1CQIm1+BQAy0JAwvo/h/nKQkAAHebLC7BCQPuWOV0Wp0JAy6FFtvOhQkBy/iYUIpxCQGsr9pfdl0JA61bPSe+TQkBg5dAi25FCQESGVbyRkUJAH9eGinGSQkAvF/GdmI1CQM5THXIziEJATP28qUiBQkDjpZvEIHhCQNYcIJijb0JA4XoUrkdtQkCM8zehEG1CQLUaEvdYakJA1c+bilRoQkDIJCNnYWNCQK0vEtpyYkJAjkC8rl9kQkAvaYzWUWlCQOrsZHCUcEJA\",\"dtype\":\"float64\",\"shape\":[135]},{\"__ndarray__\":\"5DEDlfEXQ0Bd+SzPgxdDQBL3WPrQFUNAcXK/Q1EUQ0AukKD4MQ5DQG8NbJVgCUNAvrwA++gIQ0D7eVORCgdDQDUpBd1eBkNAILWJk/sFQ0AF3V7SGAVDQM9OBkfJA0NA+u3rwDkDQ0CYTBWMSgJDQMYWghyUAENA5E7pYP3/QkBzEd+JWf9CQHbDtkWZ/UJAcAhVavb8QkCNeohGd/xCQPlOzHox/EJA3e9QFOj7QkDr4jYawPtCQF0WE5uP+0JAF/GdmPX6QkCKzce1ofpCQG6jAbwF+kJAjh6/t+n3QkB5AfbRqfdCQM/abRea90JAq+ek9433QkAeigJ9IvdCQFeVfVcE90JABP9byY71QkDcnbXbLvBCQLzLRXwn7kJAhetRuB7tQkCrlQm/1OtCQNhHp6586kJAijxJumbqQkBuizIbZOpCQN/42jNL6kJAy0qTUtDpQkBE3QcgtelCQNKMRdPZ6UJAkpGzsKfpQkChSs0eaOlCQIVCBBxC6UJARfC/lezoQkDTvOMUHelCQChEwCFU6UJAL/oK0ozpQkDhKHl1julCQGiR7Xw/6UJA05/9SBHpQkC/fR04Z+hCQIf+CS5W6EJA6lvmdFnoQkDGhQMhWehCQPCK4H8r6UJA2ubG9ITpQkCgppat9elCQEp7gy9M6kJA8gcDz73rQkA4vvbMkuxCQH9N1qiH7EJAeSPzyB/sQkD4a7JGPexCQKLRHcTO7EJA71UrE37tQkC94xQdye1CQIPdsG1R7kJAXdxGA3jvQkCyhSAHJfBCQAbYR6eu8EJAxebj2lDxQkA2donqrfFCQIo8Sbpm8kJApvJ2hNPyQkD7ljldFvNCQDI4Sl6d80JAhnKiXYX0QkDS+8bXnvVCQOYivhOz9kJAuVM6WP/3QkA34PPDCPlCQGhcOBCS+UJA2c73U+P5QkADYDyDhvpCQGZrfZHQ+kJAAcEcPX77QkDde7jkuPtCQHFa8KKv/EJAN4lBYOX8QkBHPUSjO/xCQOw00lJ5+0JAUFPL1vr6QkAmAWpq2fpCQK6ek943+kJAWUxsPq75QkBaDYl7LPlCQGKE8Gjj+EJAzXUaaan4QkDcSxqjdfhCQFX7dDxm+EJAeLRxxFr4QkDOqs/VVvhCQDhKXp1j+EJA3Esao3X4QkCc4QZ8fvhCQFQ1QdR9+EJAVG8NbJX4QkCw/s9hvvhCQIzWUdUE+UJAGvonuFj5QkDvVSsTfvlCQAspP6n2+UJAAtTUsrX6QkBkHvmDgftCQE3WqIdo/EJAUyKJXkb9QkAL73IR3/1CQEuTUtDt/UJA3xXB/1b+QkCYwK27ef5CQNaLoZxo/0JAT8x6MZT/QkAHJcy0/f9CQBMn9zsUAUNA51JcVfYBQ0B1zeSbbQJDQME5I0p7A0NAeLRxxFoEQ0DGUE60qwRDQORO6WD9D0NAHm0csRYTQ0Bkr3d/vBNDQKqaIOo+FENA/n3GhQMVQ0Ag71UrExZDQHS1FfvLFkNAHsTOFDoXQ0AWE5uPaxdDQHIz3IDPF0NATWcng6MYQ0BM/bypSBlDQNNqSNxjGUNAEfxvJTsaQ0DlCu9yERtDQA/uztptG0NAumsJ+aAbQ0DkTulg/R9DQMU9lj50IUNAGoums5MhQ0C1w1+TNSJDQF3cRgN4I0NAf/YjRWQkQ0ANw0fElCRDQL9lTpfFJENA4jsx68UkQ0CDF30FaSZDQAAAAAAAKENAXf5D+u0nQ0AOLbKd7ydDQPmgZ7PqJ0NAeekmMQgoQ0D59xkXDihDQFu21hcJKUNAqmVrfZEoQ0A730+Nlx5DQGAfnbryGUNAjNZR1QQZQ0A3T3XIzRhDQHFV2XdFGENAzt+EQgQYQ0Dkg57NqhdDQFfsL7snF0NA10y+2eYWQ0DedqG5ThdDQOSghJm2F0NA61bPSe8XQ0A=\",\"dtype\":\"float64\",\"shape\":[181]},{\"__ndarray__\":\"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\",\"dtype\":\"float64\",\"shape\":[262]},{\"__ndarray__\":\"fdCzWfV5QkDEfHkB9nlCQBxClZo9eEJAX0ax3NJ2QkBETIkkenVCQGSSkbOwc0JArWnecYpyQkAGnnsPl3BCQJLLf0i/bUJA6spneR5sQkAuBDkoYWpCQB7htOBFZ0JA6BN5knRlQkBkIxCv62NCQMbctYR8YEJAZk6XxcReQkAJ4dHGEV9CQLyuX7AbYkJAKzV7oBVkQkCuEiwOZ2ZCQOYF2EenakJA1jkGZK9rQkBqwYu+gmxCQG/Tn/1IbUJAp658ludtQkD7y+7Jw25CQIKtEiwOb0JACAPPvYdvQkA429yYnnBCQKhSswdacUJAfH4YITxyQkAr9pfdk3NCQJSkaybfdEJAPq4NFeN0QkCil1Est3RCQE2h8xq7dEJA/vFetTJ1QkAu4jsx63VCQOzAOSNKd0JAsacd/pp4QkCoV8oyxHlCQNejcD0Ke0JA16NwPQp7QkDsTKHzGntCQKuVCb/Ue0JAYhVvZB59QkCQiCmRRH9CQNzXgXNGgEJADB8RUyKBQkD9MEJ4tIFCQEmAmlq2gkJAnUtxVdmDQkBjesISD4RCQBSWeEDZhEJAJo3ROqqGQkDBbti2KIdCQFa8kXnkh0JAYi0+BcCIQkCa6zTSUolCQIpZL4ZyikJAbCHIQQmLQkDBVgkWh4tCQPLvMy4cjEJA2uGvyRqNQkBZi08BMI5CQEEOSphpj0JAB5lk5CyQQkANGvonuJBCQAU0ETY8kUJAsD2zJECRQkA9CtejcJFCQMv49xkXlkJAgzRj0XSeQkCBzw8jhJ9CQBKlvcEXokJAJAuYwK2jQkA7qpog6qZCQI20VN6OqEJA3pOHhVqrQkA3cXK/Q61CQA+0AkNWr0JAx2gdVU2wQkDjjcwjf7RCQJKRs7CntUJAfA+XHHe2QkAdcjPcgLdCQKkT0ETYuEJAfH4YITy6QkBlqmBUUrtCQBsqxvmbvEJAdOrKZ3m+QkB7MZQT7b5CQLUaEvdYwkJAPDHrxVDGQkCQ96qVCctCQD7o2az60EJAG0zD8BHRQkCN7iB2ptBCQLeXNEbryEJAcTjzqznEQkBXeJeL+MJCQIqT+x2KwkJAUiegibDBQkDN5JttbsBCQDPEsS5uv0JAgqj7AKS+QkC3XWiu07xCQPOrOUAwu0JA7/54r1q5QkBz9Pi9TbdCQKeufJbntUJAt+7mqQ61QkCazk4GR7FCQFbUYBqGr0JAxf6ye/KsQkDG+ZtQiKxCQGvxKQDGq0JAY5eo3hqoQkCs4o3MI6NCQJIFTODWoUJA4Nv0Zz+eQkCHvyZr1JtCQHk7wmnBl0JACMkCJnCXQkCdRloqb5dCQC4cCMkClkJAC7WmeceVQkCaCBueXpVCQIy5awn5lEJADf0TXKyUQkCqtwa2SpRCQGrZWl8klEJAJLn8h/STQkDrqGqCqJNCQDI4Sl6dk0JAz4O7s3aTQkC6MT1hiZNCQLraiv1lk0JA7BLVWwOTQkCYUSy3tJJCQFH3AUhtkkJAfERMiSSSQkDNBplk5JBCQGTMXUvIj0JA+vIC7KOPQkDg2/RnP45CQOj2ksZojUJAho+IKZGMQkDCEg8om4pCQNlaXyS0hUJABFYOLbKFQkAijnVxG4VCQEgzFk1ng0JAeZJ0zeR/QkCPqiaIun9CQB4zUBn/fkJAyatzDMh+QkCR7Xw/NX5CQBTLLa2GfEJARG6GG/B5QkB90LNZ9XlCQGAfnbryeUJA\",\"dtype\":\"float64\",\"shape\":[162]},{\"__ndarray__\":\"ZcdGIF7/REDzH9JvX/9EQIF4Xb9g/0RALEgzFk3/REAMk6mCUf1EQEq1T8dj9kRAB0KygAn0REA8oGzKFfJEQEn0Morl6kRAigJ9Ik/mREBb64uEtuBEQJ+rrdhf1kRAcAhVavbUREBsIchBCc9EQIS7s3bbxURAAFKbOLnDREBkO99Pjb9EQLVsrS8SvkRAPE7RkVy6REDAIVSp2bdEQGCwG7YttkRAgA7z5QW0RECgibDh6alEQO58PzVepkRA2V92Tx6iREDsNNJSeZ9EQC8X8Z2YnURASUvl7QibRECmCkYldZpEQBakGYuml0RA+rg2VIyXRED6uDZUjJdEQKvnpPeNl0RACCC1iZOXRECWeEDZlJdEQMiYu5aQl0RAMxtkkpGXREDrbp7qkJdEQDMbZJKRl0RAiBHCo42XREAIILWJk5dEQIgRwqONl0RAMxtkkpGXREDPvYdLjpdEQGQ730+Nl0RAVvFG5pGXREBzol2FlJdEQGt9kdCWl0RAiC6ob5mXREDP2m0XmpdEQKsEi8OZl0RAz9ptF5qXREA6XRYTm5dEQBaHM7+al0RAlnhA2ZSXREAWak3zjpdEQLoxPWGJl0RA3QcgtYmXREDdByC1iZdEQN0HILWJl0RA3QcgtYmXREDdByC1iZdEQLoxPWGJl0RAujE9YYmXREDdByC1iZdEQLoxPWGJl0RAujE9YYmXREC6MT1hiZdEQLoxPWGJl0RAujE9YYmXREC6MT1hiZdEQLoxPWGJl0RAujE9YYmXREC6MT1hiZdEQLoxPWGJl0RAujE9YYmXRECWW1oNiZdEQJZbWg2Jl0RA83aE04KXREAsvMtFfJdEQPdY+tAFmURAumbyzTabREAfLjnulJ5EQBea6zTSokRAjGfQ0D+pREDXaaSl8rZEQIkpkUQvv0RAmxvTE5bARECTHRuBeMlEQLbbLjTXzURAJJwWvOjTREAgRgiPNuZEQKp9Oh4z7ERA0gDeAgnuREDaOGItPvFEQC0mNh/X8kRAJVgczvzyREAJ4dHGEfNEQCXpmsk380RAlfHvMy70REDK4Ch5dfZEQK1p3nGK9kRA5NpQMc73REDEsS5uo/lEQJj6eVOR+kRASOF6FK7/REBrt11orv9EQCQLmMCt/0RAVisTfqn/RECBJsKGp/9EQGR1q+ek/0RAj3Ba8KL/REDdQexMof9EQA9iZwqd/0RAMjhKXp3/REDkSdI1k/9EQOtunuqQ/0RAlltaDYn/REBW1GAahv9EQDMbZJKR/0RAD39N1qj/REBrt11orv9EQGu3XWiu/0RA8s02N6b/REBPzHoxlP9EQKTC2EKQ/0RAXb9gN2z/REDXUdUEUf9EQDo7GRwl/0RArOKNzCP/REBX7C+7J/9EQEmil1Es/0RAEF1Q3zL/RECetdsuNP9EQMGLvoI0/0RAiEZ3EDv/REAsK01KQf9EQF5LyAc9/0RAXi7iOzH/REA6WP/nMP9EQPqzHyki/0RAwlHy6hz/REDlJ9U+Hf9EQAn+t5Id/0RA19081SH/REAQXVDfMv9EQJ612y40/0RAQmDl0CL/RECXVkPiHv9EQJdWQ+Ie/0RA7Eyh8xr/REDsTKHzGv9EQCzxgLIp/0RA0PI8uDv/REClFHR7Sf9EQAFNhA1P/0RAV2DI6lb/REA=\",\"dtype\":\"float64\",\"shape\":[157]},{\"__ndarray__\":\"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\",\"dtype\":\"float64\",\"shape\":[243]},{\"__ndarray__\":\"8Z2Y9WJ0QkA/NV66SXRCQDHT9q+sdEJAou4DkNp0QkAOT6+UZXRCQBSuR+F6dEJAjjulg/VzQkCNl24Sg3RCQClcj8L1dEJAYi0+BcB0QkDrHAOy13NCQB7EzhQ6c0JApfeNrz1zQkC8eapDbnJCQN9PjZduckJANUbrqGpyQkByp3Sw/l9CQGsr9pfdW0JAa7ddaK5XQkByio7k8lNCQK9Cyk+qUUJArrt5qkNKQkA+rg0V40RCQBQ/xty1QEJAeCgK9Ik8QkD67evAOSNCQHWw/s9hIkJAlSu8y0UkQkAsDmd+NSNCQFaCxeHMJ0JA2XdF8L8lQkAr2bERiCNCQKJFtvP9IEJA30+Nl24eQkBuaTUk7hlCQEvl7QinGUJAQbyuX7AfQkDIDFTGvyNCQKVmD7QCJ0JAsKw0KQUlQkCYLy/APiJCQIrIsIo3IkJAJ2vUQzQiQkDQ8jy4Ox9CQH8w8Nx7HEJA0vvG154ZQkCWz/I8uBdCQHam0HmNFUJAaeOItfgUQkDSxhFr8RFCQOXtCKcFD0JAP4wQHm0MQkATChFwCA1CQEWeJF0zCUJApFNXPssHQkCRRC+jWAZCQKKXUSy3BEJA8u8zLhwEQkDQJ/Ik6QJCQO3YCMTrAkJA58b0hCUCQkBpb/CFyQBCQNDVVuwv/0FAo3VUNUH8QUB/vFetTPxBQB+6oL5l+kFATrSrkPL3QUBjl6jeGvRBQA6hSs0e9EFAqmBUUif0QUBVavZAK/RBQJyiI7n880FA3EYDeAv0QUA5l+KqsvNBQEhQ/Bhz80FASBYwgVvzQUD0GrtE9fJBQDXSUnk78kFA7+apDrnxQUBvgQTFj/FBQAzNdRpp8UFAou4DkNrwQUDHgOz17u9BQNfAVgkW70FAp7OTwVHuQUA2H9eGiu1BQNuK/WX37EFAZF3cRgPsQUDfGtgqwepBQAskKH6M6UFAMNgN2xbpQUAAkX77OuhBQKVmD7QC50FA529CIQLmQUD+t5IdG+VBQIWxhSAH5UFAYtuizAblQUCph2h0B+VBQMVVZd8V5UFAGmmpvB3lQUAMHxFTIuVBQJqUgm4v5UFAUwWjkjrlQUAwL8A+OuVBQHfbheY65UFAvodLjjvlQUDwxKwXQ+VBQDdxcr9D5UFAE7h1N0/lQUBTP28qUuVBQBPVWwNb5UFAflcE/1vlQUA2yCQjZ+VBQGgFhqxu5UFAGlHaG3zlQUC28/3UeOVBQD1EozuI5UFAPX5v05/lQUDEsS5uo+VBQIRHG0es5UFA2XdF8L/lQUDgLZCg+OVBQN6rVib85kFAzEBl/PvoQUDmriXkg+5BQEEOSphp80FA08H6P4f5QUAAHebLC/xBQAn5oGezAkJAu+1Cc50KQkAOoUrNHhBCQFRvDWyVEEJAtrkxPWERQkCCxeHMrxJCQB4zUBn/EkJApKoJou4TQkD/z2G+vBRCQIxn0NA/FUJAteBFX0EWQkDXaaSl8hZCQBBdUN8yF0JACObo8XsXQkAjEK/rFxhCQDCeQUP/GEJABK3AkNUZQkDYnlkSoBpCQAkbnl4pG0JAHLEWnwIcQkD+1HjpJh1CQItx/iYUHkJAiXssfegeQkDP91PjpR9CQFUwKqkTIEJATRB1H4AgQkCwOJz51SBCQMWsF0M5IUJAC170FaQhQkCK5ZZWQyJCQEImGTkLI0JAzqW4quwjQkBiLT4FwCRCQOcYkL3eJUJA5bM8D+4mQkDVBFH3AShCQKlqgqj7KEJAb7vQXKcpQkDRyyiWWypCQDRLAtTUKkJALJ/leXArQkDH155ZEixCQONTAIxnLEJABYasbvUsQkCLw5lfzS1CQJHVrZ6TLkJA7N0f71UvQkAkKH6MuS9CQEc9RKM7MEJABYasbvUwQkAMsI9OXTFCQAOy17s/MkJAEMzR4/cyQkBPkq6ZfDNCQOutga0SNEJAhj3t8Nc0QkAvhnKiXTVCQAvvchHfNUJAQ+IeSx82QkDCEg8omzZCQEi/fR04N0JAea9amfA3QkAipkQSvThCQEsfuqC+OUJArcCQ1a06QkDkDwaeeztCQA4QzNHjO0JAopdRLLc8QkBtyhXe5T5CQE2EDU+vQEJAtU/HYwZCQkA6deWzPENCQNRDNLqDREJAInGPpQ9FQkA2sFWCxUVCQGdEaW/wRUJACty6m6dGQkCPqiaIukdCQKEQAYdQSUJAblFmg0xKQkAlQE0tW0tCQFUwKqkTTEJAd9Zuu9BMQkCv6xfshk1CQNjw9EpZTkJASddMvtlOQkCskPKTak9CQHL5D+m3T0JAVd6OcFpQQkAFFytqMFFCQHYaaam8UUJAyk+qfTpSQkA0ETY8vVJCQMB4Bg39X0JAQ3OdRlpmQkCb5h2n6GhCQJrOTgZHbUJAAp8fRghvQkDONjemJ3BCQOl942vPcEJARfXWwFZxQkDTvOMUHXFCQLAD54wocUJAS+XtCKdxQkAtlbcjnHJCQN4CCYofc0JAHebLC7BzQkA=\",\"dtype\":\"float64\",\"shape\":[235]},{\"__ndarray__\":\"H7+36c8iQ0BqatlaXyBDQJBJRs7CHkNADM11GmkZQ0Ba9bnaihVDQOscA7LXE0NAMsnIWdgTQ0Cy17s/3hNDQJ1oVyHlE0NAzqW4quwTQ0COHr+36RNDQGQjEK/rE0NAqn06HjMUQ0BN27+y0hRDQCJxj6UPGUNAX+/+eK8aQ0DO/GoOECBDQGiz6nO1IUNAtLCnHf4iQ0CHp1fKMiRDQAr0iTxJJkNApN++DpwnQ0BaDYl7LClDQEjcY+lDK0NAeCgK9IksQ0BS8uocAy5DQGtlwi/1L0NAuoPYmUI3Q0CX/5B++zpDQHCUvDrHPENA8rVnlgRAQ0B+AFKbOEFDQMHFihpMQ0NAF2U2yCRHQ0Bpqbwd4UhDQFZl3xXBS0NArp6T3jdOQ0DpDmJnClVDQGHgufdwVUNA2iCTjJxVQ0CRuMfSh1ZDQDo7GRwlV0NA7N0f71VXQ0ABGM+goVdDQHIW9rTDV0NAMZkqGJVYQ0CFzmvsEllDQJlH/mDgWUNATFRvDWxdQ0DvycNCrV1DQPWc9L7xXUNANe84RUdeQ0B9Ik+SrmFDQPyp8dJNYkNAIzKs4o1kQ0D2evfHe2VDQDRLAtTUZkNAn3b4a7JmQ0AfaAWGrGZDQDNt/8pKZ0NAajANw0doQ0BiFW9kHmlDQIfcDDfga0NAPu3w12RtQ0DRItv5fm5DQJHyk2qfbkNArYbEPZZuQ0CA1CZO7mtDQEdaKm9HbENASNxj6UNrQ0Dhl/p5U2VDQHZUNUHUYUNAXvQVpBlfQ0DSGK2jql1DQIgRwqONW0NA26fjMQNZQ0C5NlSM81dDQGb35GGhVkNADY6SV+dUQ0CVSKKXUVRDQLyWkA96UkNAk4ychT1RQ0CcoiO5/E9DQLNeDOVET0NADhDM0eNPQ0BRiIBDqE5DQI2chT3tTENAUFPL1vpKQ0AHJcy0/UdDQAzNdRppRUNAnfS+8bVDQ0Bhjh6/t0FDQGiz6nO1QUNAX0ax3NI+Q0DdmJ6wxDdDQN9PjZduNkNANXugFRg2Q0AnZr0YyjVDQCl5dY4BNUNAMnctIR80Q0CD+pY5XTJDQKGEmbZ/MUNAzemymNgwQ0As8YCyKStDQPjfSnZsKENAMSWS6GUoQ0B7ZkmAmiZDQEKVmj3QIkNA\",\"dtype\":\"float64\",\"shape\":[108]},{\"__ndarray__\":\"MSWS6GWoQ0CP/MHAc6dDQKUsQxzrpkNAxSCwcmilQ0DQ8jy4O6NDQFNcVfZdoUNA1/oioS2fQ0D27o/3qp1DQL8OnDOinENA14aKcf6aQ0CwVYLF4ZhDQLSwpx3+lkNAJ4i6D0CWQ0BmSYCaWpJDQO7rwDkjjkNANIXOa+yKQ0AeUDblCodDQK9fsBu2gUNAZwqd19iBQ0CWJqWg24NDQBHkoISZgkNAPUSjO4iBQ0BA2ZQrvINDQM3km21uhENA8bp+wW6EQ0AgDDz3HopDQAVpxqLpkENAw7tcxHeWQ0Coxks3iZlDQPZ698d7nUNACks8oGyeQ0DN5JttbqBDQDP+fcaFo0NATdu/stKkQ0Clg/V/DqdDQH0iT5KuqUNAtRoS91iqQ0AX8Z2Y9apDQMcuUb01rENAWaMeotGtQ0B65A8Gnq9DQBQi4BCqsENAxqcAGM+wQ0D2QCswZLFDQJp8s82NsUNAih9j7lqyQ0AmcOtunrJDQBIUP8bcsUNAgqj7AKSyQ0ASpb3BF7JDQPw1WaMeskNAEsKjjSOyQ0DUghd9BbVDQPYjRWRYtUNALsVVZd+1Q0Btxf6ye7ZDQGyVYHE4t0NAJJwWvOi3Q0Bjl6jeGrhDQNUmTu53uENAKCzxgLK5Q0CfzarP1bpDQOOlm8QgvENARKhSswe+Q0Dri4S2nL9DQKKcaFchwUNAuycPC7XCQ0B7a2CrBMNDQNFcp5GWwkNA0O0ljdHCQ0BXBP9bycJDQK/rF+yGwUNAN45Yi0+9Q0B0DMhe77pDQEM50a5CukNARWRYxRu5Q0AiN8MN+LhDQP5g4Ln3uENAoijQJ/K4Q0B381SH3LhDQDnRrkLKt0NArd12obm2Q0DDDfj8MLZDQCh+jLlrtUNA/wkuVtS0Q0BzhXe5iLNDQIJWYMjqskNApu1fWWmyQ0DvIHam0LFDQC/6CtKMsUNAFLNeDOWwQ0A/V1uxv7BDQMZtNIC3sENAuMzpspiwQ0BHIF7XL7BDQOutga0SsENAMj1hiQewQ0AP0egOYq9DQGJKJNHLrENAYygn2lWsQ0BC7Eyh86pDQDxO0ZFcqkNAklz+Q/qpQ0CUap+Ox6hDQI2XbhKDqENAfzDw3HuoQ0C4kh0bgahDQKPMBplkqENA\",\"dtype\":\"float64\",\"shape\":[108]},{\"__ndarray__\":\"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\",\"dtype\":\"float64\",\"shape\":[208]},{\"__ndarray__\":\"MSWS6GWoQ0CjzAaZZKhDQLiSHRuBqENAfzDw3HuoQ0CNl24Sg6hDQJzhBnx+qENAHLYtymyoQ0DqPgCpTahDQOP8TShEqENAsb/snjyoQ0DVeOkmMahDQHlA2ZQrqENAwM+4cCCoQ0AyWkdVE6hDQOxRuB6Fp0NAqFKzB1qlQ0BM/bypSKVDQNP2r6w0pUNAN6YnLPGkQ0Cy9KEL6qNDQB2PGaiMo0NAnzws1JqiQ0COI9biU6BDQHrHKTqSn0NACtejcD2eQ0BagSGrW51DQFPovMYunUNA8BZIUPycQ0Cc4QZ8fpxDQADGM2jom0NAyatzDMiWQ0DaG3xhMpVDQPt5U5EKk0NAFw6EZAGTQ0CnIhXGFpJDQBSWeEDZkENAwHgGDf2PQ0BXYMjqVo9DQApLPKBsjkNAmnyzzY2NQ0CVSKKXUYxDQEkRGVbxikNAQxzr4jaKQ0B8REyJJIpDQNlCkIMSikNAveMUHcmJQ0BpxqLp7IhDQE1nJ4OjiENATWcng6OIQ0CrCaLuA4hDQHOdRloqg0NAXp1jQPaCQ0CDNGPRdH5DQMoa9RCNekNAJcy0/St3Q0AiN8MN+HRDQI/k8h/Sd0NAvrwA++h4Q0C7uI0G8HpDQLyReeQPfkNA3J212y6AQ0BUAIxn0IBDQDeJQWDlgENA46WbxCCAQ0CpMLYQ5HxDQPXb14FzekNAHhuBeF17Q0AlXTP5ZndDQBpR2ht8dUNAHhZqTfNyQ0C7uI0G8G5DQMB4Bg39a0NAd4TTghdpQ0D6sx8pIltDQPqzHykiW0NA7GmHvyZbQ0ABMJ5BQ1tDQGWNeohGW0NAs5jYfFxbQ0B6jV2ieltDQMjShy6oW0NAOe6UDtZbQ0ArweJw5ltDQKMBvAUSXENAwM+4cCBcQ0CHp1fKMlxDQLG/7J48XENAPzVeuklcQ0DxgLIpV1xDQLEzhc5rXENARs7CnnZcQ0Djjcwjf1xDQEYIjzaOXENAuMzpsphcQ0C+vAD76FxDQNuK/WX3XENA6J/gYkVdQ0Aai6azk11DQO/mqQ65XUNAUps4ud9dQ0D8+4wLB15DQCDSb18HXkNAH9eGinFeQ0DA7J48LGBDQAB0mC8vYENA0qkrn+VhQ0CwVYLF4WRDQL3jFB3JZUNAhhvw+WFoQ0DbM0sC1GhDQKipZWt9aUNAGedvQiFqQ0DJcad0sGpDQAH20akra0NAKzBkdatrQ0BUNUHUfWxDQN9sc2N6bkNAVwT/W8lyQ0BmSYCaWnZDQIqT+x2KdkNAe4hGdxB3Q0Aofoy5a3lDQG6LMhtkekNAuvdwyXF7Q0CNYrml1XxDQFNcVfZdfUNA0AoMWd1+Q0CWW1oNiX9DQGtgqwSLf0NAQWX8+4x/Q0AAjGfQ0H9DQGN6whIPgENAsVBrmneAQ0B/MPDce4BDQH/eVKTCgENAN45Yi0+BQ0C2oWKcv4FDQDylg/V/gkNAHY8ZqIyDQ0CyaDo7GYRDQAA6zJcXhENAqZ83FamEQ0AbgXhdv4RDQOJYF7fRhENAjX+fceGEQ0B3LSEf9IRDQJPjTulghUNA71UrE36FQ0AgJAuYwIVDQFGDaRg+hkNA2A3bFmWGQ0C0Hykiw4ZDQKDgYkUNhkNA8FAU6BOFQ0Dxun7BboRDQM3km21uhENAQNmUK7yDQ0A9RKM7iIFDQBHkoISZgkNAlialoNuDQ0BnCp3X2IFDQK9fsBu2gUNAHlA25QqHQ0A0hc5r7IpDQO7rwDkjjkNAZkmAmlqSQ0AniLoPQJZDQLSwpx3+lkNAsFWCxeGYQ0DXhopx/ppDQL8OnDOinENA9u6P96qdQ0DX+iKhLZ9DQFNcVfZdoUNA0PI8uDujQ0DFILByaKVDQKUsQxzrpkNAj/zBwHOnQ0A=\",\"dtype\":\"float64\",\"shape\":[178]},{\"__ndarray__\":\"NJ2dDI4eREDN5JttbiBEQErvG197IkRAFqQZi6YjREBolgSoqSVEQBKlvcEXJkRAlufB3VknRECNnIU97ShEQApoImx4KkRAAfvo1JUrREArajANwytEQLHh6ZWyLERASwLU1LItREDkMQOV8S9EQG1zY3rCMkRAqAAYz6A1RECe76fGSzdEQFu21hcJOURAmz3QCgw5REDbxMn9DjlEQL4wmSoYOURAGmmpvB05REDMlxdgHzlEQEymCkYlOURA8G36sx85REDa4a/JGjlEQBMn9zsUOURAYhVvZB45REBwfO2ZJTlEQKG5TiMtOURAcJnTZTE5REAFxY8xdzlEQJNX5xiQOURAPu3w12Q5REC+3v3xXjlEQNSCF30FOURATE9Y4gE5REAMyF7v/jhEQJtattYXOURAcF8Hzhk5REBaDYl7LDlEQHmvWpnwL0RAjgbwFkgoREC3XWiu0yBEQC0hH/RsGkRA845TdCQbREAyA5Xx7x9EQL4wmSoYJURActwpHawnREDBOSNKeydEQFlpUgq6JURAG55eKcsgRECbOLnfoRxEQC9RvTWwFURAGZC93v0RREBI4XoUrg9EQP1qDhDMDURAkx0bgXgFREBEboYb8P1DQMUbmUf++ENArir7rgjqQ0Cztb5IaONDQA5KmGn720NA+1dWmpTaQ0AR5KCEmdpDQG05l+Kq2kNAmKPH723aQ0D8AKQ2cdpDQFsIclDC2ENA1y/YDdvWQ0CbOLnfodhDQG6LMhtk2kNAyJi7lpDbQ0Bz1xLyQdtDQB2UMNP220NAOxkcJa/eQ0AdrP9zmN9DQCLDKt7I4ENAe9rhr8niQ0ApXI/C9eBDQCdmvRjK2UNARfC/lezYQ0AOT6+UZdhDQPPlBdhH10NAbmk1JO7VQ0BwCFVq9tRDQHrHKTqS00NALSY2H9fSQ0D1nPS+8dFDQBk5C3va0UNA0oxF09nRQ0BSYWwhyNFDQG9kHvmD0UNANgLxun7RQ0DvOEVHctFDQMxFfCdm0UNAE7h1N0/RQ0AwnkFD/9BDQCO+E7Ne0ENAh78ma9TPQ0DCFyZTBc9DQB4zUBn/zkNAkKD4MebOQ0B0JJf/kM5DQDxrt11ozkNAPE7RkVzOQ0DnHafoSM5DQFGDaRg+zkNA0XR2MjjOQ0AKgPEMGs5DQG+70FynzUNAPu3w12TNQ0AvaYzWUc1DQCJxj6UPzUNA9zsUBfrMQ0BjuaXVkMxDQGN/2T15zENAv5oDBHPMQ0CUE+0qpMxDQINuL2mMzkNA7DTSUnnPQ0BHcvkP6c9DQOBnXDgQ0kNAKlJhbCHUQ0DD8BExJdZDQDCBW3fz2ENAmQ0yycjZQ0DUK2UZ4txDQP8+48KB4ENAAMYzaOjjQ0BbttYXCeVDQBVXlX1X6ENAvR3htODpQ0DEWnwKgO1DQGaDTDJy7kNAv0hoy7nwQ0AUP8bctfRDQHWTGARW+kNAVfZdEfz/Q0CYNEbrqAZEQP7xXrUyCURA7BLVWwMLRECE2JlC5w1EQGUBE7h1E0RAliGOdXETREBd+SzPgxNEQAWGrG71FERA86s5QDAXREDbFmU2yBhEQDCeQUP/GERA4iNiSiQZREClLEMc6xpEQM42N6YnHERAw7tcxHceREA=\",\"dtype\":\"float64\",\"shape\":[154]},{\"__ndarray__\":\"8S4X8Z0AQUBV3o5wWgRBQCrG+ZtQBEFAB5lk5CwEQUCAZaVJKQRBQMaFAyFZBEFAlLw6x4AEQUBjnL8JhQRBQOqVsgxxBEFA/G8lOzYKQUCnXOFdLgpBQOfG9IQlCkFAJ2vUQzQKQUBKQbeXNApBQEpBt5c0CkFALuI7MesJQUBEhlW8kQFBQCXpmsk3/0BAio7k8h/+QEB4tHHEWvxAQNBE2PD0+kBALT4FwHj6QEAqdF5jl/hAQO4ljdE69kBASaKXUSzzQEB9rrZif/FAQANgPIOG7kBAWtjTDn/tQEDTn/1IEelAQKFKzR5o5UBA6rKY2HzgQEAdjxmojNtAQPc7FAX61EBAR6zFpwDQQECvlGWIY81AQIFDqFKzy0BAE7h1N0/JQEBQcLGiBsdAQOAQqtTswUBAYRqGj4i9QEDysFBrmrdAQCSX/5B+t0BAJJf/kH63QEBd+SzPg7dAQMh71cqEt0BA1sVtNIC3QEA6I0p7g7dAQHqqQ26Gt0BAyHvVyoS3QEBd+SzPg7dAQFCNl24St0BAHjNQGf+2QEAe3J2127ZAQF6AfXTqtkBA3lSkwti2QECQZiyazrZAQJ+wxAPKtkBAQpWaPdC2QEAK3Lqbp7ZAQKZ+3lSktkBACfmgZ7O2QEBCPujZrLZAQJ9ZEqCmtkBAdF5jl6i2QEBftTLhl7ZAQPtXVpqUtkBAX5hMFYy2QEBRMc7fhLZAQFExzt+EtkBAUTHO34S2QEAtz4O7s7ZAQOZciqvKtkBAe6AVGLK2QEB7gy9MprZAQMIv9fOmtkBAppvEILC2QEDYuz/eq7ZAQMpUwaiktkBAbRyxFp+2QEC77UJznbZAQPuuCP63tkBANNdppKW2QEDe5SK+E7dAQFcJFoczt0BAiJ0pdF63QEA6zJcXYLdAQPMC7KNTt0BAbM8sCVC3QEAIclDCTLdAQN6Th4Vat0BAdjdPdci5QEBJumbyzbpAQCuk/KTau0BA3CkdrP+/QEC46c9+pMBAQLjpz36kwEBAKa4q+67AQEA1QdR9AMJAQB9LH7qgwkBAQuxMofPCQEAvi4nNx8VAQHpTkQpjx0BAK4cW2c7LQECyaDo7GdBAQMk88gcD00BAeUDZlCvUQECT407pYNVAQLGiBtMw2EBAk1fnGJDZQEC05VyKq9pAQInvxKwX20BAMevFUE7cQEBdM/lmm99AQGoTJ/c74EBAfjoeM1DhQEBD4h5LH+JAQJdzKa4q40BA0VynkZbmQEDyzTY3putAQPYoXI/C7UBAUKp9Oh7vQEAIrBxaZO9AQBYwgVt370BAOiNKe4PvQEBfQZqxaPZAQLr3cMlx+0BAZvfkYaECQUAcX3tmSQRBQDEIrBxaBEFAngyOklcDQUADQ1a3egJBQDVG66hqAkFAeCgK9IkAQUCVn1T7dABBQFRvDWyVAEFA\",\"dtype\":\"float64\",\"shape\":[135]},{\"__ndarray__\":\"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\",\"dtype\":\"float64\",\"shape\":[216]},{\"__ndarray__\":\"L26jAbxNQkDe5SK+E0tCQIOG/gkuRkJAJzEIrBxCQkCKdhVSfj5CQLr3cMlxN0JAhIHn3sMtQkDuWkI+6ClCQFOzB1qBKUJA6J/gYkUpQkDbbRea6yhCQI1/n3HhKEJAeH+8V60oQkCNRdPZyShCQH+kiAyrKEJAlUiil1EoQkBlqmBUUidCQLw/3qtWJkJARGlv8IUlQkCOQLyuXyRCQJ7vp8ZLI0JALq2GxD0iQkCKyLCKNyJCQJgvL8A+IkJAsKw0KQUlQkClZg+0AidCQMgMVMa/I0JAQbyuX7AfQkBL5e0IpxlCQG5pNSTuGUJA30+Nl24eQkCiRbbz/SBCQCvZsRGII0JA2XdF8L8lQkBWgsXhzCdCQCwOZ341I0JAlSu8y0UkQkB1sP7PYSJCQPrt68A5I0JAeCgK9Ik8QkAUP8bctUBCQD6uDRXjREJArrt5qkNKQkCvQspPqlFCQHKKjuTyU0JAa7ddaK5XQkBrK/aX3VtCQHKndLD+X0JANUbrqGpyQkDfT42XbnJCQAMmcOtuckJAnwJgPINyQkAtlbcjnHJCQIIclDDTckJAbef7qfFyQkACgjl6/HJCQGU2yCQjc0JA1m670FxzQkCOdXEbDXRCQKPp7GRwdEJAaTUk7rF0QkCNCwdCsnRCQFvri4S2dEJAW86luKp0QkDxS/28qXRCQGLzcW2odEJAVG8NbJV0QkDUQzS6g3RCQDiEKjV7dEJA6j4AqU10QkCAmlq21nNCQLMHWoEhc0JAJQaBlUNzQkAziuWWVnNCQI/C9Shcc0JAZapgVFJzQkBlGeJYF3NCQHuIRncQc0JApu1fWWlyQkDReY1donJCQN83vvbMckJAqyFxj6VzQkC/8bVnlnRCQGEyVTAqdUJAkwA1tWx1QkAZHCWvznVCQG3F/rJ7dkJArMWnABh3QkD5LM+Du3dCQLg7a7ddeEJAP5EnSdd4QkDMC7CPTnlCQAStwJDVeUJA+zpwzoh6QkAJbTmX4npCQB04Z0Rpe0JAh1ClZg98QkDZlCu8y31CQJmByvj3fUJAGsBbIEF9QkDt9e6P93pCQFc+y/PgekJA16NwPQp7QkDXo3A9CntCQNejcD0Ke0JAqFfKMsR5QkCxpx3+mnhCQOzAOSNKd0JALuI7Met1QkD+8V61MnVCQE2h8xq7dEJAopdRLLd0QkA+rg0V43RCQJSkaybfdEJAK/aX3ZNzQkB8fhghPHJCQKhSswdacUJAONvcmJ5wQkAIA8+9h29CQIKtEiwOb0JA+8vuycNuQkCnrnyW521CQG/Tn/1IbUJAasGLvoJsQkDWOQZkr2tCQOYF2EenakJArhIsDmdmQkArNXugFWRCQLyuX7AbYkJACeHRxhFfQkBmTpfFxF5CQN8yp8tiXkJAybCKNzJbQkBc5nRZTFhCQG8Sg8DKUUJA\",\"dtype\":\"float64\",\"shape\":[135]},{\"__ndarray__\":\"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\",\"dtype\":\"float64\",\"shape\":[216]},{\"__ndarray__\":\"XyS05Vy6QECrsu+K4LtAQJwzorQ3vEBA0ETY8PS+QEC46c9+pMBAQLjpz36kwEBA3CkdrP+/QEArpPyk2rtAQEm6ZvLNukBAdjdPdci5QEDek4eFWrdAQAhyUMJMt0BAbM8sCVC3QEDzAuyjU7dAQDrMlxdgt0BAiJ0pdF63QEBXCRaHM7dAQN7lIr4Tt0BANNdppKW2QED7rgj+t7ZAQLvtQnOdtkBAbRyxFp+2QEDKVMGopLZAQNi7P96rtkBAppvEILC2QEDCL/XzprZAQHuDL0ymtkBAe6AVGLK2QEDmXIqryrZAQC3Pg7uztkBAUTHO34S2QEBRMc7fhLZAQJ9x4UBItkBADB8RUyKxQEDwv5Xs2KxAQH+HokCfqEBA8DMuHAilQEA/dEF9y6BAQHHJcad0mEBAUgq6vaSRQEDqPgCpTYxAQEurIXGPiUBA29yYnrCEQECil1Est3xAQNwRTgteeEBANL+aAwRzQEBuTE9Y4m1AQA+0AkNWa0BAXmOXqN5mQEDpfeNrz2RAQM7HtaFiYEBATrnCu1xcQEABNbVsrVdAQKfLYmLzVUBA81meB3dTQEBXBP9byVJAQK5H4XoUUkBA+tAF9S1PQECJ78SsF09AQJ88LNSaTkBA7dPxmIFOQECKH2PuWk5AQKBU+3Q8TkBAkdCWcylOQEBD4h5LH05AQFoSoKaWTUBAL6NYbmlNQEDFjzF3LU1AQDfg88MITUBAxjNo6J9MQEDqeMxAZUxAQMdLN4lBTEBAnNzvUBRMQEDcKR2s/0tAQOTaUDHOS0BASKeufJZLQEDCUfLqHEtAQIJWYMjqSkBAJsed0sFKQEAfhetRuEpAQN9PjZduSkBA/FI/bypKQEDZzvdT40lAQKAy/n3GSUBA6MHdWbtJQEC+3v3xXklAQHBfB84ZSUBAVACMZ9BIQEDx9EpZhkhAQONTAIxnSEBA46WbxCBIQECOklfnGEhAQA5KmGn7R0BAchb2tMNHQEAId2fttkdAQDJVMCqpR0BA3c1THXJHQEAlzLT9K0dAQLSTwVHyRkBAH6LRHcRGQED0+L1Nf0ZAQOZ0WUxsRkBA2XxcGypGQEASMSWS6EVAQAQ5KGGmRUBAr7FLVG9FQEATDyibckVAQIzbaABvRUBATFRvDWxFQEDo9pLGaEVAQIWZtn9lRUBAhZm2f2VFQEC3nEtxVUVAQCECDqFKRUBAE0TdByBFQEDFVWXfFUVAQDf92Y8URUBAaYzWUdVEQEA429yYnkRAQH/2I0VkREBAamrZWl9EQEBAE2HD00NAQD4ipkQSRUBAX9IYraNKQEBYHM78ak5AQMh71cqET0BAukkMAitPQED7rgj+t05AQKbVkLjHTkBA7C+7Jw9PQEBIUPwYc09AQAiUTbnCT0BAxqcAGM9QQEBPIy2Vt1NAQDNQGf8+W0BAraOqCaJeQEBj0XR2MmBAQPZAKzBkYUBARZ4kXTNlQEB72uGvyWZAQPjfSnZsaEBA/N6mP/tpQEA2zTtO0W1AQBqojH+fdUBATE9Y4gF9QED8qfHSTX5AQIzbaABvgUBAeAskKH6EQEB9rrZif4VAQP4rK01KiUBA9rTDX5OJQEDJjo1AvI5AQLd6TnrfkEBAS+XtCKeVQEBi83FtqJhAQJC93v3xnkBAa4Ko+wCgQEARcAhVaqJAQHe+nxovqUBAa4Ko+wCwQECE04IXfbFAQC8012mksUBAQ+IeSx+yQEDfT42XbrJAQO0NvjCZskBAH6LRHcSyQEClg/V/DrNAQPFjzF1LtEBAxvmbUIi0QEATRN0HILVAQJ4MjpJXt0BAfm/Tn/24QEBLzR5oBbpAQCf3OxQFukBA4C2QoPi5QEDuWkI+6LlAQK+ZfLPNuUBAJ2a9GMq5QEDg88MI4blAQOcAwRw9ukBA7l9ZaVK6QEA=\",\"dtype\":\"float64\",\"shape\":[181]},{\"__ndarray__\":\"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\",\"dtype\":\"float64\",\"shape\":[197]},{\"__ndarray__\":\"kIgpkUTDQkDHEWvxKcRCQPW+8bVnxkJAYMjqVs/JQkBQNuUK785CQKEt51Jc0UJAEvdY+tDVQkCPqiaIutdCQIOG/gku2kJALLzLRXzbQkCZZOQs7N1CQF4R/G8l30JAFmpN847fQkDZQpCDEuJCQN6OcFrw4kJASl6dY0DmQkBGsdzSauhCQHhF8L+V6EJAjdE6qproQkCbOLnfoehCQCAkC5jA6UJAV5V9VwTrQkB5I/PIH+xCQA2Oklfn7EJAhPBo44jtQkA89x4uOe5CQKFKzR5o7UJAoOBiRQ3uQkDmywuwj+5CQCgn2lVI8UJAXoWUn1TzQkDTwfo/h/VCQCyC/61k90JAcCU7NgL5QkASTgte9PlCQGaIY13c+kJAU8vW+iL9QkAsvMtFfP9CQMai6exkAENA6MHdWbsBQ0CDL0ymCgJDQNatnpPeA0NARz1EozsEQ0A4Mo/8wQhDQGtlwi/1C0NAKzV7oBUMQ0AjLZW3IwxDQCibcoV3EUNA3QcgtYkTQ0ClLEMc6xZDQFhWmpSCGkNAC5jArbsdQ0DdzVMdch9DQDc3picsIUNAxlBOtKsgQ0AlWBzO/B5DQL0Yyol2HUNA6N7DJccdQ0Da5sb0hB1DQH15AfbRHUNACmgibHgeQ0AyIHu9+x9DQCv2l92TH0NAeXWOAdkfQ0CiRbbz/SBDQBH8byU7IkNAgosVNZgiQ0CIhVrTvCNDQAAd5ssLJENAhUIEHEIlQ0B9PzVeuiVDQIqO5PIfJkNAkrOwpx0mQ0C8rl+wGyZDQKD9SBEZJkNAU9DtJY0lQ0CbOLnfoSRDQNbFbTSAI0NAyatzDMgiQ0C0q5DykyJDQLb4FADjIUNAqG+Z02UhQ0DNI38w8CBDQPFo44i1IENA46qy74ogQ0DqBDQRNiBDQORO6WD9H0NAAYdQpWYfQ0BXYMjqVh9DQF5ortNIH0NA7Eyh8xofQ0Cm7V9ZaR5DQPYLdsO2HUNAaQBvgQQdQ0CpTZzc7xxDQCk/qfbpHENAogvqW+YcQ0DUK2UZ4hxDQDBHj9/bHENAW0I+6NkcQ0BI/mDguRtDQDS6g9iZGkNANJ2dDI4aQ0CuEiwOZxpDQC6QoPgxGkNAPiKmRBIZQ0CUpGsm3xhDQIY97fDXGENAxqcAGM8YQ0BiEFg5tBhDQD8djxmoGENAH7+36c8WQ0AQWDm0yBZDQC6QoPgxFkNA6DBfXoAVQ0Dk9zb92RNDQGDNAYI5EkNAlPYGX5gQQ0AOvjCZKhBDQEHUfQBSD0NA3sg88gcPQ0DTE5Z4QA1DQJfK2xFOC0NA12mkpfIKQ0CZ9WIoJwpDQJKzsKcdCkNANQcI5ugJQ0Bo6J/gYglDQNzXgXNGBENAlj50QX3zQkBuaTUk7ulCQE0tW+uL5EJAUFPL1vreQkBwzojS3uBCQGQGKuPf30JAnZ0MjpLfQkB0DMhe795CQAgDz72H30JAfGEyVTDeQkDQs1n1ud5CQM11Gmmp3EJAhjjWxW3cQkA5ud+hKNxCQDsZHCWv2kJApu1fWWnaQkBjuaXVkNhCQM7fhEIE2EJARpT2Bl/YQkDkFB3J5ddCQFJEhlW81UJA1EM0uoPQQkDek4eFWsdCQKAaL90kvkJA9u6P96q9QkBv9Zz0vr1CQCApIsMqvkJA0ZZzKa6+QkAldQKaCL9CQE91yM1wv0JAwCFUqdm/QkB4YtaLocBCQJGb4QZ8wkJA\",\"dtype\":\"float64\",\"shape\":[162]},{\"__ndarray__\":\"vLN224V+QUDa4a/JGn1BQJV9VwT/f0FABTQRNjyBQUCXkA96NoNBQBy2LcpshEFAYAK37uaFQUA/kSdJ14hBQC7iOzHriUFAJNHLKJaLQUCN7iB2poxBQFQdcjPcjEFAaTo7GRyNQUBhw9MrZY1BQCC1iZP7jUFAGD4ipkSOQUA10lJ5O45BQPW52or9jUFALhwIyQKOQUCKyLCKN45BQFluaTUkjkFALudSXFWOQUAQr+sX7I5BQLlTOlj/j0FAlWWIY12QQUBbJVgczpBBQAU0ETY8kUFAWMUbmUeSQUC5iO/ErJNBQDFCeLRxlEFAIchBCTOVQUBf7/54r5ZBQFX2XRH8l0FAr+sX7IaZQUBnLJrOTppBQPpEniRdm0FAUwWjkjqdQUBlU67wLp9BQBxfe2ZJoEFAITzaOGKhQUBuhhvw+aFBQGyyRj1Eo0FAuHU3T3WkQUB3oblOI6VBQJF++zpwpkFAnil0XmOnQUBTXFX2XalBQGYUyy2tqkFAa2XCL/WrQUA+0AoMWa1BQEP/BBcrrkFAu9Vz0vuuQUCVfVcE/69BQH/2I0VksEFAW7bWFwmxQUDZzvdT47FBQN8Vwf9WskFAdJgvL8CyQUCk/KTap7NBQIfEPZY+tEFAMXxETIm0QUAxQni0cbRBQCPb+X5qtEFA1GAaho+0QUCwOJz51bRBQCntDb4wtUFA0lJ5O8K1QUC0WfW52rZBQA9FgT6Rt0FAx7q4jQa4QUAibHh6pbhBQGGJB5RNuUFA7l9ZaVK6QUAdA7LXu7tBQJUrvMtFvEFAdLUV+8u+QUA6kst/SL9BQJV9VwT/v0FAoImw4enBQUDdmJ6wxMNBQKRwPQrXx0FAYmcKndfIQUBJgJpatspBQHOAYI4ey0FAgGWlSSnMQUA+rg0V48xBQMvW+iKhzUFAWOIBZVPOQUCVfVcE/89BQPm9TX/200FA4nX9gt3UQUDZPXlYqNVBQP/nMF9e2EFAWP/nMF/aQUBWSPlJtdtBQFxaDYl73EFABcB4Bg3dQUB9s82N6d1BQCXpmsk330FAlX1XBP/fQUAZ4lgXt+FBQAspP6n24UFAJQaBlUPjQUCU9gZfmORBQOAtkKD45UFA2XdF8L/lQUCERxtHrOVBQMSxLm6j5UFAPX5v05/lQUA9RKM7iOVBQLbz/dR45UFAGlHaG3zlQUBoBYasbuVBQDbIJCNn5UFAflcE/1vlQUAT1VsDW+VBQFM/bypS5UFAE7h1N0/lQUA3cXK/Q+VBQPDErBdD5UFAvodLjjvlQUB324XmOuVBQDAvwD465UFAUwWjkjrlQUCalIJuL+VBQAwfEVMi5UFAGmmpvB3lQUDFVWXfFeVBQKmHaHQH5UFAYtuizAblQUCFsYUgB+VBQPdY+tAF5UFA91j60AXlQUCwrDQpBeVBQGkAb4EE5UFAcclxp3TkQUDUghd9Bd1BQITYmULn1UFAO99PjZfOQUB7gy9Mps5BQCEf9GxWxUFA0QX1LXPCQUDuWkI+6L1BQPYLdsO2uUFAAJF++zq4QUCVfVcE/69BQI2chT3trEFAQxzr4jamQUD27o/3qqFBQAqFCDiEnkFAwcqhRbaXQUDeq1Ym/JZBQNB+pIgMl0FA5X6HokCTQUDeVKTC2I5BQA8LtaZ5i0FAC0YldQKKQUBrK/aX3YdBQOrnTUUqgEFA93XgnBF5QUDVyoRf6nNBQHMR34lZc0FAcxHfiVlzQUBubkxPWHZBQJ3X2CWqe0FAYeC593B9QUCLGkzD8IFBQLCsNCkFhUFAescpOpKHQUDd71AU6IdBQD/G3LWEjEFA0egOYmeOQUAZxXJLq41BQMHKoUW2i0FAndfYJaqLQUADJnDrbopBQKn26XjMiEFA8MSsF0OFQUAJ4dHGEYNBQPs/h/nygkFAl631RUKDQUCZ9WIoJ35BQL72zJIAdUFA8rBQa5p3QUACK4cW2XpBQA==\",\"dtype\":\"float64\",\"shape\":[185]},{\"__ndarray__\":\"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\",\"dtype\":\"float64\",\"shape\":[208]},{\"__ndarray__\":\"cSAkC5jEQEB4RfC/lcRAQPjCZKpgxEBARyBe1y/EQEBVMCqpE8RAQKuy74rgw0BAz6Chf4LDQEDsTKHzGsNAQMpUwaikwkBAiuWWVkPCQEAS2nIuxcFAQOjZrPpcwUBAOBWpMLbAQEBHrMWnAMBAQLraiv1lv0BAdQKaCBu+QEAxmSoYlbxAQFZl3xXBu0BAdEF9y5y6QEC8V61M+LlAQL9IaMu5uEBAQX3LnC63QEBCsoAJ3LZAQLzoK0gztkBAaNDQP8G1QED92Y8UkbVAQATnjCjttUBAGvonuFi1QEA3GsBbILVAQPC/lezYtEBA6WD9n8O0QEA/AKlNnLRAQH/7OnDOtEBA24r9Zfe0QED2I0VkWLVAQERuhhvwtUBAX9IYraO2QECd9L7xtbdAQNXsgVZguEBATTJyFva4QECSy39Iv7lAQF9BmrFoukBASaKXUSy7QECk5NU5BrxAQM2SADW1vEBANuUK73K9QECDhv4JLr5AQKYPXVDfvkBAQQ5KmGm/QEAP0egOYr9AQEesxacAwEBAR6zFpwDAQEDGbTSAt8BAQPDErBdDwUBA2QjE6/rBQEB8D5ccd8JAQOWzPA/uwkBAM6fLYmLDQEDOiNLe4MNAQA7bFmU2xEBAKjqSy3/EQEDNdRppqcRAQNS3zOmyxEBA8Uv9vKnEQEBi1ouhnMRAQIbmOo20xEBAFFysqMHEQEDiOzHrxcRAQOlg/Z/DxEBAW3wKgPHEQEA+IqZEEsVAQDD186YixUBAhetRuB7FQEBFKowtBMVAQHcQO1PoxEBAf/s6cM7EQEAAAAAAAAD4fxWMSuoE8EBAF9S3zOnuQECuKvuuCO5AQEATYcPT60BAldQJaCLsQEDZd0Xwv+1AQCXMtP0r70BARnwnZr3wQEBI/mDgufNAQPbRqSuf9UBAUiy3tBr6QED5vU1/9vtAQGtlwi/1+0BACFVq9kD7QEAicY+lD/1AQE34pX7e/EBAcLa5MT39QECBlUOLbP9AQAb1LXO6AEFAqDXNO04FQUClMVpHVQdBQF8pyxDHCkFA+tAF9S0PQUB+VwT/WxFBQGUBE7h1E0FArP9zmC8TQUALe9rhrxFBQGWNeohGE0FA/1vJjo0UQUBWn6ut2BNBQEImGTkLE0FARrbz/dQQQUC6g9iZQg9BQOBKdmwEDkFA46WbxCAMQUCoqWVrfQlBQDJVMCqpB0FA66hqgqgHQUA57pQO1gdBQJYhjnVxB0FAqiuf5XkIQUBSJ6CJsAlBQFIP0egOCkFAg0wychYKQUAnZr0YyglBQITwaOOICUFAXynLEMcKQUDkDwaeewtBQFbUYBqGC0FAJsed0sEKQUDg1t081QlBQGDq501FCkFAv0hoy7kMQUA8a7ddaA5BQKp9Oh4zEEFATWcng6MQQUDAJmvUQxBBQABXsmMjEEFAJNbiUwAQQUDkDwaeew9BQIEExY8xD0FARKM7iJ0NQUBDxTh/Ew5BQJEnSddMDkFAvcYuUb0NQUAbL90kBg1BQEcDeAskDEFAih9j7loKQUA2WaMeoglBQILK+PcZC0FAHQOy17sLQUB+Oh4zUA1BQGEaho+IDUFAPSzUmuYNQUB3LSEf9AxBQPm9TX/2C0FAyhXe5SIKQUDjiLX4FAhBQAAAAAAAAEFA0oxF09n9QEBp44i1+PxAQAkbnl4p+0BAGt1B7Ez5QECNeohGd/hAQA6EZAET+EBAR1UTRN33QEDrVs9J7/dAQN6wbVFm90BA2IFzRpT2QEDhfyvZsfVAQDCBW3fz9EBA1EM0uoP0QECGyVTBqPRAQI1F09nJ9EBA443MI3/0QEC6LCY2H/NAQDm536Eo9EBAIJijx+/1QEDzjlN0JPdAQMdLN4lB+EBAIGPuWkL2QEBQcLGiBvNAQHwnZr0Y8kBAVDVB1H3wQEAAAAAAAAD4f+tWz0nvL0FA2PD0SlkqQUDWbrvQXCtBQN0MN+DzK0FA2lVI+UktQUBfmEwVjC5BQDPcgM8PL0FAQpWaPdAuQUCnIhXGFi5BQEd3EDtTLEFAsyRATS0rQUAebRyxFitBQB1aZDvfK0FAqbwd4bQsQUDvA5DaxC1BQF/v/nivLkFA0qkrn+UtQUBF9dbAVi1BQL37471qLUFAb4EExY8tQUCuZMdGIC5BQM8UOq+xL0FAvhOzXgwxQUBzLsVVZTNBQOp4zEBlNEFA8Uv9vKk0QUAc0xOWeDRBQDiEKjV7NEFAN2xblNk0QUAvF/GdmDVBQK4NFeP8NUFA2evdH+81QUAnoImw4TVBQO49XHLcNUFA4BCq1Ow1QUB2w7ZFmTVBQP2C3bBtNUFA71UrE341QUAT8kHPZjVBQMXm49pQNUFA4gFlU640QUAVV5V9VzRBQDnWxW00NEFAzt+EQgQ0QUBehZSfVDNBQO2BVmDIMkFAtWytLxIyQUDQ0D/BxTJBQM/abReaM0FA9+l4zEA1QUABpDZxcjdBQHUfgNQmOkFAYwtBDko8QUDD9Shcjz5BQGX8+4wLP0FAhnKiXYVAQUCHxD2WPkBBQMai6exkQEFAXANbJVhAQUDpQxfUt0BBQBrAWyBBQUFASgfr/xxCQUCJB5RNuUJBQBbe5SK+Q0FA1GUxsflEQUDuPVxy3EVBQCyC/61kR0FAjSjtDb5IQUARUyKJXkpBQBSuR+F6TEFAmbuWkA9OQUAktOVcik9BQA2reCPzUEFACqLuA5BSQUCWeEDZlFNBQAdfmEwVWEFARKM7iJ1ZQUDeVKTC2FpBQEdVE0TdW0FAv/G1Z5ZcQUA82jhiLV5BQJ1GWipvX0FAol2FlJ9gQUB2/YLdsGFBQLPSpBR0Y0FARpT2Bl9kQUA7jbRU3mZBQMHicOZXa0FA1T4djxlsQUCaQuc1dm1BQPXb14FzbkFAHaz/c5hvQUDq7GRwlHBBQG40gLdAckFAyOpWz0lzQUBNEHUfgHRBQBHfiVkvdkFAwaikTkB3QUCqSIWxhXhBQFkXt9EAekFApTFaR1V7QUCg4GJFDX5BQJV9VwT/f0FA2uGvyRp9QUC8s3bbhX5BQAIrhxbZekFA8rBQa5p3QUC+9sySAHVBQJn1YignfkFAl631RUKDQUD7P4f58oJBQAnh0cYRg0FA8MSsF0OFQUCp9ul4zIhBQAMmcOtuikFAndfYJaqLQUDByqFFtotBQBnFckurjUFA0egOYmeOQUA/xty1hIxBQN3vUBToh0FAescpOpKHQUCwrDQpBYVBQIsaTMPwgUFAYeC593B9QUCd19glqntBQG5uTE9YdkFAcxHfiVlzQUBzEd+JWXNBQAFqatlac0FASBYwgVtzQUCPwvUoXHNBQI/C9Shcc0FAj8L1KFxzQUCPwvUoXHNBQI/C9Shcc0FAj8L1KFxzQUDWbrvQXHNBQNZuu9Bcc0FA1q2ek95vQUA50a5CymdBQDCBW3fzXEFAjswjfzBYQUAJM23/yk5BQEwao3VUQUFA4BCq1Ow5QUAa+ie4WDlBQEYIjzaOOEFAlgm/1M83QUBt5/up8TZBQHsUrkfhNkFAChFwCFU2QUDEd2LWizVBQHB31m67NEFAqn06HjM0QUDBkNWtnjNBQGX8+4wLM0FAbXNjesIyQUCnP/uRIjJBQLahYpy/MUFA/kgRGVYxQUAibHh6pTBBQJUrvMtFMEFAVdl3RfAvQUA=\",\"dtype\":\"float64\",\"shape\":[346]},{\"__ndarray__\":\"eLRxxFq0QkDxnZj1YrRCQNOHLqhvtUJAkX77OnC2QkCkwthCkLdCQLh1N091uEJABRcrajC5QkALKT+p9rlCQCcUIuAQukJAu9Bcp5G6QkCtTPilfrpCQHXIzXADukJAyqZc4V26QkA+XHLcKb1CQP5g4Ln3vEJAFytqMA27QkDyJOmaybtCQCXpmsk3u0JAB+v/HOa7QkDl8h/Sb7tCQDuqmiDqukJAmMCtu3m6QkB8LH3ogrpCQNF0djI4ukJA+8vuycO6QkCsxacAGLtCQEgWMIFbu0JAAcEcPX67QkBk6UMX1LtCQMAma9RDvEJAzqrP1Va8QkCwG7YtyrxCQDblCu9yvUJAZ341Bwi+QkBuhhvw+b1CQMR8eQH2vUJAi8OZX829QkDECOHRxr1CQP1NKETAvUJAyxDHuri9QkBhjh6/t71CQK/rF+yGvUJAuw9AahO7QkCcoiO5/LdCQPBt+rMftUJA/dmPFJGxQkBd/kP67a9CQLFtUWaDrEJAD5ccd0qnQkBZTGw+rqVCQOrsZHCUpEJArfpcbcWiQkDWrZ6T3p9CQGCTNeohnkJAN2xblNmcQkASMSWS6JlCQILn3sMll0JAzQGCOXqUQkDQ8jy4O5NCQJqUgm4vlUJA1v85zJeXQkDEX5M16pVCQGg/UkSGlUJArP9zmC+XQkBqpKXydpRCQHlA2ZQrlEJA7+GS406RQkCwPbMkQJFCQAU0ETY8kUJADRr6J7iQQkAHmWTkLJBCQEEOSphpj0JAWYtPATCOQkDa4a/JGo1CQPLvMy4cjEJAwVYJFoeLQkBsIchBCYtCQIpZL4ZyikJAmus00lKJQkBiLT4FwIhCQFa8kXnkh0JAwW7YtiiHQkAmjdE6qoZCQBSWeEDZhEJAY3rCEg+EQkCdS3FV2YNCQEmAmlq2gkJA/TBCeLSBQkAMHxFTIoFCQNzXgXNGgEJAkIgpkUR/QkBiFW9kHn1CQKuVCb/Ue0JA7Eyh8xp7QkDXo3A9CntCQNejcD0Ke0JAVz7L8+B6QkDt9e6P93pCQBrAWyBBfUJAmYHK+Pd9QkDZlCu8y31CQIdQpWYPfEJAHThnRGl7QkAJbTmX4npCQPs6cM6IekJABK3AkNV5QkDMC7CPTnlCQD+RJ0nXeEJAuDtrt114QkD5LM+Du3dCQKzFpwAYd0JAbcX+snt2QkAZHCWvznVCQJMANbVsdUJAYTJVMCp1QkC/8bVnlnRCQKshcY+lc0JA3ze+9sxyQkDReY1donJCQKbtX1lpckJAe4hGdxBzQkBlGeJYF3NCQKwcWmQ7c0JAyJi7lpB7QkAlI2dhT39CQAK8BRIUg0JAfGEyVTCGQkDfN772zIZCQIdtizIbiEJAlDDT9q+IQkCDhv4JLopCQHPXEvJBi0JA+Um1T8eLQkAOFeP8TYxCQM2SADW1jEJARGlv8IWNQkBuhhvw+Y1CQPxvJTs2jkJA+kSeJF2PQkDU1LK1vpBCQJ+rrdhfkkJAKVyPwvWUQkBtrS8S2pZCQFAZ/z7jmkJAho+IKZGcQkBwtrkxPaFCQFHaG3xhokJAIk+SrpmkQkCqglFJnaRCQOkmMQispEJAIbByaJGlQkCSPxh47qVCQILK+PcZp0JAjliLTwGoQkAwgVt386hCQLZnlgSoqUJApKXydoSrQkBMiSR6Ga1CQJC93v3xrkJAAFeyYyOwQkAh6j4AqbFCQG0csRafskJA\",\"dtype\":\"float64\",\"shape\":[162]},{\"__ndarray__\":\"7+apDrmRQkCRLGACt5JCQG8Sg8DKlUJA8wLso1OXQkDAWyBB8ZdCQH+8V61MmEJAMevFUE6YQkCx4emVsphCQH2zzY3pmUJAujE9YYmbQkCzDHGsi5tCQNbiUwCMm0JACAPPvYebQkD6uDZUjJtCQEFl/PuMm0JAiBHCo42bQkAktOVciptCQAggtYmTm0JA6udNRSqcQkB3vp8aL51CQJhRLLe0nkJAwM+4cCCgQkBqwYu+gqRCQKqCUUmdpEJAIk+SrpmkQkBR2ht8YaJCQHC2uTE9oUJAho+IKZGcQkBQGf8+45pCQG2tLxLalkJAKVyPwvWUQkCfq63YX5JCQNTUsrW+kEJA+kSeJF2PQkD8byU7No5CQG6GG/D5jUJARGlv8IWNQkDNkgA1tYxCQA4V4/xNjEJA+Um1T8eLQkBz1xLyQYtCQIOG/gkuikJAlDDT9q+IQkCHbYsyG4hCQN83vvbMhkJAfGEyVTCGQkACvAUSFINCQCUjZ2FPf0JAyJi7lpB7QkCsHFpkO3NCQGUZ4lgXc0JAZapgVFJzQkCPwvUoXHNCQDOK5ZZWc0JAJQaBlUNzQkCzB1qBIXNCQICaWrbWc0JA6j4AqU10QkA4hCo1e3RCQNRDNLqDdEJAVG8NbJV0QkBi83FtqHRCQPFL/bypdEJAW86luKp0QkBb64uEtnRCQI0LB0KydEJAaTUk7rF0QkCj6exkcHRCQI51cRsNdEJA1m670FxzQkBlNsgkI3NCQAKCOXr8ckJAbef7qfFyQkCCHJQw03JCQC2VtyOcckJAnwJgPINyQkADJnDrbnJCQN9PjZduckJAvHmqQ25yQkCl942vPXNCQB7EzhQ6c0JA6xwDstdzQkBiLT4FwHRCQClcj8L1dEJAjZduEoN0QkCOO6WD9XNCQBSuR+F6dEJADk+vlGV0QkCi7gOQ2nRCQDHT9q+sdEJAPzVeukl0QkDxnZj1YnRCQB3mywuwc0JA3gIJih9zQkAtlbcjnHJCQEvl7QincUJAsAPnjChxQkDTvOMUHXFCQEX11sBWcUJA6X3ja89wQkDONjemJ3BCQAKfH0YIb0JAms5OBkdtQkCb5h2n6GhCQJeQD3o2a0JABkfJq3NsQkBO0ZFc/m9CQEok0csockJA4Nv0Zz9yQkCUvDrHgHRCQNxoAG+BdEJAavtXVpp0QkCiXYWUn3RCQJqUgm4vdUJA4XoUrkd1QkAT8kHPZnVCQIS7s3bbdUJAH9eGinF2QkBdv2A3bHdCQE7RkVz+d0JA8Uv9vKl4QkB381SH3HhCQBKDwMqheUJA18BWCRZ7QkCcvwmFCHxCQHB31m67fEJAqd4a2Cp9QkC+3v3xXn1CQCC1iZP7fUJANbVsrS9+QkCmJyzxgH5CQAkbnl4pf0JAgez17o9/QkBO0ZFc/n9CQKsJou4DgEJAsCDNWDSBQkDvA5DaxIFCQKbQeY1dgkJA1/oioS2DQkCqQ26GG4RCQGh5HtydhUJA76zddqGFQkBvEoPAyo1CQJzEILBykEJAi4nNx7WRQkA=\",\"dtype\":\"float64\",\"shape\":[145]},{\"__ndarray__\":\"G4F4Xb8wREDGihpMwzBEQE5FKowtLERAIzKs4o0sREC86CtIMy5EQD0nvW98LURAFQDjGTQsREDVWwNbJSxEQMx/SL99KURAyAxUxr8nREAyrOKNzCdEQIeiQJ/IJ0RAeXWOAdknRECfyJOkayZEQHB31m67JERAKej2ksYkREDY2CWqtyZEQIYb8PlhLERAb/Wc9L4xREBfJLTlXDZEQBMKEXAIOURAIXam0Hk9REAUlnhA2UBEQEpBt5c0RkRAdonqrYFJRECcUIiAQ0xEQBN+qZ83UURAAK5kx0ZUREAuVtRgGlZEQH5v05/9WERAx/SEJR5cREDb3JiesGBEQEGfyJOkY0RAh6JAn8hnRECYLy/APm5EQJkNMsnIcURAldQJaCJ4REBNEHUfgHxEQH+HokCfgERAVtRgGoaLREBzEd+JWZdEQOz6Bbthl0RA7PoFu2GXREAlXTP5ZpdEQI/f2/Rnl0RAXb9gN2yXREAIWoEhq5dEQCswZHWrl0RAwa27eaqXREB65A8GnpdEQIEJ3Lqbl0RAeuQPBp6XREAIPZtVn5dEQCSX/5B+l0RAwRw9fm+XREDl8h/Sb5dEQE91yM1wl0RAgbIpV3iXREA6BmSvd5dEQKyt2F92l0RAyF7v/niXREDIXu/+eJdEQMhe7/54l0RAM+GX+nmXREDWxW00gJdEQOQs7GmHl0RAc0urIXGXRECkiAyreJdEQCy8y0V8l0RA83aE04KXRECWW1oNiZdEQJZbWg2Jl0RAujE9YYmXREC6MT1hiZdEQLoxPWGJl0RAujE9YYmXREC6MT1hiZdEQLoxPWGJl0RAujE9YYmXREC6MT1hiZdEQLoxPWGJl0RAujE9YYmXREC6MT1hiZdEQN0HILWJl0RAujE9YYmXREC6MT1hiZdEQN0HILWJl0RA3QcgtYmXREDdByC1iZdEQN0HILWJl0RA3QcgtYmXREBkHvmDgZdEQJIiMqzilURAL6hvmdOVREDo3sMlx5VEQL5qZcIvlURAaVch5SeVREA09E9wsZJEQAclzLT9j0RAEY3uIHaOREDMtP0rK4lEQO7O2m0XhkRA4X8r2bGBRECcpzrkZnxEQHdn7bYLeURAvrwA++h0RECYwK27eXJEQKPMBplkcERA8zy4O2trREBrZcIv9WNEQLml1ZC4Y0RA3xXB/1ZeREAWGLK61VNEQMU4fxMKQURAIhrdQew8REDrrYGtEjxEQKBP5EnSOURATE9Y4gE5REDUghd9BTlEQL7e/fFeOURAPu3w12Q5RECTV+cYkDlEQAXFjzF3OURAcJnTZTE5REChuU4jLTlEQHB87ZklOURAYhVvZB45REATJ/c7FDlEQNrhr8kaOURA8G36sx85REBMpgpGJTlEQMyXF2AfOURAGmmpvB05REC+MJkqGDlEQNvEyf0OOURAmz3QCgw5REBbttYXCTlEQDl/EwoROERADFnd6jk5RECafLPNjTlEQMdGIF7XN0RA4gFlU644RECVn1T7dDhEQFGIgEOoNkRAWg2Jeyw1REAYsrrVczZEQL9lTpfFNERAdAexM4UyREA+lj50QTFEQA==\",\"dtype\":\"float64\",\"shape\":[149]},{\"__ndarray__\":\"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\",\"dtype\":\"float64\",\"shape\":[216]},{\"__ndarray__\":\"YKsEi8MFQ0CoV8oyxAVDQG6jAbwFBkNAkQpjC0EGQ0Ct+lxtxQZDQKqCUUmdCENAD5wzorQHQ0BkkpGzsAdDQKbtX1lpBkNA4Ep2bAQGQ0BN+KV+3gRDQHEgJAuYBENATpzc71AEQ0DH155ZEgRDQLjkuFM6BENAVRhbCHIEQ0Bi26LMBgVDQMl2vp8aB0NAlufB3VkHQ0CW7NgIxAdDQLnfoSjQB0NAcoqO5PIHQ0AdPX5v0wdDQG8NbJVgCUNA5iK+E7MKQ0BtOZfiqg5DQORO6WD9D0NAJNbiUwAQQ0DAlezYCBBDQAAd5ssLEENAqfbpeMwQQ0A+6Nms+hBDQCYBamrZEkNAnYAmwoYTQ0DW/znMlxNDQKs+V1uxE0NAgH106soTQ0CWJqWg2xNDQLkZbsDnE0NAFVJ+Uu0TQ0DOpbiq7BNDQGQjEK/rE0NAjh6/t+kTQ0DOpbiq7BNDQJ1oVyHlE0NAste7P94TQ0AyychZ2BNDQOscA7LXE0NAWvW52ooVQ0AMzXUaaRlDQJBJRs7CHkNAamrZWl8gQ0Afv7fpzyJDQEKVmj3QIkNAe2ZJgJomQ0AxJZLoZShDQPjfSnZsKENALPGAsikrQ0DN6bKY2DBDQKGEmbZ/MUNAg/qWOV0yQ0Aydy0hHzRDQCl5dY4BNUNAJ2a9GMo1Q0A1e6AVGDZDQN9PjZduNkNA3ZiesMQ3Q0BfRrHc0j5DQGiz6nO1QUNA2VpfJLRBQ0Avi4nNx0FDQEWBPpEnQUNAeo1dono/Q0AJ+aBnsz5DQOVhodY0P0NAwJXs2AhAQ0BN+KV+3kBDQAkzbf/KQkNAHCWvzjFEQ0BVh9wMN0RDQH/Bbti2RENA+n5qvHRDQ0BI/mDguUNDQOtunuqQQ0NAHF97ZklEQ0DUfQBSm0RDQH9qvHSTRENACJRNucJDQ0ChSs0eaEFDQK+ZfLPNOUNAO3DOiNIuQ0B1ApoIGypDQCMtlbcjKENAOZz51RwoQ0AyWkdVEyhDQDJaR1UTKENAI/PIHwwoQ0AyVTAqqSdDQB+F61G4JkNAp658luclQ0CiXYWUnyRDQIEmwoanI0NAgsXhzK8iQ0B87ZklASJDQD9vKlJhIENAc9cS8kEfQ0BMcVXZdx1DQBWpMLYQHENAWFaalIIaQ0BaL4ZyohlDQE2h8xq7GENADVTGv88YQ0AIyQImcBdDQLsKKT+pFkNA6pWyDHEUQ0BbfAqA8RBDQBhbCHJQDkNAiJ0pdF4LQ0AeFmpN8wpDQNieWRKgCkNAd6G5TiMJQ0DVJk7udwhDQAZHyatzCENACFqBIasHQ0AKaCJseAZDQDUk7rH0BUNA\",\"dtype\":\"float64\",\"shape\":[126]},{\"__ndarray__\":\"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\",\"dtype\":\"float64\",\"shape\":[226]},{\"__ndarray__\":\"0LNZ9bneQkB8YTJVMN5CQAgDz72H30JAdAzIXu/eQkCdnQyOkt9CQGQGKuPf30JAcM6I0t7gQkBQU8vW+t5CQE0tW+uL5EJAbmk1JO7pQkCWPnRBffNCQNzXgXNGBENAaOif4GIJQ0A1Bwjm6AlDQNKpK5/lCUNAVDVB1H0IQ0A1KQXdXgZDQOc6jbRUBkNA0zB8REwFQ0A5l+KqsgNDQJY+dEF9A0NAbcoV3uUCQ0DSOqqaIAJDQFnABG7dAUNAaR1VTRABQ0AfnbryWf5CQCzUmuYd+0JAPbg7a7f5QkATuHU3T/lCQPFo44i1+EJAK6T8pNr3QkCCqPsApPZCQLAbti3K9EJA+PwwQnjwQkBkBirj3+9CQHMuxVVl70JAyAc9m1XvQkAVxhaCHOxCQNi7P96r6kJAJvxSP2/qQkDDnnb4a+pCQFgczvxq6kJAfLjkuFPqQkC+wRcmU+lCQOnxe5v+6EJADf0TXKzoQkCWlSaloOdCQO5fWWlS5kJAIzKs4o3kQkAXmus00uJCQC+Lic3H4UJAGm7A54fhQkAP1v85zN9CQPSJPEm63kJAYKsEi8PdQkAx0/avrNxCQHmvWpnw20JAw7ZFmQ3aQkAplltaDdlCQJVgcTjz10JASDMWTWfXQkCKH2PuWtZCQAr0iTxJ1kJAdY4B2evVQkAIILWJk9NCQGZmZmZm0kJArwj+t5LRQkDTvOMUHdFCQAwCK4cW0UJAG0zD8BHRQkA+6Nms+tBCQJD3qpUJy0JAPDHrxVDGQkC1GhL3WMJCQHsxlBPtvkJAdOrKZ3m+QkAbKsb5m7xCQGWqYFRSu0JAfH4YITy6QkCpE9BE2LhCQB1yM9yAt0JAfA+XHHe2QkCSkbOwp7VCQOONzCN/tEJAx2gdVU2wQkAPtAJDVq9CQDdxcr9DrUJA3pOHhVqrQkCNtFTejqhCQDuqmiDqpkJAJAuYwK2jQkASpb3BF6JCQIHPDyOEn0JAgzRj0XSeQkDL+PcZF5ZCQD0K16NwkUJAsD2zJECRQkDv4ZLjTpFCQHlA2ZQrlEJAaqSl8naUQkCs/3OYL5dCQGg/UkSGlUJAxF+TNeqVQkDW/znMl5dCQJqUgm4vlUJA0PI8uDuTQkDNAYI5epRCQILn3sMll0JAEjElkuiZQkA3bFuU2ZxCQGCTNeohnkJA1q2ek96fQkCt+lxtxaJCQOrsZHCUpEJAWUxsPq6lQkAPlxx3SqdCQLFtUWaDrEJAXf5D+u2vQkD92Y8UkbFCQPBt+rMftUJAnKIjufy3QkC7D0BqE7tCQK/rF+yGvUJAYY4ev7e9QkD27o/3qr1CQKAaL90kvkJA3pOHhVrHQkDUQzS6g9BCQFJEhlW81UJA5BQdyeXXQkBGlPYGX9hCQM7fhEIE2EJAY7ml1ZDYQkCm7V9ZadpCQDsZHCWv2kJAObnfoSjcQkCGONbFbdxCQM11Gmmp3EJA\",\"dtype\":\"float64\",\"shape\":[138]},{\"__ndarray__\":\"hNOCF31pQ0C5wrtcxGtDQEsfuqC+bUNApdqn4zFvQ0AKgPEMGm5DQB9LH7qgbkNA2o8UkWFxQ0APlxx3SnNDQBzw+WGEdENACtejcD12Q0Au51JcVXZDQCVATS1bd0NAlKRrJt94Q0CfAmA8g3pDQBUdyeU/fENA6E1FKox9Q0AtCVBTy35DQP8EFytqgENArfpcbcWCQ0DxgLIpV4RDQGk1JO6xiENARiV1ApqIQ0DIJCNnYYtDQMqJdhVSjkNAMjhKXp2PQ0D36XjMQJFDQIp2FVJ+kkNAkq6ZfLOVQ0AbDeAtkJhDQMOBkCxgmkNA3BFOC16cQ0BZNJ2dDJ5DQA5Pr5RloENA5QrvchGjQ0BlGeJYF6NDQMbhzK/mpENA/OO9amWmQ0BJ9DKK5aZDQJCg+DHmpkNA3nGKjuSmQ0CmD11Q36ZDQNAKDFndpkNAyeU/pN+mQ0A7jbRU3qZDQNAKDFndpkNAO420VN6mQ0Ce6pCb4aZDQPsioS3npkNAkKD4MeamQ0DXaaSl8qZDQHtOet/4pkNAUFPL1vqmQ0BsBOJ1/aZDQNeGinH+pkNANL+aAwSnQ0BCJhk5C6dDQEImGTkLp0NAXtcv2A2nQ0Be9BWkGadDQJ57D5ccp0NAgsXhzK+mQ0DDZKpgVKZDQOAtkKD4pUNARDS6g9ilQ0CSBUzg1qVDQAStwJDVpUNAMnctIR+kQ0DXhopx/qJDQNeGinH+okNAoMN8eQGiQ0AvhnKiXaFDQKjjMQOVoUNA7IZtizKfQ0C9++O9ap1DQMjNcAM+m0NA7nw/NV6aQ0BpAG+BBJlDQJCg+DHmlkNAQgkzbf+SQ0DQfqSIDI9DQIZa07zjjENAZHWr56SLQ0AZVvFG5olDQOLkfoeiiENAN8MN+PyEQ0Ah5SfVPoFDQJkSSfQyekNAmnyzzY11Q0Dn+6nx0n1DQJBrQ8U4f0NAc4V3uYh/Q0BrYKsEi39DQJZbWg2Jf0NA0AoMWd1+Q0BTXFX2XX1DQI1iuaXVfENAuvdwyXF7Q0BuizIbZHpDQCh+jLlreUNAe4hGdxB3Q0CKk/sdinZDQGZJgJpadkNAVwT/W8lyQ0DfbHNjem5DQFQ1QdR9bENAKzBkdatrQ0AB9tGpK2tDQMlxp3SwakNAGedvQiFqQ0CoqWVrfWlDQNszSwLUaENAhhvw+WFoQ0C94xQdyWVDQLBVgsXhZENA0qkrn+VhQ0AAdJgvL2BDQMDsnjwsYENAH9eGinFeQ0Ag0m9fB15DQESoUrMHXkNAi3H+JhReQ0AnTu53KF5DQK6ek943XkNAIGPuWkJeQ0AgY+5aQl5DQCBj7lpCXkNAIGPuWkJeQ0DYtiizQV5DQODb9Gc/XkNAvAUSFD9eQ0AukKD4MV5DQKdc4V0uXkNAp1zhXS5eQ0CnXOFdLl5DQKdc4V0uXkNAEd+JWS9eQ0CnXOFdLl5DQKdc4V0uXkNAyjLEsS5eQ0CnXOFdLl5DQO4IpwUvXkNA7ginBS9eQ0AR34lZL15DQFmLTwEwXkNAWYtPATBeQ0BZi08BMF5DQJ+OxwxUXkNAQ61p3nFiQ0Cxv+yePGRDQJ8fRgiPYkNAGOyGbYtiQ0Ctad5ximJDQPZ/DvPlYUNAfSJPkq5hQ0BxWvCir2BDQDMWTWcnX0NA8fRKWYZgQ0AoSddMvmFDQBjshm2LYkNA6glLPKBkQ0C0yHa+n2ZDQNGWcymuZkNA\",\"dtype\":\"float64\",\"shape\":[162]},{\"__ndarray__\":\"G4F4Xb8wREA+lj50QTFEQHQHsTOFMkRAv2VOl8U0REAYsrrVczZEQFoNiXssNURAUYiAQ6g2RECVn1T7dDhEQOIBZVOuOERAx0YgXtc3RECafLPNjTlEQAxZ3eo5OURAOX8TChE4REBbttYXCTlEQJ7vp8ZLN0RAqAAYz6A1REBtc2N6wjJEQOQxA5XxL0RASwLU1LItRECx4emVsixEQCtqMA3DK0RAAfvo1JUrREAKaCJseCpEQI2chT3tKERAlufB3VknREASpb3BFyZEQGiWBKipJURAFqQZi6YjREBK7xtfeyJEQM3km21uIERANJ2dDI4eREDDu1zEdx5EQM42N6YnHERApSxDHOsaREDiI2JKJBlEQDCeQUP/GERA2xZlNsgYREDzqzlAMBdEQAWGrG71FERAXfksz4MTRECWIY51cRNEQElL5e0IE0RA64uEtpwPREB9eQH20Q1EQOmayTfbDERAxsTm49oMREDidf2C3QxEQB2UMNP2C0RAbef7qfEKREAP0egOYgdEQJp8s82NBURAzAuwj04FRECXHHdKBwNEQGcKndfY/UNAN+Dzwwj9Q0CC597DJftDQEymCkYl+UNAl3Mprir3Q0BFR3L5D/VDQK00KQXd8kNA8IrgfyvxQ0B+qZ83FfFDQLDmAMEc8UNA+8vuycPuQ0D5vU1/9utDQNSCF30F6UNASl6dY0DmQ0DD0ytlGeZDQKD9SBEZ5kNAUiy3tBrmQ0AKgPEMGuZDQCdO7nco5kNAigJ9Ik/mQ0AfgNQmTuZDQGcsms5O5kNAiuWWVkPmQ0Cnlq31ReZDQJhMFYxK5kNAbm5MT1jmQ0ARUyKJXuZDQBFTIole5kNAvD/eq1bmQ0AKEXAIVeZDQENznUZa5kNAEVMiiV7mQ0AfnbryWeZDQN8yp8ti5kNA7ZklAWrmQ0DRBfUtc+ZDQMO7XMR35kNAWBzO/GrmQ0B1kxgEVuZDQLXDX5M15kNAkdCWcynmQ0DZfFwbKuZDQNl8XBsq5kNAD39N1qjnQ0C4rwPnjOhDQC1b64uE6kNAqpog6j7sQ0AFo5I6Ae1DQL01sFWC7UNApics8YDuQ0CtF0M50e5DQN3qOel970NAB0KygAnwQ0CbPdAKDPFDQPZ698d78UNAWVGDaRjyQ0AKaCJsePJDQAhVavZA80NAavZAKzD0Q0BOucK7XPRDQPEuF/Gd9ENA98d71cr0Q0AMWd3qOfVDQJIiMqzi9UNAQZqxaDr3Q0DxETElkvhDQCbkg57N+kNAd76fGi/9Q0BFniRdM/1DQHcVUn5S/UNAChFwCFX+Q0D5SbVPx/9DQIS7s3bbAURAh6JAn8gDRECns5PBUQZEQA7bFmU2CERABOeMKO0JREBBKzBkdQtEQKHzGrtEDURAAaQ2cXIPREA3jliLTxFEQBGq1OyBEkRAFCLgEKoURECrBIvDmRdEQMo329yYGkRARl9BmrEcREDmllZD4h5EQH+8V61MIERA0m9fB84hRECutmJ/2SFEQMpskElGIkRAWJBmLJoiREDXaaSl8iJEQPq4NlSMI0RAYvNxbagkREBwd9ZuuyREQJ/Ik6RrJkRAeXWOAdknRECHokCfyCdEQDKs4o3MJ0RAyAxUxr8nREDMf0i/fSlEQNVbA1slLERAFQDjGTQsREA9J71vfC1EQLzoK0gzLkRAIzKs4o0sREBORSqMLSxEQMaKGkzDMERA\",\"dtype\":\"float64\",\"shape\":[162]},{\"__ndarray__\":\"YVRSJ6BJQkCLTwEwnklCQIQqNXugSUJAIbByaJFJQkCvzjEge0lCQKSIDKt4S0JAM/59xoVPQkCfdvhrslJCQLjM6bKYVEJAeNFXkGZUQkDxY8xdS1RCQKNYbmk1VEJAJ4Oj5NVVQkDlszwP7l5CQJCDEmbaXkJALc+Du7NeQkDRXKeRll5CQPMC7KNTX0JAF9nO91NfQkBehZSfVF9CQHr83qY/X0JAdxVSflJZQkAps0EmGVVCQD8djxmoUEJAHEKVmj1MQkB4YtaLoUhCQFPL1voiRUJALzTXaaRBQkAaFw6EZD1CQHGPpQ9dOEJAu5unOuQ2QkCJtfgUADNCQBghPNo4LkJAvYxiuaUpQkD4GRcOhCRCQDwx68VQHkJAGqN1VDUZQkB4f7xXrRRCQB9oBYasDkJAqfbpeMwIQkAyWkdVEwRCQKpDboYbAEJAXwfOGVH6QUBjesISD/RBQBKlvcEX7kFARWRYxRvlQUDbp+MxA+VBQKmkTkAT5UFAk6mCUUnlQUDM0eP3NuVBQEWBPpEn5UFAmnecoiPlQUAaho+IKeVBQOFdLuI75UFA4dHGEWvlQUAvwD46deVBQD4ipkQS5UFABd1e0hjlQUAaaam8HeVBQL5Nf/Yj5UFAaVch5SflQUAFFytqMOVBQHe+nxov5UFAsCDNWDTlQUDM0eP3NuVBQNP2r6w05UFAvmplwi/lQUAp7Q2+MOVBQOllFMst5UFAfuNrzyzlQUC3KLNBJuVBQP63kh0b5UFAYviImBLlQUCM8zehEOVBQP63kh0b5UFAH2gFhqzuQUDeyDzyB/NBQJbs2AjE90FAWJBmLJr+QUA5l+KqsgNCQAeZZOQsCEJAp3nHKToKQkB7ZkmAmg5CQKRTVz7LD0JA4syv5gAVQkDWkLjH0hdCQCV1ApoIG0JAUaBP5EkeQkB2MjhKXiFCQF97ZkmAIkJAkX77OnAiQkBfXoB9dCJCQHWw/s9hJkJAxxFr8SksQkAX2c73UzNCQFtCPujZNEJAC170FaQ5QkDNBplk5DxCQB8uOe6UPkJA36Y/+5E+QkDfpj/7kT5CQGba/pWVPkJAxr/PuHBAQkBa8KKvIEFCQAtjC0EOQkJAYviImBJFQkCs/3OYL0dCQMvW+iKhSUJA\",\"dtype\":\"float64\",\"shape\":[108]},{\"__ndarray__\":\"HHxhMlU0Q0C22y401zVDQFaalIJuN0NAliGOdXE3Q0AmjdE6qjZDQNxj6UMXNENAKNU+HY8xQ0C9b3ztmS1DQAE1tWytL0NAQiYZOQszQ0CkiAyreDNDQPnaM0sCNENAAK5kx0Y0Q0Aj+N9KdjRDQNszSwLUNENAttYXCW01Q0Ba9bnaijVDQG9HOC14NUNA/mX35GE1Q0BTIoleRjVDQOIjYkokNUNAogvqW+Y0Q0Ci0R3EzjRDQD8AqU2cNENAuFhRg2k0Q0BOYhBYOTRDQNUhN8MNNENAwHgGDf0vQ0BlpUkp6CpDQLbbLjTXKUNA0vvG154pQ0BTIoleRiVDQHzVyoRfIkNAxyk6kssfQ0AAOsyXFxxDQJ/Nqs/VGkNAEHo2qz4XQ0Bqh78maxRDQPWEJR5QEkNAizIbZJIRQ0BI+Um1TxNDQLKACdy6D0NAIoleRrEMQ0C2Z5YEqA1DQEiKyLCKC0NAuDtrt10EQ0AgDDz3Hv5CQA2reCPz+EJA443MI3/0QkA7x4Ds9fJCQDOK5ZZW70JAx0YgXtfrQkBrYKsEi+dCQEmFsYUg40JAahMn9zvgQkCYNEbrqN5CQG0csRaf3kJA+5EiMqzeQkCYNEbrqN5CQG0csRaf3kJAwkzbv7LeQkAYfQVpxt5CQJfFxObj3kJAtLCnHf7eQkAz+WabG99CQHr83qY/30JACHJQwkzfQkD6RJ4kXd9CQMFz7+GS30JAQNmUK7zfQkAVUn5S7d9CQCMQr+sX4EJAcJS8OsfgQkCUap+Ox+BCQD7o2az64EJA2T15WKjhQkAZ529CIeJCQJ9x4UBI4kJAH5268lniQkCCqPsApOJCQGXfFcH/4kJAnrXbLjTjQkCPGaiMf+NCQLpOIy2V40JAqwSLw5njQkBQx2MGKutCQDP+fcaF80JAEXAIVWrmQkDThy6ob+FCQFA25Qrv4kJAby9pjNbhQkCdS3FV2edCQO/+eK9a6UJAcm2oGOfnQkBMiSR6GeVCQNy6m6c65EJAcJS8OsfkQkAn9zsUBeZCQDnWxW005EJA9Pi9TX/iQkC2Z5YEqOFCQGL4iJgS4UJAmfViKCfeQkAEOShhpt1CQMUbmUf+3EJAJTs2AvHaQkAGZK93f9RCQKd5xyk61kJAWTSdnQzWQkBFniRdM9FCQNO84xQd0UJArwj+t5LRQkBmZmZmZtJCQAggtYmT00JAdY4B2evVQkAK9Ik8SdZCQIofY+5a1kJASDMWTWfXQkCVYHE489dCQCmWW1oN2UJAw7ZFmQ3aQkB5r1qZ8NtCQDHT9q+s3EJAYKsEi8PdQkD0iTxJut5CQA/W/znM30JAGm7A54fhQkAvi4nNx+FCQBea6zTS4kJAIzKs4o3kQkDuX1lpUuZCQJaVJqWg50JADf0TXKzoQkDp8Xub/uhCQL7BFyZT6UJAfLjkuFPqQkBYHM78aupCQMOedvhr6kJAea9amfDrQkD0GrtE9e5CQDDYDdsW8UJAQ+c1donyQkBvKlJhbPVCQB+/t+nP9kJA8BZIUPz4QkB+Uu3T8fxCQNdppKXy/kJApPyk2qf/QkAMzXUaaQFDQLk2VIzzA0NA1c+bilQIQ0CvQspPqg1DQPxSP28qEkNAX0ax3NIWQ0CCOXr83hpDQL5Nf/YjIUNA2ZQrvMslQ0DTvOMUHSlDQK9Cyk+qLUNAlSu8y0UwQ0Be1y/YDTNDQHFyv0NRNENA\",\"dtype\":\"float64\",\"shape\":[162]},{\"__ndarray__\":\"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\",\"dtype\":\"float64\",\"shape\":[302]},{\"__ndarray__\":\"MPDce7g8Q0A5nPnVHDxDQBMKEXAIOUNAHsTOFDo3Q0Dwv5Xs2DRDQFjFG5lHMkNAKXl1jgExQ0CgVPt0PC5DQLjkuFM6LENA7lpCPugpQ0CvQspPqilDQGPRdHYyKENAMlpHVRMoQ0AyWkdVEyhDQDmc+dUcKENAIy2VtyMoQ0B1ApoIGypDQDtwzojSLkNAr5l8s805Q0ChSs0eaEFDQAiUTbnCQ0NAf2q8dJNEQ0DUfQBSm0RDQBxfe2ZJRENA626e6pBDQ0BI/mDguUNDQPp+arx0Q0NAf8Fu2LZEQ0BVh9wMN0RDQBwlr84xRENACTNt/8pCQ0BN+KV+3kBDQMCV7NgIQENA5WGh1jQ/Q0AJ+aBnsz5DQHqNXaJ6P0NARYE+kSdBQ0Avi4nNx0FDQNlaXyS0QUNAaLPqc7VBQ0Bhjh6/t0FDQJ30vvG1Q0NADM11GmlFQ0AHJcy0/UdDQFBTy9b6SkNAjZyFPe1MQ0BRiIBDqE5DQA4QzNHjT0NAs14M5URPQ0CcoiO5/E9DQJOMnIU9UUNAvJaQD3pSQ0CVSKKXUVRDQA2OklfnVENAZvfkYaFWQ0C5NlSM81dDQNun4zEDWUNAiBHCo41bQ0DSGK2jql1DQF70FaQZX0NAdlQ1QdRhQ0Dhl/p5U2VDQEjcY+lDa0NAR1oqb0dsQ0CA1CZO7mtDQK2GxD2WbkNAkfKTap9uQ0D7dDxmoG5DQKWD9X8Ob0NArFYm/FJvQ0Brmnecom9DQM4ZUdobcENADWyVYHFwQ0DU8ZiBynBDQPevrDQpcUNARPrt68BxQ0DRkVz+Q3JDQO2ePCzUckNAie/ErBdzQ0CPU3Qkl3NDQEc4LXjRc0NAAAAAAAB0Q0DxRuaRP3RDQEYIjzaOdENAzEBl/Pt0Q0Dg1t081XVDQCb8Uj9vdkNAUfcBSG12Q0BDc51GWnZDQJFhFW9kdkNAyqZc4V12Q0CRRC+jWHZDQNjw9EpZdkNA/Knx0k12Q0DRkVz+Q3ZDQIrlllZDdkNA7kJznUZ2Q0DuQnOdRnZDQMNHxJRIdkNAA+yjU1d2Q0BDrWnecXZDQF9egH10dkNASu8bX3t2Q0D8HYoCfXZDQErvG197dkNAWFaalIJ2Q0BYVpqUgnZDQDSAt0CCdkNAw9hCkIN2Q0BYObTIdnZDQOaRPxh4dkNAWDm0yHZ2Q0DttgvNdXZDQF9egH10dkNArS8S2nJ2Q0BDrWnecXZDQEOtad5xdkNA30+Nl252Q0A8a7ddaHZDQOc6jbRUdkNALudSXFV2Q0AK16NwPXZDQBzw+WGEdENAD5ccd0pzQ0DajxSRYXFDQB9LH7qgbkNACoDxDBpuQ0Cl2qfjMW9DQEsfuqC+bUNAucK7XMRrQ0CE04IXfWlDQNGWcymuZkNAtMh2vp9mQ0DqCUs8oGRDQBjshm2LYkNAKEnXTL5hQ0Dx9EpZhmBDQDMWTWcnX0NAcVrwoq9gQ0B9Ik+SrmFDQPZ/DvPlYUNArWnecYpiQ0AY7IZti2JDQJ8fRgiPYkNAsb/snjxkQ0BDrWnecWJDQJ+OxwxUXkNAWYtPATBeQ0Amx53SwVpDQMMN+PwwVkNA/MbXnllSQ0Aep+hILk9DQDC7Jw8LTUNAYTJVMCpNQ0DVJk7ud0xDQEp7gy9MSkNAMA3DR8RIQ0DZzvdT40VDQLMHWoEhQ0NACyk/qfZBQ0ABNbVsrT9DQD9XW7G/PENA\",\"dtype\":\"float64\",\"shape\":[162]},{\"__ndarray__\":\"AYdQpWbDQ0Bfe2ZJgMJDQOPHmLuWyENAv5oDBHPMQ0Bjf9k9ecxDQGO5pdWQzENA9zsUBfrMQ0AicY+lD81DQC9pjNZRzUNAPu3w12TNQ0Bvu9Bcp81DQAqA8QwazkNA0XR2MjjOQ0BRg2kYPs5DQOcdp+hIzkNAPE7RkVzOQ0A8a7ddaM5DQHQkl/+QzkNAkKD4MebOQ0AeM1AZ/85DQMIXJlMFz0NAh78ma9TPQ0AjvhOzXtBDQDCeQUP/0ENAE7h1N0/RQ0DMRXwnZtFDQO84RUdy0UNANgLxun7RQ0BvZB75g9FDQFJhbCHI0UNA0oxF09nRQ0Ah6j4AqdFDQH9qvHSTzENArDlAMEfLQ0AIrBxaZMdDQDoGZK93x0NAMzMzMzPHQ0AsfeiC+sZDQMlxp3SwxkNAmKPH723GQ0B1djI4SsZDQC4cCMkCxkNAdonqrYHFQ0D+DkWBPsVDQMbhzK/mxENAnFCIgEPEQ0ArTUpBt8NDQPonuFhRw0NA7fXuj/fCQ0DQs1n1ucJDQCf3OxQFwkNAmUf+YODBQ0A9D+7O2sFDQG6jAbwFvkNAnuqQm+G6Q0CBzw8jhLdDQIqO5PIfskNA/DVZox6yQ0ASpb3BF7JDQIKo+wCkskNAEhQ/xtyxQ0AmcOtunrJDQIofY+5askNAmnyzzY2xQ0D2QCswZLFDQManABjPsENAFCLgEKqwQ0B65A8Gnq9DQFmjHqLRrUNAxy5RvTWsQ0AX8Z2Y9apDQLUaEvdYqkNAfSJPkq6pQ0Clg/V/DqdDQE3bv7LSpENAM/59xoWjQ0DN5JttbqBDQApLPKBsnkNA9nr3x3udQ0Coxks3iZlDQMO7XMR3lkNABWnGoumQQ0AgDDz3HopDQPG6fsFuhENAzeSbbW6EQ0Dxun7BboRDQPBQFOgThUNAoOBiRQ2GQ0C0Hykiw4ZDQNgN2xZlhkNAUYNpGD6GQ0AgJAuYwIVDQO9VKxN+hUNAk+NO6WCFQ0B3LSEf9IRDQI1/n3HhhENA4lgXt9GEQ0AbgXhdv4RDQKmfNxWphENAADrMlxeEQ0CyaDo7GYRDQB2PGaiMg0NAPKWD9X+CQ0C2oWKcv4FDQDeOWItPgUNAf95UpMKAQ0B/MPDce4BDQLFQa5p3gENAY3rCEg+AQ0AAjGfQ0H9DQEFl/PuMf0NAa2CrBIt/Q0BzhXe5iH9DQJBrQ8U4f0NA5/up8dJ9Q0CafLPNjXVDQJkSSfQyekNAIeUn1T6BQ0A3ww34/IRDQOLkfoeiiENAGVbxRuaJQ0BkdavnpItDQIZa07zjjENA0H6kiAyPQ0BCCTNt/5JDQJCg+DHmlkNAaQBvgQSZQ0DufD81XppDQMjNcAM+m0NAvfvjvWqdQ0Dshm2LMp9DQKjjMQOVoUNAL4Zyol2hQ0Cgw3x5AaJDQNeGinH+okNA14aKcf6iQ0Aydy0hH6RDQAStwJDVpUNAkgVM4NalQ0Af9GxWfaZDQOJ1/YLdqENAcr9DUaCnQ0BIbeLkfqdDQMcpOpLLp0NAIoleRrGoQ0AUyy2thqhDQD86deWzqENA9BWkGYuqQ0ACZVOu8KpDQMI0DB8Rq0NArMq+K4KrQ0CNnIU97axDQFg5tMh2rkNAQBNhw9OvQ0D8471qZbJDQE3WqIdotENA4C2QoPi1Q0Cd19glqrdDQCf3OxQFukNAAAAAAAC8Q0AEVg4tssFDQCVdM/lmw0NA\",\"dtype\":\"float64\",\"shape\":[162]},{\"__ndarray__\":\"r0LKT6pxQ0BiFW9kHnFDQFVNEHUfcENALA5nfjVvQ0C28/3UeG1DQLMkQE0ta0NAvLN224VqQ0BZwARu3WlDQLnfoSjQZ0NA6Q5iZwplQ0BGQlvOpWRDQCv2l92TY0NAA2A8g4ZiQ0AniLoPQGJDQDJVMCqpX0NA+tAF9S1fQ0CRYRVvZF5DQNxGA3gLXENAwRw9fm9bQ0APlxx3SltDQCzxgLIpW0NAzeSbbW5YQ0CCc0aU9lZDQFpHVRNEVUNAVrd6TnpTQ0BuizIbZFJDQCL99nXgUENAkGtDxThPQ0CiYpy/CU1DQMPTK2UZSkNAhzO/mgNIQ0CE8GjjiEVDQFcm/FI/Q0NA2o8UkWFBQ0C5GW7A5z9DQDbNO07RPUNAnPnVHCA8Q0CtTPilfjpDQLfRAN4COUNAVisTfqk3Q0CcM6K0NzRDQOUK73IRM0NAOlj/5zAvQ0AhAg6hSi1DQB2PGaiMK0NAxEKtad4pQ0C22y401ylDQGWlSSnoKkNAwHgGDf0vQ0DVITfDDTRDQE5iEFg5NENAuFhRg2k0Q0A/AKlNnDRDQKLRHcTONENAogvqW+Y0Q0DiI2JKJDVDQFMiiV5GNUNA/mX35GE1Q0BvRzgteDVDQFr1udqKNUNAttYXCW01Q0DbM0sC1DRDQCP430p2NENAAK5kx0Y0Q0D52jNLAjRDQKSIDKt4M0NAQiYZOQszQ0ABNbVsrS9DQL1vfO2ZLUNAKNU+HY8xQ0DcY+lDFzRDQCaN0TqqNkNAliGOdXE3Q0BWmpSCbjdDQLoUV5V9N0NAwJXs2Ag4Q0A/kSdJ1zhDQFIKur2kOUNAp5at9UU6Q0Ag71UrEzpDQAStwJDVOUNAPbg7a7c5Q0CEKjV7oDlDQLbz/dR4OUNAPu3w12Q5Q0A+0AoMWTlDQP4rK01KOUNADFnd6jk5Q0AvwD46dTlDQG9kHvmDOUNANh/Xhoo5Q0BZaVIKujlDQEQX1LfMOUNAbjSAt0A6Q0COklfnGDxDQJtVn6utPENAsCDNWDQ9Q0A7wmnBiz5DQKm8HeG0QENA2jhiLT5BQ0ATm49rQ0FDQL6kMVpHQUNALzTXaaRFQ0BDxTh/E0ZDQMb5m1CISENA4e6s3XZJQ0BLyAc9m0lDQOZciqvKSkNAXVDfMqdLQ0D5D+m3r0tDQEj+YOC5S0NAQwQcQpVOQ0DAeAYN/U9DQJrOTgZHUUNAUz9vKlJRQ0DDKt7IPFJDQFfPSe8bU0NA1IIXfQVVQ0DsEtVbA1dDQCNnYU87WENAzeSbbW5YQ0C2EOSghFlDQCgPC7WmWUNAhGQBE7hZQ0CSy39Iv1lDQGCrBIvDWUNArvAuF/FZQ0ASTgte9FlDQFIP0egOWkNA+rg2VIxfQ0Dg2/RnP2JDQKT8pNqnY0NAuB6F61FkQ0AUs14M5WRDQG8vaYzWZUNAyqZc4V1mQ0AQQGoTJ2dDQOtWz0nvZ0NAfqmfNxVpQ0C8P96rVmpDQKpgVFInbENA7+apDrltQ0BD/wQXK25DQMjqVs9Jb0NAOZz51RxwQ0A/HY8ZqHBDQMvz4O6scUNAuwopP6lyQ0DH9IQlHnRDQOif4GJFdUNA74/3qpV1Q0BuwOeHEXZDQCZw626edkNAbM8sCVB3Q0DzWZ4Hd3dDQGwJ+aBnd0NAZTbIJCN3Q0Bn1edqK3ZDQAZHyatzdENAba0vEtpyQ0Cu9UVCW3JDQPwYc9cSckNA\",\"dtype\":\"float64\",\"shape\":[162]},{\"__ndarray__\":\"cm2oGOfnQkDv/nivWulCQJ1LcVXZ50JAby9pjNbhQkBQNuUK7+JCQNOHLqhv4UJAEXAIVWrmQkAz/n3GhfNCQFDHYwYq60JAqwSLw5njQkC6TiMtleNCQCV6GcVy40JAnKc65GbgQkBY5xiQvd5CQCMyrOKN1EJAB1+YTBXQQkCN0TqqmsxCQMjvbfqzx0JAZapgVFK/QkCC/61kx75CQIAO8+UFvEJAyVnY0w67QkBSRIZVvLlCQIDxDBr6t0JAr84xIHu1QkBETIkkerVCQP2fw3x5tUJAE/JBz2a1QkCkU1c+y69CQFInoImwrUJAqDrkZripQkDsL7snD6dCQG2tLxLaokJAnYAmwoafQkAbnl4py5xCQFkXt9EAmkJALJ/leXCXQkAIyQImcJdCQHk7wmnBl0JAh78ma9SbQkDg2/RnP55CQJIFTODWoUJArOKNzCOjQkBjl6jeGqhCQGvxKQDGq0JAxvmbUIisQkDF/rJ78qxCQFbUYBqGr0JAms5OBkexQkC37uapDrVCQKeufJbntUJAc/T4vU23QkDv/nivWrlCQPOrOUAwu0JAt11ortO8QkCCqPsApL5CQDPEsS5uv0JAzeSbbW7AQkBSJ6CJsMFCQIqT+x2KwkJAV3iXi/jCQkBxOPOrOcRCQLeXNEbryEJAje4gdqbQQkAbTMPwEdFCQAwCK4cW0UJA07zjFB3RQkBFniRdM9FCQFk0nZ0M1kJAp3nHKTrWQkAGZK93f9RCQCU7NgLx2kJAxRuZR/7cQkAEOShhpt1CQJn1Yign3kJAYviImBLhQkC2Z5YEqOFCQPT4vU1/4kJAOdbFbTTkQkAn9zsUBeZCQHCUvDrH5EJA3LqbpzrkQkBMiSR6GeVCQA==\",\"dtype\":\"float64\",\"shape\":[83]},{\"__ndarray__\":\"44i1+BTAQ0C1GhL3WL5DQDiEKjV7vENAwCFUqdm7Q0APKJtyhbtDQIpZL4ZyukNA/mDgufe4Q0AiN8MN+LhDQEVkWMUbuUNAQznRrkK6Q0B0DMhe77pDQDeOWItPvUNAr+sX7IbBQ0BXBP9bycJDQNDtJY3RwkNA0VynkZbCQ0B7a2CrBMNDQLsnDwu1wkNAopxoVyHBQ0Dri4S2nL9DQESoUrMHvkNA46WbxCC8Q0CfzarP1bpDQCgs8YCyuUNA1SZO7ne4Q0Bjl6jeGrhDQCScFrzot0NAbJVgcTi3Q0Btxf6ye7ZDQC7FVWXftUNA9iNFZFi1Q0DUghd9BbVDQBLCo40jskNA/DVZox6yQ0CKjuTyH7JDQIHPDyOEt0NAnuqQm+G6Q0BuowG8Bb5DQD0P7s7awUNAmUf+YODBQ0An9zsUBcJDQNCzWfW5wkNA7fXuj/fCQ0D6J7hYUcNDQCtNSkG3w0NAnFCIgEPEQ0DG4cyv5sRDQP4ORYE+xUNAdonqrYHFQ0AuHAjJAsZDQHV2MjhKxkNAmKPH723GQ0DJcad0sMZDQCx96IL6xkNAMzMzMzPHQ0A6BmSvd8dDQAisHFpkx0NArDlAMEfLQ0B/arx0k8xDQCHqPgCp0UNA0oxF09nRQ0AZOQt72tFDQPWc9L7x0UNALSY2H9fSQ0B6xyk6ktNDQHAIVWr21ENAbmk1JO7VQ0Dz5QXYR9dDQA5Pr5Rl2ENARfC/lezYQ0AnZr0YytlDQClcj8L14ENAe9rhr8niQ0AiwyreyOBDQB2s/3OY30NAOxkcJa/eQ0AdlDDT9ttDQHPXEvJB20NAyJi7lpDbQ0BuizIbZNpDQJs4ud+h2ENA1y/YDdvWQ0BbCHJQwthDQPwApDZx2kNAmKPH723aQ0BtOZfiqtpDQBHkoISZ2kNA+1dWmpTaQ0AmjdE6qtpDQHu9++O92kNAyY6NQLzaQ0CC4seYu9pDQLsnDwu12kNA3/3xXrXaQ0AmqrcGttpDQLsnDwu12kNA3/3xXrXaQ0BtVn2uttpDQG1Wfa622kNAbVZ9rrbaQ0CRLGACt9pDQLQCQ1a32kNAtAJDVrfaQ0DBxYoaTNtDQNVbA1sl3ENAXD0nvW/cQ0Aj+N9KdtxDQEbOwp523ENARs7CnnbcQ0BGzsKedtxDQEbOwp523ENARs7CnnbcQ0CNeohGd9xDQI16iEZ33ENA+PwwQnjcQ0CfWRKgptpDQG6LMhtk1kNAoBov3STWQ0B2GmmpvNVDQIzWUdUE1UNA8Nx7uOTUQ0BmZmZmZtJDQNqPFJFh0UNAwFsgQfHPQ0B2w7ZFmc1DQITTghd9zUNANXugFRjKQ0DbheY6jchDQJkqGJXUxUNAqbwd4bTEQ0DBVgkWh8NDQHugFRiywkNAGqiMf5/BQ0CNRdPZycBDQI20VN6OwENA\",\"dtype\":\"float64\",\"shape\":[135]},{\"__ndarray__\":\"9E9wsaJ2RECCyvj3GXdEQJNX5xiQeURAZFjFG5l3RECTNeohGnVEQI51cRsNeERAaHke3J15REBMiSR6GX1EQOi8xi5RgURA05/9SBGFREDl7QinBYdEQMjShy6oi0RA28TJ/Q6RREDttgvNdZZEQAKfH0YIl0RAXtcv2A2XREBpqbwd4ZREQEfJq3MMkERAryXkg56JREAEyqZc4YlEQDojSnuDh0RAGxL3WPqERED20akrn4FEQH2utmJ/gURAyVnY0w5/REABE7h1N4NEQGEyVTAqiURARnwnZr2QREA5fxMKEZREQPOTap+Ol0RAOShhpu2XREDEfHkB9plEQDS6g9iZmkRArBxaZDufREAcsRafAqREQBFwCFVqqkRAPq4NFeOsREAkC5jAratEQDnRrkLKp0RAI4RHG0egRECPcFrwopdEQOz6Bbthl0RAcxHfiVmXREBW1GAahotEQH+HokCfgERATRB1H4B8RECV1AloInhEQJkNMsnIcURAmC8vwD5uRECHokCfyGdEQEGfyJOkY0RA29yYnrBgREDH9IQlHlxEQH5v05/9WERALlbUYBpWREAArmTHRlREQBN+qZ83UURAnFCIgENMREB2ieqtgUlEQEpBt5c0RkRAFJZ4QNlAREAhdqbQeT1EQBMKEXAIOURAXyS05Vw2REBv9Zz0vjFEQIYb8PlhLERA2NglqrcmREAp6PaSxiREQHB31m67JERAYvNxbagkRED6uDZUjCNEQNdppKXyIkRAWJBmLJoiREDKbJBJRiJEQK62Yn/ZIURA0m9fB84hREB/vFetTCBEQOaWVkPiHkRARl9BmrEcREDKN9vcmBpEQKsEi8OZF0RAFCLgEKoUREARqtTsgRJEQDeOWItPEURAAaQ2cXIPRECh8xq7RA1EQEErMGR1C0RABOeMKO0JREAO2xZlNghEQKezk8FRBkRAh6JAn8gDRECEu7N22wFEQPlJtU/H/0NAChFwCFX+Q0B3FVJ+Uv1DQEWeJF0z/UNATMPwETH9Q0B+42vPLP1DQJNvtrkx/UNAU+i8xi79Q0ChuU4jLf1DQD5cctwp/UNAKdAn8iT9Q0Cad5yiI/1DQMyXF2Af/UNAGmmpvB39Q0BFZFjFG/1DQEVkWMUb/UNA4gZ8fhj9Q0B3hNOCF/1DQFOu8C4X/UNAvjCZKhj9Q0BTrvAuF/1DQMVVZd8V/UNAW9O84xT9Q0B+qZ83Ff1DQBMn9zsU/UNAqaROQBP9Q0A+IqZEEv1DQBtMw/AR/UNAaR1VTRD9Q0CyhSAHJQBEQKqaIOo+AERA0a5Cyk8WREAbnl4pyzREQHKKjuTyS0RAC0YldQJeREBwlLw6x2BEQCqRRC+jZERAswdagSFnREDIJCNnYWtEQHXN5JttbkRAvw6cM6JwREDWVuwvu3NEQNiBc0aUdkRA\",\"dtype\":\"float64\",\"shape\":[135]}]},\"selected\":{\"id\":\"1044\",\"type\":\"Selection\"},\"selection_policy\":{\"id\":\"1043\",\"type\":\"UnionRenderers\"}},\"id\":\"1035\",\"type\":\"ColumnDataSource\"},{\"attributes\":{\"bottom_units\":\"screen\",\"fill_alpha\":{\"value\":0.5},\"fill_color\":{\"value\":\"lightgrey\"},\"left_units\":\"screen\",\"level\":\"overlay\",\"line_alpha\":{\"value\":1.0},\"line_color\":{\"value\":\"black\"},\"line_dash\":[4,4],\"line_width\":{\"value\":2},\"plot\":null,\"render_mode\":\"css\",\"right_units\":\"screen\",\"top_units\":\"screen\"},\"id\":\"1030\",\"type\":\"BoxAnnotation\"},{\"attributes\":{\"active_drag\":\"auto\",\"active_inspect\":\"auto\",\"active_multi\":null,\"active_scroll\":\"auto\",\"active_tap\":\"auto\",\"tools\":[{\"id\":\"1023\",\"type\":\"ResetTool\"},{\"id\":\"1024\",\"type\":\"HoverTool\"},{\"id\":\"1025\",\"type\":\"PanTool\"},{\"id\":\"1026\",\"type\":\"BoxZoomTool\"}]},\"id\":\"1027\",\"type\":\"Toolbar\"},{\"attributes\":{\"plot\":null,\"text\":\"Hpi2score by California county\"},\"id\":\"1002\",\"type\":\"Title\"},{\"attributes\":{\"fill_alpha\":{\"value\":0.1},\"fill_color\":{\"value\":\"#1f77b4\"},\"line_alpha\":{\"value\":0.1},\"line_color\":{\"value\":\"#1f77b4\"},\"xs\":{\"field\":\"x\"},\"ys\":{\"field\":\"y\"}},\"id\":\"1038\",\"type\":\"Patches\"},{\"attributes\":{\"callback\":null},\"id\":\"1005\",\"type\":\"DataRange1d\"},{\"attributes\":{\"source\":{\"id\":\"1035\",\"type\":\"ColumnDataSource\"}},\"id\":\"1040\",\"type\":\"CDSView\"},{\"attributes\":{\"callback\":null},\"id\":\"1007\",\"type\":\"DataRange1d\"},{\"attributes\":{},\"id\":\"1009\",\"type\":\"LinearScale\"},{\"attributes\":{},\"id\":\"1011\",\"type\":\"LinearScale\"},{\"attributes\":{},\"id\":\"1043\",\"type\":\"UnionRenderers\"},{\"attributes\":{},\"id\":\"1023\",\"type\":\"ResetTool\"},{\"attributes\":{},\"id\":\"1044\",\"type\":\"Selection\"},{\"attributes\":{},\"id\":\"1014\",\"type\":\"BasicTicker\"},{\"attributes\":{\"grid_line_color\":{\"value\":null},\"plot\":{\"id\":\"1003\",\"subtype\":\"Figure\",\"type\":\"Plot\"},\"ticker\":{\"id\":\"1014\",\"type\":\"BasicTicker\"}},\"id\":\"1017\",\"type\":\"Grid\"},{\"attributes\":{},\"id\":\"1019\",\"type\":\"BasicTicker\"},{\"attributes\":{\"dimension\":1,\"grid_line_color\":{\"value\":null},\"plot\":{\"id\":\"1003\",\"subtype\":\"Figure\",\"type\":\"Plot\"},\"ticker\":{\"id\":\"1019\",\"type\":\"BasicTicker\"}},\"id\":\"1022\",\"type\":\"Grid\"},{\"attributes\":{\"data_source\":{\"id\":\"1035\",\"type\":\"ColumnDataSource\"},\"glyph\":{\"id\":\"1037\",\"type\":\"Patches\"},\"hover_glyph\":null,\"muted_glyph\":null,\"nonselection_glyph\":{\"id\":\"1038\",\"type\":\"Patches\"},\"selection_glyph\":null,\"view\":{\"id\":\"1040\",\"type\":\"CDSView\"}},\"id\":\"1039\",\"type\":\"GlyphRenderer\"},{\"attributes\":{\"callback\":null,\"point_policy\":\"follow_mouse\",\"tooltips\":[[\"County name\",\"@name\"],[\"Hpi Scores\",\"@scores\"],[\"(Longitude, Latitude)\",\"($x, $y)\"]]},\"id\":\"1024\",\"type\":\"HoverTool\"}],\"root_ids\":[\"1003\"]},\"title\":\"Bokeh Application\",\"version\":\"1.0.4\"}};\n",
       "  var render_items = [{\"docid\":\"0007bc08-3a17-4db0-bdf2-7a94c7dc6684\",\"roots\":{\"1003\":\"1648c578-f884-413e-bb45-abe118654d6a\"}}];\n",
       "  root.Bokeh.embed.embed_items_notebook(docs_json, render_items);\n",
       "\n",
       "  }\n",
       "  if (root.Bokeh !== undefined) {\n",
       "    embed_document(root);\n",
       "  } else {\n",
       "    var attempts = 0;\n",
       "    var timer = setInterval(function(root) {\n",
       "      if (root.Bokeh !== undefined) {\n",
       "        embed_document(root);\n",
       "        clearInterval(timer);\n",
       "      }\n",
       "      attempts++;\n",
       "      if (attempts > 100) {\n",
       "        console.log(\"Bokeh: ERROR: Unable to run BokehJS code because BokehJS library is missing\");\n",
       "        clearInterval(timer);\n",
       "      }\n",
       "    }, 10, root)\n",
       "  }\n",
       "})(window);"
      ],
      "application/vnd.bokehjs_exec.v0+json": ""
     },
     "metadata": {
      "application/vnd.bokehjs_exec.v0+json": {
       "id": "1003"
      }
     },
     "output_type": "display_data"
    }
   ],
   "source": [
    "palette.reverse()\n",
    "#this makes the dark blue correlate with a higher health score and white with lower score\n",
    "\n",
    "maps=dict(\n",
    "    x=[np.asarray(i) for i in full_df[\"lons\"]],\n",
    "    y=[np.asarray(i) for i in full_df[\"lats\"]],\n",
    "    name=np.array(full_df[\"county_names\"]),\n",
    "    scores= np.array(full_df[\"hpiscore\"]),\n",
    ")\n",
    "\n",
    "#colors\n",
    "color_mapper = LogColorMapper(palette=palette)\n",
    "\n",
    "p = figure(\n",
    "    title=\"Hpi2score by California county\", \n",
    "    #gets rid of axis on right/left (doesn't matter much for this graph)\n",
    "    x_axis_location=None, \n",
    "    y_axis_location=None,\n",
    "    \n",
    "    #https://bokeh.pydata.org/en/latest/docs/user_guide/tools.html\n",
    "    #all the different tools that can be added \n",
    "    tools=\"reset,hover,pan,box_zoom\",\n",
    "    #a key for the tools\n",
    "    tooltips=[\n",
    "        (\"County name\", \"@name\"), (\"Hpi Scores\", \"@scores\"), (\"(Longitude, Latitude)\", \"($x, $y)\")\n",
    "    ])\n",
    "p.grid.grid_line_color = None\n",
    "p.hover.point_policy = \"follow_mouse\"\n",
    "\n",
    "p.patches('x', 'y', source=maps,\n",
    "          fill_color={'field': 'scores', 'transform': color_mapper},\n",
    "          fill_alpha=1, line_color=\"white\", line_width=1)\n",
    "\n",
    "output_notebook()\n",
    "show(p)"
   ]
  },
  {
   "cell_type": "markdown",
   "metadata": {},
   "source": [
    "# Plotting Diversity:"
   ]
  },
  {
   "cell_type": "code",
   "execution_count": 46,
   "metadata": {},
   "outputs": [
    {
     "data": {
      "text/plain": [
       "['county_name',\n",
       " 'pop2010',\n",
       " 'pct2010gq',\n",
       " 'zip',\n",
       " 'county_fips',\n",
       " 'hpi2score',\n",
       " 'economic',\n",
       " 'education',\n",
       " 'housing',\n",
       " 'healthcareaccess',\n",
       " 'neighborhood',\n",
       " 'pollution',\n",
       " 'transportation',\n",
       " 'social',\n",
       " 'insured',\n",
       " 'uncrowded',\n",
       " 'homeownership',\n",
       " 'automobile',\n",
       " 'commute',\n",
       " 'inpreschool',\n",
       " 'inhighschool',\n",
       " 'bachelorsed',\n",
       " 'employed',\n",
       " 'abovepoverty',\n",
       " 'income',\n",
       " 'retail',\n",
       " 'parkaccess',\n",
       " 'treecanopy',\n",
       " 'alcoffsale',\n",
       " 'voting',\n",
       " 'ownsevere',\n",
       " 'rentsevere',\n",
       " 'houserepair',\n",
       " 'twoparents',\n",
       " 'supermkts',\n",
       " 'ozone',\n",
       " 'pm25',\n",
       " 'dieselpm',\n",
       " 'h20contam',\n",
       " 'leb',\n",
       " 'white_pct',\n",
       " 'black_pct',\n",
       " 'asian_pct',\n",
       " 'latino_pct',\n",
       " 'multiple_pct',\n",
       " 'nativeam_pct',\n",
       " 'pacificisl_pct',\n",
       " 'other_pct',\n",
       " 'urbantype',\n",
       " 'biggest city',\n",
       " 'norm_score']"
      ]
     },
     "execution_count": 46,
     "metadata": {},
     "output_type": "execute_result"
    }
   ],
   "source": [
    "list(group)"
   ]
  },
  {
   "cell_type": "code",
   "execution_count": 47,
   "metadata": {},
   "outputs": [
    {
     "data": {
      "text/plain": [
       "<matplotlib.collections.PathCollection at 0x1fe22319b38>"
      ]
     },
     "execution_count": 47,
     "metadata": {},
     "output_type": "execute_result"
    },
    {
     "data": {
      "image/png": "[encoded data removed]",
      "text/plain": [
       "<Figure size 432x288 with 1 Axes>"
      ]
     },
     "metadata": {
      "needs_background": "light"
     },
     "output_type": "display_data"
    }
   ],
   "source": [
    "plt.scatter(group[\"white_pct\"], group[\"hpi2score\"])\n",
    "plt.scatter(group[\"black_pct\"], group[\"hpi2score\"])\n",
    "plt.scatter(group[\"asian_pct\"], group[\"hpi2score\"])\n",
    "plt.scatter(group[\"latino_pct\"], group[\"hpi2score\"])\n",
    "plt.scatter(group[\"multiple_pct\"], group[\"hpi2score\"])\n",
    "plt.scatter(group[\"nativeam_pct\"], group[\"hpi2score\"])\n",
    "plt.scatter(group[\"pacificisl_pct\"], group[\"hpi2score\"])\n"
   ]
  }
 ],
 "metadata": {
  "kernelspec": {
   "display_name": "Python 3",
   "language": "python",
   "name": "python3"
  },
  "language_info": {
   "codemirror_mode": {
    "name": "ipython",
    "version": 3
   },
   "file_extension": ".py",
   "mimetype": "text/x-python",
   "name": "python",
   "nbconvert_exporter": "python",
   "pygments_lexer": "ipython3",
   "version": "3.6.7"
  }
 },
 "nbformat": 4,
 "nbformat_minor": 2
}
